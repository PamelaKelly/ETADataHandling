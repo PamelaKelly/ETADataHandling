{
 "cells": [
  {
   "cell_type": "markdown",
   "metadata": {},
   "source": [
    "# Data Quality Report on Final Base Table For Modelling"
   ]
  },
  {
   "cell_type": "code",
   "execution_count": 1,
   "metadata": {
    "collapsed": false
   },
   "outputs": [],
   "source": [
    "import pandas as pd\n",
    "import numpy as np\n",
    "import matplotlib\n",
    "import matplotlib.pyplot as plt\n",
    "import matplotlib.patches as mpatches\n",
    "from matplotlib.backends.backend_pdf import PdfPages\n",
    "import seaborn as sns\n",
    "matplotlib.style.use('ggplot')\n",
    "%matplotlib inline"
   ]
  },
  {
   "cell_type": "code",
   "execution_count": 2,
   "metadata": {
    "collapsed": false
   },
   "outputs": [
    {
     "name": "stderr",
     "output_type": "stream",
     "text": [
      "C:\\Users\\pamel\\Anaconda3\\lib\\site-packages\\IPython\\core\\interactiveshell.py:2717: DtypeWarning: Columns (0) have mixed types. Specify dtype option on import or set low_memory=False.\n",
      "  interactivity=interactivity, compiler=compiler, result=result)\n"
     ]
    }
   ],
   "source": [
    "df = pd.read_csv('../datasets/final_table_model.csv')"
   ]
  },
  {
   "cell_type": "code",
   "execution_count": 3,
   "metadata": {
    "collapsed": false
   },
   "outputs": [
    {
     "data": {
      "text/html": [
       "<div>\n",
       "<table border=\"1\" class=\"dataframe\">\n",
       "  <thead>\n",
       "    <tr style=\"text-align: right;\">\n",
       "      <th></th>\n",
       "      <th>Journey_Pattern_ID</th>\n",
       "      <th>Distance</th>\n",
       "      <th>Trip_Time</th>\n",
       "      <th>datetime</th>\n",
       "      <th>HourOfDay</th>\n",
       "      <th>day_of_week</th>\n",
       "      <th>midweek</th>\n",
       "      <th>time_bin</th>\n",
       "      <th>cloud</th>\n",
       "      <th>rain</th>\n",
       "      <th>temp</th>\n",
       "      <th>wind</th>\n",
       "    </tr>\n",
       "  </thead>\n",
       "  <tbody>\n",
       "    <tr>\n",
       "      <th>0</th>\n",
       "      <td>10001</td>\n",
       "      <td>0</td>\n",
       "      <td>0</td>\n",
       "      <td>2012-11-06 12:15:13</td>\n",
       "      <td>12</td>\n",
       "      <td>Tuesday</td>\n",
       "      <td>0</td>\n",
       "      <td>am</td>\n",
       "      <td>6.88</td>\n",
       "      <td>0.0</td>\n",
       "      <td>7.55</td>\n",
       "      <td>16.25</td>\n",
       "    </tr>\n",
       "    <tr>\n",
       "      <th>1</th>\n",
       "      <td>10001</td>\n",
       "      <td>22</td>\n",
       "      <td>360</td>\n",
       "      <td>2012-11-06 12:21:13</td>\n",
       "      <td>12</td>\n",
       "      <td>Tuesday</td>\n",
       "      <td>0</td>\n",
       "      <td>am</td>\n",
       "      <td>6.88</td>\n",
       "      <td>0.0</td>\n",
       "      <td>7.55</td>\n",
       "      <td>16.25</td>\n",
       "    </tr>\n",
       "    <tr>\n",
       "      <th>2</th>\n",
       "      <td>10001</td>\n",
       "      <td>215</td>\n",
       "      <td>397</td>\n",
       "      <td>2012-11-06 12:21:50</td>\n",
       "      <td>12</td>\n",
       "      <td>Tuesday</td>\n",
       "      <td>0</td>\n",
       "      <td>am</td>\n",
       "      <td>6.88</td>\n",
       "      <td>0.0</td>\n",
       "      <td>7.55</td>\n",
       "      <td>16.25</td>\n",
       "    </tr>\n",
       "    <tr>\n",
       "      <th>3</th>\n",
       "      <td>10001</td>\n",
       "      <td>264</td>\n",
       "      <td>418</td>\n",
       "      <td>2012-11-06 12:22:11</td>\n",
       "      <td>12</td>\n",
       "      <td>Tuesday</td>\n",
       "      <td>0</td>\n",
       "      <td>am</td>\n",
       "      <td>6.88</td>\n",
       "      <td>0.0</td>\n",
       "      <td>7.55</td>\n",
       "      <td>16.25</td>\n",
       "    </tr>\n",
       "    <tr>\n",
       "      <th>4</th>\n",
       "      <td>10001</td>\n",
       "      <td>439</td>\n",
       "      <td>440</td>\n",
       "      <td>2012-11-06 12:22:33</td>\n",
       "      <td>12</td>\n",
       "      <td>Tuesday</td>\n",
       "      <td>0</td>\n",
       "      <td>am</td>\n",
       "      <td>6.88</td>\n",
       "      <td>0.0</td>\n",
       "      <td>7.55</td>\n",
       "      <td>16.25</td>\n",
       "    </tr>\n",
       "  </tbody>\n",
       "</table>\n",
       "</div>"
      ],
      "text/plain": [
       "  Journey_Pattern_ID  Distance  Trip_Time             datetime  HourOfDay  \\\n",
       "0              10001         0          0  2012-11-06 12:15:13         12   \n",
       "1              10001        22        360  2012-11-06 12:21:13         12   \n",
       "2              10001       215        397  2012-11-06 12:21:50         12   \n",
       "3              10001       264        418  2012-11-06 12:22:11         12   \n",
       "4              10001       439        440  2012-11-06 12:22:33         12   \n",
       "\n",
       "  day_of_week  midweek time_bin  cloud  rain  temp   wind  \n",
       "0     Tuesday        0       am   6.88   0.0  7.55  16.25  \n",
       "1     Tuesday        0       am   6.88   0.0  7.55  16.25  \n",
       "2     Tuesday        0       am   6.88   0.0  7.55  16.25  \n",
       "3     Tuesday        0       am   6.88   0.0  7.55  16.25  \n",
       "4     Tuesday        0       am   6.88   0.0  7.55  16.25  "
      ]
     },
     "execution_count": 3,
     "metadata": {},
     "output_type": "execute_result"
    }
   ],
   "source": [
    "df.head()"
   ]
  },
  {
   "cell_type": "code",
   "execution_count": 4,
   "metadata": {
    "collapsed": false
   },
   "outputs": [
    {
     "data": {
      "text/plain": [
       "(16852100, 12)"
      ]
     },
     "execution_count": 4,
     "metadata": {},
     "output_type": "execute_result"
    }
   ],
   "source": [
    "df.shape"
   ]
  },
  {
   "cell_type": "code",
   "execution_count": 5,
   "metadata": {
    "collapsed": false
   },
   "outputs": [
    {
     "data": {
      "text/html": [
       "<div>\n",
       "<table border=\"1\" class=\"dataframe\">\n",
       "  <thead>\n",
       "    <tr style=\"text-align: right;\">\n",
       "      <th></th>\n",
       "      <th>Journey_Pattern_ID</th>\n",
       "      <th>Distance</th>\n",
       "      <th>Trip_Time</th>\n",
       "      <th>datetime</th>\n",
       "      <th>HourOfDay</th>\n",
       "      <th>day_of_week</th>\n",
       "      <th>midweek</th>\n",
       "      <th>time_bin</th>\n",
       "      <th>cloud</th>\n",
       "      <th>rain</th>\n",
       "      <th>temp</th>\n",
       "      <th>wind</th>\n",
       "    </tr>\n",
       "  </thead>\n",
       "  <tbody>\n",
       "    <tr>\n",
       "      <th>16852097</th>\n",
       "      <td>084X1002</td>\n",
       "      <td>23071</td>\n",
       "      <td>3197</td>\n",
       "      <td>2013-01-29 09:07:03</td>\n",
       "      <td>9</td>\n",
       "      <td>Tuesday</td>\n",
       "      <td>0</td>\n",
       "      <td>am</td>\n",
       "      <td>7.38</td>\n",
       "      <td>0.03</td>\n",
       "      <td>8.32</td>\n",
       "      <td>10.88</td>\n",
       "    </tr>\n",
       "    <tr>\n",
       "      <th>16852098</th>\n",
       "      <td>084X1002</td>\n",
       "      <td>23318</td>\n",
       "      <td>3303</td>\n",
       "      <td>2013-01-29 09:08:49</td>\n",
       "      <td>9</td>\n",
       "      <td>Tuesday</td>\n",
       "      <td>0</td>\n",
       "      <td>am</td>\n",
       "      <td>7.38</td>\n",
       "      <td>0.03</td>\n",
       "      <td>8.32</td>\n",
       "      <td>10.88</td>\n",
       "    </tr>\n",
       "    <tr>\n",
       "      <th>16852099</th>\n",
       "      <td>084X1002</td>\n",
       "      <td>23665</td>\n",
       "      <td>3478</td>\n",
       "      <td>2013-01-29 09:11:44</td>\n",
       "      <td>9</td>\n",
       "      <td>Tuesday</td>\n",
       "      <td>0</td>\n",
       "      <td>am</td>\n",
       "      <td>7.38</td>\n",
       "      <td>0.03</td>\n",
       "      <td>8.32</td>\n",
       "      <td>10.88</td>\n",
       "    </tr>\n",
       "  </tbody>\n",
       "</table>\n",
       "</div>"
      ],
      "text/plain": [
       "         Journey_Pattern_ID  Distance  Trip_Time             datetime  \\\n",
       "16852097           084X1002     23071       3197  2013-01-29 09:07:03   \n",
       "16852098           084X1002     23318       3303  2013-01-29 09:08:49   \n",
       "16852099           084X1002     23665       3478  2013-01-29 09:11:44   \n",
       "\n",
       "          HourOfDay day_of_week  midweek time_bin  cloud  rain  temp   wind  \n",
       "16852097          9     Tuesday        0       am   7.38  0.03  8.32  10.88  \n",
       "16852098          9     Tuesday        0       am   7.38  0.03  8.32  10.88  \n",
       "16852099          9     Tuesday        0       am   7.38  0.03  8.32  10.88  "
      ]
     },
     "execution_count": 5,
     "metadata": {},
     "output_type": "execute_result"
    }
   ],
   "source": [
    "df.tail(3)"
   ]
  },
  {
   "cell_type": "code",
   "execution_count": 6,
   "metadata": {
    "collapsed": false
   },
   "outputs": [
    {
     "data": {
      "text/plain": [
       "Journey_Pattern_ID     object\n",
       "Distance                int64\n",
       "Trip_Time               int64\n",
       "datetime               object\n",
       "HourOfDay               int64\n",
       "day_of_week            object\n",
       "midweek                 int64\n",
       "time_bin               object\n",
       "cloud                 float64\n",
       "rain                  float64\n",
       "temp                  float64\n",
       "wind                  float64\n",
       "dtype: object"
      ]
     },
     "execution_count": 6,
     "metadata": {},
     "output_type": "execute_result"
    }
   ],
   "source": [
    "df.dtypes"
   ]
  },
  {
   "cell_type": "code",
   "execution_count": 4,
   "metadata": {
    "collapsed": true
   },
   "outputs": [],
   "source": [
    "continuous_features = ['Distance', 'Trip_Time', 'cloud', 'rain', 'temp', 'wind']\n",
    "categorical_features = ['Journey_Pattern_ID', 'HourOfDay', 'day_of_week', 'midweek', 'time_bin']\n",
    "\n"
   ]
  },
  {
   "cell_type": "code",
   "execution_count": 5,
   "metadata": {
    "collapsed": false
   },
   "outputs": [],
   "source": [
    "for item in categorical_features:\n",
    "    df[item] = df[item].astype('category')"
   ]
  },
  {
   "cell_type": "code",
   "execution_count": 6,
   "metadata": {
    "collapsed": false
   },
   "outputs": [
    {
     "data": {
      "text/plain": [
       "Journey_Pattern_ID    category\n",
       "Distance                 int64\n",
       "Trip_Time                int64\n",
       "datetime                object\n",
       "HourOfDay             category\n",
       "day_of_week           category\n",
       "midweek               category\n",
       "time_bin              category\n",
       "cloud                  float64\n",
       "rain                   float64\n",
       "temp                   float64\n",
       "wind                   float64\n",
       "dtype: object"
      ]
     },
     "execution_count": 6,
     "metadata": {},
     "output_type": "execute_result"
    }
   ],
   "source": [
    "df.dtypes"
   ]
  },
  {
   "cell_type": "markdown",
   "metadata": {},
   "source": [
    "## Prepare a table with descriptive statistics for all continuous features"
   ]
  },
  {
   "cell_type": "code",
   "execution_count": 18,
   "metadata": {
    "collapsed": false
   },
   "outputs": [
    {
     "data": {
      "text/html": [
       "<div>\n",
       "<table border=\"1\" class=\"dataframe\">\n",
       "  <thead>\n",
       "    <tr style=\"text-align: right;\">\n",
       "      <th></th>\n",
       "      <th>count</th>\n",
       "      <th>mean</th>\n",
       "      <th>std</th>\n",
       "      <th>min</th>\n",
       "      <th>25%</th>\n",
       "      <th>50%</th>\n",
       "      <th>75%</th>\n",
       "      <th>max</th>\n",
       "    </tr>\n",
       "  </thead>\n",
       "  <tbody>\n",
       "    <tr>\n",
       "      <th>Distance</th>\n",
       "      <td>16852100.0</td>\n",
       "      <td>10141.854031</td>\n",
       "      <td>6750.558823</td>\n",
       "      <td>0.00</td>\n",
       "      <td>4582.00</td>\n",
       "      <td>9205.00</td>\n",
       "      <td>14975.00</td>\n",
       "      <td>35995.00</td>\n",
       "    </tr>\n",
       "    <tr>\n",
       "      <th>Trip_Time</th>\n",
       "      <td>16852100.0</td>\n",
       "      <td>2027.058006</td>\n",
       "      <td>1339.317116</td>\n",
       "      <td>0.00</td>\n",
       "      <td>956.00</td>\n",
       "      <td>1800.00</td>\n",
       "      <td>2898.00</td>\n",
       "      <td>14392.00</td>\n",
       "    </tr>\n",
       "    <tr>\n",
       "      <th>cloud</th>\n",
       "      <td>16852100.0</td>\n",
       "      <td>5.764603</td>\n",
       "      <td>2.022881</td>\n",
       "      <td>0.40</td>\n",
       "      <td>4.62</td>\n",
       "      <td>6.50</td>\n",
       "      <td>7.33</td>\n",
       "      <td>8.00</td>\n",
       "    </tr>\n",
       "    <tr>\n",
       "      <th>rain</th>\n",
       "      <td>16852100.0</td>\n",
       "      <td>0.116991</td>\n",
       "      <td>0.335562</td>\n",
       "      <td>0.00</td>\n",
       "      <td>0.00</td>\n",
       "      <td>0.00</td>\n",
       "      <td>0.05</td>\n",
       "      <td>3.43</td>\n",
       "    </tr>\n",
       "    <tr>\n",
       "      <th>temp</th>\n",
       "      <td>16852100.0</td>\n",
       "      <td>6.347852</td>\n",
       "      <td>3.689708</td>\n",
       "      <td>-3.20</td>\n",
       "      <td>3.22</td>\n",
       "      <td>6.14</td>\n",
       "      <td>9.47</td>\n",
       "      <td>13.06</td>\n",
       "    </tr>\n",
       "    <tr>\n",
       "      <th>wind</th>\n",
       "      <td>16852100.0</td>\n",
       "      <td>11.154538</td>\n",
       "      <td>5.422577</td>\n",
       "      <td>1.67</td>\n",
       "      <td>7.50</td>\n",
       "      <td>10.38</td>\n",
       "      <td>14.25</td>\n",
       "      <td>26.50</td>\n",
       "    </tr>\n",
       "  </tbody>\n",
       "</table>\n",
       "</div>"
      ],
      "text/plain": [
       "                count          mean          std   min      25%      50%  \\\n",
       "Distance   16852100.0  10141.854031  6750.558823  0.00  4582.00  9205.00   \n",
       "Trip_Time  16852100.0   2027.058006  1339.317116  0.00   956.00  1800.00   \n",
       "cloud      16852100.0      5.764603     2.022881  0.40     4.62     6.50   \n",
       "rain       16852100.0      0.116991     0.335562  0.00     0.00     0.00   \n",
       "temp       16852100.0      6.347852     3.689708 -3.20     3.22     6.14   \n",
       "wind       16852100.0     11.154538     5.422577  1.67     7.50    10.38   \n",
       "\n",
       "                75%       max  \n",
       "Distance   14975.00  35995.00  \n",
       "Trip_Time   2898.00  14392.00  \n",
       "cloud          7.33      8.00  \n",
       "rain           0.05      3.43  \n",
       "temp           9.47     13.06  \n",
       "wind          14.25     26.50  "
      ]
     },
     "execution_count": 18,
     "metadata": {},
     "output_type": "execute_result"
    },
    {
     "data": {
      "text/plain": [
       "<matplotlib.figure.Figure at 0x1e540df2208>"
      ]
     },
     "metadata": {},
     "output_type": "display_data"
    }
   ],
   "source": [
    "plot = df[continuous_features].describe().T\n",
    "plt.savefig('desc_stats_continuous_all_data_v1.png')\n",
    "plot"
   ]
  },
  {
   "cell_type": "markdown",
   "metadata": {},
   "source": [
    "## Prepare a table with descriptive statistics for all categorical features"
   ]
  },
  {
   "cell_type": "code",
   "execution_count": 19,
   "metadata": {
    "collapsed": false
   },
   "outputs": [
    {
     "data": {
      "text/html": [
       "<div>\n",
       "<table border=\"1\" class=\"dataframe\">\n",
       "  <thead>\n",
       "    <tr style=\"text-align: right;\">\n",
       "      <th></th>\n",
       "      <th>count</th>\n",
       "      <th>unique</th>\n",
       "      <th>top</th>\n",
       "      <th>freq</th>\n",
       "    </tr>\n",
       "  </thead>\n",
       "  <tbody>\n",
       "    <tr>\n",
       "      <th>Journey_Pattern_ID</th>\n",
       "      <td>16852100</td>\n",
       "      <td>495</td>\n",
       "      <td>046A1001</td>\n",
       "      <td>395123</td>\n",
       "    </tr>\n",
       "    <tr>\n",
       "      <th>HourOfDay</th>\n",
       "      <td>16852100</td>\n",
       "      <td>21</td>\n",
       "      <td>17</td>\n",
       "      <td>1188199</td>\n",
       "    </tr>\n",
       "    <tr>\n",
       "      <th>day_of_week</th>\n",
       "      <td>16852100</td>\n",
       "      <td>7</td>\n",
       "      <td>Tuesday</td>\n",
       "      <td>3041278</td>\n",
       "    </tr>\n",
       "    <tr>\n",
       "      <th>midweek</th>\n",
       "      <td>16852100</td>\n",
       "      <td>2</td>\n",
       "      <td>0</td>\n",
       "      <td>13992196</td>\n",
       "    </tr>\n",
       "    <tr>\n",
       "      <th>time_bin</th>\n",
       "      <td>16852100</td>\n",
       "      <td>4</td>\n",
       "      <td>pm</td>\n",
       "      <td>8370712</td>\n",
       "    </tr>\n",
       "  </tbody>\n",
       "</table>\n",
       "</div>"
      ],
      "text/plain": [
       "                       count unique       top      freq\n",
       "Journey_Pattern_ID  16852100    495  046A1001    395123\n",
       "HourOfDay           16852100     21        17   1188199\n",
       "day_of_week         16852100      7   Tuesday   3041278\n",
       "midweek             16852100      2         0  13992196\n",
       "time_bin            16852100      4        pm   8370712"
      ]
     },
     "execution_count": 19,
     "metadata": {},
     "output_type": "execute_result"
    },
    {
     "data": {
      "text/plain": [
       "<matplotlib.figure.Figure at 0x1e540df2160>"
      ]
     },
     "metadata": {},
     "output_type": "display_data"
    }
   ],
   "source": [
    "plot = df[categorical_features].describe().T\n",
    "plt.savefig('desc_stats_categorical_all_data_v1.png')\n",
    "plot"
   ]
  },
  {
   "cell_type": "markdown",
   "metadata": {},
   "source": [
    "## Drop duplicate rows and columns, if any"
   ]
  },
  {
   "cell_type": "code",
   "execution_count": 20,
   "metadata": {
    "collapsed": false
   },
   "outputs": [
    {
     "data": {
      "text/plain": [
       "(16852100, 12)"
      ]
     },
     "execution_count": 20,
     "metadata": {},
     "output_type": "execute_result"
    }
   ],
   "source": [
    "df.drop_duplicates(keep='first')\n",
    "df.shape"
   ]
  },
  {
   "cell_type": "code",
   "execution_count": 21,
   "metadata": {
    "collapsed": false
   },
   "outputs": [
    {
     "data": {
      "text/html": [
       "<div>\n",
       "<table border=\"1\" class=\"dataframe\">\n",
       "  <thead>\n",
       "    <tr style=\"text-align: right;\">\n",
       "      <th></th>\n",
       "      <th>Journey_Pattern_ID</th>\n",
       "      <th>Distance</th>\n",
       "      <th>Trip_Time</th>\n",
       "      <th>datetime</th>\n",
       "      <th>HourOfDay</th>\n",
       "      <th>day_of_week</th>\n",
       "      <th>midweek</th>\n",
       "      <th>time_bin</th>\n",
       "      <th>cloud</th>\n",
       "      <th>rain</th>\n",
       "      <th>temp</th>\n",
       "      <th>wind</th>\n",
       "    </tr>\n",
       "  </thead>\n",
       "  <tbody>\n",
       "    <tr>\n",
       "      <th>0</th>\n",
       "      <td>10001</td>\n",
       "      <td>0</td>\n",
       "      <td>0</td>\n",
       "      <td>2012-11-06 12:15:13</td>\n",
       "      <td>12</td>\n",
       "      <td>Tuesday</td>\n",
       "      <td>0</td>\n",
       "      <td>am</td>\n",
       "      <td>6.88</td>\n",
       "      <td>0.0</td>\n",
       "      <td>7.55</td>\n",
       "      <td>16.25</td>\n",
       "    </tr>\n",
       "    <tr>\n",
       "      <th>1</th>\n",
       "      <td>10001</td>\n",
       "      <td>22</td>\n",
       "      <td>360</td>\n",
       "      <td>2012-11-06 12:21:13</td>\n",
       "      <td>12</td>\n",
       "      <td>Tuesday</td>\n",
       "      <td>0</td>\n",
       "      <td>am</td>\n",
       "      <td>6.88</td>\n",
       "      <td>0.0</td>\n",
       "      <td>7.55</td>\n",
       "      <td>16.25</td>\n",
       "    </tr>\n",
       "    <tr>\n",
       "      <th>2</th>\n",
       "      <td>10001</td>\n",
       "      <td>215</td>\n",
       "      <td>397</td>\n",
       "      <td>2012-11-06 12:21:50</td>\n",
       "      <td>12</td>\n",
       "      <td>Tuesday</td>\n",
       "      <td>0</td>\n",
       "      <td>am</td>\n",
       "      <td>6.88</td>\n",
       "      <td>0.0</td>\n",
       "      <td>7.55</td>\n",
       "      <td>16.25</td>\n",
       "    </tr>\n",
       "  </tbody>\n",
       "</table>\n",
       "</div>"
      ],
      "text/plain": [
       "  Journey_Pattern_ID  Distance  Trip_Time             datetime HourOfDay  \\\n",
       "0              10001         0          0  2012-11-06 12:15:13        12   \n",
       "1              10001        22        360  2012-11-06 12:21:13        12   \n",
       "2              10001       215        397  2012-11-06 12:21:50        12   \n",
       "\n",
       "  day_of_week midweek time_bin  cloud  rain  temp   wind  \n",
       "0     Tuesday       0       am   6.88   0.0  7.55  16.25  \n",
       "1     Tuesday       0       am   6.88   0.0  7.55  16.25  \n",
       "2     Tuesday       0       am   6.88   0.0  7.55  16.25  "
      ]
     },
     "execution_count": 21,
     "metadata": {},
     "output_type": "execute_result"
    }
   ],
   "source": [
    "df.head(3)"
   ]
  },
  {
   "cell_type": "markdown",
   "metadata": {},
   "source": [
    "## Drop constance columns, if any\n",
    "### We can see from the statistical analysis table that there are no constant columns"
   ]
  },
  {
   "cell_type": "markdown",
   "metadata": {},
   "source": [
    "## Prepare descriptive stats for new df"
   ]
  },
  {
   "cell_type": "markdown",
   "metadata": {},
   "source": [
    "## For Continuous Features"
   ]
  },
  {
   "cell_type": "code",
   "execution_count": 22,
   "metadata": {
    "collapsed": false
   },
   "outputs": [
    {
     "data": {
      "text/html": [
       "<div>\n",
       "<table border=\"1\" class=\"dataframe\">\n",
       "  <thead>\n",
       "    <tr style=\"text-align: right;\">\n",
       "      <th></th>\n",
       "      <th>count</th>\n",
       "      <th>mean</th>\n",
       "      <th>std</th>\n",
       "      <th>min</th>\n",
       "      <th>25%</th>\n",
       "      <th>50%</th>\n",
       "      <th>75%</th>\n",
       "      <th>max</th>\n",
       "    </tr>\n",
       "  </thead>\n",
       "  <tbody>\n",
       "    <tr>\n",
       "      <th>Distance</th>\n",
       "      <td>16852100.0</td>\n",
       "      <td>10141.854031</td>\n",
       "      <td>6750.558823</td>\n",
       "      <td>0.00</td>\n",
       "      <td>4582.00</td>\n",
       "      <td>9205.00</td>\n",
       "      <td>14975.00</td>\n",
       "      <td>35995.00</td>\n",
       "    </tr>\n",
       "    <tr>\n",
       "      <th>Trip_Time</th>\n",
       "      <td>16852100.0</td>\n",
       "      <td>2027.058006</td>\n",
       "      <td>1339.317116</td>\n",
       "      <td>0.00</td>\n",
       "      <td>956.00</td>\n",
       "      <td>1800.00</td>\n",
       "      <td>2898.00</td>\n",
       "      <td>14392.00</td>\n",
       "    </tr>\n",
       "    <tr>\n",
       "      <th>cloud</th>\n",
       "      <td>16852100.0</td>\n",
       "      <td>5.764603</td>\n",
       "      <td>2.022881</td>\n",
       "      <td>0.40</td>\n",
       "      <td>4.62</td>\n",
       "      <td>6.50</td>\n",
       "      <td>7.33</td>\n",
       "      <td>8.00</td>\n",
       "    </tr>\n",
       "    <tr>\n",
       "      <th>rain</th>\n",
       "      <td>16852100.0</td>\n",
       "      <td>0.116991</td>\n",
       "      <td>0.335562</td>\n",
       "      <td>0.00</td>\n",
       "      <td>0.00</td>\n",
       "      <td>0.00</td>\n",
       "      <td>0.05</td>\n",
       "      <td>3.43</td>\n",
       "    </tr>\n",
       "    <tr>\n",
       "      <th>temp</th>\n",
       "      <td>16852100.0</td>\n",
       "      <td>6.347852</td>\n",
       "      <td>3.689708</td>\n",
       "      <td>-3.20</td>\n",
       "      <td>3.22</td>\n",
       "      <td>6.14</td>\n",
       "      <td>9.47</td>\n",
       "      <td>13.06</td>\n",
       "    </tr>\n",
       "    <tr>\n",
       "      <th>wind</th>\n",
       "      <td>16852100.0</td>\n",
       "      <td>11.154538</td>\n",
       "      <td>5.422577</td>\n",
       "      <td>1.67</td>\n",
       "      <td>7.50</td>\n",
       "      <td>10.38</td>\n",
       "      <td>14.25</td>\n",
       "      <td>26.50</td>\n",
       "    </tr>\n",
       "  </tbody>\n",
       "</table>\n",
       "</div>"
      ],
      "text/plain": [
       "                count          mean          std   min      25%      50%  \\\n",
       "Distance   16852100.0  10141.854031  6750.558823  0.00  4582.00  9205.00   \n",
       "Trip_Time  16852100.0   2027.058006  1339.317116  0.00   956.00  1800.00   \n",
       "cloud      16852100.0      5.764603     2.022881  0.40     4.62     6.50   \n",
       "rain       16852100.0      0.116991     0.335562  0.00     0.00     0.00   \n",
       "temp       16852100.0      6.347852     3.689708 -3.20     3.22     6.14   \n",
       "wind       16852100.0     11.154538     5.422577  1.67     7.50    10.38   \n",
       "\n",
       "                75%       max  \n",
       "Distance   14975.00  35995.00  \n",
       "Trip_Time   2898.00  14392.00  \n",
       "cloud          7.33      8.00  \n",
       "rain           0.05      3.43  \n",
       "temp           9.47     13.06  \n",
       "wind          14.25     26.50  "
      ]
     },
     "execution_count": 22,
     "metadata": {},
     "output_type": "execute_result"
    },
    {
     "data": {
      "text/plain": [
       "<matplotlib.figure.Figure at 0x1e540de7f60>"
      ]
     },
     "metadata": {},
     "output_type": "display_data"
    }
   ],
   "source": [
    "plot = df[continuous_features].describe(include=\"all\").T\n",
    "plt.savefig('desc_stats_continuous_all_data_v1_t2.png')\n",
    "plot"
   ]
  },
  {
   "cell_type": "code",
   "execution_count": 23,
   "metadata": {
    "collapsed": false
   },
   "outputs": [
    {
     "data": {
      "text/plain": [
       "Distance     0\n",
       "Trip_Time    0\n",
       "cloud        0\n",
       "rain         0\n",
       "temp         0\n",
       "wind         0\n",
       "dtype: int64"
      ]
     },
     "execution_count": 23,
     "metadata": {},
     "output_type": "execute_result"
    }
   ],
   "source": [
    "# check for missing values\n",
    "df[continuous_features].isnull().sum()"
   ]
  },
  {
   "cell_type": "code",
   "execution_count": 24,
   "metadata": {
    "collapsed": false
   },
   "outputs": [
    {
     "data": {
      "text/plain": [
       "<matplotlib.figure.Figure at 0x1e540de7e80>"
      ]
     },
     "metadata": {},
     "output_type": "display_data"
    }
   ],
   "source": [
    "# check cardinality\n",
    "card_list = []\n",
    "count_list = []\n",
    "continuous_columns = df[continuous_features].columns\n",
    "for column in continuous_columns:\n",
    "    card_list.append(df[column].nunique())\n",
    "    count_list.append(df[column].count())\n",
    "    \n",
    "df_cardinality = pd.DataFrame({'Feature': continuous_features, 'Card': card_list, 'Count': count_list})\n",
    "plt.savefig('cardinality_continuous_all_data_v1.png')"
   ]
  },
  {
   "cell_type": "code",
   "execution_count": 25,
   "metadata": {
    "collapsed": false,
    "scrolled": true
   },
   "outputs": [
    {
     "data": {
      "text/html": [
       "<div>\n",
       "<table border=\"1\" class=\"dataframe\">\n",
       "  <thead>\n",
       "    <tr style=\"text-align: right;\">\n",
       "      <th></th>\n",
       "      <th>Card</th>\n",
       "      <th>Count</th>\n",
       "      <th>Feature</th>\n",
       "    </tr>\n",
       "  </thead>\n",
       "  <tbody>\n",
       "    <tr>\n",
       "      <th>0</th>\n",
       "      <td>34861</td>\n",
       "      <td>16852100</td>\n",
       "      <td>Distance</td>\n",
       "    </tr>\n",
       "    <tr>\n",
       "      <th>1</th>\n",
       "      <td>8753</td>\n",
       "      <td>16852100</td>\n",
       "      <td>Trip_Time</td>\n",
       "    </tr>\n",
       "    <tr>\n",
       "      <th>2</th>\n",
       "      <td>70</td>\n",
       "      <td>16852100</td>\n",
       "      <td>cloud</td>\n",
       "    </tr>\n",
       "    <tr>\n",
       "      <th>3</th>\n",
       "      <td>41</td>\n",
       "      <td>16852100</td>\n",
       "      <td>rain</td>\n",
       "    </tr>\n",
       "    <tr>\n",
       "      <th>4</th>\n",
       "      <td>202</td>\n",
       "      <td>16852100</td>\n",
       "      <td>temp</td>\n",
       "    </tr>\n",
       "    <tr>\n",
       "      <th>5</th>\n",
       "      <td>138</td>\n",
       "      <td>16852100</td>\n",
       "      <td>wind</td>\n",
       "    </tr>\n",
       "  </tbody>\n",
       "</table>\n",
       "</div>"
      ],
      "text/plain": [
       "    Card     Count    Feature\n",
       "0  34861  16852100   Distance\n",
       "1   8753  16852100  Trip_Time\n",
       "2     70  16852100      cloud\n",
       "3     41  16852100       rain\n",
       "4    202  16852100       temp\n",
       "5    138  16852100       wind"
      ]
     },
     "execution_count": 25,
     "metadata": {},
     "output_type": "execute_result"
    }
   ],
   "source": [
    "df_cardinality"
   ]
  },
  {
   "cell_type": "markdown",
   "metadata": {},
   "source": [
    "## For Categorical Features"
   ]
  },
  {
   "cell_type": "markdown",
   "metadata": {},
   "source": [
    "### Notes from machinelearningbook.com\n",
    "\"The table in the data quality report that describes categorical features should include a row for each feature in the ABT that contains the two most frequent levels for the feature (the mode and 2nd mode) and the frequency with which these appear (both as raw frequencies and as a proportion of the total number of instances in the dataset). Each row should also include the percentage of instances in the ABT that are missing a value for the feature and the cardinality of the feature.\" - p56"
   ]
  },
  {
   "cell_type": "code",
   "execution_count": 26,
   "metadata": {
    "collapsed": false
   },
   "outputs": [
    {
     "name": "stdout",
     "output_type": "stream",
     "text": [
      "['Journey_Pattern_ID', 'HourOfDay', 'day_of_week', 'midweek', 'time_bin']\n"
     ]
    },
    {
     "data": {
      "text/html": [
       "<div>\n",
       "<table border=\"1\" class=\"dataframe\">\n",
       "  <thead>\n",
       "    <tr style=\"text-align: right;\">\n",
       "      <th></th>\n",
       "      <th>count</th>\n",
       "      <th>unique</th>\n",
       "      <th>top</th>\n",
       "      <th>freq</th>\n",
       "    </tr>\n",
       "  </thead>\n",
       "  <tbody>\n",
       "    <tr>\n",
       "      <th>Journey_Pattern_ID</th>\n",
       "      <td>16852100</td>\n",
       "      <td>495</td>\n",
       "      <td>046A1001</td>\n",
       "      <td>395123</td>\n",
       "    </tr>\n",
       "    <tr>\n",
       "      <th>HourOfDay</th>\n",
       "      <td>16852100</td>\n",
       "      <td>21</td>\n",
       "      <td>17</td>\n",
       "      <td>1188199</td>\n",
       "    </tr>\n",
       "    <tr>\n",
       "      <th>day_of_week</th>\n",
       "      <td>16852100</td>\n",
       "      <td>7</td>\n",
       "      <td>Tuesday</td>\n",
       "      <td>3041278</td>\n",
       "    </tr>\n",
       "    <tr>\n",
       "      <th>midweek</th>\n",
       "      <td>16852100</td>\n",
       "      <td>2</td>\n",
       "      <td>0</td>\n",
       "      <td>13992196</td>\n",
       "    </tr>\n",
       "    <tr>\n",
       "      <th>time_bin</th>\n",
       "      <td>16852100</td>\n",
       "      <td>4</td>\n",
       "      <td>pm</td>\n",
       "      <td>8370712</td>\n",
       "    </tr>\n",
       "  </tbody>\n",
       "</table>\n",
       "</div>"
      ],
      "text/plain": [
       "                       count unique       top      freq\n",
       "Journey_Pattern_ID  16852100    495  046A1001    395123\n",
       "HourOfDay           16852100     21        17   1188199\n",
       "day_of_week         16852100      7   Tuesday   3041278\n",
       "midweek             16852100      2         0  13992196\n",
       "time_bin            16852100      4        pm   8370712"
      ]
     },
     "execution_count": 26,
     "metadata": {},
     "output_type": "execute_result"
    },
    {
     "data": {
      "text/plain": [
       "<matplotlib.figure.Figure at 0x1e54080bfd0>"
      ]
     },
     "metadata": {},
     "output_type": "display_data"
    }
   ],
   "source": [
    "# remove at_stop from list of categorical features\n",
    "#categorical_features.pop(7)\n",
    "print(categorical_features)\n",
    "plot = df[categorical_features].describe().T\n",
    "plt.savefig('desc_stats_categorical_all_data_v1_t2.png')\n",
    "plot"
   ]
  },
  {
   "cell_type": "code",
   "execution_count": 27,
   "metadata": {
    "collapsed": false
   },
   "outputs": [
    {
     "data": {
      "text/plain": [
       "Journey_Pattern_ID    0\n",
       "HourOfDay             0\n",
       "day_of_week           0\n",
       "midweek               0\n",
       "time_bin              0\n",
       "dtype: int64"
      ]
     },
     "execution_count": 27,
     "metadata": {},
     "output_type": "execute_result"
    }
   ],
   "source": [
    "# check for missing values\n",
    "df[categorical_features].isnull().sum()"
   ]
  },
  {
   "cell_type": "code",
   "execution_count": 28,
   "metadata": {
    "collapsed": false
   },
   "outputs": [
    {
     "data": {
      "text/plain": [
       "<matplotlib.figure.Figure at 0x1e540df25f8>"
      ]
     },
     "metadata": {},
     "output_type": "display_data"
    }
   ],
   "source": [
    "# check cardinality\n",
    "card_list = []\n",
    "count_list = []\n",
    "categorical_columns = df[categorical_features].columns\n",
    "for column in categorical_columns:\n",
    "    card_list.append(df[column].nunique())\n",
    "    count_list.append(df[column].count())\n",
    "    \n",
    "df_cardinality_cat = pd.DataFrame({'Feature': categorical_features, 'Card': card_list, 'Count': count_list})\n",
    "plt.savefig('cardinality_categorical_all_data_v1.png')"
   ]
  },
  {
   "cell_type": "code",
   "execution_count": 29,
   "metadata": {
    "collapsed": false
   },
   "outputs": [
    {
     "data": {
      "text/html": [
       "<div>\n",
       "<table border=\"1\" class=\"dataframe\">\n",
       "  <thead>\n",
       "    <tr style=\"text-align: right;\">\n",
       "      <th></th>\n",
       "      <th>Card</th>\n",
       "      <th>Count</th>\n",
       "      <th>Feature</th>\n",
       "    </tr>\n",
       "  </thead>\n",
       "  <tbody>\n",
       "    <tr>\n",
       "      <th>0</th>\n",
       "      <td>495</td>\n",
       "      <td>16852100</td>\n",
       "      <td>Journey_Pattern_ID</td>\n",
       "    </tr>\n",
       "    <tr>\n",
       "      <th>1</th>\n",
       "      <td>21</td>\n",
       "      <td>16852100</td>\n",
       "      <td>HourOfDay</td>\n",
       "    </tr>\n",
       "    <tr>\n",
       "      <th>2</th>\n",
       "      <td>7</td>\n",
       "      <td>16852100</td>\n",
       "      <td>day_of_week</td>\n",
       "    </tr>\n",
       "    <tr>\n",
       "      <th>3</th>\n",
       "      <td>2</td>\n",
       "      <td>16852100</td>\n",
       "      <td>midweek</td>\n",
       "    </tr>\n",
       "    <tr>\n",
       "      <th>4</th>\n",
       "      <td>4</td>\n",
       "      <td>16852100</td>\n",
       "      <td>time_bin</td>\n",
       "    </tr>\n",
       "  </tbody>\n",
       "</table>\n",
       "</div>"
      ],
      "text/plain": [
       "   Card     Count             Feature\n",
       "0   495  16852100  Journey_Pattern_ID\n",
       "1    21  16852100           HourOfDay\n",
       "2     7  16852100         day_of_week\n",
       "3     2  16852100             midweek\n",
       "4     4  16852100            time_bin"
      ]
     },
     "execution_count": 29,
     "metadata": {},
     "output_type": "execute_result"
    }
   ],
   "source": [
    "df_cardinality_cat"
   ]
  },
  {
   "cell_type": "markdown",
   "metadata": {},
   "source": [
    "### Notes: From the above we can see that Journey_Pattern_ID, Stop_ID and Vehicle_Journey_ID have very high cardinalities - therefore they will be difficult to deal with and we will have to look at strategies for this. "
   ]
  },
  {
   "cell_type": "markdown",
   "metadata": {},
   "source": [
    "## Plot histograms for all continuous features"
   ]
  },
  {
   "cell_type": "code",
   "execution_count": 30,
   "metadata": {
    "collapsed": false
   },
   "outputs": [
    {
     "name": "stdout",
     "output_type": "stream",
     "text": [
      "['Distance', 'Trip_Time', 'cloud', 'rain', 'temp', 'wind']\n"
     ]
    }
   ],
   "source": [
    "print(continuous_features)"
   ]
  },
  {
   "cell_type": "code",
   "execution_count": 31,
   "metadata": {
    "collapsed": false
   },
   "outputs": [
    {
     "data": {
      "image/png": "[encoded data removed]",
      "text/plain": [
       "<matplotlib.figure.Figure at 0x1e540806630>"
      ]
     },
     "metadata": {},
     "output_type": "display_data"
    }
   ],
   "source": [
    "dist_plot = df['Distance'].hist(figsize=(5, 5))\n",
    "dist_plot.set_xlabel('Distance (meters)')\n",
    "dist_plot.set_ylabel('Count')\n",
    "plt.savefig('histogram_distance_all_data_v1.jpg')"
   ]
  },
  {
   "cell_type": "code",
   "execution_count": 32,
   "metadata": {
    "collapsed": false,
    "scrolled": true
   },
   "outputs": [
    {
     "data": {
      "image/png": "[encoded data removed]",
      "text/plain": [
       "<matplotlib.figure.Figure at 0x1e53dada390>"
      ]
     },
     "metadata": {},
     "output_type": "display_data"
    }
   ],
   "source": [
    "dist_plot = df['Trip_Time'].hist(figsize=(5, 5))\n",
    "dist_plot.set_xlabel('Trip_Time (seconds)')\n",
    "dist_plot.set_ylabel('Count')\n",
    "plt.savefig('histogram_trip_time_all_data_v1.jpg')"
   ]
  },
  {
   "cell_type": "code",
   "execution_count": 33,
   "metadata": {
    "collapsed": false
   },
   "outputs": [
    {
     "data": {
      "image/png": "[encoded data removed]",
      "text/plain": [
       "<matplotlib.figure.Figure at 0x1e53d629fd0>"
      ]
     },
     "metadata": {},
     "output_type": "display_data"
    }
   ],
   "source": [
    "dist_plot = df['wind'].hist(figsize=(5, 5))\n",
    "dist_plot.set_xlabel('Wind')\n",
    "dist_plot.set_ylabel('Count')\n",
    "plt.savefig('histogram_wind_all_data_v1.jpg')"
   ]
  },
  {
   "cell_type": "code",
   "execution_count": 34,
   "metadata": {
    "collapsed": false
   },
   "outputs": [
    {
     "data": {
      "image/png": "[encoded data removed]",
      "text/plain": [
       "<matplotlib.figure.Figure at 0x1e53b3cbf28>"
      ]
     },
     "metadata": {},
     "output_type": "display_data"
    }
   ],
   "source": [
    "dist_plot = df['HourOfDay'].hist(figsize=(5, 5))\n",
    "dist_plot.set_xlabel('Hour')\n",
    "dist_plot.set_ylabel('Count')\n",
    "plt.savefig('histogram_hour_all_data_v1.jpg')"
   ]
  },
  {
   "cell_type": "code",
   "execution_count": 35,
   "metadata": {
    "collapsed": false
   },
   "outputs": [
    {
     "data": {
      "image/png": "[encoded data removed]",
      "text/plain": [
       "<matplotlib.figure.Figure at 0x1e53eb26d68>"
      ]
     },
     "metadata": {},
     "output_type": "display_data"
    }
   ],
   "source": [
    "dist_plot = df['rain'].hist(figsize=(5, 5))\n",
    "dist_plot.set_xlabel('Rain (mm)')\n",
    "dist_plot.set_ylabel('Count')\n",
    "plt.savefig('histogram_rain_all_data_v1.jpg')"
   ]
  },
  {
   "cell_type": "code",
   "execution_count": 36,
   "metadata": {
    "collapsed": false
   },
   "outputs": [
    {
     "data": {
      "image/png": "[encoded data removed]",
      "text/plain": [
       "<matplotlib.figure.Figure at 0x1e53dada128>"
      ]
     },
     "metadata": {},
     "output_type": "display_data"
    }
   ],
   "source": [
    "dist_plot = df['cloud'].hist(figsize=(5, 5))\n",
    "dist_plot.set_xlabel('Cloud')\n",
    "dist_plot.set_ylabel('Count')\n",
    "plt.savefig('histogram_cloud_all_data_v1.jpg')"
   ]
  },
  {
   "cell_type": "markdown",
   "metadata": {
    "collapsed": true
   },
   "source": [
    "## Analysis: \n",
    "### One key quality issue to note is that in the previously run data quality report the histograms for the derived features indicated that we had data quality issues with those features (that outliers were present). This should not be the case with derived features. After some refactoring, and debugging, we have resolved these issues, as can be seen from the above where the exponential distribution for the two derived features Trip_Time and Distance are more what one would expect for such a feature and do not indicate any data quality issues. "
   ]
  },
  {
   "cell_type": "markdown",
   "metadata": {},
   "source": [
    "## Plot Box Plots for all Continuous Features"
   ]
  },
  {
   "cell_type": "code",
   "execution_count": 37,
   "metadata": {
    "collapsed": false
   },
   "outputs": [
    {
     "data": {
      "image/png": "[encoded data removed]",
      "text/plain": [
       "<matplotlib.figure.Figure at 0x1e543bf4940>"
      ]
     },
     "metadata": {},
     "output_type": "display_data"
    },
    {
     "data": {
      "image/png": "[encoded data removed]",
      "text/plain": [
       "<matplotlib.figure.Figure at 0x1e5e4ccbcf8>"
      ]
     },
     "metadata": {},
     "output_type": "display_data"
    },
    {
     "data": {
      "image/png": "[encoded data removed]",
      "text/plain": [
       "<matplotlib.figure.Figure at 0x1e5e4f75dd8>"
      ]
     },
     "metadata": {},
     "output_type": "display_data"
    },
    {
     "data": {
      "image/png": "[encoded data removed]",
      "text/plain": [
       "<matplotlib.figure.Figure at 0x1e5e505eef0>"
      ]
     },
     "metadata": {},
     "output_type": "display_data"
    },
    {
     "data": {
      "image/png": "[encoded data removed]",
      "text/plain": [
       "<matplotlib.figure.Figure at 0x1e5ea7c6e80>"
      ]
     },
     "metadata": {},
     "output_type": "display_data"
    },
    {
     "data": {
      "image/png": "[encoded data removed]",
      "text/plain": [
       "<matplotlib.figure.Figure at 0x1e59ed7aef0>"
      ]
     },
     "metadata": {},
     "output_type": "display_data"
    }
   ],
   "source": [
    "%matplotlib inline\n",
    "\n",
    "for col in continuous_columns:\n",
    "    f = df[col].plot(kind='box', figsize=(5, 5))\n",
    "    plt.savefig(col + '_boxplot_all_data_v1.jpg')\n",
    "    plt.show()"
   ]
  },
  {
   "cell_type": "markdown",
   "metadata": {},
   "source": [
    "## Plot Bar Plots for all the Categorical Features"
   ]
  },
  {
   "cell_type": "code",
   "execution_count": 52,
   "metadata": {
    "collapsed": false
   },
   "outputs": [
    {
     "data": {
      "image/png": "[encoded data removed]",
      "text/plain": [
       "<matplotlib.figure.Figure at 0x1e542bb97f0>"
      ]
     },
     "metadata": {},
     "output_type": "display_data"
    },
    {
     "data": {
      "image/png": "[encoded data removed]",
      "text/plain": [
       "<matplotlib.figure.Figure at 0x1e61d3f66a0>"
      ]
     },
     "metadata": {},
     "output_type": "display_data"
    },
    {
     "data": {
      "image/png": "[encoded data removed]",
      "text/plain": [
       "<matplotlib.figure.Figure at 0x1e5eb8c1a90>"
      ]
     },
     "metadata": {},
     "output_type": "display_data"
    },
    {
     "data": {
      "image/png": "[encoded data removed]",
      "text/plain": [
       "<matplotlib.figure.Figure at 0x1e49fb39518>"
      ]
     },
     "metadata": {},
     "output_type": "display_data"
    }
   ],
   "source": [
    "%matplotlib inline\n",
    "# due to the high cardinality of stop_id, journey_pattern_id and vehicle_journey_id it is of no benefit to plot them here\n",
    "categorical_features_plotting = ['day_of_week', 'time_bin', 'midweek', 'HourOfDay']\n",
    "categorical_columns_plotting = df[categorical_features_plotting].columns\n",
    "\n",
    "for column in categorical_columns_plotting:\n",
    "    f = df[column].value_counts().plot(kind='bar', title=column, figsize=(5, 5))\n",
    "    plt.savefig(column + '_barplot_all_data_v1.jpg')\n",
    "    plt.show()"
   ]
  },
  {
   "cell_type": "markdown",
   "metadata": {},
   "source": [
    "## Data Quality Issues"
   ]
  },
  {
   "cell_type": "markdown",
   "metadata": {},
   "source": [
    "### Continuous Features"
   ]
  },
  {
   "cell_type": "markdown",
   "metadata": {},
   "source": [
    "## Issue 1: \n",
    "### Trip Time: Max Value is 23hours - must be an error (invalid data because this is a derived feature) - Can confirm this has been fixed through further data cleaning. \n",
    "### Distance Terminal: Max Value is 318km - must be an error (invalid data because this is a derived feature) - Can confirm this has been fixed through further data cleaning. "
   ]
  },
  {
   "cell_type": "markdown",
   "metadata": {},
   "source": [
    "## Data Understanding"
   ]
  },
  {
   "cell_type": "markdown",
   "metadata": {},
   "source": [
    "### Print the correlations between the continuous features"
   ]
  },
  {
   "cell_type": "code",
   "execution_count": 39,
   "metadata": {
    "collapsed": false
   },
   "outputs": [
    {
     "name": "stdout",
     "output_type": "stream",
     "text": [
      "           Distance  Trip_Time     cloud      rain      temp      wind\n",
      "Distance   1.000000   0.893826 -0.000260 -0.001314  0.001885  0.004749\n",
      "Trip_Time  0.893826   1.000000 -0.004441  0.004250  0.019728  0.009363\n",
      "cloud     -0.000260  -0.004441  1.000000  0.303475  0.324795  0.160337\n",
      "rain      -0.001314   0.004250  0.303475  1.000000 -0.079119  0.239661\n",
      "temp       0.001885   0.019728  0.324795 -0.079119  1.000000  0.395017\n",
      "wind       0.004749   0.009363  0.160337  0.239661  0.395017  1.000000\n"
     ]
    }
   ],
   "source": [
    "sns.set(style='white')\n",
    "corr = df[continuous_features].corr()\n",
    "print(corr)"
   ]
  },
  {
   "cell_type": "code",
   "execution_count": 40,
   "metadata": {
    "collapsed": false
   },
   "outputs": [
    {
     "data": {
      "image/png": "[encoded data removed]",
      "text/plain": [
       "<matplotlib.figure.Figure at 0x1e53ff72208>"
      ]
     },
     "metadata": {},
     "output_type": "display_data"
    }
   ],
   "source": [
    "# a nicer representation of correlations \n",
    "mask = np.zeros_like(corr, dtype=np.bool)\n",
    "mask[np.triu_indices_from(mask)] = True\n",
    "\n",
    "# Set up the matplotlib figure\n",
    "f, ax = plt.subplots(figsize=(11, 9))\n",
    "\n",
    "# Generate a custom colour map - blue and red\n",
    "cmap = sns.diverging_palette(220, 10, as_cmap=True)\n",
    "\n",
    "# Draw the heatmap with the mask and correct aspect ratio\n",
    "sns.heatmap(corr, annot=True, mask=mask, cmap=cmap, vmax=1, vmin=-1,\n",
    "           square=True, xticklabels=True, yticklabels=True,\n",
    "           linewidths=.5, cbar_kws={\"shrink\": .5}, ax=ax)\n",
    "plt.yticks(rotation = 0)\n",
    "plt.xticks(rotation = 45)\n",
    "plt.savefig('feature_correlations_all_data_v1.png')"
   ]
  },
  {
   "cell_type": "markdown",
   "metadata": {},
   "source": [
    "## Analysis: \n",
    "### We can see from the above that the descriptive feature with the highest correlation to trip_time is distance. After this hour of the day is the next most relevant although to a much lesser extent here.  "
   ]
  },
  {
   "cell_type": "markdown",
   "metadata": {},
   "source": [
    "## Plot the scatter plots of each pair of continuous descriptive features and target feature"
   ]
  },
  {
   "cell_type": "code",
   "execution_count": 41,
   "metadata": {
    "collapsed": false
   },
   "outputs": [
    {
     "data": {
      "image/png": "[encoded data removed]",
      "text/plain": [
       "<matplotlib.figure.Figure at 0x1e53f2bb128>"
      ]
     },
     "metadata": {},
     "output_type": "display_data"
    }
   ],
   "source": [
    "% matplotlib inline\n",
    "df.plot(kind='scatter', x='Trip_Time', y='Distance',  figsize=(5, 5))\n",
    "plt.savefig('trip_time_distance_relationship_all_data_v1.png')"
   ]
  },
  {
   "cell_type": "code",
   "execution_count": 43,
   "metadata": {
    "collapsed": false
   },
   "outputs": [
    {
     "data": {
      "image/png": "[encoded data removed]",
      "text/plain": [
       "<matplotlib.figure.Figure at 0x1e5d9ea5e80>"
      ]
     },
     "metadata": {},
     "output_type": "display_data"
    }
   ],
   "source": [
    "% matplotlib inline \n",
    "df.plot(kind='scatter', x='Trip_Time', y='rain', figsize=(5, 5))\n",
    "plt.savefig(\"trip_time_rain_relationship_all_data_v1.png\")"
   ]
  },
  {
   "cell_type": "code",
   "execution_count": 44,
   "metadata": {
    "collapsed": false
   },
   "outputs": [
    {
     "data": {
      "image/png": "[encoded data removed]",
      "text/plain": [
       "<matplotlib.figure.Figure at 0x1e65eb27198>"
      ]
     },
     "metadata": {},
     "output_type": "display_data"
    }
   ],
   "source": [
    "% matplotlib inline\n",
    "df.plot(kind='scatter', x='Trip_Time', y='cloud', figsize=(5, 5))\n",
    "plt.savefig(\"trip_time_cloud_relationship_all_data_v1.png\")"
   ]
  },
  {
   "cell_type": "code",
   "execution_count": 45,
   "metadata": {
    "collapsed": false
   },
   "outputs": [
    {
     "data": {
      "image/png": "[encoded data removed]",
      "text/plain": [
       "<matplotlib.figure.Figure at 0x1e543b73588>"
      ]
     },
     "metadata": {},
     "output_type": "display_data"
    }
   ],
   "source": [
    "% matplotlib inline\n",
    "df.plot(kind='scatter', x='Trip_Time', y='temp', figsize=(5, 5))\n",
    "plt.savefig(\"trip_time_temp_relationship_all_data_v1.png\")"
   ]
  },
  {
   "cell_type": "code",
   "execution_count": 46,
   "metadata": {
    "collapsed": false
   },
   "outputs": [
    {
     "data": {
      "image/png": "[encoded data removed]",
      "text/plain": [
       "<matplotlib.figure.Figure at 0x1e65eb207b8>"
      ]
     },
     "metadata": {},
     "output_type": "display_data"
    }
   ],
   "source": [
    "% matplotlib inline\n",
    "df.plot(kind='scatter', x='Trip_Time', y='wind', figsize=(5, 5))\n",
    "plt.savefig(\"trip_time_wind_relationship_all_data_v1.png\")"
   ]
  },
  {
   "cell_type": "markdown",
   "metadata": {},
   "source": [
    "## Analysis: \n",
    "### From the above scatter plots we can see:\n",
    "### 1. That we still have some outliers present - whether these are valid or not should be determined. \n",
    "### 2. That we still have some issues with time/distance because we have values of 0 for time where distance is greater than 0. This doesn't make sense and should be investigated and rectified. One possible cause is that the GPS data is only accurate to within 30 meters. "
   ]
  },
  {
   "cell_type": "markdown",
   "metadata": {},
   "source": [
    "## For each categorical feature, plot the pairwise interaction with the target feature (barplots or stacked barplots)"
   ]
  },
  {
   "cell_type": "code",
   "execution_count": 50,
   "metadata": {
    "collapsed": false
   },
   "outputs": [
    {
     "name": "stdout",
     "output_type": "stream",
     "text": [
      "['Journey_Pattern_ID', 'HourOfDay', 'day_of_week', 'midweek', 'time_bin']\n"
     ]
    }
   ],
   "source": [
    "print(categorical_features)"
   ]
  },
  {
   "cell_type": "code",
   "execution_count": 53,
   "metadata": {
    "collapsed": false
   },
   "outputs": [
    {
     "data": {
      "image/png": "[encoded data removed]",
      "text/plain": [
       "<matplotlib.figure.Figure at 0x1e54375a198>"
      ]
     },
     "metadata": {},
     "output_type": "display_data"
    }
   ],
   "source": [
    "sns.barplot(x=\"day_of_week\", y=\"Trip_Time\", data=df)\n",
    "plt.savefig(\"trip_time_day_relationship_all_data_v1.png\")"
   ]
  },
  {
   "cell_type": "code",
   "execution_count": 58,
   "metadata": {
    "collapsed": false
   },
   "outputs": [
    {
     "data": {
      "image/png": "[encoded data removed]",
      "text/plain": [
       "<matplotlib.figure.Figure at 0x1e53fb3aa20>"
      ]
     },
     "metadata": {},
     "output_type": "display_data"
    }
   ],
   "source": [
    "sns.barplot(x=\"HourOfDay\", y=\"Trip_Time\", data=df)\n",
    "plt.savefig(\"hour_trip_time_relationship_all_data_v1.png\")"
   ]
  },
  {
   "cell_type": "code",
   "execution_count": 55,
   "metadata": {
    "collapsed": false
   },
   "outputs": [
    {
     "data": {
      "image/png": "[encoded data removed]",
      "text/plain": [
       "<matplotlib.figure.Figure at 0x1e61d442d68>"
      ]
     },
     "metadata": {},
     "output_type": "display_data"
    }
   ],
   "source": [
    "sns.barplot(x=\"time_bin\", y=\"Trip_Time\", data=df)\n",
    "plt.savefig(\"trip_time_time_bin_relationship_all_data_v1.png\")"
   ]
  },
  {
   "cell_type": "code",
   "execution_count": 56,
   "metadata": {
    "collapsed": false
   },
   "outputs": [
    {
     "data": {
      "image/png": "[encoded data removed]",
      "text/plain": [
       "<matplotlib.figure.Figure at 0x1e61e43f7b8>"
      ]
     },
     "metadata": {},
     "output_type": "display_data"
    }
   ],
   "source": [
    "sns.barplot(x=\"midweek\", y=\"Trip_Time\", data=df)\n",
    "plt.savefig(\"trip_time_midweek_relationship_all_data_v1.png\")"
   ]
  },
  {
   "cell_type": "markdown",
   "metadata": {},
   "source": [
    "## Analysis: \n",
    "### 1. What the above bar plots tell us is that Monday to Friday have higher mean trip_times than Saturday and Sunday - something that we would expect to see and is a good indication that the trend of our derived features is accurate. \n",
    "### 2. We can also see that the mean trip_time is highest in the time_bins of early am and pm - this again is what we would expect as these time_bins contain the two rush hour periods in the day. "
   ]
  },
  {
   "cell_type": "code",
   "execution_count": null,
   "metadata": {
    "collapsed": true
   },
   "outputs": [],
   "source": []
  }
 ],
 "metadata": {
  "kernelspec": {
   "display_name": "Python 3",
   "language": "python",
   "name": "python3"
  },
  "language_info": {
   "codemirror_mode": {
    "name": "ipython",
    "version": 3
   },
   "file_extension": ".py",
   "mimetype": "text/x-python",
   "name": "python",
   "nbconvert_exporter": "python",
   "pygments_lexer": "ipython3",
   "version": "3.6.0"
  }
 },
 "nbformat": 4,
 "nbformat_minor": 2
}
