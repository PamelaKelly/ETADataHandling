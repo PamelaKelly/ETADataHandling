{
 "cells": [
  {
   "cell_type": "markdown",
   "metadata": {},
   "source": [
    "# Data Quality Report One Week of Data Iteration 2"
   ]
  },
  {
   "cell_type": "code",
   "execution_count": 1,
   "metadata": {
    "collapsed": false
   },
   "outputs": [],
   "source": [
    "import pandas as pd\n",
    "import numpy as np\n",
    "import matplotlib\n",
    "import matplotlib.pyplot as plt\n",
    "import matplotlib.patches as mpatches\n",
    "from matplotlib.backends.backend_pdf import PdfPages\n",
    "import seaborn as sns\n",
    "matplotlib.style.use('ggplot')\n",
    "%matplotlib inline"
   ]
  },
  {
   "cell_type": "code",
   "execution_count": 2,
   "metadata": {
    "collapsed": false
   },
   "outputs": [
    {
     "name": "stderr",
     "output_type": "stream",
     "text": [
      "C:\\Users\\pamel\\Anaconda3\\lib\\site-packages\\IPython\\core\\interactiveshell.py:2717: DtypeWarning: Columns (1) have mixed types. Specify dtype option on import or set low_memory=False.\n",
      "  interactivity=interactivity, compiler=compiler, result=result)\n"
     ]
    }
   ],
   "source": [
    "df = pd.read_csv('../datasets/output_files/dublin_2012_week1_distance.csv')"
   ]
  },
  {
   "cell_type": "code",
   "execution_count": 3,
   "metadata": {
    "collapsed": false
   },
   "outputs": [
    {
     "data": {
      "text/html": [
       "<div>\n",
       "<table border=\"1\" class=\"dataframe\">\n",
       "  <thead>\n",
       "    <tr style=\"text-align: right;\">\n",
       "      <th></th>\n",
       "      <th>Timestamp</th>\n",
       "      <th>Journey_Pattern_ID</th>\n",
       "      <th>Date</th>\n",
       "      <th>Vehicle_Journey_ID</th>\n",
       "      <th>Lon_WGS84</th>\n",
       "      <th>Lat_WGS84</th>\n",
       "      <th>Stop_ID</th>\n",
       "      <th>At_Stop</th>\n",
       "      <th>First_Stop</th>\n",
       "      <th>Last_Stop</th>\n",
       "      <th>...</th>\n",
       "      <th>Trip_Time</th>\n",
       "      <th>datetime</th>\n",
       "      <th>HourOfDay</th>\n",
       "      <th>day_of_week</th>\n",
       "      <th>midweek</th>\n",
       "      <th>time_bin</th>\n",
       "      <th>cloud</th>\n",
       "      <th>rain</th>\n",
       "      <th>temp</th>\n",
       "      <th>wind</th>\n",
       "    </tr>\n",
       "  </thead>\n",
       "  <tbody>\n",
       "    <tr>\n",
       "      <th>0</th>\n",
       "      <td>1352204113</td>\n",
       "      <td>10001</td>\n",
       "      <td>2012-11-06</td>\n",
       "      <td>5427</td>\n",
       "      <td>-6.262000</td>\n",
       "      <td>53.391182</td>\n",
       "      <td>226</td>\n",
       "      <td>1</td>\n",
       "      <td>226</td>\n",
       "      <td>380</td>\n",
       "      <td>...</td>\n",
       "      <td>0</td>\n",
       "      <td>2012-11-06 12:15:13</td>\n",
       "      <td>12</td>\n",
       "      <td>Tuesday</td>\n",
       "      <td>0</td>\n",
       "      <td>am</td>\n",
       "      <td>6.88</td>\n",
       "      <td>0.0</td>\n",
       "      <td>7.55</td>\n",
       "      <td>16.25</td>\n",
       "    </tr>\n",
       "    <tr>\n",
       "      <th>1</th>\n",
       "      <td>1352204473</td>\n",
       "      <td>10001</td>\n",
       "      <td>2012-11-06</td>\n",
       "      <td>5427</td>\n",
       "      <td>-6.262341</td>\n",
       "      <td>53.391186</td>\n",
       "      <td>226</td>\n",
       "      <td>0</td>\n",
       "      <td>226</td>\n",
       "      <td>380</td>\n",
       "      <td>...</td>\n",
       "      <td>360</td>\n",
       "      <td>2012-11-06 12:21:13</td>\n",
       "      <td>12</td>\n",
       "      <td>Tuesday</td>\n",
       "      <td>0</td>\n",
       "      <td>am</td>\n",
       "      <td>6.88</td>\n",
       "      <td>0.0</td>\n",
       "      <td>7.55</td>\n",
       "      <td>16.25</td>\n",
       "    </tr>\n",
       "    <tr>\n",
       "      <th>2</th>\n",
       "      <td>1352204510</td>\n",
       "      <td>10001</td>\n",
       "      <td>2012-11-06</td>\n",
       "      <td>5427</td>\n",
       "      <td>-6.259799</td>\n",
       "      <td>53.391804</td>\n",
       "      <td>228</td>\n",
       "      <td>1</td>\n",
       "      <td>226</td>\n",
       "      <td>380</td>\n",
       "      <td>...</td>\n",
       "      <td>397</td>\n",
       "      <td>2012-11-06 12:21:50</td>\n",
       "      <td>12</td>\n",
       "      <td>Tuesday</td>\n",
       "      <td>0</td>\n",
       "      <td>am</td>\n",
       "      <td>6.88</td>\n",
       "      <td>0.0</td>\n",
       "      <td>7.55</td>\n",
       "      <td>16.25</td>\n",
       "    </tr>\n",
       "    <tr>\n",
       "      <th>3</th>\n",
       "      <td>1352204531</td>\n",
       "      <td>10001</td>\n",
       "      <td>2012-11-06</td>\n",
       "      <td>5427</td>\n",
       "      <td>-6.259056</td>\n",
       "      <td>53.391758</td>\n",
       "      <td>228</td>\n",
       "      <td>0</td>\n",
       "      <td>226</td>\n",
       "      <td>380</td>\n",
       "      <td>...</td>\n",
       "      <td>418</td>\n",
       "      <td>2012-11-06 12:22:11</td>\n",
       "      <td>12</td>\n",
       "      <td>Tuesday</td>\n",
       "      <td>0</td>\n",
       "      <td>am</td>\n",
       "      <td>6.88</td>\n",
       "      <td>0.0</td>\n",
       "      <td>7.55</td>\n",
       "      <td>16.25</td>\n",
       "    </tr>\n",
       "    <tr>\n",
       "      <th>4</th>\n",
       "      <td>1352204553</td>\n",
       "      <td>10001</td>\n",
       "      <td>2012-11-06</td>\n",
       "      <td>5427</td>\n",
       "      <td>-6.256530</td>\n",
       "      <td>53.391335</td>\n",
       "      <td>229</td>\n",
       "      <td>1</td>\n",
       "      <td>226</td>\n",
       "      <td>380</td>\n",
       "      <td>...</td>\n",
       "      <td>440</td>\n",
       "      <td>2012-11-06 12:22:33</td>\n",
       "      <td>12</td>\n",
       "      <td>Tuesday</td>\n",
       "      <td>0</td>\n",
       "      <td>am</td>\n",
       "      <td>6.88</td>\n",
       "      <td>0.0</td>\n",
       "      <td>7.55</td>\n",
       "      <td>16.25</td>\n",
       "    </tr>\n",
       "  </tbody>\n",
       "</table>\n",
       "<p>5 rows × 21 columns</p>\n",
       "</div>"
      ],
      "text/plain": [
       "    Timestamp Journey_Pattern_ID        Date  Vehicle_Journey_ID  Lon_WGS84  \\\n",
       "0  1352204113              10001  2012-11-06                5427  -6.262000   \n",
       "1  1352204473              10001  2012-11-06                5427  -6.262341   \n",
       "2  1352204510              10001  2012-11-06                5427  -6.259799   \n",
       "3  1352204531              10001  2012-11-06                5427  -6.259056   \n",
       "4  1352204553              10001  2012-11-06                5427  -6.256530   \n",
       "\n",
       "   Lat_WGS84  Stop_ID  At_Stop  First_Stop  Last_Stop  ...    Trip_Time  \\\n",
       "0  53.391182      226        1         226        380  ...            0   \n",
       "1  53.391186      226        0         226        380  ...          360   \n",
       "2  53.391804      228        1         226        380  ...          397   \n",
       "3  53.391758      228        0         226        380  ...          418   \n",
       "4  53.391335      229        1         226        380  ...          440   \n",
       "\n",
       "              datetime HourOfDay  day_of_week midweek  time_bin cloud  rain  \\\n",
       "0  2012-11-06 12:15:13        12      Tuesday       0        am  6.88   0.0   \n",
       "1  2012-11-06 12:21:13        12      Tuesday       0        am  6.88   0.0   \n",
       "2  2012-11-06 12:21:50        12      Tuesday       0        am  6.88   0.0   \n",
       "3  2012-11-06 12:22:11        12      Tuesday       0        am  6.88   0.0   \n",
       "4  2012-11-06 12:22:33        12      Tuesday       0        am  6.88   0.0   \n",
       "\n",
       "   temp   wind  \n",
       "0  7.55  16.25  \n",
       "1  7.55  16.25  \n",
       "2  7.55  16.25  \n",
       "3  7.55  16.25  \n",
       "4  7.55  16.25  \n",
       "\n",
       "[5 rows x 21 columns]"
      ]
     },
     "execution_count": 3,
     "metadata": {},
     "output_type": "execute_result"
    }
   ],
   "source": [
    "df.head()"
   ]
  },
  {
   "cell_type": "code",
   "execution_count": 4,
   "metadata": {
    "collapsed": false
   },
   "outputs": [
    {
     "data": {
      "text/plain": [
       "(2209402, 21)"
      ]
     },
     "execution_count": 4,
     "metadata": {},
     "output_type": "execute_result"
    }
   ],
   "source": [
    "df.shape"
   ]
  },
  {
   "cell_type": "code",
   "execution_count": 5,
   "metadata": {
    "collapsed": false
   },
   "outputs": [
    {
     "data": {
      "text/html": [
       "<div>\n",
       "<table border=\"1\" class=\"dataframe\">\n",
       "  <thead>\n",
       "    <tr style=\"text-align: right;\">\n",
       "      <th></th>\n",
       "      <th>Timestamp</th>\n",
       "      <th>Journey_Pattern_ID</th>\n",
       "      <th>Date</th>\n",
       "      <th>Vehicle_Journey_ID</th>\n",
       "      <th>Lon_WGS84</th>\n",
       "      <th>Lat_WGS84</th>\n",
       "      <th>Stop_ID</th>\n",
       "      <th>At_Stop</th>\n",
       "      <th>First_Stop</th>\n",
       "      <th>Last_Stop</th>\n",
       "      <th>...</th>\n",
       "      <th>Trip_Time</th>\n",
       "      <th>datetime</th>\n",
       "      <th>HourOfDay</th>\n",
       "      <th>day_of_week</th>\n",
       "      <th>midweek</th>\n",
       "      <th>time_bin</th>\n",
       "      <th>cloud</th>\n",
       "      <th>rain</th>\n",
       "      <th>temp</th>\n",
       "      <th>wind</th>\n",
       "    </tr>\n",
       "  </thead>\n",
       "  <tbody>\n",
       "    <tr>\n",
       "      <th>2209399</th>\n",
       "      <td>1352536987</td>\n",
       "      <td>PP071001</td>\n",
       "      <td>2012-11-10</td>\n",
       "      <td>12869</td>\n",
       "      <td>-6.260572</td>\n",
       "      <td>53.350132</td>\n",
       "      <td>279</td>\n",
       "      <td>1</td>\n",
       "      <td>3222</td>\n",
       "      <td>4962</td>\n",
       "      <td>...</td>\n",
       "      <td>2640</td>\n",
       "      <td>2012-11-10 08:43:07</td>\n",
       "      <td>8</td>\n",
       "      <td>Saturday</td>\n",
       "      <td>1</td>\n",
       "      <td>am</td>\n",
       "      <td>3.75</td>\n",
       "      <td>0.0</td>\n",
       "      <td>4.96</td>\n",
       "      <td>10.25</td>\n",
       "    </tr>\n",
       "    <tr>\n",
       "      <th>2209400</th>\n",
       "      <td>1352537007</td>\n",
       "      <td>PP071001</td>\n",
       "      <td>2012-11-10</td>\n",
       "      <td>12869</td>\n",
       "      <td>-6.260678</td>\n",
       "      <td>53.350342</td>\n",
       "      <td>279</td>\n",
       "      <td>0</td>\n",
       "      <td>3222</td>\n",
       "      <td>4962</td>\n",
       "      <td>...</td>\n",
       "      <td>2660</td>\n",
       "      <td>2012-11-10 08:43:27</td>\n",
       "      <td>8</td>\n",
       "      <td>Saturday</td>\n",
       "      <td>1</td>\n",
       "      <td>am</td>\n",
       "      <td>3.75</td>\n",
       "      <td>0.0</td>\n",
       "      <td>4.96</td>\n",
       "      <td>10.25</td>\n",
       "    </tr>\n",
       "    <tr>\n",
       "      <th>2209401</th>\n",
       "      <td>1352537333</td>\n",
       "      <td>PP071001</td>\n",
       "      <td>2012-11-10</td>\n",
       "      <td>12869</td>\n",
       "      <td>-6.256516</td>\n",
       "      <td>53.356998</td>\n",
       "      <td>4962</td>\n",
       "      <td>1</td>\n",
       "      <td>3222</td>\n",
       "      <td>4962</td>\n",
       "      <td>...</td>\n",
       "      <td>2986</td>\n",
       "      <td>2012-11-10 08:48:53</td>\n",
       "      <td>8</td>\n",
       "      <td>Saturday</td>\n",
       "      <td>1</td>\n",
       "      <td>am</td>\n",
       "      <td>3.75</td>\n",
       "      <td>0.0</td>\n",
       "      <td>4.96</td>\n",
       "      <td>10.25</td>\n",
       "    </tr>\n",
       "  </tbody>\n",
       "</table>\n",
       "<p>3 rows × 21 columns</p>\n",
       "</div>"
      ],
      "text/plain": [
       "          Timestamp Journey_Pattern_ID        Date  Vehicle_Journey_ID  \\\n",
       "2209399  1352536987           PP071001  2012-11-10               12869   \n",
       "2209400  1352537007           PP071001  2012-11-10               12869   \n",
       "2209401  1352537333           PP071001  2012-11-10               12869   \n",
       "\n",
       "         Lon_WGS84  Lat_WGS84  Stop_ID  At_Stop  First_Stop  Last_Stop  ...    \\\n",
       "2209399  -6.260572  53.350132      279        1        3222       4962  ...     \n",
       "2209400  -6.260678  53.350342      279        0        3222       4962  ...     \n",
       "2209401  -6.256516  53.356998     4962        1        3222       4962  ...     \n",
       "\n",
       "         Trip_Time             datetime HourOfDay  day_of_week midweek  \\\n",
       "2209399       2640  2012-11-10 08:43:07         8     Saturday       1   \n",
       "2209400       2660  2012-11-10 08:43:27         8     Saturday       1   \n",
       "2209401       2986  2012-11-10 08:48:53         8     Saturday       1   \n",
       "\n",
       "         time_bin cloud  rain  temp   wind  \n",
       "2209399        am  3.75   0.0  4.96  10.25  \n",
       "2209400        am  3.75   0.0  4.96  10.25  \n",
       "2209401        am  3.75   0.0  4.96  10.25  \n",
       "\n",
       "[3 rows x 21 columns]"
      ]
     },
     "execution_count": 5,
     "metadata": {},
     "output_type": "execute_result"
    }
   ],
   "source": [
    "df.tail(3)"
   ]
  },
  {
   "cell_type": "code",
   "execution_count": 6,
   "metadata": {
    "collapsed": false
   },
   "outputs": [
    {
     "data": {
      "text/plain": [
       "Timestamp               int64\n",
       "Journey_Pattern_ID     object\n",
       "Date                   object\n",
       "Vehicle_Journey_ID      int64\n",
       "Lon_WGS84             float64\n",
       "Lat_WGS84             float64\n",
       "Stop_ID                 int64\n",
       "At_Stop                 int64\n",
       "First_Stop              int64\n",
       "Last_Stop               int64\n",
       "Distance                int64\n",
       "Trip_Time               int64\n",
       "datetime               object\n",
       "HourOfDay               int64\n",
       "day_of_week            object\n",
       "midweek                 int64\n",
       "time_bin               object\n",
       "cloud                 float64\n",
       "rain                  float64\n",
       "temp                  float64\n",
       "wind                  float64\n",
       "dtype: object"
      ]
     },
     "execution_count": 6,
     "metadata": {},
     "output_type": "execute_result"
    }
   ],
   "source": [
    "df.dtypes"
   ]
  },
  {
   "cell_type": "code",
   "execution_count": 7,
   "metadata": {
    "collapsed": true
   },
   "outputs": [],
   "source": [
    "continuous_features = ['Distance', 'Trip_Time', 'cloud', 'rain', 'temp', 'wind']\n",
    "categorical_features = ['Journey_Pattern_ID', 'Vehicle_Journey_ID','Stop_ID','At_Stop','day_of_week', 'midweek', 'time_bin', 'HourOfDay']\n",
    "\n"
   ]
  },
  {
   "cell_type": "code",
   "execution_count": 8,
   "metadata": {
    "collapsed": false
   },
   "outputs": [],
   "source": [
    "for item in categorical_features:\n",
    "    df[item] = df[item].astype('category')"
   ]
  },
  {
   "cell_type": "code",
   "execution_count": 9,
   "metadata": {
    "collapsed": false
   },
   "outputs": [
    {
     "data": {
      "text/plain": [
       "Timestamp                int64\n",
       "Journey_Pattern_ID    category\n",
       "Date                    object\n",
       "Vehicle_Journey_ID    category\n",
       "Lon_WGS84              float64\n",
       "Lat_WGS84              float64\n",
       "Stop_ID               category\n",
       "At_Stop               category\n",
       "First_Stop               int64\n",
       "Last_Stop                int64\n",
       "Distance                 int64\n",
       "Trip_Time                int64\n",
       "datetime                object\n",
       "HourOfDay             category\n",
       "day_of_week           category\n",
       "midweek               category\n",
       "time_bin              category\n",
       "cloud                  float64\n",
       "rain                   float64\n",
       "temp                   float64\n",
       "wind                   float64\n",
       "dtype: object"
      ]
     },
     "execution_count": 9,
     "metadata": {},
     "output_type": "execute_result"
    }
   ],
   "source": [
    "df.dtypes"
   ]
  },
  {
   "cell_type": "markdown",
   "metadata": {},
   "source": [
    "## Prepare a table with descriptive statistics for all continuous features"
   ]
  },
  {
   "cell_type": "code",
   "execution_count": 10,
   "metadata": {
    "collapsed": false
   },
   "outputs": [
    {
     "data": {
      "text/html": [
       "<div>\n",
       "<table border=\"1\" class=\"dataframe\">\n",
       "  <thead>\n",
       "    <tr style=\"text-align: right;\">\n",
       "      <th></th>\n",
       "      <th>count</th>\n",
       "      <th>mean</th>\n",
       "      <th>std</th>\n",
       "      <th>min</th>\n",
       "      <th>25%</th>\n",
       "      <th>50%</th>\n",
       "      <th>75%</th>\n",
       "      <th>max</th>\n",
       "    </tr>\n",
       "  </thead>\n",
       "  <tbody>\n",
       "    <tr>\n",
       "      <th>Distance</th>\n",
       "      <td>2209402.0</td>\n",
       "      <td>10022.880178</td>\n",
       "      <td>6712.861763</td>\n",
       "      <td>0.00</td>\n",
       "      <td>4500.00</td>\n",
       "      <td>9042.00</td>\n",
       "      <td>14832.00</td>\n",
       "      <td>35994.00</td>\n",
       "    </tr>\n",
       "    <tr>\n",
       "      <th>Trip_Time</th>\n",
       "      <td>2209402.0</td>\n",
       "      <td>2044.084408</td>\n",
       "      <td>1356.308465</td>\n",
       "      <td>0.00</td>\n",
       "      <td>959.00</td>\n",
       "      <td>1813.00</td>\n",
       "      <td>2927.00</td>\n",
       "      <td>13182.00</td>\n",
       "    </tr>\n",
       "    <tr>\n",
       "      <th>cloud</th>\n",
       "      <td>2209402.0</td>\n",
       "      <td>6.003730</td>\n",
       "      <td>1.672107</td>\n",
       "      <td>1.00</td>\n",
       "      <td>6.12</td>\n",
       "      <td>6.75</td>\n",
       "      <td>7.00</td>\n",
       "      <td>8.00</td>\n",
       "    </tr>\n",
       "    <tr>\n",
       "      <th>rain</th>\n",
       "      <td>2209402.0</td>\n",
       "      <td>0.071417</td>\n",
       "      <td>0.185658</td>\n",
       "      <td>0.00</td>\n",
       "      <td>0.00</td>\n",
       "      <td>0.00</td>\n",
       "      <td>0.00</td>\n",
       "      <td>0.68</td>\n",
       "    </tr>\n",
       "    <tr>\n",
       "      <th>temp</th>\n",
       "      <td>2209402.0</td>\n",
       "      <td>8.626497</td>\n",
       "      <td>2.227039</td>\n",
       "      <td>1.92</td>\n",
       "      <td>7.61</td>\n",
       "      <td>8.57</td>\n",
       "      <td>9.36</td>\n",
       "      <td>13.06</td>\n",
       "    </tr>\n",
       "    <tr>\n",
       "      <th>wind</th>\n",
       "      <td>2209402.0</td>\n",
       "      <td>12.997470</td>\n",
       "      <td>3.130284</td>\n",
       "      <td>4.67</td>\n",
       "      <td>10.50</td>\n",
       "      <td>13.12</td>\n",
       "      <td>16.25</td>\n",
       "      <td>17.62</td>\n",
       "    </tr>\n",
       "  </tbody>\n",
       "</table>\n",
       "</div>"
      ],
      "text/plain": [
       "               count          mean          std   min      25%      50%  \\\n",
       "Distance   2209402.0  10022.880178  6712.861763  0.00  4500.00  9042.00   \n",
       "Trip_Time  2209402.0   2044.084408  1356.308465  0.00   959.00  1813.00   \n",
       "cloud      2209402.0      6.003730     1.672107  1.00     6.12     6.75   \n",
       "rain       2209402.0      0.071417     0.185658  0.00     0.00     0.00   \n",
       "temp       2209402.0      8.626497     2.227039  1.92     7.61     8.57   \n",
       "wind       2209402.0     12.997470     3.130284  4.67    10.50    13.12   \n",
       "\n",
       "                75%       max  \n",
       "Distance   14832.00  35994.00  \n",
       "Trip_Time   2927.00  13182.00  \n",
       "cloud          7.00      8.00  \n",
       "rain           0.00      0.68  \n",
       "temp           9.36     13.06  \n",
       "wind          16.25     17.62  "
      ]
     },
     "execution_count": 10,
     "metadata": {},
     "output_type": "execute_result"
    },
    {
     "data": {
      "text/plain": [
       "<matplotlib.figure.Figure at 0x1d774430588>"
      ]
     },
     "metadata": {},
     "output_type": "display_data"
    }
   ],
   "source": [
    "plot = df[continuous_features].describe().T\n",
    "plt.savefig('desc_stats_continuous_features_week1_v2.png')\n",
    "plot"
   ]
  },
  {
   "cell_type": "markdown",
   "metadata": {},
   "source": [
    "## Prepare a table with descriptive statistics for all categorical features"
   ]
  },
  {
   "cell_type": "code",
   "execution_count": 11,
   "metadata": {
    "collapsed": false
   },
   "outputs": [
    {
     "data": {
      "text/html": [
       "<div>\n",
       "<table border=\"1\" class=\"dataframe\">\n",
       "  <thead>\n",
       "    <tr style=\"text-align: right;\">\n",
       "      <th></th>\n",
       "      <th>count</th>\n",
       "      <th>unique</th>\n",
       "      <th>top</th>\n",
       "      <th>freq</th>\n",
       "    </tr>\n",
       "  </thead>\n",
       "  <tbody>\n",
       "    <tr>\n",
       "      <th>Journey_Pattern_ID</th>\n",
       "      <td>2209402</td>\n",
       "      <td>465</td>\n",
       "      <td>046A0001</td>\n",
       "      <td>50750</td>\n",
       "    </tr>\n",
       "    <tr>\n",
       "      <th>Vehicle_Journey_ID</th>\n",
       "      <td>2209402</td>\n",
       "      <td>13671</td>\n",
       "      <td>4772</td>\n",
       "      <td>690</td>\n",
       "    </tr>\n",
       "    <tr>\n",
       "      <th>Stop_ID</th>\n",
       "      <td>2209402</td>\n",
       "      <td>4672</td>\n",
       "      <td>794</td>\n",
       "      <td>6586</td>\n",
       "    </tr>\n",
       "    <tr>\n",
       "      <th>At_Stop</th>\n",
       "      <td>2209402</td>\n",
       "      <td>2</td>\n",
       "      <td>0</td>\n",
       "      <td>1590573</td>\n",
       "    </tr>\n",
       "    <tr>\n",
       "      <th>day_of_week</th>\n",
       "      <td>2209402</td>\n",
       "      <td>7</td>\n",
       "      <td>Monday</td>\n",
       "      <td>369419</td>\n",
       "    </tr>\n",
       "    <tr>\n",
       "      <th>midweek</th>\n",
       "      <td>2209402</td>\n",
       "      <td>2</td>\n",
       "      <td>0</td>\n",
       "      <td>1781978</td>\n",
       "    </tr>\n",
       "    <tr>\n",
       "      <th>time_bin</th>\n",
       "      <td>2209402</td>\n",
       "      <td>4</td>\n",
       "      <td>pm</td>\n",
       "      <td>1094090</td>\n",
       "    </tr>\n",
       "    <tr>\n",
       "      <th>HourOfDay</th>\n",
       "      <td>2209402</td>\n",
       "      <td>21</td>\n",
       "      <td>17</td>\n",
       "      <td>153672</td>\n",
       "    </tr>\n",
       "  </tbody>\n",
       "</table>\n",
       "</div>"
      ],
      "text/plain": [
       "                      count unique       top     freq\n",
       "Journey_Pattern_ID  2209402    465  046A0001    50750\n",
       "Vehicle_Journey_ID  2209402  13671      4772      690\n",
       "Stop_ID             2209402   4672       794     6586\n",
       "At_Stop             2209402      2         0  1590573\n",
       "day_of_week         2209402      7    Monday   369419\n",
       "midweek             2209402      2         0  1781978\n",
       "time_bin            2209402      4        pm  1094090\n",
       "HourOfDay           2209402     21        17   153672"
      ]
     },
     "execution_count": 11,
     "metadata": {},
     "output_type": "execute_result"
    },
    {
     "data": {
      "text/plain": [
       "<matplotlib.figure.Figure at 0x1d719d01e48>"
      ]
     },
     "metadata": {},
     "output_type": "display_data"
    }
   ],
   "source": [
    "plot = df[categorical_features].describe().T\n",
    "plt.savefig('desc_stats_categorical_features_week1_v2.png')\n",
    "plot"
   ]
  },
  {
   "cell_type": "markdown",
   "metadata": {},
   "source": [
    "## Drop duplicate rows and columns, if any"
   ]
  },
  {
   "cell_type": "code",
   "execution_count": 12,
   "metadata": {
    "collapsed": false
   },
   "outputs": [
    {
     "data": {
      "text/plain": [
       "(2209402, 21)"
      ]
     },
     "execution_count": 12,
     "metadata": {},
     "output_type": "execute_result"
    }
   ],
   "source": [
    "df.drop_duplicates(keep='first')\n",
    "df.shape"
   ]
  },
  {
   "cell_type": "code",
   "execution_count": 13,
   "metadata": {
    "collapsed": false
   },
   "outputs": [
    {
     "data": {
      "text/html": [
       "<div>\n",
       "<table border=\"1\" class=\"dataframe\">\n",
       "  <thead>\n",
       "    <tr style=\"text-align: right;\">\n",
       "      <th></th>\n",
       "      <th>Timestamp</th>\n",
       "      <th>Journey_Pattern_ID</th>\n",
       "      <th>Date</th>\n",
       "      <th>Vehicle_Journey_ID</th>\n",
       "      <th>Lon_WGS84</th>\n",
       "      <th>Lat_WGS84</th>\n",
       "      <th>Stop_ID</th>\n",
       "      <th>At_Stop</th>\n",
       "      <th>First_Stop</th>\n",
       "      <th>Last_Stop</th>\n",
       "      <th>...</th>\n",
       "      <th>Trip_Time</th>\n",
       "      <th>datetime</th>\n",
       "      <th>HourOfDay</th>\n",
       "      <th>day_of_week</th>\n",
       "      <th>midweek</th>\n",
       "      <th>time_bin</th>\n",
       "      <th>cloud</th>\n",
       "      <th>rain</th>\n",
       "      <th>temp</th>\n",
       "      <th>wind</th>\n",
       "    </tr>\n",
       "  </thead>\n",
       "  <tbody>\n",
       "    <tr>\n",
       "      <th>0</th>\n",
       "      <td>1352204113</td>\n",
       "      <td>10001</td>\n",
       "      <td>2012-11-06</td>\n",
       "      <td>5427</td>\n",
       "      <td>-6.262000</td>\n",
       "      <td>53.391182</td>\n",
       "      <td>226</td>\n",
       "      <td>1</td>\n",
       "      <td>226</td>\n",
       "      <td>380</td>\n",
       "      <td>...</td>\n",
       "      <td>0</td>\n",
       "      <td>2012-11-06 12:15:13</td>\n",
       "      <td>12</td>\n",
       "      <td>Tuesday</td>\n",
       "      <td>0</td>\n",
       "      <td>am</td>\n",
       "      <td>6.88</td>\n",
       "      <td>0.0</td>\n",
       "      <td>7.55</td>\n",
       "      <td>16.25</td>\n",
       "    </tr>\n",
       "    <tr>\n",
       "      <th>1</th>\n",
       "      <td>1352204473</td>\n",
       "      <td>10001</td>\n",
       "      <td>2012-11-06</td>\n",
       "      <td>5427</td>\n",
       "      <td>-6.262341</td>\n",
       "      <td>53.391186</td>\n",
       "      <td>226</td>\n",
       "      <td>0</td>\n",
       "      <td>226</td>\n",
       "      <td>380</td>\n",
       "      <td>...</td>\n",
       "      <td>360</td>\n",
       "      <td>2012-11-06 12:21:13</td>\n",
       "      <td>12</td>\n",
       "      <td>Tuesday</td>\n",
       "      <td>0</td>\n",
       "      <td>am</td>\n",
       "      <td>6.88</td>\n",
       "      <td>0.0</td>\n",
       "      <td>7.55</td>\n",
       "      <td>16.25</td>\n",
       "    </tr>\n",
       "    <tr>\n",
       "      <th>2</th>\n",
       "      <td>1352204510</td>\n",
       "      <td>10001</td>\n",
       "      <td>2012-11-06</td>\n",
       "      <td>5427</td>\n",
       "      <td>-6.259799</td>\n",
       "      <td>53.391804</td>\n",
       "      <td>228</td>\n",
       "      <td>1</td>\n",
       "      <td>226</td>\n",
       "      <td>380</td>\n",
       "      <td>...</td>\n",
       "      <td>397</td>\n",
       "      <td>2012-11-06 12:21:50</td>\n",
       "      <td>12</td>\n",
       "      <td>Tuesday</td>\n",
       "      <td>0</td>\n",
       "      <td>am</td>\n",
       "      <td>6.88</td>\n",
       "      <td>0.0</td>\n",
       "      <td>7.55</td>\n",
       "      <td>16.25</td>\n",
       "    </tr>\n",
       "  </tbody>\n",
       "</table>\n",
       "<p>3 rows × 21 columns</p>\n",
       "</div>"
      ],
      "text/plain": [
       "    Timestamp Journey_Pattern_ID        Date Vehicle_Journey_ID  Lon_WGS84  \\\n",
       "0  1352204113              10001  2012-11-06               5427  -6.262000   \n",
       "1  1352204473              10001  2012-11-06               5427  -6.262341   \n",
       "2  1352204510              10001  2012-11-06               5427  -6.259799   \n",
       "\n",
       "   Lat_WGS84 Stop_ID At_Stop  First_Stop  Last_Stop  ...    Trip_Time  \\\n",
       "0  53.391182     226       1         226        380  ...            0   \n",
       "1  53.391186     226       0         226        380  ...          360   \n",
       "2  53.391804     228       1         226        380  ...          397   \n",
       "\n",
       "              datetime HourOfDay day_of_week midweek time_bin cloud  rain  \\\n",
       "0  2012-11-06 12:15:13        12     Tuesday       0       am  6.88   0.0   \n",
       "1  2012-11-06 12:21:13        12     Tuesday       0       am  6.88   0.0   \n",
       "2  2012-11-06 12:21:50        12     Tuesday       0       am  6.88   0.0   \n",
       "\n",
       "   temp   wind  \n",
       "0  7.55  16.25  \n",
       "1  7.55  16.25  \n",
       "2  7.55  16.25  \n",
       "\n",
       "[3 rows x 21 columns]"
      ]
     },
     "execution_count": 13,
     "metadata": {},
     "output_type": "execute_result"
    }
   ],
   "source": [
    "df.head(3)"
   ]
  },
  {
   "cell_type": "markdown",
   "metadata": {},
   "source": [
    "## Drop constance columns, if any\n",
    "### We can see from the statistical analysis table that there are no constant columns"
   ]
  },
  {
   "cell_type": "code",
   "execution_count": 14,
   "metadata": {
    "collapsed": false
   },
   "outputs": [],
   "source": [
    "# save all results to a csv\n",
    "#df.to_csv('../datasets/between_phase/week1_during_dataquality.csv')"
   ]
  },
  {
   "cell_type": "markdown",
   "metadata": {},
   "source": [
    "## Prepare descriptive stats for new df"
   ]
  },
  {
   "cell_type": "markdown",
   "metadata": {},
   "source": [
    "## For Continuous Features"
   ]
  },
  {
   "cell_type": "code",
   "execution_count": 15,
   "metadata": {
    "collapsed": false
   },
   "outputs": [
    {
     "data": {
      "text/html": [
       "<div>\n",
       "<table border=\"1\" class=\"dataframe\">\n",
       "  <thead>\n",
       "    <tr style=\"text-align: right;\">\n",
       "      <th></th>\n",
       "      <th>count</th>\n",
       "      <th>mean</th>\n",
       "      <th>std</th>\n",
       "      <th>min</th>\n",
       "      <th>25%</th>\n",
       "      <th>50%</th>\n",
       "      <th>75%</th>\n",
       "      <th>max</th>\n",
       "    </tr>\n",
       "  </thead>\n",
       "  <tbody>\n",
       "    <tr>\n",
       "      <th>Distance</th>\n",
       "      <td>2209402.0</td>\n",
       "      <td>10022.880178</td>\n",
       "      <td>6712.861763</td>\n",
       "      <td>0.00</td>\n",
       "      <td>4500.00</td>\n",
       "      <td>9042.00</td>\n",
       "      <td>14832.00</td>\n",
       "      <td>35994.00</td>\n",
       "    </tr>\n",
       "    <tr>\n",
       "      <th>Trip_Time</th>\n",
       "      <td>2209402.0</td>\n",
       "      <td>2044.084408</td>\n",
       "      <td>1356.308465</td>\n",
       "      <td>0.00</td>\n",
       "      <td>959.00</td>\n",
       "      <td>1813.00</td>\n",
       "      <td>2927.00</td>\n",
       "      <td>13182.00</td>\n",
       "    </tr>\n",
       "    <tr>\n",
       "      <th>cloud</th>\n",
       "      <td>2209402.0</td>\n",
       "      <td>6.003730</td>\n",
       "      <td>1.672107</td>\n",
       "      <td>1.00</td>\n",
       "      <td>6.12</td>\n",
       "      <td>6.75</td>\n",
       "      <td>7.00</td>\n",
       "      <td>8.00</td>\n",
       "    </tr>\n",
       "    <tr>\n",
       "      <th>rain</th>\n",
       "      <td>2209402.0</td>\n",
       "      <td>0.071417</td>\n",
       "      <td>0.185658</td>\n",
       "      <td>0.00</td>\n",
       "      <td>0.00</td>\n",
       "      <td>0.00</td>\n",
       "      <td>0.00</td>\n",
       "      <td>0.68</td>\n",
       "    </tr>\n",
       "    <tr>\n",
       "      <th>temp</th>\n",
       "      <td>2209402.0</td>\n",
       "      <td>8.626497</td>\n",
       "      <td>2.227039</td>\n",
       "      <td>1.92</td>\n",
       "      <td>7.61</td>\n",
       "      <td>8.57</td>\n",
       "      <td>9.36</td>\n",
       "      <td>13.06</td>\n",
       "    </tr>\n",
       "    <tr>\n",
       "      <th>wind</th>\n",
       "      <td>2209402.0</td>\n",
       "      <td>12.997470</td>\n",
       "      <td>3.130284</td>\n",
       "      <td>4.67</td>\n",
       "      <td>10.50</td>\n",
       "      <td>13.12</td>\n",
       "      <td>16.25</td>\n",
       "      <td>17.62</td>\n",
       "    </tr>\n",
       "  </tbody>\n",
       "</table>\n",
       "</div>"
      ],
      "text/plain": [
       "               count          mean          std   min      25%      50%  \\\n",
       "Distance   2209402.0  10022.880178  6712.861763  0.00  4500.00  9042.00   \n",
       "Trip_Time  2209402.0   2044.084408  1356.308465  0.00   959.00  1813.00   \n",
       "cloud      2209402.0      6.003730     1.672107  1.00     6.12     6.75   \n",
       "rain       2209402.0      0.071417     0.185658  0.00     0.00     0.00   \n",
       "temp       2209402.0      8.626497     2.227039  1.92     7.61     8.57   \n",
       "wind       2209402.0     12.997470     3.130284  4.67    10.50    13.12   \n",
       "\n",
       "                75%       max  \n",
       "Distance   14832.00  35994.00  \n",
       "Trip_Time   2927.00  13182.00  \n",
       "cloud          7.00      8.00  \n",
       "rain           0.00      0.68  \n",
       "temp           9.36     13.06  \n",
       "wind          16.25     17.62  "
      ]
     },
     "execution_count": 15,
     "metadata": {},
     "output_type": "execute_result"
    },
    {
     "data": {
      "text/plain": [
       "<matplotlib.figure.Figure at 0x1d719ec7b00>"
      ]
     },
     "metadata": {},
     "output_type": "display_data"
    }
   ],
   "source": [
    "plot = df[continuous_features].describe(include=\"all\").T\n",
    "plt.savefig('desc_stats_continuous_features_week1_v2_t2.png')\n",
    "plot"
   ]
  },
  {
   "cell_type": "code",
   "execution_count": 16,
   "metadata": {
    "collapsed": false
   },
   "outputs": [
    {
     "data": {
      "text/plain": [
       "Distance     0\n",
       "Trip_Time    0\n",
       "cloud        0\n",
       "rain         0\n",
       "temp         0\n",
       "wind         0\n",
       "dtype: int64"
      ]
     },
     "execution_count": 16,
     "metadata": {},
     "output_type": "execute_result"
    }
   ],
   "source": [
    "# check for missing values\n",
    "df[continuous_features].isnull().sum()"
   ]
  },
  {
   "cell_type": "code",
   "execution_count": 17,
   "metadata": {
    "collapsed": false
   },
   "outputs": [
    {
     "data": {
      "text/plain": [
       "<matplotlib.figure.Figure at 0x1d719d73048>"
      ]
     },
     "metadata": {},
     "output_type": "display_data"
    }
   ],
   "source": [
    "# check cardinality\n",
    "card_list = []\n",
    "count_list = []\n",
    "continuous_columns = df[continuous_features].columns\n",
    "for column in continuous_columns:\n",
    "    card_list.append(df[column].nunique())\n",
    "    count_list.append(df[column].count())\n",
    "    \n",
    "df_cardinality = pd.DataFrame({'Feature': continuous_features, 'Card': card_list, 'Count': count_list})\n",
    "plt.savefig('cardinality_continuous_features_week1_v2.png')"
   ]
  },
  {
   "cell_type": "code",
   "execution_count": 18,
   "metadata": {
    "collapsed": false,
    "scrolled": true
   },
   "outputs": [
    {
     "data": {
      "text/html": [
       "<div>\n",
       "<table border=\"1\" class=\"dataframe\">\n",
       "  <thead>\n",
       "    <tr style=\"text-align: right;\">\n",
       "      <th></th>\n",
       "      <th>Card</th>\n",
       "      <th>Count</th>\n",
       "      <th>Feature</th>\n",
       "    </tr>\n",
       "  </thead>\n",
       "  <tbody>\n",
       "    <tr>\n",
       "      <th>0</th>\n",
       "      <td>31985</td>\n",
       "      <td>2209402</td>\n",
       "      <td>Distance</td>\n",
       "    </tr>\n",
       "    <tr>\n",
       "      <th>1</th>\n",
       "      <td>7659</td>\n",
       "      <td>2209402</td>\n",
       "      <td>Trip_Time</td>\n",
       "    </tr>\n",
       "    <tr>\n",
       "      <th>2</th>\n",
       "      <td>20</td>\n",
       "      <td>2209402</td>\n",
       "      <td>cloud</td>\n",
       "    </tr>\n",
       "    <tr>\n",
       "      <th>3</th>\n",
       "      <td>5</td>\n",
       "      <td>2209402</td>\n",
       "      <td>rain</td>\n",
       "    </tr>\n",
       "    <tr>\n",
       "      <th>4</th>\n",
       "      <td>25</td>\n",
       "      <td>2209402</td>\n",
       "      <td>temp</td>\n",
       "    </tr>\n",
       "    <tr>\n",
       "      <th>5</th>\n",
       "      <td>24</td>\n",
       "      <td>2209402</td>\n",
       "      <td>wind</td>\n",
       "    </tr>\n",
       "  </tbody>\n",
       "</table>\n",
       "</div>"
      ],
      "text/plain": [
       "    Card    Count    Feature\n",
       "0  31985  2209402   Distance\n",
       "1   7659  2209402  Trip_Time\n",
       "2     20  2209402      cloud\n",
       "3      5  2209402       rain\n",
       "4     25  2209402       temp\n",
       "5     24  2209402       wind"
      ]
     },
     "execution_count": 18,
     "metadata": {},
     "output_type": "execute_result"
    }
   ],
   "source": [
    "df_cardinality"
   ]
  },
  {
   "cell_type": "markdown",
   "metadata": {},
   "source": [
    "## For Categorical Features"
   ]
  },
  {
   "cell_type": "markdown",
   "metadata": {},
   "source": [
    "### Notes from machinelearningbook.com\n",
    "\"The table in the data quality report that describes categorical features should include a row for each feature in the ABT that contains the two most frequent levels for the feature (the mode and 2nd mode) and the frequency with which these appear (both as raw frequencies and as a proportion of the total number of instances in the dataset). Each row should also include the percentage of instances in the ABT that are missing a value for the feature and the cardinality of the feature.\" - p56"
   ]
  },
  {
   "cell_type": "code",
   "execution_count": 19,
   "metadata": {
    "collapsed": false
   },
   "outputs": [
    {
     "name": "stdout",
     "output_type": "stream",
     "text": [
      "['Journey_Pattern_ID', 'Vehicle_Journey_ID', 'Stop_ID', 'At_Stop', 'day_of_week', 'midweek', 'time_bin', 'HourOfDay']\n"
     ]
    },
    {
     "data": {
      "text/html": [
       "<div>\n",
       "<table border=\"1\" class=\"dataframe\">\n",
       "  <thead>\n",
       "    <tr style=\"text-align: right;\">\n",
       "      <th></th>\n",
       "      <th>count</th>\n",
       "      <th>unique</th>\n",
       "      <th>top</th>\n",
       "      <th>freq</th>\n",
       "    </tr>\n",
       "  </thead>\n",
       "  <tbody>\n",
       "    <tr>\n",
       "      <th>Journey_Pattern_ID</th>\n",
       "      <td>2209402</td>\n",
       "      <td>465</td>\n",
       "      <td>046A0001</td>\n",
       "      <td>50750</td>\n",
       "    </tr>\n",
       "    <tr>\n",
       "      <th>Vehicle_Journey_ID</th>\n",
       "      <td>2209402</td>\n",
       "      <td>13671</td>\n",
       "      <td>4772</td>\n",
       "      <td>690</td>\n",
       "    </tr>\n",
       "    <tr>\n",
       "      <th>Stop_ID</th>\n",
       "      <td>2209402</td>\n",
       "      <td>4672</td>\n",
       "      <td>794</td>\n",
       "      <td>6586</td>\n",
       "    </tr>\n",
       "    <tr>\n",
       "      <th>At_Stop</th>\n",
       "      <td>2209402</td>\n",
       "      <td>2</td>\n",
       "      <td>0</td>\n",
       "      <td>1590573</td>\n",
       "    </tr>\n",
       "    <tr>\n",
       "      <th>day_of_week</th>\n",
       "      <td>2209402</td>\n",
       "      <td>7</td>\n",
       "      <td>Monday</td>\n",
       "      <td>369419</td>\n",
       "    </tr>\n",
       "    <tr>\n",
       "      <th>midweek</th>\n",
       "      <td>2209402</td>\n",
       "      <td>2</td>\n",
       "      <td>0</td>\n",
       "      <td>1781978</td>\n",
       "    </tr>\n",
       "    <tr>\n",
       "      <th>time_bin</th>\n",
       "      <td>2209402</td>\n",
       "      <td>4</td>\n",
       "      <td>pm</td>\n",
       "      <td>1094090</td>\n",
       "    </tr>\n",
       "    <tr>\n",
       "      <th>HourOfDay</th>\n",
       "      <td>2209402</td>\n",
       "      <td>21</td>\n",
       "      <td>17</td>\n",
       "      <td>153672</td>\n",
       "    </tr>\n",
       "  </tbody>\n",
       "</table>\n",
       "</div>"
      ],
      "text/plain": [
       "                      count unique       top     freq\n",
       "Journey_Pattern_ID  2209402    465  046A0001    50750\n",
       "Vehicle_Journey_ID  2209402  13671      4772      690\n",
       "Stop_ID             2209402   4672       794     6586\n",
       "At_Stop             2209402      2         0  1590573\n",
       "day_of_week         2209402      7    Monday   369419\n",
       "midweek             2209402      2         0  1781978\n",
       "time_bin            2209402      4        pm  1094090\n",
       "HourOfDay           2209402     21        17   153672"
      ]
     },
     "execution_count": 19,
     "metadata": {},
     "output_type": "execute_result"
    },
    {
     "data": {
      "text/plain": [
       "<matplotlib.figure.Figure at 0x1d713334438>"
      ]
     },
     "metadata": {},
     "output_type": "display_data"
    }
   ],
   "source": [
    "# remove at_stop from list of categorical features\n",
    "#categorical_features.pop(7)\n",
    "print(categorical_features)\n",
    "plot = df[categorical_features].describe().T\n",
    "plt.savefig('desc_stats_categorical_features_week1_v2_t2.png')\n",
    "plot"
   ]
  },
  {
   "cell_type": "code",
   "execution_count": 20,
   "metadata": {
    "collapsed": false
   },
   "outputs": [
    {
     "data": {
      "text/plain": [
       "Journey_Pattern_ID    0\n",
       "Vehicle_Journey_ID    0\n",
       "Stop_ID               0\n",
       "At_Stop               0\n",
       "day_of_week           0\n",
       "midweek               0\n",
       "time_bin              0\n",
       "HourOfDay             0\n",
       "dtype: int64"
      ]
     },
     "execution_count": 20,
     "metadata": {},
     "output_type": "execute_result"
    }
   ],
   "source": [
    "# check for missing values\n",
    "df[categorical_features].isnull().sum()"
   ]
  },
  {
   "cell_type": "code",
   "execution_count": 21,
   "metadata": {
    "collapsed": false
   },
   "outputs": [
    {
     "data": {
      "text/plain": [
       "<matplotlib.figure.Figure at 0x1d774430cc0>"
      ]
     },
     "metadata": {},
     "output_type": "display_data"
    }
   ],
   "source": [
    "# check cardinality\n",
    "card_list = []\n",
    "count_list = []\n",
    "categorical_columns = df[categorical_features].columns\n",
    "for column in categorical_columns:\n",
    "    card_list.append(df[column].nunique())\n",
    "    count_list.append(df[column].count())\n",
    "    \n",
    "df_cardinality_cat = pd.DataFrame({'Feature': categorical_features, 'Card': card_list, 'Count': count_list})\n",
    "plt.savefig('cardinality_categorical_week1_v2.png')"
   ]
  },
  {
   "cell_type": "code",
   "execution_count": 22,
   "metadata": {
    "collapsed": false
   },
   "outputs": [
    {
     "data": {
      "text/html": [
       "<div>\n",
       "<table border=\"1\" class=\"dataframe\">\n",
       "  <thead>\n",
       "    <tr style=\"text-align: right;\">\n",
       "      <th></th>\n",
       "      <th>Card</th>\n",
       "      <th>Count</th>\n",
       "      <th>Feature</th>\n",
       "    </tr>\n",
       "  </thead>\n",
       "  <tbody>\n",
       "    <tr>\n",
       "      <th>0</th>\n",
       "      <td>465</td>\n",
       "      <td>2209402</td>\n",
       "      <td>Journey_Pattern_ID</td>\n",
       "    </tr>\n",
       "    <tr>\n",
       "      <th>1</th>\n",
       "      <td>13671</td>\n",
       "      <td>2209402</td>\n",
       "      <td>Vehicle_Journey_ID</td>\n",
       "    </tr>\n",
       "    <tr>\n",
       "      <th>2</th>\n",
       "      <td>4672</td>\n",
       "      <td>2209402</td>\n",
       "      <td>Stop_ID</td>\n",
       "    </tr>\n",
       "    <tr>\n",
       "      <th>3</th>\n",
       "      <td>2</td>\n",
       "      <td>2209402</td>\n",
       "      <td>At_Stop</td>\n",
       "    </tr>\n",
       "    <tr>\n",
       "      <th>4</th>\n",
       "      <td>7</td>\n",
       "      <td>2209402</td>\n",
       "      <td>day_of_week</td>\n",
       "    </tr>\n",
       "    <tr>\n",
       "      <th>5</th>\n",
       "      <td>2</td>\n",
       "      <td>2209402</td>\n",
       "      <td>midweek</td>\n",
       "    </tr>\n",
       "    <tr>\n",
       "      <th>6</th>\n",
       "      <td>4</td>\n",
       "      <td>2209402</td>\n",
       "      <td>time_bin</td>\n",
       "    </tr>\n",
       "    <tr>\n",
       "      <th>7</th>\n",
       "      <td>21</td>\n",
       "      <td>2209402</td>\n",
       "      <td>HourOfDay</td>\n",
       "    </tr>\n",
       "  </tbody>\n",
       "</table>\n",
       "</div>"
      ],
      "text/plain": [
       "    Card    Count             Feature\n",
       "0    465  2209402  Journey_Pattern_ID\n",
       "1  13671  2209402  Vehicle_Journey_ID\n",
       "2   4672  2209402             Stop_ID\n",
       "3      2  2209402             At_Stop\n",
       "4      7  2209402         day_of_week\n",
       "5      2  2209402             midweek\n",
       "6      4  2209402            time_bin\n",
       "7     21  2209402           HourOfDay"
      ]
     },
     "execution_count": 22,
     "metadata": {},
     "output_type": "execute_result"
    }
   ],
   "source": [
    "df_cardinality_cat"
   ]
  },
  {
   "cell_type": "markdown",
   "metadata": {},
   "source": [
    "### Notes: From the above we can see that Journey_Pattern_ID, Stop_ID and Vehicle_Journey_ID have very high cardinalities - therefore they will be difficult to deal with and we will have to look at strategies for this. "
   ]
  },
  {
   "cell_type": "markdown",
   "metadata": {},
   "source": [
    "## Plot histograms for all continuous features"
   ]
  },
  {
   "cell_type": "code",
   "execution_count": 23,
   "metadata": {
    "collapsed": false
   },
   "outputs": [
    {
     "data": {
      "image/png": "[encoded data removed]",
      "text/plain": [
       "<matplotlib.figure.Figure at 0x1d719ed9cf8>"
      ]
     },
     "metadata": {},
     "output_type": "display_data"
    }
   ],
   "source": [
    "continuous_columns = df[continuous_features].columns\n",
    "df[continuous_columns].hist(figsize=(15, 15))\n",
    "plt.savefig('histograms_continuous_week1_v2.jpg')"
   ]
  },
  {
   "cell_type": "markdown",
   "metadata": {
    "collapsed": true
   },
   "source": [
    "## Analysis: \n",
    "### One key quality issue to note is that in the previously run data quality report the histograms for the derived features indicated that we had data quality issues with those features (that outliers were present). This should not be the case with derived features. After some refactoring, and debugging, we have resolved these issues, as can be seen from the above where the exponential distribution for the two derived features Trip_Time and Distance are more what one would expect for such a feature and do not indicate any data quality issues. "
   ]
  },
  {
   "cell_type": "markdown",
   "metadata": {},
   "source": [
    "## Plot Box Plots for all Continuous Features"
   ]
  },
  {
   "cell_type": "code",
   "execution_count": 24,
   "metadata": {
    "collapsed": false
   },
   "outputs": [
    {
     "data": {
      "image/png": "[encoded data removed]",
      "text/plain": [
       "<matplotlib.figure.Figure at 0x1d7771187b8>"
      ]
     },
     "metadata": {},
     "output_type": "display_data"
    },
    {
     "data": {
      "image/png": "[encoded data removed]",
      "text/plain": [
       "<matplotlib.figure.Figure at 0x1d74b7109b0>"
      ]
     },
     "metadata": {},
     "output_type": "display_data"
    },
    {
     "data": {
      "image/png": "[encoded data removed]",
      "text/plain": [
       "<matplotlib.figure.Figure at 0x1d71bbe8588>"
      ]
     },
     "metadata": {},
     "output_type": "display_data"
    },
    {
     "data": {
      "image/png": "[encoded data removed]",
      "text/plain": [
       "<matplotlib.figure.Figure at 0x1d74c718c88>"
      ]
     },
     "metadata": {},
     "output_type": "display_data"
    },
    {
     "data": {
      "image/png": "[encoded data removed]",
      "text/plain": [
       "<matplotlib.figure.Figure at 0x1d71be9f7f0>"
      ]
     },
     "metadata": {},
     "output_type": "display_data"
    },
    {
     "data": {
      "image/png": "[encoded data removed]",
      "text/plain": [
       "<matplotlib.figure.Figure at 0x1d74df1d748>"
      ]
     },
     "metadata": {},
     "output_type": "display_data"
    }
   ],
   "source": [
    "%matplotlib inline\n",
    "\n",
    "for col in continuous_columns:\n",
    "    f = df[col].plot(kind='box', figsize=(5, 5))\n",
    "    plt.savefig(col + '_boxplot_week1_v2.jpg')\n",
    "    plt.show()"
   ]
  },
  {
   "cell_type": "markdown",
   "metadata": {},
   "source": [
    "## Plot Bar Plots for all the Categorical Features"
   ]
  },
  {
   "cell_type": "code",
   "execution_count": 25,
   "metadata": {
    "collapsed": false
   },
   "outputs": [
    {
     "data": {
      "image/png": "[encoded data removed]",
      "text/plain": [
       "<matplotlib.figure.Figure at 0x1d74def7d68>"
      ]
     },
     "metadata": {},
     "output_type": "display_data"
    },
    {
     "data": {
      "image/png": "[encoded data removed]",
      "text/plain": [
       "<matplotlib.figure.Figure at 0x1d72641f9e8>"
      ]
     },
     "metadata": {},
     "output_type": "display_data"
    },
    {
     "data": {
      "image/png": "[encoded data removed]",
      "text/plain": [
       "<matplotlib.figure.Figure at 0x1d74d263898>"
      ]
     },
     "metadata": {},
     "output_type": "display_data"
    },
    {
     "data": {
      "image/png": "[encoded data removed]",
      "text/plain": [
       "<matplotlib.figure.Figure at 0x1d730c30278>"
      ]
     },
     "metadata": {},
     "output_type": "display_data"
    },
    {
     "data": {
      "image/png": "[encoded data removed]",
      "text/plain": [
       "<matplotlib.figure.Figure at 0x1d71be3ccc0>"
      ]
     },
     "metadata": {},
     "output_type": "display_data"
    }
   ],
   "source": [
    "%matplotlib inline\n",
    "# due to the high cardinality of stop_id, journey_pattern_id and vehicle_journey_id it is of no benefit to plot them here\n",
    "categorical_features_plotting = ['day_of_week', 'time_bin', 'At_Stop', 'midweek', 'HourOfDay']\n",
    "categorical_columns_plotting = df[categorical_features_plotting].columns\n",
    "\n",
    "for column in categorical_columns_plotting:\n",
    "    f = df[column].value_counts().plot(kind='bar', title=column, figsize=(5, 5))\n",
    "    plt.savefig(column + '_barplot_week1_v2.jpg')\n",
    "    plt.show()"
   ]
  },
  {
   "cell_type": "markdown",
   "metadata": {},
   "source": [
    "## Data Quality Issues"
   ]
  },
  {
   "cell_type": "markdown",
   "metadata": {},
   "source": [
    "### Continuous Features"
   ]
  },
  {
   "cell_type": "markdown",
   "metadata": {},
   "source": [
    "## Issue 1: \n",
    "### Trip Time: Max Value is 23hours - must be an error (invalid data because this is a derived feature) - Can confirm this has been fixed through further data cleaning. \n",
    "### Distance Terminal: Max Value is 318km - must be an error (invalid data because this is a derived feature) - Can confirm this has been fixed through further data cleaning. "
   ]
  },
  {
   "cell_type": "markdown",
   "metadata": {},
   "source": [
    "## Data Understanding"
   ]
  },
  {
   "cell_type": "markdown",
   "metadata": {},
   "source": [
    "### Print the correlations between the continuous features"
   ]
  },
  {
   "cell_type": "code",
   "execution_count": 26,
   "metadata": {
    "collapsed": false
   },
   "outputs": [
    {
     "name": "stdout",
     "output_type": "stream",
     "text": [
      "           Distance  Trip_Time     cloud      rain      temp      wind\n",
      "Distance   1.000000   0.893053  0.006210 -0.017821  0.017092  0.000680\n",
      "Trip_Time  0.893053   1.000000  0.044505 -0.016410  0.071882  0.052072\n",
      "cloud      0.006210   0.044505  1.000000  0.349190  0.628239  0.255138\n",
      "rain      -0.017821  -0.016410  0.349190  1.000000  0.094588 -0.078485\n",
      "temp       0.017092   0.071882  0.628239  0.094588  1.000000  0.304933\n",
      "wind       0.000680   0.052072  0.255138 -0.078485  0.304933  1.000000\n"
     ]
    }
   ],
   "source": [
    "sns.set(style='white')\n",
    "corr = df[continuous_features].corr()\n",
    "print(corr)"
   ]
  },
  {
   "cell_type": "code",
   "execution_count": 27,
   "metadata": {
    "collapsed": false
   },
   "outputs": [
    {
     "data": {
      "image/png": "[encoded data removed]",
      "text/plain": [
       "<matplotlib.figure.Figure at 0x1d71a536dd8>"
      ]
     },
     "metadata": {},
     "output_type": "display_data"
    }
   ],
   "source": [
    "# a nicer representation of correlations \n",
    "mask = np.zeros_like(corr, dtype=np.bool)\n",
    "mask[np.triu_indices_from(mask)] = True\n",
    "\n",
    "# Set up the matplotlib figure\n",
    "f, ax = plt.subplots(figsize=(11, 9))\n",
    "\n",
    "# Generate a custom colour map - blue and red\n",
    "cmap = sns.diverging_palette(220, 10, as_cmap=True)\n",
    "\n",
    "# Draw the heatmap with the mask and correct aspect ratio\n",
    "sns.heatmap(corr, annot=True, mask=mask, cmap=cmap, vmax=1, vmin=-1,\n",
    "           square=True, xticklabels=True, yticklabels=True,\n",
    "           linewidths=.5, cbar_kws={\"shrink\": .5}, ax=ax)\n",
    "plt.yticks(rotation = 0)\n",
    "plt.xticks(rotation = 45)\n",
    "plt.savefig('feature_correlations_matrix_week1_v2.png')"
   ]
  },
  {
   "cell_type": "markdown",
   "metadata": {},
   "source": [
    "## Analysis: \n",
    "### We can see from the above that the descriptive feature with the highest correlation to trip_time is distance. After this hour of the day is the next most relevant although to a much lesser extent here.  "
   ]
  },
  {
   "cell_type": "markdown",
   "metadata": {},
   "source": [
    "## Plot the scatter plots of each pair of continuous descriptive features and target feature"
   ]
  },
  {
   "cell_type": "code",
   "execution_count": 28,
   "metadata": {
    "collapsed": false
   },
   "outputs": [
    {
     "data": {
      "image/png": "[encoded data removed]",
      "text/plain": [
       "<matplotlib.figure.Figure at 0x1d72fd8c320>"
      ]
     },
     "metadata": {},
     "output_type": "display_data"
    }
   ],
   "source": [
    "% matplotlib inline\n",
    "df.plot(kind='scatter', x='Trip_Time', y='Distance',  figsize=(5, 5))\n",
    "plt.savefig('trip_time_distance_relationship_week1_v2.png')"
   ]
  },
  {
   "cell_type": "code",
   "execution_count": 29,
   "metadata": {
    "collapsed": false
   },
   "outputs": [
    {
     "data": {
      "image/png": "[encoded data removed]",
      "text/plain": [
       "<matplotlib.figure.Figure at 0x1d758124940>"
      ]
     },
     "metadata": {},
     "output_type": "display_data"
    }
   ],
   "source": [
    "% matplotlib inline\n",
    "df.plot(kind='scatter', x='Trip_Time', y='Timestamp', figsize=(5, 5))\n",
    "plt.savefig(\"trip_time_timestamp_relationship_week1_v2.png\")"
   ]
  },
  {
   "cell_type": "code",
   "execution_count": 30,
   "metadata": {
    "collapsed": false
   },
   "outputs": [
    {
     "data": {
      "image/png": "[encoded data removed]",
      "text/plain": [
       "<matplotlib.figure.Figure at 0x1d71bc0ac18>"
      ]
     },
     "metadata": {},
     "output_type": "display_data"
    }
   ],
   "source": [
    "% matplotlib inline \n",
    "df.plot(kind='scatter', x='Trip_Time', y='rain', figsize=(5, 5))\n",
    "plt.savefig(\"trip_time_rain_relationship_week1_v2.png\")"
   ]
  },
  {
   "cell_type": "code",
   "execution_count": 31,
   "metadata": {
    "collapsed": false
   },
   "outputs": [
    {
     "data": {
      "image/png": "[encoded data removed]",
      "text/plain": [
       "<matplotlib.figure.Figure at 0x1d7323c9cc0>"
      ]
     },
     "metadata": {},
     "output_type": "display_data"
    }
   ],
   "source": [
    "% matplotlib inline\n",
    "df.plot(kind='scatter', x='Trip_Time', y='cloud', figsize=(5, 5))\n",
    "plt.savefig(\"trip_time_cloud_relationship_week1_v2.png\")"
   ]
  },
  {
   "cell_type": "code",
   "execution_count": 32,
   "metadata": {
    "collapsed": false
   },
   "outputs": [
    {
     "data": {
      "image/png": "[encoded data removed]",
      "text/plain": [
       "<matplotlib.figure.Figure at 0x1d754c0f908>"
      ]
     },
     "metadata": {},
     "output_type": "display_data"
    }
   ],
   "source": [
    "% matplotlib inline\n",
    "df.plot(kind='scatter', x='Trip_Time', y='temp', figsize=(5, 5))\n",
    "plt.savefig(\"trip_time_temp_relationship_week1_v2.png\")"
   ]
  },
  {
   "cell_type": "code",
   "execution_count": 33,
   "metadata": {
    "collapsed": false
   },
   "outputs": [
    {
     "data": {
      "image/png": "[encoded data removed]",
      "text/plain": [
       "<matplotlib.figure.Figure at 0x1d75a38a2e8>"
      ]
     },
     "metadata": {},
     "output_type": "display_data"
    }
   ],
   "source": [
    "% matplotlib inline\n",
    "df.plot(kind='scatter', x='Trip_Time', y='wind', figsize=(5, 5))\n",
    "plt.savefig(\"trip_time_wind_relationship_week1_v2.png\")"
   ]
  },
  {
   "cell_type": "markdown",
   "metadata": {},
   "source": [
    "## Analysis: \n",
    "### From the above scatter plots we can see:\n",
    "### 1. That we still have some outliers present - whether these are valid or not should be determined. \n",
    "### 2. That we still have some issues with time/distance because we have values of 0 for time where distance is greater than 0. This doesn't make sense and should be investigated and rectified. One possible cause is that the GPS data is only accurate to within 30 meters. "
   ]
  },
  {
   "cell_type": "markdown",
   "metadata": {},
   "source": [
    "## For each categorical feature, plot the pairwise interaction with the target feature (barplots or stacked barplots)"
   ]
  },
  {
   "cell_type": "code",
   "execution_count": 34,
   "metadata": {
    "collapsed": false
   },
   "outputs": [
    {
     "name": "stdout",
     "output_type": "stream",
     "text": [
      "['Journey_Pattern_ID', 'Vehicle_Journey_ID', 'Stop_ID', 'At_Stop', 'day_of_week', 'midweek', 'time_bin', 'HourOfDay']\n"
     ]
    }
   ],
   "source": [
    "print(categorical_features)"
   ]
  },
  {
   "cell_type": "code",
   "execution_count": 35,
   "metadata": {
    "collapsed": false
   },
   "outputs": [
    {
     "data": {
      "image/png": "[encoded data removed]",
      "text/plain": [
       "<matplotlib.figure.Figure at 0x1d75810b048>"
      ]
     },
     "metadata": {},
     "output_type": "display_data"
    }
   ],
   "source": [
    "sns.barplot(x=\"day_of_week\", y=\"Trip_Time\", data=df)\n",
    "plt.savefig(\"trip_time_day_relationship_week1_v2.png\")"
   ]
  },
  {
   "cell_type": "code",
   "execution_count": 36,
   "metadata": {
    "collapsed": false
   },
   "outputs": [
    {
     "data": {
      "image/png": "[encoded data removed]",
      "text/plain": [
       "<matplotlib.figure.Figure at 0x1d7263cde48>"
      ]
     },
     "metadata": {},
     "output_type": "display_data"
    }
   ],
   "source": [
    "sns.barplot(x=\"time_bin\", y=\"Trip_Time\", data=df)\n",
    "plt.savefig(\"trip_time_time_bin_relationship_week1_v2.png\")"
   ]
  },
  {
   "cell_type": "code",
   "execution_count": 37,
   "metadata": {
    "collapsed": false
   },
   "outputs": [
    {
     "data": {
      "image/png": "[encoded data removed]",
      "text/plain": [
       "<matplotlib.figure.Figure at 0x1d752a71128>"
      ]
     },
     "metadata": {},
     "output_type": "display_data"
    }
   ],
   "source": [
    "sns.barplot(x=\"midweek\", y =\"Trip_Time\", data=df)\n",
    "plt.savefig(\"trip_time_midweek_relationship_week1_v2.png\")"
   ]
  },
  {
   "cell_type": "code",
   "execution_count": 38,
   "metadata": {
    "collapsed": false
   },
   "outputs": [
    {
     "data": {
      "image/png": "[encoded data removed]",
      "text/plain": [
       "<matplotlib.figure.Figure at 0x1d7263d8b00>"
      ]
     },
     "metadata": {},
     "output_type": "display_data"
    }
   ],
   "source": [
    "sns.barplot(x=\"HourOfDay\", y=\"Trip_Time\", data=df)\n",
    "plt.savefig(\"trip_time_hour_relationship_week1_v2.png\")"
   ]
  },
  {
   "cell_type": "markdown",
   "metadata": {},
   "source": [
    "## Analysis: \n",
    "### 1. What the above bar plots tell us is that Monday to Friday have higher mean trip_times than Saturday and Sunday - something that we would expect to see and is a good indication that the trend of our derived features is accurate. \n",
    "### 2. We can also see that the mean trip_time is highest in the time_bins of early am and pm - this again is what we would expect as these time_bins contain the two rush hour periods in the day. "
   ]
  },
  {
   "cell_type": "code",
   "execution_count": null,
   "metadata": {
    "collapsed": true
   },
   "outputs": [],
   "source": []
  }
 ],
 "metadata": {
  "kernelspec": {
   "display_name": "Python 3",
   "language": "python",
   "name": "python3"
  },
  "language_info": {
   "codemirror_mode": {
    "name": "ipython",
    "version": 3
   },
   "file_extension": ".py",
   "mimetype": "text/x-python",
   "name": "python",
   "nbconvert_exporter": "python",
   "pygments_lexer": "ipython3",
   "version": "3.6.0"
  }
 },
 "nbformat": 4,
 "nbformat_minor": 2
}
