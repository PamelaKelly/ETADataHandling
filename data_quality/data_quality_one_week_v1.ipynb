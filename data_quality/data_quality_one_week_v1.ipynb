{
 "cells": [
  {
   "cell_type": "markdown",
   "metadata": {},
   "source": [
    "# Data Quality One Week of Data - Iteration 1"
   ]
  },
  {
   "cell_type": "code",
   "execution_count": 3,
   "metadata": {
    "collapsed": false
   },
   "outputs": [],
   "source": [
    "import pandas as pd\n",
    "import numpy as np\n",
    "import matplotlib\n",
    "import matplotlib.pyplot as plt\n",
    "import matplotlib.patches as mpatches\n",
    "from matplotlib.backends.backend_pdf import PdfPages\n",
    "import seaborn as sns\n",
    "matplotlib.style.use('ggplot')\n",
    "%matplotlib inline"
   ]
  },
  {
   "cell_type": "code",
   "execution_count": 4,
   "metadata": {
    "collapsed": false
   },
   "outputs": [
    {
     "name": "stderr",
     "output_type": "stream",
     "text": [
      "C:\\Users\\pamel\\Anaconda3\\lib\\site-packages\\IPython\\core\\interactiveshell.py:2717: DtypeWarning: Columns (8) have mixed types. Specify dtype option on import or set low_memory=False.\n",
      "  interactivity=interactivity, compiler=compiler, result=result)\n"
     ]
    }
   ],
   "source": [
    "df = pd.read_csv('../datasets/output_files/Dublin_2012_Step2.csv')"
   ]
  },
  {
   "cell_type": "code",
   "execution_count": 5,
   "metadata": {
    "collapsed": false
   },
   "outputs": [
    {
     "data": {
      "text/html": [
       "<div>\n",
       "<table border=\"1\" class=\"dataframe\">\n",
       "  <thead>\n",
       "    <tr style=\"text-align: right;\">\n",
       "      <th></th>\n",
       "      <th>Unnamed: 0</th>\n",
       "      <th>Timestamp</th>\n",
       "      <th>Journey_Pattern_ID</th>\n",
       "      <th>Date</th>\n",
       "      <th>Vehicle_Journey_ID</th>\n",
       "      <th>Lon_WGS84</th>\n",
       "      <th>Lat_WGS84</th>\n",
       "      <th>Delay</th>\n",
       "      <th>Stop_ID</th>\n",
       "      <th>At_Stop</th>\n",
       "      <th>Distance_Terminal</th>\n",
       "      <th>datetime</th>\n",
       "      <th>day_of_week</th>\n",
       "      <th>Trip_Time</th>\n",
       "    </tr>\n",
       "  </thead>\n",
       "  <tbody>\n",
       "    <tr>\n",
       "      <th>0</th>\n",
       "      <td>0</td>\n",
       "      <td>1352160000</td>\n",
       "      <td>00150001</td>\n",
       "      <td>2012-11-05</td>\n",
       "      <td>5826</td>\n",
       "      <td>-6.258584</td>\n",
       "      <td>53.340099</td>\n",
       "      <td>-361</td>\n",
       "      <td>4870</td>\n",
       "      <td>0</td>\n",
       "      <td>0.0</td>\n",
       "      <td>2012-11-06 00:00:00</td>\n",
       "      <td>Tuesday</td>\n",
       "      <td>0</td>\n",
       "    </tr>\n",
       "    <tr>\n",
       "      <th>1</th>\n",
       "      <td>1</td>\n",
       "      <td>1352160000</td>\n",
       "      <td>046A1002</td>\n",
       "      <td>2012-11-05</td>\n",
       "      <td>7267</td>\n",
       "      <td>-6.259093</td>\n",
       "      <td>53.345425</td>\n",
       "      <td>-1101</td>\n",
       "      <td>794</td>\n",
       "      <td>0</td>\n",
       "      <td>0.0</td>\n",
       "      <td>2012-11-06 00:00:00</td>\n",
       "      <td>Tuesday</td>\n",
       "      <td>0</td>\n",
       "    </tr>\n",
       "    <tr>\n",
       "      <th>2</th>\n",
       "      <td>2</td>\n",
       "      <td>1352160000</td>\n",
       "      <td>00140001</td>\n",
       "      <td>2012-11-05</td>\n",
       "      <td>6206</td>\n",
       "      <td>-6.257329</td>\n",
       "      <td>53.287521</td>\n",
       "      <td>-126</td>\n",
       "      <td>1047</td>\n",
       "      <td>0</td>\n",
       "      <td>0.0</td>\n",
       "      <td>2012-11-06 00:00:00</td>\n",
       "      <td>Tuesday</td>\n",
       "      <td>0</td>\n",
       "    </tr>\n",
       "    <tr>\n",
       "      <th>3</th>\n",
       "      <td>3</td>\n",
       "      <td>1352160002</td>\n",
       "      <td>041B0002</td>\n",
       "      <td>2012-11-05</td>\n",
       "      <td>61</td>\n",
       "      <td>-6.264167</td>\n",
       "      <td>53.453217</td>\n",
       "      <td>-623</td>\n",
       "      <td>3874</td>\n",
       "      <td>1</td>\n",
       "      <td>0.0</td>\n",
       "      <td>2012-11-06 00:00:02</td>\n",
       "      <td>Tuesday</td>\n",
       "      <td>0</td>\n",
       "    </tr>\n",
       "    <tr>\n",
       "      <th>4</th>\n",
       "      <td>4</td>\n",
       "      <td>1352160002</td>\n",
       "      <td>039A1002</td>\n",
       "      <td>2012-11-05</td>\n",
       "      <td>3795</td>\n",
       "      <td>-6.262447</td>\n",
       "      <td>53.346767</td>\n",
       "      <td>-532</td>\n",
       "      <td>1479</td>\n",
       "      <td>0</td>\n",
       "      <td>0.0</td>\n",
       "      <td>2012-11-06 00:00:02</td>\n",
       "      <td>Tuesday</td>\n",
       "      <td>0</td>\n",
       "    </tr>\n",
       "  </tbody>\n",
       "</table>\n",
       "</div>"
      ],
      "text/plain": [
       "   Unnamed: 0   Timestamp Journey_Pattern_ID        Date  Vehicle_Journey_ID  \\\n",
       "0           0  1352160000           00150001  2012-11-05                5826   \n",
       "1           1  1352160000           046A1002  2012-11-05                7267   \n",
       "2           2  1352160000           00140001  2012-11-05                6206   \n",
       "3           3  1352160002           041B0002  2012-11-05                  61   \n",
       "4           4  1352160002           039A1002  2012-11-05                3795   \n",
       "\n",
       "   Lon_WGS84  Lat_WGS84  Delay Stop_ID  At_Stop  Distance_Terminal  \\\n",
       "0  -6.258584  53.340099   -361    4870        0                0.0   \n",
       "1  -6.259093  53.345425  -1101     794        0                0.0   \n",
       "2  -6.257329  53.287521   -126    1047        0                0.0   \n",
       "3  -6.264167  53.453217   -623    3874        1                0.0   \n",
       "4  -6.262447  53.346767   -532    1479        0                0.0   \n",
       "\n",
       "              datetime day_of_week  Trip_Time  \n",
       "0  2012-11-06 00:00:00     Tuesday          0  \n",
       "1  2012-11-06 00:00:00     Tuesday          0  \n",
       "2  2012-11-06 00:00:00     Tuesday          0  \n",
       "3  2012-11-06 00:00:02     Tuesday          0  \n",
       "4  2012-11-06 00:00:02     Tuesday          0  "
      ]
     },
     "execution_count": 5,
     "metadata": {},
     "output_type": "execute_result"
    }
   ],
   "source": [
    "df.head()"
   ]
  },
  {
   "cell_type": "code",
   "execution_count": 6,
   "metadata": {
    "collapsed": false
   },
   "outputs": [],
   "source": [
    "df.drop(df.columns[[0]], axis=1, inplace=True)"
   ]
  },
  {
   "cell_type": "code",
   "execution_count": 7,
   "metadata": {
    "collapsed": true
   },
   "outputs": [],
   "source": [
    "# dropping columns that we won't have from the user side as input so therefore we can't train the model based on those features\n",
    "# such as delay, congestion and date can't be used either (too specific)"
   ]
  },
  {
   "cell_type": "code",
   "execution_count": 8,
   "metadata": {
    "collapsed": false
   },
   "outputs": [
    {
     "data": {
      "text/plain": [
       "(3169731, 13)"
      ]
     },
     "execution_count": 8,
     "metadata": {},
     "output_type": "execute_result"
    }
   ],
   "source": [
    "df.shape"
   ]
  },
  {
   "cell_type": "code",
   "execution_count": 9,
   "metadata": {
    "collapsed": false
   },
   "outputs": [
    {
     "data": {
      "text/html": [
       "<div>\n",
       "<table border=\"1\" class=\"dataframe\">\n",
       "  <thead>\n",
       "    <tr style=\"text-align: right;\">\n",
       "      <th></th>\n",
       "      <th>Timestamp</th>\n",
       "      <th>Journey_Pattern_ID</th>\n",
       "      <th>Date</th>\n",
       "      <th>Vehicle_Journey_ID</th>\n",
       "      <th>Lon_WGS84</th>\n",
       "      <th>Lat_WGS84</th>\n",
       "      <th>Delay</th>\n",
       "      <th>Stop_ID</th>\n",
       "      <th>At_Stop</th>\n",
       "      <th>Distance_Terminal</th>\n",
       "      <th>datetime</th>\n",
       "      <th>day_of_week</th>\n",
       "      <th>Trip_Time</th>\n",
       "    </tr>\n",
       "  </thead>\n",
       "  <tbody>\n",
       "    <tr>\n",
       "      <th>3169728</th>\n",
       "      <td>1352764796</td>\n",
       "      <td>00331005</td>\n",
       "      <td>2012-11-12</td>\n",
       "      <td>269</td>\n",
       "      <td>-6.109184</td>\n",
       "      <td>53.580326</td>\n",
       "      <td>-36</td>\n",
       "      <td>3818</td>\n",
       "      <td>0</td>\n",
       "      <td>7483.98</td>\n",
       "      <td>2012-11-12 23:59:56</td>\n",
       "      <td>Monday</td>\n",
       "      <td>581</td>\n",
       "    </tr>\n",
       "    <tr>\n",
       "      <th>3169729</th>\n",
       "      <td>1352764796</td>\n",
       "      <td>00380001</td>\n",
       "      <td>2012-11-12</td>\n",
       "      <td>1269</td>\n",
       "      <td>-6.375340</td>\n",
       "      <td>53.399990</td>\n",
       "      <td>154</td>\n",
       "      <td>1819</td>\n",
       "      <td>0</td>\n",
       "      <td>16435.03</td>\n",
       "      <td>2012-11-12 23:59:56</td>\n",
       "      <td>Monday</td>\n",
       "      <td>2824</td>\n",
       "    </tr>\n",
       "    <tr>\n",
       "      <th>3169730</th>\n",
       "      <td>1352764798</td>\n",
       "      <td>015A0001</td>\n",
       "      <td>2012-11-12</td>\n",
       "      <td>3130</td>\n",
       "      <td>-6.299134</td>\n",
       "      <td>53.311970</td>\n",
       "      <td>267</td>\n",
       "      <td>1089</td>\n",
       "      <td>0</td>\n",
       "      <td>8033.41</td>\n",
       "      <td>2012-11-12 23:59:58</td>\n",
       "      <td>Monday</td>\n",
       "      <td>1779</td>\n",
       "    </tr>\n",
       "  </tbody>\n",
       "</table>\n",
       "</div>"
      ],
      "text/plain": [
       "          Timestamp Journey_Pattern_ID        Date  Vehicle_Journey_ID  \\\n",
       "3169728  1352764796           00331005  2012-11-12                 269   \n",
       "3169729  1352764796           00380001  2012-11-12                1269   \n",
       "3169730  1352764798           015A0001  2012-11-12                3130   \n",
       "\n",
       "         Lon_WGS84  Lat_WGS84  Delay Stop_ID  At_Stop  Distance_Terminal  \\\n",
       "3169728  -6.109184  53.580326    -36    3818        0            7483.98   \n",
       "3169729  -6.375340  53.399990    154    1819        0           16435.03   \n",
       "3169730  -6.299134  53.311970    267    1089        0            8033.41   \n",
       "\n",
       "                    datetime day_of_week  Trip_Time  \n",
       "3169728  2012-11-12 23:59:56      Monday        581  \n",
       "3169729  2012-11-12 23:59:56      Monday       2824  \n",
       "3169730  2012-11-12 23:59:58      Monday       1779  "
      ]
     },
     "execution_count": 9,
     "metadata": {},
     "output_type": "execute_result"
    }
   ],
   "source": [
    "df.tail(3)"
   ]
  },
  {
   "cell_type": "code",
   "execution_count": 10,
   "metadata": {
    "collapsed": false
   },
   "outputs": [
    {
     "data": {
      "text/plain": [
       "Timestamp               int64\n",
       "Journey_Pattern_ID     object\n",
       "Date                   object\n",
       "Vehicle_Journey_ID      int64\n",
       "Lon_WGS84             float64\n",
       "Lat_WGS84             float64\n",
       "Delay                   int64\n",
       "Stop_ID                object\n",
       "At_Stop                 int64\n",
       "Distance_Terminal     float64\n",
       "datetime               object\n",
       "day_of_week            object\n",
       "Trip_Time               int64\n",
       "dtype: object"
      ]
     },
     "execution_count": 10,
     "metadata": {},
     "output_type": "execute_result"
    }
   ],
   "source": [
    "df.dtypes"
   ]
  },
  {
   "cell_type": "code",
   "execution_count": 31,
   "metadata": {
    "collapsed": true
   },
   "outputs": [],
   "source": [
    "continuous_features = ['Distance_Terminal', 'Trip_Time','Timestamp']\n",
    "categorical_features = ['Journey_Pattern_ID', 'Date', 'Vehicle_Journey_ID','day_of_week']\n",
    "\n"
   ]
  },
  {
   "cell_type": "code",
   "execution_count": 32,
   "metadata": {
    "collapsed": false
   },
   "outputs": [],
   "source": [
    "for item in categorical_features:\n",
    "    df[item] = df[item].astype('category')"
   ]
  },
  {
   "cell_type": "code",
   "execution_count": 33,
   "metadata": {
    "collapsed": false
   },
   "outputs": [
    {
     "data": {
      "text/plain": [
       "Timestamp                int64\n",
       "Journey_Pattern_ID    category\n",
       "Date                  category\n",
       "Vehicle_Journey_ID    category\n",
       "Lon_WGS84              float64\n",
       "Lat_WGS84              float64\n",
       "Delay                    int64\n",
       "Stop_ID               category\n",
       "Distance_Terminal      float64\n",
       "datetime                object\n",
       "day_of_week           category\n",
       "Trip_Time                int64\n",
       "dtype: object"
      ]
     },
     "execution_count": 33,
     "metadata": {},
     "output_type": "execute_result"
    }
   ],
   "source": [
    "df.dtypes"
   ]
  },
  {
   "cell_type": "markdown",
   "metadata": {},
   "source": [
    "## Prepare a table with descriptive statistics for all continuous features"
   ]
  },
  {
   "cell_type": "code",
   "execution_count": 34,
   "metadata": {
    "collapsed": false
   },
   "outputs": [
    {
     "data": {
      "text/plain": [
       "<matplotlib.figure.Figure at 0x1bc86e684a8>"
      ]
     },
     "metadata": {},
     "output_type": "display_data"
    }
   ],
   "source": [
    "df[continuous_features].describe().T\n",
    "plt.savefig('desc_stats_continuous_week1_v1.png')"
   ]
  },
  {
   "cell_type": "code",
   "execution_count": 35,
   "metadata": {
    "collapsed": false
   },
   "outputs": [
    {
     "data": {
      "text/html": [
       "<div>\n",
       "<table border=\"1\" class=\"dataframe\">\n",
       "  <thead>\n",
       "    <tr style=\"text-align: right;\">\n",
       "      <th></th>\n",
       "      <th>Timestamp</th>\n",
       "      <th>Journey_Pattern_ID</th>\n",
       "      <th>Date</th>\n",
       "      <th>Vehicle_Journey_ID</th>\n",
       "      <th>Lon_WGS84</th>\n",
       "      <th>Lat_WGS84</th>\n",
       "      <th>Delay</th>\n",
       "      <th>Stop_ID</th>\n",
       "      <th>Distance_Terminal</th>\n",
       "      <th>datetime</th>\n",
       "      <th>day_of_week</th>\n",
       "      <th>Trip_Time</th>\n",
       "    </tr>\n",
       "  </thead>\n",
       "  <tbody>\n",
       "  </tbody>\n",
       "</table>\n",
       "</div>"
      ],
      "text/plain": [
       "Empty DataFrame\n",
       "Columns: [Timestamp, Journey_Pattern_ID, Date, Vehicle_Journey_ID, Lon_WGS84, Lat_WGS84, Delay, Stop_ID, Distance_Terminal, datetime, day_of_week, Trip_Time]\n",
       "Index: []"
      ]
     },
     "execution_count": 35,
     "metadata": {},
     "output_type": "execute_result"
    }
   ],
   "source": [
    "df_max_trip=df.loc[df['Distance_Terminal']>50000]\n",
    "df_max_trip"
   ]
  },
  {
   "cell_type": "code",
   "execution_count": 36,
   "metadata": {
    "collapsed": false
   },
   "outputs": [
    {
     "data": {
      "text/plain": [
       "(0, 12)"
      ]
     },
     "execution_count": 36,
     "metadata": {},
     "output_type": "execute_result"
    }
   ],
   "source": [
    "# 30 (31240, 13)  40 (2744, 13) 50 (2744, 13)\n",
    "df_max_trip.shape"
   ]
  },
  {
   "cell_type": "code",
   "execution_count": 37,
   "metadata": {
    "collapsed": false
   },
   "outputs": [
    {
     "data": {
      "text/html": [
       "<div>\n",
       "<table border=\"1\" class=\"dataframe\">\n",
       "  <thead>\n",
       "    <tr style=\"text-align: right;\">\n",
       "      <th></th>\n",
       "      <th>Timestamp</th>\n",
       "      <th>Journey_Pattern_ID</th>\n",
       "      <th>Date</th>\n",
       "      <th>Vehicle_Journey_ID</th>\n",
       "      <th>Lon_WGS84</th>\n",
       "      <th>Lat_WGS84</th>\n",
       "      <th>Delay</th>\n",
       "      <th>Stop_ID</th>\n",
       "      <th>Distance_Terminal</th>\n",
       "      <th>datetime</th>\n",
       "      <th>day_of_week</th>\n",
       "      <th>Trip_Time</th>\n",
       "    </tr>\n",
       "  </thead>\n",
       "  <tbody>\n",
       "    <tr>\n",
       "      <th>1829452</th>\n",
       "      <td>1352476724</td>\n",
       "      <td>039A0001</td>\n",
       "      <td>2012-11-09</td>\n",
       "      <td>3804</td>\n",
       "      <td>-6.216970</td>\n",
       "      <td>53.306770</td>\n",
       "      <td>-103</td>\n",
       "      <td>767</td>\n",
       "      <td>0.00</td>\n",
       "      <td>2012-11-09 15:58:44</td>\n",
       "      <td>Friday</td>\n",
       "      <td>0</td>\n",
       "    </tr>\n",
       "    <tr>\n",
       "      <th>1830348</th>\n",
       "      <td>1352476822</td>\n",
       "      <td>039A0001</td>\n",
       "      <td>2012-11-09</td>\n",
       "      <td>3804</td>\n",
       "      <td>-6.218855</td>\n",
       "      <td>53.309505</td>\n",
       "      <td>-99</td>\n",
       "      <td>768</td>\n",
       "      <td>472.67</td>\n",
       "      <td>2012-11-09 16:00:22</td>\n",
       "      <td>Friday</td>\n",
       "      <td>98</td>\n",
       "    </tr>\n",
       "    <tr>\n",
       "      <th>1830891</th>\n",
       "      <td>1352476882</td>\n",
       "      <td>039A0001</td>\n",
       "      <td>2012-11-09</td>\n",
       "      <td>3804</td>\n",
       "      <td>-6.219975</td>\n",
       "      <td>53.310287</td>\n",
       "      <td>-59</td>\n",
       "      <td>768</td>\n",
       "      <td>587.33</td>\n",
       "      <td>2012-11-09 16:01:22</td>\n",
       "      <td>Friday</td>\n",
       "      <td>158</td>\n",
       "    </tr>\n",
       "    <tr>\n",
       "      <th>1831079</th>\n",
       "      <td>1352476902</td>\n",
       "      <td>039A0001</td>\n",
       "      <td>2012-11-09</td>\n",
       "      <td>3804</td>\n",
       "      <td>-6.221674</td>\n",
       "      <td>53.312637</td>\n",
       "      <td>-88</td>\n",
       "      <td>769</td>\n",
       "      <td>872.33</td>\n",
       "      <td>2012-11-09 16:01:42</td>\n",
       "      <td>Friday</td>\n",
       "      <td>178</td>\n",
       "    </tr>\n",
       "    <tr>\n",
       "      <th>1831942</th>\n",
       "      <td>1352476999</td>\n",
       "      <td>039A0001</td>\n",
       "      <td>2012-11-09</td>\n",
       "      <td>3804</td>\n",
       "      <td>-6.225667</td>\n",
       "      <td>53.314777</td>\n",
       "      <td>-34</td>\n",
       "      <td>770</td>\n",
       "      <td>1235.52</td>\n",
       "      <td>2012-11-09 16:03:19</td>\n",
       "      <td>Friday</td>\n",
       "      <td>275</td>\n",
       "    </tr>\n",
       "    <tr>\n",
       "      <th>1831989</th>\n",
       "      <td>1352477003</td>\n",
       "      <td>039A0001</td>\n",
       "      <td>2012-11-09</td>\n",
       "      <td>3804</td>\n",
       "      <td>-6.227878</td>\n",
       "      <td>53.316151</td>\n",
       "      <td>-57</td>\n",
       "      <td>771</td>\n",
       "      <td>1447.88</td>\n",
       "      <td>2012-11-09 16:03:23</td>\n",
       "      <td>Friday</td>\n",
       "      <td>279</td>\n",
       "    </tr>\n",
       "    <tr>\n",
       "      <th>1832307</th>\n",
       "      <td>1352477041</td>\n",
       "      <td>039A0001</td>\n",
       "      <td>2012-11-09</td>\n",
       "      <td>3804</td>\n",
       "      <td>-6.231356</td>\n",
       "      <td>53.318680</td>\n",
       "      <td>-57</td>\n",
       "      <td>772</td>\n",
       "      <td>1812.49</td>\n",
       "      <td>2012-11-09 16:04:01</td>\n",
       "      <td>Friday</td>\n",
       "      <td>317</td>\n",
       "    </tr>\n",
       "    <tr>\n",
       "      <th>1832686</th>\n",
       "      <td>1352477084</td>\n",
       "      <td>039A0001</td>\n",
       "      <td>2012-11-09</td>\n",
       "      <td>3804</td>\n",
       "      <td>-6.234359</td>\n",
       "      <td>53.320904</td>\n",
       "      <td>-96</td>\n",
       "      <td>773</td>\n",
       "      <td>2130.78</td>\n",
       "      <td>2012-11-09 16:04:44</td>\n",
       "      <td>Friday</td>\n",
       "      <td>360</td>\n",
       "    </tr>\n",
       "    <tr>\n",
       "      <th>1832885</th>\n",
       "      <td>1352477103</td>\n",
       "      <td>039A0001</td>\n",
       "      <td>2012-11-09</td>\n",
       "      <td>3804</td>\n",
       "      <td>-6.237105</td>\n",
       "      <td>53.322258</td>\n",
       "      <td>-133</td>\n",
       "      <td>774</td>\n",
       "      <td>2367.83</td>\n",
       "      <td>2012-11-09 16:05:03</td>\n",
       "      <td>Friday</td>\n",
       "      <td>379</td>\n",
       "    </tr>\n",
       "    <tr>\n",
       "      <th>1833248</th>\n",
       "      <td>1352477144</td>\n",
       "      <td>039A0001</td>\n",
       "      <td>2012-11-09</td>\n",
       "      <td>3804</td>\n",
       "      <td>-6.239009</td>\n",
       "      <td>53.323555</td>\n",
       "      <td>-133</td>\n",
       "      <td>775</td>\n",
       "      <td>2560.37</td>\n",
       "      <td>2012-11-09 16:05:44</td>\n",
       "      <td>Friday</td>\n",
       "      <td>420</td>\n",
       "    </tr>\n",
       "    <tr>\n",
       "      <th>1833385</th>\n",
       "      <td>1352477162</td>\n",
       "      <td>039A0001</td>\n",
       "      <td>2012-11-09</td>\n",
       "      <td>3804</td>\n",
       "      <td>-6.240701</td>\n",
       "      <td>53.324837</td>\n",
       "      <td>-158</td>\n",
       "      <td>775</td>\n",
       "      <td>2742.22</td>\n",
       "      <td>2012-11-09 16:06:02</td>\n",
       "      <td>Friday</td>\n",
       "      <td>438</td>\n",
       "    </tr>\n",
       "    <tr>\n",
       "      <th>1833562</th>\n",
       "      <td>1352477180</td>\n",
       "      <td>039A0001</td>\n",
       "      <td>2012-11-09</td>\n",
       "      <td>3804</td>\n",
       "      <td>-6.243092</td>\n",
       "      <td>53.326614</td>\n",
       "      <td>-200</td>\n",
       "      <td>776</td>\n",
       "      <td>2996.17</td>\n",
       "      <td>2012-11-09 16:06:20</td>\n",
       "      <td>Friday</td>\n",
       "      <td>456</td>\n",
       "    </tr>\n",
       "    <tr>\n",
       "      <th>1833764</th>\n",
       "      <td>1352477203</td>\n",
       "      <td>039A0001</td>\n",
       "      <td>2012-11-09</td>\n",
       "      <td>3804</td>\n",
       "      <td>-6.245325</td>\n",
       "      <td>53.328026</td>\n",
       "      <td>-239</td>\n",
       "      <td>777</td>\n",
       "      <td>3212.57</td>\n",
       "      <td>2012-11-09 16:06:43</td>\n",
       "      <td>Friday</td>\n",
       "      <td>479</td>\n",
       "    </tr>\n",
       "    <tr>\n",
       "      <th>1833925</th>\n",
       "      <td>1352477221</td>\n",
       "      <td>039A0001</td>\n",
       "      <td>2012-11-09</td>\n",
       "      <td>3804</td>\n",
       "      <td>-6.245288</td>\n",
       "      <td>53.328617</td>\n",
       "      <td>-239</td>\n",
       "      <td>779</td>\n",
       "      <td>3278.39</td>\n",
       "      <td>2012-11-09 16:07:01</td>\n",
       "      <td>Friday</td>\n",
       "      <td>497</td>\n",
       "    </tr>\n",
       "    <tr>\n",
       "      <th>1834156</th>\n",
       "      <td>1352477243</td>\n",
       "      <td>039A0001</td>\n",
       "      <td>2012-11-09</td>\n",
       "      <td>3804</td>\n",
       "      <td>-6.244733</td>\n",
       "      <td>53.329941</td>\n",
       "      <td>-261</td>\n",
       "      <td>779</td>\n",
       "      <td>3430.31</td>\n",
       "      <td>2012-11-09 16:07:23</td>\n",
       "      <td>Friday</td>\n",
       "      <td>519</td>\n",
       "    </tr>\n",
       "    <tr>\n",
       "      <th>1834312</th>\n",
       "      <td>1352477262</td>\n",
       "      <td>039A0001</td>\n",
       "      <td>2012-11-09</td>\n",
       "      <td>3804</td>\n",
       "      <td>-6.243685</td>\n",
       "      <td>53.332432</td>\n",
       "      <td>-319</td>\n",
       "      <td>780</td>\n",
       "      <td>3716.20</td>\n",
       "      <td>2012-11-09 16:07:42</td>\n",
       "      <td>Friday</td>\n",
       "      <td>538</td>\n",
       "    </tr>\n",
       "    <tr>\n",
       "      <th>1834486</th>\n",
       "      <td>1352477282</td>\n",
       "      <td>039A0001</td>\n",
       "      <td>2012-11-09</td>\n",
       "      <td>3804</td>\n",
       "      <td>-6.243499</td>\n",
       "      <td>53.332813</td>\n",
       "      <td>-319</td>\n",
       "      <td>781</td>\n",
       "      <td>3760.38</td>\n",
       "      <td>2012-11-09 16:08:02</td>\n",
       "      <td>Friday</td>\n",
       "      <td>558</td>\n",
       "    </tr>\n",
       "    <tr>\n",
       "      <th>1834858</th>\n",
       "      <td>1352477321</td>\n",
       "      <td>039A0001</td>\n",
       "      <td>2012-11-09</td>\n",
       "      <td>3804</td>\n",
       "      <td>-6.244539</td>\n",
       "      <td>53.333683</td>\n",
       "      <td>-319</td>\n",
       "      <td>782</td>\n",
       "      <td>3885.60</td>\n",
       "      <td>2012-11-09 16:08:41</td>\n",
       "      <td>Friday</td>\n",
       "      <td>597</td>\n",
       "    </tr>\n",
       "    <tr>\n",
       "      <th>1835046</th>\n",
       "      <td>1352477344</td>\n",
       "      <td>039A0001</td>\n",
       "      <td>2012-11-09</td>\n",
       "      <td>3804</td>\n",
       "      <td>-6.244626</td>\n",
       "      <td>53.333717</td>\n",
       "      <td>-292</td>\n",
       "      <td>782</td>\n",
       "      <td>3892.52</td>\n",
       "      <td>2012-11-09 16:09:04</td>\n",
       "      <td>Friday</td>\n",
       "      <td>620</td>\n",
       "    </tr>\n",
       "    <tr>\n",
       "      <th>1835559</th>\n",
       "      <td>1352477403</td>\n",
       "      <td>039A0001</td>\n",
       "      <td>2012-11-09</td>\n",
       "      <td>3804</td>\n",
       "      <td>-6.247881</td>\n",
       "      <td>53.336018</td>\n",
       "      <td>-328</td>\n",
       "      <td>783</td>\n",
       "      <td>4228.11</td>\n",
       "      <td>2012-11-09 16:10:03</td>\n",
       "      <td>Friday</td>\n",
       "      <td>679</td>\n",
       "    </tr>\n",
       "    <tr>\n",
       "      <th>1835758</th>\n",
       "      <td>1352477426</td>\n",
       "      <td>039A0001</td>\n",
       "      <td>2012-11-09</td>\n",
       "      <td>3804</td>\n",
       "      <td>-6.248614</td>\n",
       "      <td>53.336491</td>\n",
       "      <td>-328</td>\n",
       "      <td>784</td>\n",
       "      <td>4299.91</td>\n",
       "      <td>2012-11-09 16:10:26</td>\n",
       "      <td>Friday</td>\n",
       "      <td>702</td>\n",
       "    </tr>\n",
       "    <tr>\n",
       "      <th>1835920</th>\n",
       "      <td>1352477442</td>\n",
       "      <td>039A0001</td>\n",
       "      <td>2012-11-09</td>\n",
       "      <td>3804</td>\n",
       "      <td>-6.248904</td>\n",
       "      <td>53.336647</td>\n",
       "      <td>-311</td>\n",
       "      <td>784</td>\n",
       "      <td>4325.88</td>\n",
       "      <td>2012-11-09 16:10:42</td>\n",
       "      <td>Friday</td>\n",
       "      <td>718</td>\n",
       "    </tr>\n",
       "    <tr>\n",
       "      <th>1836818</th>\n",
       "      <td>1352477542</td>\n",
       "      <td>039A0001</td>\n",
       "      <td>2012-11-09</td>\n",
       "      <td>3804</td>\n",
       "      <td>-6.251895</td>\n",
       "      <td>53.337070</td>\n",
       "      <td>-283</td>\n",
       "      <td>785</td>\n",
       "      <td>4578.90</td>\n",
       "      <td>2012-11-09 16:12:22</td>\n",
       "      <td>Friday</td>\n",
       "      <td>818</td>\n",
       "    </tr>\n",
       "    <tr>\n",
       "      <th>1837987</th>\n",
       "      <td>1352477681</td>\n",
       "      <td>039A0001</td>\n",
       "      <td>2012-11-09</td>\n",
       "      <td>3804</td>\n",
       "      <td>-6.257164</td>\n",
       "      <td>53.336212</td>\n",
       "      <td>-282</td>\n",
       "      <td>786</td>\n",
       "      <td>5180.56</td>\n",
       "      <td>2012-11-09 16:14:41</td>\n",
       "      <td>Friday</td>\n",
       "      <td>957</td>\n",
       "    </tr>\n",
       "    <tr>\n",
       "      <th>1839563</th>\n",
       "      <td>1352477864</td>\n",
       "      <td>039A0001</td>\n",
       "      <td>2012-11-09</td>\n",
       "      <td>3804</td>\n",
       "      <td>-6.258005</td>\n",
       "      <td>53.342354</td>\n",
       "      <td>-332</td>\n",
       "      <td>793</td>\n",
       "      <td>5958.29</td>\n",
       "      <td>2012-11-09 16:17:44</td>\n",
       "      <td>Friday</td>\n",
       "      <td>1140</td>\n",
       "    </tr>\n",
       "    <tr>\n",
       "      <th>1839733</th>\n",
       "      <td>1352477884</td>\n",
       "      <td>039A0001</td>\n",
       "      <td>2012-11-09</td>\n",
       "      <td>3804</td>\n",
       "      <td>-6.257834</td>\n",
       "      <td>53.342918</td>\n",
       "      <td>-332</td>\n",
       "      <td>793</td>\n",
       "      <td>6022.08</td>\n",
       "      <td>2012-11-09 16:18:04</td>\n",
       "      <td>Friday</td>\n",
       "      <td>1160</td>\n",
       "    </tr>\n",
       "    <tr>\n",
       "      <th>1840053</th>\n",
       "      <td>1352477923</td>\n",
       "      <td>039A0001</td>\n",
       "      <td>2012-11-09</td>\n",
       "      <td>3804</td>\n",
       "      <td>-6.260246</td>\n",
       "      <td>53.343586</td>\n",
       "      <td>-332</td>\n",
       "      <td>794</td>\n",
       "      <td>6199.10</td>\n",
       "      <td>2012-11-09 16:18:43</td>\n",
       "      <td>Friday</td>\n",
       "      <td>1199</td>\n",
       "    </tr>\n",
       "    <tr>\n",
       "      <th>1840398</th>\n",
       "      <td>1352477964</td>\n",
       "      <td>039A0001</td>\n",
       "      <td>2012-11-09</td>\n",
       "      <td>3804</td>\n",
       "      <td>-6.260649</td>\n",
       "      <td>53.344440</td>\n",
       "      <td>-347</td>\n",
       "      <td>794</td>\n",
       "      <td>6297.86</td>\n",
       "      <td>2012-11-09 16:19:24</td>\n",
       "      <td>Friday</td>\n",
       "      <td>1240</td>\n",
       "    </tr>\n",
       "    <tr>\n",
       "      <th>1844565</th>\n",
       "      <td>1352478423</td>\n",
       "      <td>039A0001</td>\n",
       "      <td>2012-11-09</td>\n",
       "      <td>3804</td>\n",
       "      <td>-6.261075</td>\n",
       "      <td>53.346485</td>\n",
       "      <td>-58</td>\n",
       "      <td>328</td>\n",
       "      <td>6693.14</td>\n",
       "      <td>2012-11-09 16:27:03</td>\n",
       "      <td>Friday</td>\n",
       "      <td>1699</td>\n",
       "    </tr>\n",
       "    <tr>\n",
       "      <th>1844861</th>\n",
       "      <td>1352478443</td>\n",
       "      <td>039A0001</td>\n",
       "      <td>2012-11-09</td>\n",
       "      <td>3804</td>\n",
       "      <td>-6.261075</td>\n",
       "      <td>53.346485</td>\n",
       "      <td>-38</td>\n",
       "      <td>328</td>\n",
       "      <td>6693.14</td>\n",
       "      <td>2012-11-09 16:27:23</td>\n",
       "      <td>Friday</td>\n",
       "      <td>1719</td>\n",
       "    </tr>\n",
       "    <tr>\n",
       "      <th>...</th>\n",
       "      <td>...</td>\n",
       "      <td>...</td>\n",
       "      <td>...</td>\n",
       "      <td>...</td>\n",
       "      <td>...</td>\n",
       "      <td>...</td>\n",
       "      <td>...</td>\n",
       "      <td>...</td>\n",
       "      <td>...</td>\n",
       "      <td>...</td>\n",
       "      <td>...</td>\n",
       "      <td>...</td>\n",
       "    </tr>\n",
       "    <tr>\n",
       "      <th>1869582</th>\n",
       "      <td>1352481054</td>\n",
       "      <td>039A0001</td>\n",
       "      <td>2012-11-09</td>\n",
       "      <td>3804</td>\n",
       "      <td>-6.407109</td>\n",
       "      <td>53.401260</td>\n",
       "      <td>-470</td>\n",
       "      <td>1872</td>\n",
       "      <td>19752.76</td>\n",
       "      <td>2012-11-09 17:10:54</td>\n",
       "      <td>Friday</td>\n",
       "      <td>4330</td>\n",
       "    </tr>\n",
       "    <tr>\n",
       "      <th>1870159</th>\n",
       "      <td>1352481114</td>\n",
       "      <td>039A0001</td>\n",
       "      <td>2012-11-09</td>\n",
       "      <td>3804</td>\n",
       "      <td>-6.410526</td>\n",
       "      <td>53.401707</td>\n",
       "      <td>-470</td>\n",
       "      <td>1873</td>\n",
       "      <td>19992.23</td>\n",
       "      <td>2012-11-09 17:11:54</td>\n",
       "      <td>Friday</td>\n",
       "      <td>4390</td>\n",
       "    </tr>\n",
       "    <tr>\n",
       "      <th>1870544</th>\n",
       "      <td>1352481155</td>\n",
       "      <td>039A0001</td>\n",
       "      <td>2012-11-09</td>\n",
       "      <td>3804</td>\n",
       "      <td>-6.413592</td>\n",
       "      <td>53.400257</td>\n",
       "      <td>-470</td>\n",
       "      <td>1874</td>\n",
       "      <td>20256.27</td>\n",
       "      <td>2012-11-09 17:12:35</td>\n",
       "      <td>Friday</td>\n",
       "      <td>4431</td>\n",
       "    </tr>\n",
       "    <tr>\n",
       "      <th>1870706</th>\n",
       "      <td>1352481175</td>\n",
       "      <td>039A0001</td>\n",
       "      <td>2012-11-09</td>\n",
       "      <td>3804</td>\n",
       "      <td>-6.414614</td>\n",
       "      <td>53.399078</td>\n",
       "      <td>-470</td>\n",
       "      <td>1874</td>\n",
       "      <td>20404.05</td>\n",
       "      <td>2012-11-09 17:12:55</td>\n",
       "      <td>Friday</td>\n",
       "      <td>4451</td>\n",
       "    </tr>\n",
       "    <tr>\n",
       "      <th>1871264</th>\n",
       "      <td>1352481234</td>\n",
       "      <td>039A0001</td>\n",
       "      <td>2012-11-09</td>\n",
       "      <td>3804</td>\n",
       "      <td>-6.415223</td>\n",
       "      <td>53.398315</td>\n",
       "      <td>-433</td>\n",
       "      <td>1875</td>\n",
       "      <td>20498.13</td>\n",
       "      <td>2012-11-09 17:13:54</td>\n",
       "      <td>Friday</td>\n",
       "      <td>4510</td>\n",
       "    </tr>\n",
       "    <tr>\n",
       "      <th>1873409</th>\n",
       "      <td>1352481454</td>\n",
       "      <td>039A0001</td>\n",
       "      <td>2012-11-09</td>\n",
       "      <td>3804</td>\n",
       "      <td>-6.415548</td>\n",
       "      <td>53.397907</td>\n",
       "      <td>-233</td>\n",
       "      <td>1875</td>\n",
       "      <td>20548.42</td>\n",
       "      <td>2012-11-09 17:17:34</td>\n",
       "      <td>Friday</td>\n",
       "      <td>4730</td>\n",
       "    </tr>\n",
       "    <tr>\n",
       "      <th>1873615</th>\n",
       "      <td>1352481475</td>\n",
       "      <td>039A0001</td>\n",
       "      <td>2012-11-09</td>\n",
       "      <td>3804</td>\n",
       "      <td>-6.417182</td>\n",
       "      <td>53.395950</td>\n",
       "      <td>-250</td>\n",
       "      <td>1876</td>\n",
       "      <td>20791.84</td>\n",
       "      <td>2012-11-09 17:17:55</td>\n",
       "      <td>Friday</td>\n",
       "      <td>4751</td>\n",
       "    </tr>\n",
       "    <tr>\n",
       "      <th>1873999</th>\n",
       "      <td>1352481515</td>\n",
       "      <td>039A0001</td>\n",
       "      <td>2012-11-09</td>\n",
       "      <td>3804</td>\n",
       "      <td>-6.418577</td>\n",
       "      <td>53.393246</td>\n",
       "      <td>-281</td>\n",
       "      <td>1877</td>\n",
       "      <td>21108.36</td>\n",
       "      <td>2012-11-09 17:18:35</td>\n",
       "      <td>Friday</td>\n",
       "      <td>4791</td>\n",
       "    </tr>\n",
       "    <tr>\n",
       "      <th>1874363</th>\n",
       "      <td>1352481556</td>\n",
       "      <td>039A0001</td>\n",
       "      <td>2012-11-09</td>\n",
       "      <td>3804</td>\n",
       "      <td>-6.415507</td>\n",
       "      <td>53.391106</td>\n",
       "      <td>-262</td>\n",
       "      <td>1878</td>\n",
       "      <td>21447.09</td>\n",
       "      <td>2012-11-09 17:19:16</td>\n",
       "      <td>Friday</td>\n",
       "      <td>4832</td>\n",
       "    </tr>\n",
       "    <tr>\n",
       "      <th>1874570</th>\n",
       "      <td>1352481575</td>\n",
       "      <td>039A0001</td>\n",
       "      <td>2012-11-09</td>\n",
       "      <td>3804</td>\n",
       "      <td>-6.412903</td>\n",
       "      <td>53.390854</td>\n",
       "      <td>-262</td>\n",
       "      <td>1878</td>\n",
       "      <td>21622.59</td>\n",
       "      <td>2012-11-09 17:19:35</td>\n",
       "      <td>Friday</td>\n",
       "      <td>4851</td>\n",
       "    </tr>\n",
       "    <tr>\n",
       "      <th>1874922</th>\n",
       "      <td>1352481618</td>\n",
       "      <td>039A0001</td>\n",
       "      <td>2012-11-09</td>\n",
       "      <td>3804</td>\n",
       "      <td>-6.409411</td>\n",
       "      <td>53.391129</td>\n",
       "      <td>-240</td>\n",
       "      <td>1879</td>\n",
       "      <td>21857.15</td>\n",
       "      <td>2012-11-09 17:20:18</td>\n",
       "      <td>Friday</td>\n",
       "      <td>4894</td>\n",
       "    </tr>\n",
       "    <tr>\n",
       "      <th>1875126</th>\n",
       "      <td>1352481638</td>\n",
       "      <td>039A0001</td>\n",
       "      <td>2012-11-09</td>\n",
       "      <td>3804</td>\n",
       "      <td>-6.408781</td>\n",
       "      <td>53.391209</td>\n",
       "      <td>-240</td>\n",
       "      <td>1879</td>\n",
       "      <td>21900.00</td>\n",
       "      <td>2012-11-09 17:20:38</td>\n",
       "      <td>Friday</td>\n",
       "      <td>4914</td>\n",
       "    </tr>\n",
       "    <tr>\n",
       "      <th>1875484</th>\n",
       "      <td>1352481675</td>\n",
       "      <td>039A0001</td>\n",
       "      <td>2012-11-09</td>\n",
       "      <td>3804</td>\n",
       "      <td>-6.409485</td>\n",
       "      <td>53.387821</td>\n",
       "      <td>-221</td>\n",
       "      <td>1899</td>\n",
       "      <td>22281.28</td>\n",
       "      <td>2012-11-09 17:21:15</td>\n",
       "      <td>Friday</td>\n",
       "      <td>4951</td>\n",
       "    </tr>\n",
       "    <tr>\n",
       "      <th>1875699</th>\n",
       "      <td>1352481695</td>\n",
       "      <td>039A0001</td>\n",
       "      <td>2012-11-09</td>\n",
       "      <td>3804</td>\n",
       "      <td>-6.409681</td>\n",
       "      <td>53.387547</td>\n",
       "      <td>-204</td>\n",
       "      <td>1899</td>\n",
       "      <td>22314.45</td>\n",
       "      <td>2012-11-09 17:21:35</td>\n",
       "      <td>Friday</td>\n",
       "      <td>4971</td>\n",
       "    </tr>\n",
       "    <tr>\n",
       "      <th>1877047</th>\n",
       "      <td>1352481837</td>\n",
       "      <td>039A0001</td>\n",
       "      <td>2012-11-09</td>\n",
       "      <td>3804</td>\n",
       "      <td>-6.413132</td>\n",
       "      <td>53.387608</td>\n",
       "      <td>-101</td>\n",
       "      <td>6107</td>\n",
       "      <td>22550.99</td>\n",
       "      <td>2012-11-09 17:23:57</td>\n",
       "      <td>Friday</td>\n",
       "      <td>5113</td>\n",
       "    </tr>\n",
       "    <tr>\n",
       "      <th>1877443</th>\n",
       "      <td>1352481878</td>\n",
       "      <td>039A0001</td>\n",
       "      <td>2012-11-09</td>\n",
       "      <td>3804</td>\n",
       "      <td>-6.417458</td>\n",
       "      <td>53.388462</td>\n",
       "      <td>-79</td>\n",
       "      <td>6108</td>\n",
       "      <td>22854.10</td>\n",
       "      <td>2012-11-09 17:24:38</td>\n",
       "      <td>Friday</td>\n",
       "      <td>5154</td>\n",
       "    </tr>\n",
       "    <tr>\n",
       "      <th>1877863</th>\n",
       "      <td>1352481919</td>\n",
       "      <td>039A0001</td>\n",
       "      <td>2012-11-09</td>\n",
       "      <td>3804</td>\n",
       "      <td>-6.422529</td>\n",
       "      <td>53.389408</td>\n",
       "      <td>-79</td>\n",
       "      <td>6109</td>\n",
       "      <td>23207.54</td>\n",
       "      <td>2012-11-09 17:25:19</td>\n",
       "      <td>Friday</td>\n",
       "      <td>5195</td>\n",
       "    </tr>\n",
       "    <tr>\n",
       "      <th>1878436</th>\n",
       "      <td>1352481974</td>\n",
       "      <td>039A0001</td>\n",
       "      <td>2012-11-09</td>\n",
       "      <td>3804</td>\n",
       "      <td>-6.430048</td>\n",
       "      <td>53.390762</td>\n",
       "      <td>-61</td>\n",
       "      <td>6110</td>\n",
       "      <td>23729.99</td>\n",
       "      <td>2012-11-09 17:26:14</td>\n",
       "      <td>Friday</td>\n",
       "      <td>5250</td>\n",
       "    </tr>\n",
       "    <tr>\n",
       "      <th>1878835</th>\n",
       "      <td>1352482019</td>\n",
       "      <td>039A0001</td>\n",
       "      <td>2012-11-09</td>\n",
       "      <td>3804</td>\n",
       "      <td>-6.431097</td>\n",
       "      <td>53.394135</td>\n",
       "      <td>-81</td>\n",
       "      <td>7020</td>\n",
       "      <td>24125.52</td>\n",
       "      <td>2012-11-09 17:26:59</td>\n",
       "      <td>Friday</td>\n",
       "      <td>5295</td>\n",
       "    </tr>\n",
       "    <tr>\n",
       "      <th>1878978</th>\n",
       "      <td>1352482034</td>\n",
       "      <td>039A0001</td>\n",
       "      <td>2012-11-09</td>\n",
       "      <td>3804</td>\n",
       "      <td>-6.430372</td>\n",
       "      <td>53.395004</td>\n",
       "      <td>-61</td>\n",
       "      <td>7020</td>\n",
       "      <td>24233.59</td>\n",
       "      <td>2012-11-09 17:27:14</td>\n",
       "      <td>Friday</td>\n",
       "      <td>5310</td>\n",
       "    </tr>\n",
       "    <tr>\n",
       "      <th>1879186</th>\n",
       "      <td>1352482054</td>\n",
       "      <td>039A0001</td>\n",
       "      <td>2012-11-09</td>\n",
       "      <td>3804</td>\n",
       "      <td>-6.429473</td>\n",
       "      <td>53.395748</td>\n",
       "      <td>-61</td>\n",
       "      <td>7029</td>\n",
       "      <td>24335.73</td>\n",
       "      <td>2012-11-09 17:27:34</td>\n",
       "      <td>Friday</td>\n",
       "      <td>5330</td>\n",
       "    </tr>\n",
       "    <tr>\n",
       "      <th>1879531</th>\n",
       "      <td>1352482093</td>\n",
       "      <td>039A0001</td>\n",
       "      <td>2012-11-09</td>\n",
       "      <td>3804</td>\n",
       "      <td>-6.431028</td>\n",
       "      <td>53.398319</td>\n",
       "      <td>-44</td>\n",
       "      <td>7038</td>\n",
       "      <td>24675.25</td>\n",
       "      <td>2012-11-09 17:28:13</td>\n",
       "      <td>Friday</td>\n",
       "      <td>5369</td>\n",
       "    </tr>\n",
       "    <tr>\n",
       "      <th>1879959</th>\n",
       "      <td>1352482138</td>\n",
       "      <td>039A0001</td>\n",
       "      <td>2012-11-09</td>\n",
       "      <td>3804</td>\n",
       "      <td>-6.433917</td>\n",
       "      <td>53.400433</td>\n",
       "      <td>-44</td>\n",
       "      <td>7038</td>\n",
       "      <td>24979.03</td>\n",
       "      <td>2012-11-09 17:28:58</td>\n",
       "      <td>Friday</td>\n",
       "      <td>5414</td>\n",
       "    </tr>\n",
       "    <tr>\n",
       "      <th>1880104</th>\n",
       "      <td>1352482156</td>\n",
       "      <td>039A0001</td>\n",
       "      <td>2012-11-09</td>\n",
       "      <td>3804</td>\n",
       "      <td>-6.435445</td>\n",
       "      <td>53.401779</td>\n",
       "      <td>-44</td>\n",
       "      <td>7011</td>\n",
       "      <td>25160.05</td>\n",
       "      <td>2012-11-09 17:29:16</td>\n",
       "      <td>Friday</td>\n",
       "      <td>5432</td>\n",
       "    </tr>\n",
       "    <tr>\n",
       "      <th>1880328</th>\n",
       "      <td>1352482175</td>\n",
       "      <td>039A0001</td>\n",
       "      <td>2012-11-09</td>\n",
       "      <td>3804</td>\n",
       "      <td>-6.436399</td>\n",
       "      <td>53.402283</td>\n",
       "      <td>-21</td>\n",
       "      <td>7011</td>\n",
       "      <td>25244.74</td>\n",
       "      <td>2012-11-09 17:29:35</td>\n",
       "      <td>Friday</td>\n",
       "      <td>5451</td>\n",
       "    </tr>\n",
       "    <tr>\n",
       "      <th>1880878</th>\n",
       "      <td>1352482234</td>\n",
       "      <td>039A0001</td>\n",
       "      <td>2012-11-09</td>\n",
       "      <td>3804</td>\n",
       "      <td>-6.442216</td>\n",
       "      <td>53.397957</td>\n",
       "      <td>-21</td>\n",
       "      <td>2171</td>\n",
       "      <td>25879.45</td>\n",
       "      <td>2012-11-09 17:30:34</td>\n",
       "      <td>Friday</td>\n",
       "      <td>5510</td>\n",
       "    </tr>\n",
       "    <tr>\n",
       "      <th>1881063</th>\n",
       "      <td>1352482253</td>\n",
       "      <td>039A0001</td>\n",
       "      <td>2012-11-09</td>\n",
       "      <td>3804</td>\n",
       "      <td>-6.442657</td>\n",
       "      <td>53.396614</td>\n",
       "      <td>-21</td>\n",
       "      <td>2171</td>\n",
       "      <td>26031.77</td>\n",
       "      <td>2012-11-09 17:30:53</td>\n",
       "      <td>Friday</td>\n",
       "      <td>5529</td>\n",
       "    </tr>\n",
       "    <tr>\n",
       "      <th>1881232</th>\n",
       "      <td>1352482273</td>\n",
       "      <td>039A0001</td>\n",
       "      <td>2012-11-09</td>\n",
       "      <td>3804</td>\n",
       "      <td>-6.442885</td>\n",
       "      <td>53.395859</td>\n",
       "      <td>-4</td>\n",
       "      <td>7160</td>\n",
       "      <td>26117.15</td>\n",
       "      <td>2012-11-09 17:31:13</td>\n",
       "      <td>Friday</td>\n",
       "      <td>5549</td>\n",
       "    </tr>\n",
       "    <tr>\n",
       "      <th>1881611</th>\n",
       "      <td>1352482315</td>\n",
       "      <td>039A0001</td>\n",
       "      <td>2012-11-09</td>\n",
       "      <td>3804</td>\n",
       "      <td>-6.440621</td>\n",
       "      <td>53.392651</td>\n",
       "      <td>-4</td>\n",
       "      <td>7047</td>\n",
       "      <td>26660.93</td>\n",
       "      <td>2012-11-09 17:31:55</td>\n",
       "      <td>Friday</td>\n",
       "      <td>5591</td>\n",
       "    </tr>\n",
       "    <tr>\n",
       "      <th>1882100</th>\n",
       "      <td>1352482358</td>\n",
       "      <td>039A0001</td>\n",
       "      <td>2012-11-09</td>\n",
       "      <td>3804</td>\n",
       "      <td>-6.436800</td>\n",
       "      <td>53.391613</td>\n",
       "      <td>-4</td>\n",
       "      <td>7161</td>\n",
       "      <td>26940.19</td>\n",
       "      <td>2012-11-09 17:32:38</td>\n",
       "      <td>Friday</td>\n",
       "      <td>5634</td>\n",
       "    </tr>\n",
       "  </tbody>\n",
       "</table>\n",
       "<p>92 rows × 12 columns</p>\n",
       "</div>"
      ],
      "text/plain": [
       "          Timestamp Journey_Pattern_ID        Date Vehicle_Journey_ID  \\\n",
       "1829452  1352476724           039A0001  2012-11-09               3804   \n",
       "1830348  1352476822           039A0001  2012-11-09               3804   \n",
       "1830891  1352476882           039A0001  2012-11-09               3804   \n",
       "1831079  1352476902           039A0001  2012-11-09               3804   \n",
       "1831942  1352476999           039A0001  2012-11-09               3804   \n",
       "1831989  1352477003           039A0001  2012-11-09               3804   \n",
       "1832307  1352477041           039A0001  2012-11-09               3804   \n",
       "1832686  1352477084           039A0001  2012-11-09               3804   \n",
       "1832885  1352477103           039A0001  2012-11-09               3804   \n",
       "1833248  1352477144           039A0001  2012-11-09               3804   \n",
       "1833385  1352477162           039A0001  2012-11-09               3804   \n",
       "1833562  1352477180           039A0001  2012-11-09               3804   \n",
       "1833764  1352477203           039A0001  2012-11-09               3804   \n",
       "1833925  1352477221           039A0001  2012-11-09               3804   \n",
       "1834156  1352477243           039A0001  2012-11-09               3804   \n",
       "1834312  1352477262           039A0001  2012-11-09               3804   \n",
       "1834486  1352477282           039A0001  2012-11-09               3804   \n",
       "1834858  1352477321           039A0001  2012-11-09               3804   \n",
       "1835046  1352477344           039A0001  2012-11-09               3804   \n",
       "1835559  1352477403           039A0001  2012-11-09               3804   \n",
       "1835758  1352477426           039A0001  2012-11-09               3804   \n",
       "1835920  1352477442           039A0001  2012-11-09               3804   \n",
       "1836818  1352477542           039A0001  2012-11-09               3804   \n",
       "1837987  1352477681           039A0001  2012-11-09               3804   \n",
       "1839563  1352477864           039A0001  2012-11-09               3804   \n",
       "1839733  1352477884           039A0001  2012-11-09               3804   \n",
       "1840053  1352477923           039A0001  2012-11-09               3804   \n",
       "1840398  1352477964           039A0001  2012-11-09               3804   \n",
       "1844565  1352478423           039A0001  2012-11-09               3804   \n",
       "1844861  1352478443           039A0001  2012-11-09               3804   \n",
       "...             ...                ...         ...                ...   \n",
       "1869582  1352481054           039A0001  2012-11-09               3804   \n",
       "1870159  1352481114           039A0001  2012-11-09               3804   \n",
       "1870544  1352481155           039A0001  2012-11-09               3804   \n",
       "1870706  1352481175           039A0001  2012-11-09               3804   \n",
       "1871264  1352481234           039A0001  2012-11-09               3804   \n",
       "1873409  1352481454           039A0001  2012-11-09               3804   \n",
       "1873615  1352481475           039A0001  2012-11-09               3804   \n",
       "1873999  1352481515           039A0001  2012-11-09               3804   \n",
       "1874363  1352481556           039A0001  2012-11-09               3804   \n",
       "1874570  1352481575           039A0001  2012-11-09               3804   \n",
       "1874922  1352481618           039A0001  2012-11-09               3804   \n",
       "1875126  1352481638           039A0001  2012-11-09               3804   \n",
       "1875484  1352481675           039A0001  2012-11-09               3804   \n",
       "1875699  1352481695           039A0001  2012-11-09               3804   \n",
       "1877047  1352481837           039A0001  2012-11-09               3804   \n",
       "1877443  1352481878           039A0001  2012-11-09               3804   \n",
       "1877863  1352481919           039A0001  2012-11-09               3804   \n",
       "1878436  1352481974           039A0001  2012-11-09               3804   \n",
       "1878835  1352482019           039A0001  2012-11-09               3804   \n",
       "1878978  1352482034           039A0001  2012-11-09               3804   \n",
       "1879186  1352482054           039A0001  2012-11-09               3804   \n",
       "1879531  1352482093           039A0001  2012-11-09               3804   \n",
       "1879959  1352482138           039A0001  2012-11-09               3804   \n",
       "1880104  1352482156           039A0001  2012-11-09               3804   \n",
       "1880328  1352482175           039A0001  2012-11-09               3804   \n",
       "1880878  1352482234           039A0001  2012-11-09               3804   \n",
       "1881063  1352482253           039A0001  2012-11-09               3804   \n",
       "1881232  1352482273           039A0001  2012-11-09               3804   \n",
       "1881611  1352482315           039A0001  2012-11-09               3804   \n",
       "1882100  1352482358           039A0001  2012-11-09               3804   \n",
       "\n",
       "         Lon_WGS84  Lat_WGS84  Delay Stop_ID  Distance_Terminal  \\\n",
       "1829452  -6.216970  53.306770   -103     767               0.00   \n",
       "1830348  -6.218855  53.309505    -99     768             472.67   \n",
       "1830891  -6.219975  53.310287    -59     768             587.33   \n",
       "1831079  -6.221674  53.312637    -88     769             872.33   \n",
       "1831942  -6.225667  53.314777    -34     770            1235.52   \n",
       "1831989  -6.227878  53.316151    -57     771            1447.88   \n",
       "1832307  -6.231356  53.318680    -57     772            1812.49   \n",
       "1832686  -6.234359  53.320904    -96     773            2130.78   \n",
       "1832885  -6.237105  53.322258   -133     774            2367.83   \n",
       "1833248  -6.239009  53.323555   -133     775            2560.37   \n",
       "1833385  -6.240701  53.324837   -158     775            2742.22   \n",
       "1833562  -6.243092  53.326614   -200     776            2996.17   \n",
       "1833764  -6.245325  53.328026   -239     777            3212.57   \n",
       "1833925  -6.245288  53.328617   -239     779            3278.39   \n",
       "1834156  -6.244733  53.329941   -261     779            3430.31   \n",
       "1834312  -6.243685  53.332432   -319     780            3716.20   \n",
       "1834486  -6.243499  53.332813   -319     781            3760.38   \n",
       "1834858  -6.244539  53.333683   -319     782            3885.60   \n",
       "1835046  -6.244626  53.333717   -292     782            3892.52   \n",
       "1835559  -6.247881  53.336018   -328     783            4228.11   \n",
       "1835758  -6.248614  53.336491   -328     784            4299.91   \n",
       "1835920  -6.248904  53.336647   -311     784            4325.88   \n",
       "1836818  -6.251895  53.337070   -283     785            4578.90   \n",
       "1837987  -6.257164  53.336212   -282     786            5180.56   \n",
       "1839563  -6.258005  53.342354   -332     793            5958.29   \n",
       "1839733  -6.257834  53.342918   -332     793            6022.08   \n",
       "1840053  -6.260246  53.343586   -332     794            6199.10   \n",
       "1840398  -6.260649  53.344440   -347     794            6297.86   \n",
       "1844565  -6.261075  53.346485    -58     328            6693.14   \n",
       "1844861  -6.261075  53.346485    -38     328            6693.14   \n",
       "...            ...        ...    ...     ...                ...   \n",
       "1869582  -6.407109  53.401260   -470    1872           19752.76   \n",
       "1870159  -6.410526  53.401707   -470    1873           19992.23   \n",
       "1870544  -6.413592  53.400257   -470    1874           20256.27   \n",
       "1870706  -6.414614  53.399078   -470    1874           20404.05   \n",
       "1871264  -6.415223  53.398315   -433    1875           20498.13   \n",
       "1873409  -6.415548  53.397907   -233    1875           20548.42   \n",
       "1873615  -6.417182  53.395950   -250    1876           20791.84   \n",
       "1873999  -6.418577  53.393246   -281    1877           21108.36   \n",
       "1874363  -6.415507  53.391106   -262    1878           21447.09   \n",
       "1874570  -6.412903  53.390854   -262    1878           21622.59   \n",
       "1874922  -6.409411  53.391129   -240    1879           21857.15   \n",
       "1875126  -6.408781  53.391209   -240    1879           21900.00   \n",
       "1875484  -6.409485  53.387821   -221    1899           22281.28   \n",
       "1875699  -6.409681  53.387547   -204    1899           22314.45   \n",
       "1877047  -6.413132  53.387608   -101    6107           22550.99   \n",
       "1877443  -6.417458  53.388462    -79    6108           22854.10   \n",
       "1877863  -6.422529  53.389408    -79    6109           23207.54   \n",
       "1878436  -6.430048  53.390762    -61    6110           23729.99   \n",
       "1878835  -6.431097  53.394135    -81    7020           24125.52   \n",
       "1878978  -6.430372  53.395004    -61    7020           24233.59   \n",
       "1879186  -6.429473  53.395748    -61    7029           24335.73   \n",
       "1879531  -6.431028  53.398319    -44    7038           24675.25   \n",
       "1879959  -6.433917  53.400433    -44    7038           24979.03   \n",
       "1880104  -6.435445  53.401779    -44    7011           25160.05   \n",
       "1880328  -6.436399  53.402283    -21    7011           25244.74   \n",
       "1880878  -6.442216  53.397957    -21    2171           25879.45   \n",
       "1881063  -6.442657  53.396614    -21    2171           26031.77   \n",
       "1881232  -6.442885  53.395859     -4    7160           26117.15   \n",
       "1881611  -6.440621  53.392651     -4    7047           26660.93   \n",
       "1882100  -6.436800  53.391613     -4    7161           26940.19   \n",
       "\n",
       "                    datetime day_of_week  Trip_Time  \n",
       "1829452  2012-11-09 15:58:44      Friday          0  \n",
       "1830348  2012-11-09 16:00:22      Friday         98  \n",
       "1830891  2012-11-09 16:01:22      Friday        158  \n",
       "1831079  2012-11-09 16:01:42      Friday        178  \n",
       "1831942  2012-11-09 16:03:19      Friday        275  \n",
       "1831989  2012-11-09 16:03:23      Friday        279  \n",
       "1832307  2012-11-09 16:04:01      Friday        317  \n",
       "1832686  2012-11-09 16:04:44      Friday        360  \n",
       "1832885  2012-11-09 16:05:03      Friday        379  \n",
       "1833248  2012-11-09 16:05:44      Friday        420  \n",
       "1833385  2012-11-09 16:06:02      Friday        438  \n",
       "1833562  2012-11-09 16:06:20      Friday        456  \n",
       "1833764  2012-11-09 16:06:43      Friday        479  \n",
       "1833925  2012-11-09 16:07:01      Friday        497  \n",
       "1834156  2012-11-09 16:07:23      Friday        519  \n",
       "1834312  2012-11-09 16:07:42      Friday        538  \n",
       "1834486  2012-11-09 16:08:02      Friday        558  \n",
       "1834858  2012-11-09 16:08:41      Friday        597  \n",
       "1835046  2012-11-09 16:09:04      Friday        620  \n",
       "1835559  2012-11-09 16:10:03      Friday        679  \n",
       "1835758  2012-11-09 16:10:26      Friday        702  \n",
       "1835920  2012-11-09 16:10:42      Friday        718  \n",
       "1836818  2012-11-09 16:12:22      Friday        818  \n",
       "1837987  2012-11-09 16:14:41      Friday        957  \n",
       "1839563  2012-11-09 16:17:44      Friday       1140  \n",
       "1839733  2012-11-09 16:18:04      Friday       1160  \n",
       "1840053  2012-11-09 16:18:43      Friday       1199  \n",
       "1840398  2012-11-09 16:19:24      Friday       1240  \n",
       "1844565  2012-11-09 16:27:03      Friday       1699  \n",
       "1844861  2012-11-09 16:27:23      Friday       1719  \n",
       "...                      ...         ...        ...  \n",
       "1869582  2012-11-09 17:10:54      Friday       4330  \n",
       "1870159  2012-11-09 17:11:54      Friday       4390  \n",
       "1870544  2012-11-09 17:12:35      Friday       4431  \n",
       "1870706  2012-11-09 17:12:55      Friday       4451  \n",
       "1871264  2012-11-09 17:13:54      Friday       4510  \n",
       "1873409  2012-11-09 17:17:34      Friday       4730  \n",
       "1873615  2012-11-09 17:17:55      Friday       4751  \n",
       "1873999  2012-11-09 17:18:35      Friday       4791  \n",
       "1874363  2012-11-09 17:19:16      Friday       4832  \n",
       "1874570  2012-11-09 17:19:35      Friday       4851  \n",
       "1874922  2012-11-09 17:20:18      Friday       4894  \n",
       "1875126  2012-11-09 17:20:38      Friday       4914  \n",
       "1875484  2012-11-09 17:21:15      Friday       4951  \n",
       "1875699  2012-11-09 17:21:35      Friday       4971  \n",
       "1877047  2012-11-09 17:23:57      Friday       5113  \n",
       "1877443  2012-11-09 17:24:38      Friday       5154  \n",
       "1877863  2012-11-09 17:25:19      Friday       5195  \n",
       "1878436  2012-11-09 17:26:14      Friday       5250  \n",
       "1878835  2012-11-09 17:26:59      Friday       5295  \n",
       "1878978  2012-11-09 17:27:14      Friday       5310  \n",
       "1879186  2012-11-09 17:27:34      Friday       5330  \n",
       "1879531  2012-11-09 17:28:13      Friday       5369  \n",
       "1879959  2012-11-09 17:28:58      Friday       5414  \n",
       "1880104  2012-11-09 17:29:16      Friday       5432  \n",
       "1880328  2012-11-09 17:29:35      Friday       5451  \n",
       "1880878  2012-11-09 17:30:34      Friday       5510  \n",
       "1881063  2012-11-09 17:30:53      Friday       5529  \n",
       "1881232  2012-11-09 17:31:13      Friday       5549  \n",
       "1881611  2012-11-09 17:31:55      Friday       5591  \n",
       "1882100  2012-11-09 17:32:38      Friday       5634  \n",
       "\n",
       "[92 rows x 12 columns]"
      ]
     },
     "execution_count": 37,
     "metadata": {},
     "output_type": "execute_result"
    }
   ],
   "source": [
    "df_max_trip=df.loc[(df['Vehicle_Journey_ID']==3804) & (df['day_of_week']=='Friday')]\n",
    "df_max_trip"
   ]
  },
  {
   "cell_type": "code",
   "execution_count": 38,
   "metadata": {
    "collapsed": false
   },
   "outputs": [
    {
     "data": {
      "text/plain": [
       "11643.083201606076"
      ]
     },
     "execution_count": 38,
     "metadata": {},
     "output_type": "execute_result"
    }
   ],
   "source": [
    "from geopy.distance import distance\n",
    "\n",
    "distance((53.353233, -6.274066), (53.391613, -6.436800)).meters"
   ]
  },
  {
   "cell_type": "code",
   "execution_count": 39,
   "metadata": {
    "collapsed": false
   },
   "outputs": [],
   "source": [
    "df=df.drop(df.index[df['Distance_Terminal']>50000])"
   ]
  },
  {
   "cell_type": "markdown",
   "metadata": {},
   "source": [
    "## Prepare a table with descriptive statistics for all categorical features"
   ]
  },
  {
   "cell_type": "code",
   "execution_count": 40,
   "metadata": {
    "collapsed": false
   },
   "outputs": [
    {
     "data": {
      "text/plain": [
       "<matplotlib.figure.Figure at 0x1bc86e5fbe0>"
      ]
     },
     "metadata": {},
     "output_type": "display_data"
    }
   ],
   "source": [
    "df[categorical_features].describe().T\n",
    "plt.savefig('desc_stats_categorical_week1_v1.png')"
   ]
  },
  {
   "cell_type": "markdown",
   "metadata": {},
   "source": [
    "## Drop duplicate rows and columns, if any"
   ]
  },
  {
   "cell_type": "code",
   "execution_count": 41,
   "metadata": {
    "collapsed": false
   },
   "outputs": [
    {
     "data": {
      "text/plain": [
       "(3166987, 12)"
      ]
     },
     "execution_count": 41,
     "metadata": {},
     "output_type": "execute_result"
    }
   ],
   "source": [
    "df.drop_duplicates(keep='first')\n",
    "df.shape"
   ]
  },
  {
   "cell_type": "code",
   "execution_count": 42,
   "metadata": {
    "collapsed": false
   },
   "outputs": [
    {
     "data": {
      "text/html": [
       "<div>\n",
       "<table border=\"1\" class=\"dataframe\">\n",
       "  <thead>\n",
       "    <tr style=\"text-align: right;\">\n",
       "      <th></th>\n",
       "      <th>Timestamp</th>\n",
       "      <th>Journey_Pattern_ID</th>\n",
       "      <th>Date</th>\n",
       "      <th>Vehicle_Journey_ID</th>\n",
       "      <th>Lon_WGS84</th>\n",
       "      <th>Lat_WGS84</th>\n",
       "      <th>Delay</th>\n",
       "      <th>Stop_ID</th>\n",
       "      <th>Distance_Terminal</th>\n",
       "      <th>datetime</th>\n",
       "      <th>day_of_week</th>\n",
       "      <th>Trip_Time</th>\n",
       "    </tr>\n",
       "  </thead>\n",
       "  <tbody>\n",
       "    <tr>\n",
       "      <th>0</th>\n",
       "      <td>1352160000</td>\n",
       "      <td>00150001</td>\n",
       "      <td>2012-11-05</td>\n",
       "      <td>5826</td>\n",
       "      <td>-6.258584</td>\n",
       "      <td>53.340099</td>\n",
       "      <td>-361</td>\n",
       "      <td>4870</td>\n",
       "      <td>0.0</td>\n",
       "      <td>2012-11-06 00:00:00</td>\n",
       "      <td>Tuesday</td>\n",
       "      <td>0</td>\n",
       "    </tr>\n",
       "    <tr>\n",
       "      <th>1</th>\n",
       "      <td>1352160000</td>\n",
       "      <td>046A1002</td>\n",
       "      <td>2012-11-05</td>\n",
       "      <td>7267</td>\n",
       "      <td>-6.259093</td>\n",
       "      <td>53.345425</td>\n",
       "      <td>-1101</td>\n",
       "      <td>794</td>\n",
       "      <td>0.0</td>\n",
       "      <td>2012-11-06 00:00:00</td>\n",
       "      <td>Tuesday</td>\n",
       "      <td>0</td>\n",
       "    </tr>\n",
       "    <tr>\n",
       "      <th>2</th>\n",
       "      <td>1352160000</td>\n",
       "      <td>00140001</td>\n",
       "      <td>2012-11-05</td>\n",
       "      <td>6206</td>\n",
       "      <td>-6.257329</td>\n",
       "      <td>53.287521</td>\n",
       "      <td>-126</td>\n",
       "      <td>1047</td>\n",
       "      <td>0.0</td>\n",
       "      <td>2012-11-06 00:00:00</td>\n",
       "      <td>Tuesday</td>\n",
       "      <td>0</td>\n",
       "    </tr>\n",
       "  </tbody>\n",
       "</table>\n",
       "</div>"
      ],
      "text/plain": [
       "    Timestamp Journey_Pattern_ID        Date Vehicle_Journey_ID  Lon_WGS84  \\\n",
       "0  1352160000           00150001  2012-11-05               5826  -6.258584   \n",
       "1  1352160000           046A1002  2012-11-05               7267  -6.259093   \n",
       "2  1352160000           00140001  2012-11-05               6206  -6.257329   \n",
       "\n",
       "   Lat_WGS84  Delay Stop_ID  Distance_Terminal             datetime  \\\n",
       "0  53.340099   -361    4870                0.0  2012-11-06 00:00:00   \n",
       "1  53.345425  -1101     794                0.0  2012-11-06 00:00:00   \n",
       "2  53.287521   -126    1047                0.0  2012-11-06 00:00:00   \n",
       "\n",
       "  day_of_week  Trip_Time  \n",
       "0     Tuesday          0  \n",
       "1     Tuesday          0  \n",
       "2     Tuesday          0  "
      ]
     },
     "execution_count": 42,
     "metadata": {},
     "output_type": "execute_result"
    }
   ],
   "source": [
    "df.head(3)"
   ]
  },
  {
   "cell_type": "markdown",
   "metadata": {},
   "source": [
    "## Drop constance columns, if any"
   ]
  },
  {
   "cell_type": "markdown",
   "metadata": {},
   "source": [
    "## Prepare descriptive stats for new df"
   ]
  },
  {
   "cell_type": "markdown",
   "metadata": {},
   "source": [
    "## For Continuous Features"
   ]
  },
  {
   "cell_type": "code",
   "execution_count": 44,
   "metadata": {
    "collapsed": false
   },
   "outputs": [
    {
     "data": {
      "text/plain": [
       "<matplotlib.figure.Figure at 0x1bc86dc3f60>"
      ]
     },
     "metadata": {},
     "output_type": "display_data"
    }
   ],
   "source": [
    "df[continuous_features].describe(include=\"all\").T\n",
    "plt.savefig('desc_stats_continuous_week1_v1_t2.png')\n",
    "# how to include cardinality and % of missing values? "
   ]
  },
  {
   "cell_type": "code",
   "execution_count": 45,
   "metadata": {
    "collapsed": false
   },
   "outputs": [
    {
     "data": {
      "text/plain": [
       "Distance_Terminal    0\n",
       "Trip_Time            0\n",
       "Timestamp            0\n",
       "dtype: int64"
      ]
     },
     "execution_count": 45,
     "metadata": {},
     "output_type": "execute_result"
    }
   ],
   "source": [
    "# check for missing values\n",
    "df[continuous_features].isnull().sum()"
   ]
  },
  {
   "cell_type": "code",
   "execution_count": 46,
   "metadata": {
    "collapsed": false
   },
   "outputs": [
    {
     "data": {
      "text/plain": [
       "<matplotlib.figure.Figure at 0x1bc870301d0>"
      ]
     },
     "metadata": {},
     "output_type": "display_data"
    }
   ],
   "source": [
    "# check cardinality\n",
    "card_list = []\n",
    "count_list = []\n",
    "continuous_columns = df[continuous_features].columns\n",
    "for column in continuous_columns:\n",
    "    card_list.append(df[column].nunique())\n",
    "    count_list.append(df[column].count())\n",
    "    \n",
    "df_cardinality = pd.DataFrame({'Feature': continuous_features, 'Card': card_list, 'Count': count_list})\n",
    "plt.savefig('cardinality_continuous_week1_v1.png')"
   ]
  },
  {
   "cell_type": "code",
   "execution_count": 47,
   "metadata": {
    "collapsed": false,
    "scrolled": true
   },
   "outputs": [
    {
     "data": {
      "text/html": [
       "<div>\n",
       "<table border=\"1\" class=\"dataframe\">\n",
       "  <thead>\n",
       "    <tr style=\"text-align: right;\">\n",
       "      <th></th>\n",
       "      <th>Card</th>\n",
       "      <th>Count</th>\n",
       "      <th>Feature</th>\n",
       "    </tr>\n",
       "  </thead>\n",
       "  <tbody>\n",
       "    <tr>\n",
       "      <th>0</th>\n",
       "      <td>1760571</td>\n",
       "      <td>3166987</td>\n",
       "      <td>Distance_Terminal</td>\n",
       "    </tr>\n",
       "    <tr>\n",
       "      <th>1</th>\n",
       "      <td>8554</td>\n",
       "      <td>3166987</td>\n",
       "      <td>Trip_Time</td>\n",
       "    </tr>\n",
       "    <tr>\n",
       "      <th>2</th>\n",
       "      <td>183168</td>\n",
       "      <td>3166987</td>\n",
       "      <td>Timestamp</td>\n",
       "    </tr>\n",
       "  </tbody>\n",
       "</table>\n",
       "</div>"
      ],
      "text/plain": [
       "      Card    Count            Feature\n",
       "0  1760571  3166987  Distance_Terminal\n",
       "1     8554  3166987          Trip_Time\n",
       "2   183168  3166987          Timestamp"
      ]
     },
     "execution_count": 47,
     "metadata": {},
     "output_type": "execute_result"
    }
   ],
   "source": [
    "df_cardinality"
   ]
  },
  {
   "cell_type": "markdown",
   "metadata": {},
   "source": [
    "## For Categorical Features"
   ]
  },
  {
   "cell_type": "markdown",
   "metadata": {},
   "source": [
    "### Notes from machinelearningbook.com\n",
    "\"The table in the data quality report that describes categorical features should include a row for each feature in the ABT that contains the two most frequent levels for the feature (the mode and 2nd mode) and the frequency with which these appear (both as raw frequencies and as a proportion of the total number of instances in the dataset). Each row should also include the percentage of instances in the ABT that are missing a value for the feature and the cardinality of the feature.\" - p56"
   ]
  },
  {
   "cell_type": "code",
   "execution_count": 48,
   "metadata": {
    "collapsed": false
   },
   "outputs": [
    {
     "name": "stdout",
     "output_type": "stream",
     "text": [
      "['Journey_Pattern_ID', 'Date', 'Vehicle_Journey_ID', 'day_of_week']\n"
     ]
    },
    {
     "data": {
      "text/plain": [
       "<matplotlib.figure.Figure at 0x1bc86d9e240>"
      ]
     },
     "metadata": {},
     "output_type": "display_data"
    }
   ],
   "source": [
    "# remove at_stop from list of categorical features\n",
    "#categorical_features.pop(7)\n",
    "print(categorical_features)\n",
    "df[categorical_features].describe().T\n",
    "plt.savefig('desc_stats_categorical_week1_v1_t2.png')"
   ]
  },
  {
   "cell_type": "code",
   "execution_count": 49,
   "metadata": {
    "collapsed": false
   },
   "outputs": [
    {
     "data": {
      "text/plain": [
       "Journey_Pattern_ID    0\n",
       "Date                  0\n",
       "Vehicle_Journey_ID    0\n",
       "day_of_week           0\n",
       "dtype: int64"
      ]
     },
     "execution_count": 49,
     "metadata": {},
     "output_type": "execute_result"
    }
   ],
   "source": [
    "# check for missing values\n",
    "df[categorical_features].isnull().sum()"
   ]
  },
  {
   "cell_type": "code",
   "execution_count": 50,
   "metadata": {
    "collapsed": false
   },
   "outputs": [
    {
     "data": {
      "text/plain": [
       "<matplotlib.figure.Figure at 0x1bc86d90ef0>"
      ]
     },
     "metadata": {},
     "output_type": "display_data"
    }
   ],
   "source": [
    "# check cardinality\n",
    "card_list = []\n",
    "count_list = []\n",
    "categorical_columns = df[categorical_features].columns\n",
    "for column in categorical_columns:\n",
    "    card_list.append(df[column].nunique())\n",
    "    count_list.append(df[column].count())\n",
    "    \n",
    "df_cardinality_cat = pd.DataFrame({'Feature': categorical_features, 'Card': card_list, 'Count': count_list})\n",
    "plt.savefig('cardinality_categorical_week1_v1.png')"
   ]
  },
  {
   "cell_type": "code",
   "execution_count": 51,
   "metadata": {
    "collapsed": false
   },
   "outputs": [
    {
     "data": {
      "text/html": [
       "<div>\n",
       "<table border=\"1\" class=\"dataframe\">\n",
       "  <thead>\n",
       "    <tr style=\"text-align: right;\">\n",
       "      <th></th>\n",
       "      <th>Card</th>\n",
       "      <th>Count</th>\n",
       "      <th>Feature</th>\n",
       "    </tr>\n",
       "  </thead>\n",
       "  <tbody>\n",
       "    <tr>\n",
       "      <th>0</th>\n",
       "      <td>471</td>\n",
       "      <td>3166987</td>\n",
       "      <td>Journey_Pattern_ID</td>\n",
       "    </tr>\n",
       "    <tr>\n",
       "      <th>1</th>\n",
       "      <td>8</td>\n",
       "      <td>3166987</td>\n",
       "      <td>Date</td>\n",
       "    </tr>\n",
       "    <tr>\n",
       "      <th>2</th>\n",
       "      <td>17400</td>\n",
       "      <td>3166987</td>\n",
       "      <td>Vehicle_Journey_ID</td>\n",
       "    </tr>\n",
       "    <tr>\n",
       "      <th>3</th>\n",
       "      <td>7</td>\n",
       "      <td>3166987</td>\n",
       "      <td>day_of_week</td>\n",
       "    </tr>\n",
       "  </tbody>\n",
       "</table>\n",
       "</div>"
      ],
      "text/plain": [
       "    Card    Count             Feature\n",
       "0    471  3166987  Journey_Pattern_ID\n",
       "1      8  3166987                Date\n",
       "2  17400  3166987  Vehicle_Journey_ID\n",
       "3      7  3166987         day_of_week"
      ]
     },
     "execution_count": 51,
     "metadata": {},
     "output_type": "execute_result"
    }
   ],
   "source": [
    "df_cardinality_cat"
   ]
  },
  {
   "cell_type": "markdown",
   "metadata": {},
   "source": [
    "## Plot histograms for all continuous features"
   ]
  },
  {
   "cell_type": "code",
   "execution_count": 52,
   "metadata": {
    "collapsed": false
   },
   "outputs": [
    {
     "data": {
      "image/png": "[encoded data removed]",
      "text/plain": [
       "<matplotlib.figure.Figure at 0x1bc86d90d68>"
      ]
     },
     "metadata": {},
     "output_type": "display_data"
    }
   ],
   "source": [
    "continuous_columns = df[continuous_features].columns\n",
    "df[continuous_columns].hist(figsize=(15, 15))\n",
    "plt.savefig('histograms_continuous_week1_v1.jpg')"
   ]
  },
  {
   "cell_type": "code",
   "execution_count": null,
   "metadata": {
    "collapsed": true
   },
   "outputs": [],
   "source": []
  },
  {
   "cell_type": "markdown",
   "metadata": {},
   "source": [
    "## Plot Box Plots for all Continuous Features"
   ]
  },
  {
   "cell_type": "code",
   "execution_count": 53,
   "metadata": {
    "collapsed": false
   },
   "outputs": [
    {
     "data": {
      "image/png": "[encoded data removed]",
      "text/plain": [
       "<matplotlib.figure.Figure at 0x1bc86189128>"
      ]
     },
     "metadata": {},
     "output_type": "display_data"
    },
    {
     "data": {
      "image/png": "[encoded data removed]",
      "text/plain": [
       "<matplotlib.figure.Figure at 0x1bcef0ffdd8>"
      ]
     },
     "metadata": {},
     "output_type": "display_data"
    },
    {
     "data": {
      "image/png": "[encoded data removed]",
      "text/plain": [
       "<matplotlib.figure.Figure at 0x1bcef1ae908>"
      ]
     },
     "metadata": {},
     "output_type": "display_data"
    }
   ],
   "source": [
    "%matplotlib inline\n",
    "\n",
    "for col in continuous_columns:\n",
    "    f = df[col].plot(kind='box', figsize=(5, 5))\n",
    "    plt.savefig(col + '_boxplot_week1_v1.jpg')\n",
    "    plt.show()"
   ]
  },
  {
   "cell_type": "markdown",
   "metadata": {},
   "source": [
    "## Plot Bar Plots for all the Categorical Features"
   ]
  },
  {
   "cell_type": "code",
   "execution_count": 54,
   "metadata": {
    "collapsed": false
   },
   "outputs": [
    {
     "data": {
      "image/png": "[encoded data removed]",
      "text/plain": [
       "<matplotlib.figure.Figure at 0x1bcef181ef0>"
      ]
     },
     "metadata": {},
     "output_type": "display_data"
    },
    {
     "data": {
      "image/png": "[encoded data removed]",
      "text/plain": [
       "<matplotlib.figure.Figure at 0x1bc9f7bf940>"
      ]
     },
     "metadata": {},
     "output_type": "display_data"
    },
    {
     "data": {
      "image/png": "[encoded data removed]",
      "text/plain": [
       "<matplotlib.figure.Figure at 0x1bc9fb12c50>"
      ]
     },
     "metadata": {},
     "output_type": "display_data"
    },
    {
     "data": {
      "image/png": "[encoded data removed]",
      "text/plain": [
       "<matplotlib.figure.Figure at 0x1bcfd2cdc18>"
      ]
     },
     "metadata": {},
     "output_type": "display_data"
    }
   ],
   "source": [
    "%matplotlib inline\n",
    "categorical_columns = df[categorical_features].columns\n",
    "\n",
    "for column in categorical_columns:\n",
    "    f = df[column].value_counts().plot(kind='bar', title=column, figsize=(5, 5))\n",
    "    plt.savefig(column + '_barplots_week1_v1.jpg')\n",
    "    plt.show()"
   ]
  },
  {
   "cell_type": "markdown",
   "metadata": {},
   "source": [
    "## Data Quality Issues"
   ]
  },
  {
   "cell_type": "markdown",
   "metadata": {},
   "source": [
    "### Continuous Features"
   ]
  },
  {
   "cell_type": "markdown",
   "metadata": {},
   "source": [
    "## Issue 1: \n",
    "### Trip Time: Max Value is 23hours - must be an error (invalid data because this is a derived feature)\n",
    "### Distance Terminal: Max Value is 318km - must be an error (invalid data because this is a derived feature)\n",
    "#### For both of these we will need to find and fix the error and regenerate the ABT"
   ]
  },
  {
   "cell_type": "markdown",
   "metadata": {},
   "source": [
    "## Data Understanding"
   ]
  },
  {
   "cell_type": "markdown",
   "metadata": {},
   "source": [
    "### Print the correlations between the continuous features"
   ]
  },
  {
   "cell_type": "code",
   "execution_count": 55,
   "metadata": {
    "collapsed": false
   },
   "outputs": [
    {
     "name": "stdout",
     "output_type": "stream",
     "text": [
      "                   Distance_Terminal  Trip_Time  Timestamp\n",
      "Distance_Terminal           1.000000   0.865238   0.004863\n",
      "Trip_Time                   0.865238   1.000000  -0.032009\n",
      "Timestamp                   0.004863  -0.032009   1.000000\n"
     ]
    }
   ],
   "source": [
    "sns.set(style='white')\n",
    "corr = df[continuous_features].corr()\n",
    "print(corr)"
   ]
  },
  {
   "cell_type": "code",
   "execution_count": 56,
   "metadata": {
    "collapsed": false
   },
   "outputs": [
    {
     "data": {
      "image/png": "[encoded data removed]",
      "text/plain": [
       "<matplotlib.figure.Figure at 0x1bc9f5b1208>"
      ]
     },
     "metadata": {},
     "output_type": "display_data"
    }
   ],
   "source": [
    "# a nicer representation of correlations \n",
    "mask = np.zeros_like(corr, dtype=np.bool)\n",
    "mask[np.triu_indices_from(mask)] = True\n",
    "\n",
    "# Set up the matplotlib figure\n",
    "f, ax = plt.subplots(figsize=(11, 9))\n",
    "\n",
    "# Generate a custom colour map - blue and red\n",
    "cmap = sns.diverging_palette(220, 10, as_cmap=True)\n",
    "\n",
    "# Draw the heatmap with the mask and correct aspect ratio\n",
    "sns.heatmap(corr, annot=True, mask=mask, cmap=cmap, vmax=1, vmin=-1,\n",
    "           square=True, xticklabels=True, yticklabels=True,\n",
    "           linewidths=.5, cbar_kws={\"shrink\": .5}, ax=ax)\n",
    "plt.yticks(rotation = 0)\n",
    "plt.xticks(rotation = 45)\n",
    "plt.savefig('feature_correlation_matrix_week1_v1.png')"
   ]
  },
  {
   "cell_type": "markdown",
   "metadata": {},
   "source": [
    "## Plot the scatter plots of each pair of continuous descriptive features and target feature"
   ]
  },
  {
   "cell_type": "code",
   "execution_count": 57,
   "metadata": {
    "collapsed": false
   },
   "outputs": [
    {
     "data": {
      "image/png": "[encoded data removed]",
      "text/plain": [
       "<matplotlib.figure.Figure at 0x1bc85fe64a8>"
      ]
     },
     "metadata": {},
     "output_type": "display_data"
    }
   ],
   "source": [
    "% matplotlib inline\n",
    "df.plot(kind='scatter', x='Trip_Time', y='Distance_Terminal',  figsize=(5, 5))\n",
    "plt.savefig(\"trip_time_distance_relationship_week1_v1.png\")"
   ]
  },
  {
   "cell_type": "code",
   "execution_count": 58,
   "metadata": {
    "collapsed": false
   },
   "outputs": [
    {
     "data": {
      "image/png": "[encoded data removed]",
      "text/plain": [
       "<matplotlib.figure.Figure at 0x1bc872d6898>"
      ]
     },
     "metadata": {},
     "output_type": "display_data"
    }
   ],
   "source": [
    "% matplotlib inline\n",
    "df.plot(kind='scatter', x='Trip_Time', y='Timestamp', figsize=(5, 5))\n",
    "plt.savefig(\"trip_time_timestamp_relationship_week1_v1.png\")"
   ]
  },
  {
   "cell_type": "markdown",
   "metadata": {},
   "source": [
    "## For each categorical feature, plot the pairwise interaction with the target feature (barplots or stacked barplots)"
   ]
  },
  {
   "cell_type": "code",
   "execution_count": 59,
   "metadata": {
    "collapsed": false
   },
   "outputs": [
    {
     "name": "stdout",
     "output_type": "stream",
     "text": [
      "['Journey_Pattern_ID', 'Date', 'Vehicle_Journey_ID', 'day_of_week']\n"
     ]
    }
   ],
   "source": [
    "print(categorical_features)"
   ]
  },
  {
   "cell_type": "code",
   "execution_count": 60,
   "metadata": {
    "collapsed": false
   },
   "outputs": [
    {
     "data": {
      "image/png": "[encoded data removed]",
      "text/plain": [
       "<matplotlib.figure.Figure at 0x1bc86f964e0>"
      ]
     },
     "metadata": {},
     "output_type": "display_data"
    }
   ],
   "source": [
    "sns.barplot(x=\"day_of_week\", y=\"Trip_Time\", data=df)\n",
    "plt.savefig(\"trip_time_day_relationship_week1_v1.png\")"
   ]
  },
  {
   "cell_type": "code",
   "execution_count": 61,
   "metadata": {
    "collapsed": false
   },
   "outputs": [
    {
     "name": "stdout",
     "output_type": "stream",
     "text": [
      "Please enter your input: hello\n"
     ]
    },
    {
     "data": {
      "text/plain": [
       "'hello'"
      ]
     },
     "execution_count": 61,
     "metadata": {},
     "output_type": "execute_result"
    }
   ],
   "source": [
    "input(\"Please enter your input: \")"
   ]
  },
  {
   "cell_type": "markdown",
   "metadata": {},
   "source": [
    "### There are too many unique values in the other categorical features to plot them - should we look at binning them? "
   ]
  },
  {
   "cell_type": "markdown",
   "metadata": {
    "collapsed": true
   },
   "source": [
    "# Modeling\n",
    "### Despite the data quality issues, we need to have a model to connect to the front end. This model will be a placeholder until we resolve the issues with our data cleaning. "
   ]
  },
  {
   "cell_type": "code",
   "execution_count": 66,
   "metadata": {
    "collapsed": false
   },
   "outputs": [
    {
     "ename": "ImportError",
     "evalue": "cannot import name 'csr_row_norms'",
     "output_type": "error",
     "traceback": [
      "\u001b[0;31m---------------------------------------------------------------------------\u001b[0m",
      "\u001b[0;31mImportError\u001b[0m                               Traceback (most recent call last)",
      "\u001b[0;32m<ipython-input-66-273c43fbb122>\u001b[0m in \u001b[0;36m<module>\u001b[0;34m()\u001b[0m\n\u001b[1;32m      2\u001b[0m \u001b[1;32mimport\u001b[0m \u001b[0mstatsmodels\u001b[0m\u001b[1;33m.\u001b[0m\u001b[0mformula\u001b[0m\u001b[1;33m.\u001b[0m\u001b[0mapi\u001b[0m \u001b[1;32mas\u001b[0m \u001b[0msm\u001b[0m\u001b[1;33m\u001b[0m\u001b[0m\n\u001b[1;32m      3\u001b[0m \u001b[1;31m#from sklearn import metrics\u001b[0m\u001b[1;33m\u001b[0m\u001b[1;33m\u001b[0m\u001b[0m\n\u001b[0;32m----> 4\u001b[0;31m \u001b[1;32mfrom\u001b[0m \u001b[0msklearn\u001b[0m\u001b[1;33m.\u001b[0m\u001b[0mcross_validation\u001b[0m \u001b[1;32mimport\u001b[0m \u001b[0mtrain_test_split\u001b[0m\u001b[1;33m\u001b[0m\u001b[0m\n\u001b[0m\u001b[1;32m      5\u001b[0m \u001b[1;32mfrom\u001b[0m \u001b[0msklearn\u001b[0m \u001b[1;32mimport\u001b[0m \u001b[0mmetrics\u001b[0m\u001b[1;33m\u001b[0m\u001b[0m\n\u001b[1;32m      6\u001b[0m \u001b[1;32mfrom\u001b[0m \u001b[0msklearn\u001b[0m\u001b[1;33m.\u001b[0m\u001b[0mcross_validation\u001b[0m \u001b[1;32mimport\u001b[0m \u001b[0mcross_val_score\u001b[0m\u001b[1;33m\u001b[0m\u001b[0m\n",
      "\u001b[0;32mC:\\Users\\pamel\\Anaconda3\\lib\\site-packages\\sklearn\\cross_validation.py\u001b[0m in \u001b[0;36m<module>\u001b[0;34m()\u001b[0m\n\u001b[1;32m     32\u001b[0m \u001b[1;32mfrom\u001b[0m \u001b[1;33m.\u001b[0m\u001b[0mexternals\u001b[0m\u001b[1;33m.\u001b[0m\u001b[0msix\u001b[0m \u001b[1;32mimport\u001b[0m \u001b[0mwith_metaclass\u001b[0m\u001b[1;33m\u001b[0m\u001b[0m\n\u001b[1;32m     33\u001b[0m \u001b[1;32mfrom\u001b[0m \u001b[1;33m.\u001b[0m\u001b[0mexternals\u001b[0m\u001b[1;33m.\u001b[0m\u001b[0msix\u001b[0m\u001b[1;33m.\u001b[0m\u001b[0mmoves\u001b[0m \u001b[1;32mimport\u001b[0m \u001b[0mzip\u001b[0m\u001b[1;33m\u001b[0m\u001b[0m\n\u001b[0;32m---> 34\u001b[0;31m \u001b[1;32mfrom\u001b[0m \u001b[1;33m.\u001b[0m\u001b[0mmetrics\u001b[0m\u001b[1;33m.\u001b[0m\u001b[0mscorer\u001b[0m \u001b[1;32mimport\u001b[0m \u001b[0mcheck_scoring\u001b[0m\u001b[1;33m\u001b[0m\u001b[0m\n\u001b[0m\u001b[1;32m     35\u001b[0m \u001b[1;32mfrom\u001b[0m \u001b[1;33m.\u001b[0m\u001b[0mutils\u001b[0m\u001b[1;33m.\u001b[0m\u001b[0mfixes\u001b[0m \u001b[1;32mimport\u001b[0m \u001b[0mbincount\u001b[0m\u001b[1;33m\u001b[0m\u001b[0m\n\u001b[1;32m     36\u001b[0m \u001b[1;32mfrom\u001b[0m \u001b[1;33m.\u001b[0m\u001b[0mgaussian_process\u001b[0m\u001b[1;33m.\u001b[0m\u001b[0mkernels\u001b[0m \u001b[1;32mimport\u001b[0m \u001b[0mKernel\u001b[0m \u001b[1;32mas\u001b[0m \u001b[0mGPKernel\u001b[0m\u001b[1;33m\u001b[0m\u001b[0m\n",
      "\u001b[0;32mC:\\Users\\pamel\\Anaconda3\\lib\\site-packages\\sklearn\\metrics\\__init__.py\u001b[0m in \u001b[0;36m<module>\u001b[0;34m()\u001b[0m\n\u001b[1;32m      5\u001b[0m \u001b[1;33m\u001b[0m\u001b[0m\n\u001b[1;32m      6\u001b[0m \u001b[1;33m\u001b[0m\u001b[0m\n\u001b[0;32m----> 7\u001b[0;31m \u001b[1;32mfrom\u001b[0m \u001b[1;33m.\u001b[0m\u001b[0mranking\u001b[0m \u001b[1;32mimport\u001b[0m \u001b[0mauc\u001b[0m\u001b[1;33m\u001b[0m\u001b[0m\n\u001b[0m\u001b[1;32m      8\u001b[0m \u001b[1;32mfrom\u001b[0m \u001b[1;33m.\u001b[0m\u001b[0mranking\u001b[0m \u001b[1;32mimport\u001b[0m \u001b[0maverage_precision_score\u001b[0m\u001b[1;33m\u001b[0m\u001b[0m\n\u001b[1;32m      9\u001b[0m \u001b[1;32mfrom\u001b[0m \u001b[1;33m.\u001b[0m\u001b[0mranking\u001b[0m \u001b[1;32mimport\u001b[0m \u001b[0mcoverage_error\u001b[0m\u001b[1;33m\u001b[0m\u001b[0m\n",
      "\u001b[0;32mC:\\Users\\pamel\\Anaconda3\\lib\\site-packages\\sklearn\\metrics\\ranking.py\u001b[0m in \u001b[0;36m<module>\u001b[0;34m()\u001b[0m\n\u001b[1;32m     28\u001b[0m \u001b[1;32mfrom\u001b[0m \u001b[1;33m.\u001b[0m\u001b[1;33m.\u001b[0m\u001b[0mutils\u001b[0m \u001b[1;32mimport\u001b[0m \u001b[0mcolumn_or_1d\u001b[0m\u001b[1;33m,\u001b[0m \u001b[0mcheck_array\u001b[0m\u001b[1;33m\u001b[0m\u001b[0m\n\u001b[1;32m     29\u001b[0m \u001b[1;32mfrom\u001b[0m \u001b[1;33m.\u001b[0m\u001b[1;33m.\u001b[0m\u001b[0mutils\u001b[0m\u001b[1;33m.\u001b[0m\u001b[0mmulticlass\u001b[0m \u001b[1;32mimport\u001b[0m \u001b[0mtype_of_target\u001b[0m\u001b[1;33m\u001b[0m\u001b[0m\n\u001b[0;32m---> 30\u001b[0;31m \u001b[1;32mfrom\u001b[0m \u001b[1;33m.\u001b[0m\u001b[1;33m.\u001b[0m\u001b[0mutils\u001b[0m\u001b[1;33m.\u001b[0m\u001b[0mextmath\u001b[0m \u001b[1;32mimport\u001b[0m \u001b[0mstable_cumsum\u001b[0m\u001b[1;33m\u001b[0m\u001b[0m\n\u001b[0m\u001b[1;32m     31\u001b[0m \u001b[1;32mfrom\u001b[0m \u001b[1;33m.\u001b[0m\u001b[1;33m.\u001b[0m\u001b[0mutils\u001b[0m\u001b[1;33m.\u001b[0m\u001b[0mfixes\u001b[0m \u001b[1;32mimport\u001b[0m \u001b[0mbincount\u001b[0m\u001b[1;33m\u001b[0m\u001b[0m\n\u001b[1;32m     32\u001b[0m \u001b[1;32mfrom\u001b[0m \u001b[1;33m.\u001b[0m\u001b[1;33m.\u001b[0m\u001b[0mutils\u001b[0m\u001b[1;33m.\u001b[0m\u001b[0mfixes\u001b[0m \u001b[1;32mimport\u001b[0m \u001b[0marray_equal\u001b[0m\u001b[1;33m\u001b[0m\u001b[0m\n",
      "\u001b[0;32mC:\\Users\\pamel\\Anaconda3\\lib\\site-packages\\sklearn\\utils\\extmath.py\u001b[0m in \u001b[0;36m<module>\u001b[0;34m()\u001b[0m\n\u001b[1;32m     24\u001b[0m \u001b[1;32mfrom\u001b[0m \u001b[1;33m.\u001b[0m\u001b[0m_logistic_sigmoid\u001b[0m \u001b[1;32mimport\u001b[0m \u001b[0m_log_logistic_sigmoid\u001b[0m\u001b[1;33m\u001b[0m\u001b[0m\n\u001b[1;32m     25\u001b[0m \u001b[1;32mfrom\u001b[0m \u001b[1;33m.\u001b[0m\u001b[1;33m.\u001b[0m\u001b[0mexternals\u001b[0m\u001b[1;33m.\u001b[0m\u001b[0msix\u001b[0m\u001b[1;33m.\u001b[0m\u001b[0mmoves\u001b[0m \u001b[1;32mimport\u001b[0m \u001b[0mxrange\u001b[0m\u001b[1;33m\u001b[0m\u001b[0m\n\u001b[0;32m---> 26\u001b[0;31m \u001b[1;32mfrom\u001b[0m \u001b[1;33m.\u001b[0m\u001b[0msparsefuncs_fast\u001b[0m \u001b[1;32mimport\u001b[0m \u001b[0mcsr_row_norms\u001b[0m\u001b[1;33m\u001b[0m\u001b[0m\n\u001b[0m\u001b[1;32m     27\u001b[0m \u001b[1;32mfrom\u001b[0m \u001b[1;33m.\u001b[0m\u001b[0mvalidation\u001b[0m \u001b[1;32mimport\u001b[0m \u001b[0mcheck_array\u001b[0m\u001b[1;33m\u001b[0m\u001b[0m\n\u001b[1;32m     28\u001b[0m \u001b[1;32mfrom\u001b[0m \u001b[1;33m.\u001b[0m\u001b[1;33m.\u001b[0m\u001b[0mexceptions\u001b[0m \u001b[1;32mimport\u001b[0m \u001b[0mNonBLASDotWarning\u001b[0m\u001b[1;33m\u001b[0m\u001b[0m\n",
      "\u001b[0;31mImportError\u001b[0m: cannot import name 'csr_row_norms'"
     ]
    }
   ],
   "source": [
    "import sklearn\n",
    "import statsmodels.formula.api as sm\n",
    "from sklearn import metrics\n",
    "from sklearn.cross_validation import train_test_split\n",
    "from sklearn import metrics\n",
    "from sklearn.cross_validation import cross_val_score\n",
    "from sklearn.ensemble import RandomForestRegressor\n",
    "from sklearn.metrics import roc_auc_score"
   ]
  },
  {
   "cell_type": "markdown",
   "metadata": {},
   "source": [
    "### As this is a regression problem (we are trying to predict a continuous feature) I'm going to start with a simple linear/multiple regression model. "
   ]
  },
  {
   "cell_type": "code",
   "execution_count": null,
   "metadata": {
    "collapsed": false
   },
   "outputs": [],
   "source": [
    "df = pd.read_csv('sample_week_analysis.csv')"
   ]
  },
  {
   "cell_type": "code",
   "execution_count": null,
   "metadata": {
    "collapsed": false,
    "scrolled": true
   },
   "outputs": [],
   "source": [
    "df.drop(df.columns[[0]], axis=1, inplace=True)\n",
    "df.head()"
   ]
  },
  {
   "cell_type": "markdown",
   "metadata": {},
   "source": [
    "## Split the Data into Training and Test Sets"
   ]
  },
  {
   "cell_type": "code",
   "execution_count": null,
   "metadata": {
    "collapsed": false
   },
   "outputs": [],
   "source": [
    "df=df.loc[df['Journey_Pattern_ID']=='041B0002']\n",
    "df.shape"
   ]
  },
  {
   "cell_type": "code",
   "execution_count": null,
   "metadata": {
    "collapsed": true
   },
   "outputs": [],
   "source": [
    "df.reset_index(drop=True, inplace=True)"
   ]
  },
  {
   "cell_type": "code",
   "execution_count": null,
   "metadata": {
    "collapsed": false
   },
   "outputs": [],
   "source": [
    "df.head()"
   ]
  },
  {
   "cell_type": "code",
   "execution_count": null,
   "metadata": {
    "collapsed": false
   },
   "outputs": [],
   "source": [
    "feature_cols = ['Distance_Terminal','day_of_week']\n",
    "X = df[feature_cols]\n",
    "y = df['Trip_Time']\n",
    "X.columns\n",
    "\n",
    "X_train, X_test, y_train, y_test = train_test_split(X, y, test_size=0.3)"
   ]
  },
  {
   "cell_type": "code",
   "execution_count": null,
   "metadata": {
    "collapsed": false
   },
   "outputs": [],
   "source": [
    "X['Journey_Pattern_ID'] = X['Journey_Pattern_ID'].astype('object')\n",
    "X['day_of_week'] = X['day_of_week'].astype('object')"
   ]
  },
  {
   "cell_type": "code",
   "execution_count": null,
   "metadata": {
    "collapsed": false
   },
   "outputs": [],
   "source": [
    "from sklearn.preprocessing import LabelEncoder\n",
    "le=LabelEncoder()\n",
    "\n",
    "for col in X.columns.values:\n",
    "    if X[col].dtypes=='object':\n",
    "        # Using whole data to form an exhaustive list of levels\n",
    "        data=X[col]\n",
    "        le.fit(data.values)\n",
    "        X[col]=le.transform(X[col])\n",
    "X"
   ]
  },
  {
   "cell_type": "code",
   "execution_count": null,
   "metadata": {
    "collapsed": false
   },
   "outputs": [],
   "source": [
    "df_linear = pd.concat([X_train, y_train], axis=1)\n",
    "lm = sm.ols(formula = \"Trip_Time ~ Distance_Terminal\", data=df_linear).fit()"
   ]
  },
  {
   "cell_type": "code",
   "execution_count": null,
   "metadata": {
    "collapsed": false
   },
   "outputs": [],
   "source": [
    "lm.params"
   ]
  },
  {
   "cell_type": "code",
   "execution_count": null,
   "metadata": {
    "collapsed": false
   },
   "outputs": [],
   "source": [
    "lm.summary()"
   ]
  },
  {
   "cell_type": "code",
   "execution_count": null,
   "metadata": {
    "collapsed": false
   },
   "outputs": [],
   "source": [
    "lm_predictions = lm.predict(X_test)"
   ]
  },
  {
   "cell_type": "code",
   "execution_count": null,
   "metadata": {
    "collapsed": false
   },
   "outputs": [],
   "source": [
    "df.plot(kind='scatter', x='Distance_Terminal', y='Trip_Time')\n",
    "plt.plot(y_test, lm_predictions, c='red', linewidth=2)\n",
    "\n",
    "plt.savefig('books_read.png')"
   ]
  },
  {
   "cell_type": "code",
   "execution_count": null,
   "metadata": {
    "collapsed": false
   },
   "outputs": [],
   "source": [
    "lm.conf_int()"
   ]
  },
  {
   "cell_type": "code",
   "execution_count": null,
   "metadata": {
    "collapsed": false
   },
   "outputs": [],
   "source": [
    "lm.pvalues"
   ]
  },
  {
   "cell_type": "code",
   "execution_count": null,
   "metadata": {
    "collapsed": false
   },
   "outputs": [],
   "source": [
    "lm.rsquared"
   ]
  },
  {
   "cell_type": "markdown",
   "metadata": {},
   "source": [
    "### Needed to use an sklearn model instead of statsmodels because I couldn't get the pickle to work with statsmodels. "
   ]
  },
  {
   "cell_type": "code",
   "execution_count": null,
   "metadata": {
    "collapsed": false,
    "scrolled": true
   },
   "outputs": [],
   "source": [
    "from sklearn.linear_model import LinearRegression\n",
    "lm_sk = LinearRegression()\n",
    "lm_sk.fit(X, y)"
   ]
  },
  {
   "cell_type": "code",
   "execution_count": null,
   "metadata": {
    "collapsed": true
   },
   "outputs": [],
   "source": [
    "import pickle"
   ]
  },
  {
   "cell_type": "code",
   "execution_count": null,
   "metadata": {
    "collapsed": true
   },
   "outputs": [],
   "source": [
    "pickle.dump(lm_sk, open('sk_linear_model1', 'wb'))"
   ]
  },
  {
   "cell_type": "code",
   "execution_count": null,
   "metadata": {
    "collapsed": false
   },
   "outputs": [],
   "source": [
    "loaded_model = pickle.load(open('sk_linear_model1', 'rb'))\n",
    "result = loaded_model.score(X_test, y_test)\n",
    "print(result)"
   ]
  },
  {
   "cell_type": "code",
   "execution_count": null,
   "metadata": {
    "collapsed": true
   },
   "outputs": [],
   "source": []
  },
  {
   "cell_type": "markdown",
   "metadata": {},
   "source": [
    "# SVM"
   ]
  },
  {
   "cell_type": "code",
   "execution_count": null,
   "metadata": {
    "collapsed": true
   },
   "outputs": [],
   "source": [
    "#Import SVM and assign to a model \n",
    "from sklearn import svm\n",
    "# http://scikit-learn.org/stable/modules/generated/sklearn.svm.SVR.html\n",
    "clf = svm.SVR()"
   ]
  },
  {
   "cell_type": "code",
   "execution_count": null,
   "metadata": {
    "collapsed": false
   },
   "outputs": [],
   "source": [
    "# Prepare the descriptive features\n",
    "X = pd.concat([df[['Distance_Terminal']]], axis=1)\n",
    "y = df.Trip_Time \n",
    "\n",
    "print(\"Descriptive features:\\n\", X)\n",
    "print(\"\\nTarget feature:\\n\", y)"
   ]
  },
  {
   "cell_type": "code",
   "execution_count": null,
   "metadata": {
    "collapsed": false
   },
   "outputs": [],
   "source": [
    "from sklearn.preprocessing import LabelEncoder\n",
    "le=LabelEncoder()\n",
    "\n",
    "for col in X.columns.values:\n",
    "    if X[col].dtypes=='object':\n",
    "        # Using whole data to form an exhaustive list of levels\n",
    "        data=X[col]\n",
    "        le.fit(data.values)\n",
    "        X[col]=le.transform(X[col])\n",
    "X"
   ]
  },
  {
   "cell_type": "code",
   "execution_count": null,
   "metadata": {
    "collapsed": false
   },
   "outputs": [],
   "source": [
    "# Train the model \n",
    "%time clf.fit(X, y)"
   ]
  },
  {
   "cell_type": "code",
   "execution_count": null,
   "metadata": {
    "collapsed": false
   },
   "outputs": [],
   "source": [
    "# Get the predicetion \n",
    "y_rbf = clf.predict(X)\n",
    "y_rbf"
   ]
  },
  {
   "cell_type": "code",
   "execution_count": null,
   "metadata": {
    "collapsed": false
   },
   "outputs": [],
   "source": [
    "plt.scatter(X['Distance_Terminal'], y, color='darkorange', label='data')\n",
    "plt.plot(X['Distance_Terminal'], y_rbf, color='navy', label='RBF model')\n",
    "plt.savefig('SVM_result.png')"
   ]
  },
  {
   "cell_type": "code",
   "execution_count": null,
   "metadata": {
    "collapsed": false
   },
   "outputs": [],
   "source": [
    "plt.scatter(X['Distance_Terminal'], y, color='darkorange', label='data')"
   ]
  },
  {
   "cell_type": "code",
   "execution_count": null,
   "metadata": {
    "collapsed": false
   },
   "outputs": [],
   "source": [
    "plt.plot(X['Distance_Terminal'], y_rbf, color='navy', label='RBF model')\n",
    "plt.show()"
   ]
  },
  {
   "cell_type": "code",
   "execution_count": null,
   "metadata": {
    "collapsed": true
   },
   "outputs": [],
   "source": []
  }
 ],
 "metadata": {
  "kernelspec": {
   "display_name": "Python 3",
   "language": "python",
   "name": "python3"
  },
  "language_info": {
   "codemirror_mode": {
    "name": "ipython",
    "version": 3
   },
   "file_extension": ".py",
   "mimetype": "text/x-python",
   "name": "python",
   "nbconvert_exporter": "python",
   "pygments_lexer": "ipython3",
   "version": "3.6.0"
  }
 },
 "nbformat": 4,
 "nbformat_minor": 2
}
