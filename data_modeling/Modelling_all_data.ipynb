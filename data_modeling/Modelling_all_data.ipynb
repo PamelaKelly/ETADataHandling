{
 "cells": [
  {
   "cell_type": "markdown",
   "metadata": {},
   "source": [
    "# Read the file "
   ]
  },
  {
   "cell_type": "code",
   "execution_count": 1,
   "metadata": {
    "collapsed": true
   },
   "outputs": [],
   "source": [
    "import pandas as pd\n",
    "import numpy as np\n",
    "import matplotlib\n",
    "import matplotlib.pyplot as plt\n",
    "import matplotlib.patches as mpatches\n",
    "from matplotlib.backends.backend_pdf import PdfPages\n",
    "import seaborn as sns\n",
    "matplotlib.style.use('ggplot')\n",
    "%matplotlib inline"
   ]
  },
  {
   "cell_type": "code",
   "execution_count": 2,
   "metadata": {
    "collapsed": true
   },
   "outputs": [],
   "source": [
    "import time \n",
    "begin_time=time.time()\n"
   ]
  },
  {
   "cell_type": "code",
   "execution_count": 3,
   "metadata": {
    "collapsed": false
   },
   "outputs": [
    {
     "name": "stdout",
     "output_type": "stream",
     "text": [
      "CPU times: user 38.6 s, sys: 14.5 s, total: 53.1 s\n",
      "Wall time: 1min 1s\n"
     ]
    }
   ],
   "source": [
    "%time df_all = pd.read_csv('final_table_model.csv',dtype={ 'Journey_Pattern_ID': object})"
   ]
  },
  {
   "cell_type": "code",
   "execution_count": 4,
   "metadata": {
    "collapsed": false
   },
   "outputs": [
    {
     "data": {
      "text/html": [
       "<div>\n",
       "<table border=\"1\" class=\"dataframe\">\n",
       "  <thead>\n",
       "    <tr style=\"text-align: right;\">\n",
       "      <th></th>\n",
       "      <th>Journey_Pattern_ID</th>\n",
       "      <th>Distance</th>\n",
       "      <th>Trip_Time</th>\n",
       "      <th>datetime</th>\n",
       "      <th>HourOfDay</th>\n",
       "      <th>day_of_week</th>\n",
       "      <th>midweek</th>\n",
       "      <th>time_bin</th>\n",
       "      <th>cloud</th>\n",
       "      <th>rain</th>\n",
       "      <th>temp</th>\n",
       "      <th>wind</th>\n",
       "    </tr>\n",
       "  </thead>\n",
       "  <tbody>\n",
       "    <tr>\n",
       "      <th>0</th>\n",
       "      <td>00010001</td>\n",
       "      <td>0</td>\n",
       "      <td>0</td>\n",
       "      <td>2012-11-06 12:15:13</td>\n",
       "      <td>12</td>\n",
       "      <td>Tuesday</td>\n",
       "      <td>0</td>\n",
       "      <td>am</td>\n",
       "      <td>6.88</td>\n",
       "      <td>0.0</td>\n",
       "      <td>7.55</td>\n",
       "      <td>16.25</td>\n",
       "    </tr>\n",
       "    <tr>\n",
       "      <th>1</th>\n",
       "      <td>00010001</td>\n",
       "      <td>22</td>\n",
       "      <td>360</td>\n",
       "      <td>2012-11-06 12:21:13</td>\n",
       "      <td>12</td>\n",
       "      <td>Tuesday</td>\n",
       "      <td>0</td>\n",
       "      <td>am</td>\n",
       "      <td>6.88</td>\n",
       "      <td>0.0</td>\n",
       "      <td>7.55</td>\n",
       "      <td>16.25</td>\n",
       "    </tr>\n",
       "    <tr>\n",
       "      <th>2</th>\n",
       "      <td>00010001</td>\n",
       "      <td>215</td>\n",
       "      <td>397</td>\n",
       "      <td>2012-11-06 12:21:50</td>\n",
       "      <td>12</td>\n",
       "      <td>Tuesday</td>\n",
       "      <td>0</td>\n",
       "      <td>am</td>\n",
       "      <td>6.88</td>\n",
       "      <td>0.0</td>\n",
       "      <td>7.55</td>\n",
       "      <td>16.25</td>\n",
       "    </tr>\n",
       "  </tbody>\n",
       "</table>\n",
       "</div>"
      ],
      "text/plain": [
       "  Journey_Pattern_ID  Distance  Trip_Time             datetime  HourOfDay  \\\n",
       "0           00010001         0          0  2012-11-06 12:15:13         12   \n",
       "1           00010001        22        360  2012-11-06 12:21:13         12   \n",
       "2           00010001       215        397  2012-11-06 12:21:50         12   \n",
       "\n",
       "  day_of_week  midweek time_bin  cloud  rain  temp   wind  \n",
       "0     Tuesday        0       am   6.88   0.0  7.55  16.25  \n",
       "1     Tuesday        0       am   6.88   0.0  7.55  16.25  \n",
       "2     Tuesday        0       am   6.88   0.0  7.55  16.25  "
      ]
     },
     "execution_count": 4,
     "metadata": {},
     "output_type": "execute_result"
    }
   ],
   "source": [
    "#df_all.drop(df_all.columns[[4,5]], axis=1, inplace=True)\n",
    "df_all.head(3)"
   ]
  },
  {
   "cell_type": "code",
   "execution_count": 5,
   "metadata": {
    "collapsed": false
   },
   "outputs": [
    {
     "data": {
      "text/html": [
       "<div>\n",
       "<table border=\"1\" class=\"dataframe\">\n",
       "  <thead>\n",
       "    <tr style=\"text-align: right;\">\n",
       "      <th></th>\n",
       "      <th>Journey_Pattern_ID</th>\n",
       "      <th>Distance</th>\n",
       "      <th>Trip_Time</th>\n",
       "      <th>datetime</th>\n",
       "      <th>HourOfDay</th>\n",
       "      <th>day_of_week</th>\n",
       "      <th>midweek</th>\n",
       "      <th>time_bin</th>\n",
       "      <th>cloud</th>\n",
       "      <th>rain</th>\n",
       "      <th>temp</th>\n",
       "      <th>wind</th>\n",
       "    </tr>\n",
       "  </thead>\n",
       "  <tbody>\n",
       "    <tr>\n",
       "      <th>16852097</th>\n",
       "      <td>084X1002</td>\n",
       "      <td>23071</td>\n",
       "      <td>3197</td>\n",
       "      <td>2013-01-29 09:07:03</td>\n",
       "      <td>9</td>\n",
       "      <td>Tuesday</td>\n",
       "      <td>0</td>\n",
       "      <td>am</td>\n",
       "      <td>7.38</td>\n",
       "      <td>0.03</td>\n",
       "      <td>8.32</td>\n",
       "      <td>10.88</td>\n",
       "    </tr>\n",
       "    <tr>\n",
       "      <th>16852098</th>\n",
       "      <td>084X1002</td>\n",
       "      <td>23318</td>\n",
       "      <td>3303</td>\n",
       "      <td>2013-01-29 09:08:49</td>\n",
       "      <td>9</td>\n",
       "      <td>Tuesday</td>\n",
       "      <td>0</td>\n",
       "      <td>am</td>\n",
       "      <td>7.38</td>\n",
       "      <td>0.03</td>\n",
       "      <td>8.32</td>\n",
       "      <td>10.88</td>\n",
       "    </tr>\n",
       "    <tr>\n",
       "      <th>16852099</th>\n",
       "      <td>084X1002</td>\n",
       "      <td>23665</td>\n",
       "      <td>3478</td>\n",
       "      <td>2013-01-29 09:11:44</td>\n",
       "      <td>9</td>\n",
       "      <td>Tuesday</td>\n",
       "      <td>0</td>\n",
       "      <td>am</td>\n",
       "      <td>7.38</td>\n",
       "      <td>0.03</td>\n",
       "      <td>8.32</td>\n",
       "      <td>10.88</td>\n",
       "    </tr>\n",
       "  </tbody>\n",
       "</table>\n",
       "</div>"
      ],
      "text/plain": [
       "         Journey_Pattern_ID  Distance  Trip_Time             datetime  \\\n",
       "16852097           084X1002     23071       3197  2013-01-29 09:07:03   \n",
       "16852098           084X1002     23318       3303  2013-01-29 09:08:49   \n",
       "16852099           084X1002     23665       3478  2013-01-29 09:11:44   \n",
       "\n",
       "          HourOfDay day_of_week  midweek time_bin  cloud  rain  temp   wind  \n",
       "16852097          9     Tuesday        0       am   7.38  0.03  8.32  10.88  \n",
       "16852098          9     Tuesday        0       am   7.38  0.03  8.32  10.88  \n",
       "16852099          9     Tuesday        0       am   7.38  0.03  8.32  10.88  "
      ]
     },
     "execution_count": 5,
     "metadata": {},
     "output_type": "execute_result"
    }
   ],
   "source": [
    "df_all.tail(3)"
   ]
  },
  {
   "cell_type": "code",
   "execution_count": 6,
   "metadata": {
    "collapsed": false
   },
   "outputs": [
    {
     "data": {
      "text/plain": [
       "Journey_Pattern_ID     object\n",
       "Distance                int64\n",
       "Trip_Time               int64\n",
       "datetime               object\n",
       "HourOfDay               int64\n",
       "day_of_week            object\n",
       "midweek                 int64\n",
       "time_bin               object\n",
       "cloud                 float64\n",
       "rain                  float64\n",
       "temp                  float64\n",
       "wind                  float64\n",
       "dtype: object"
      ]
     },
     "execution_count": 6,
     "metadata": {},
     "output_type": "execute_result"
    }
   ],
   "source": [
    "df_all.dtypes"
   ]
  },
  {
   "cell_type": "code",
   "execution_count": 7,
   "metadata": {
    "collapsed": false
   },
   "outputs": [
    {
     "data": {
      "text/plain": [
       "478"
      ]
     },
     "execution_count": 7,
     "metadata": {},
     "output_type": "execute_result"
    }
   ],
   "source": [
    "pd.unique(df_all.Journey_Pattern_ID ).size"
   ]
  },
  {
   "cell_type": "code",
   "execution_count": 6,
   "metadata": {
    "collapsed": true
   },
   "outputs": [],
   "source": [
    "df=df_all"
   ]
  },
  {
   "cell_type": "markdown",
   "metadata": {},
   "source": [
    "# Train Data set with statsmodels"
   ]
  },
  {
   "cell_type": "code",
   "execution_count": 8,
   "metadata": {
    "collapsed": false
   },
   "outputs": [
    {
     "data": {
      "text/plain": [
       "(16852100, 12)"
      ]
     },
     "execution_count": 8,
     "metadata": {},
     "output_type": "execute_result"
    }
   ],
   "source": [
    "df.shape"
   ]
  },
  {
   "cell_type": "code",
   "execution_count": 35,
   "metadata": {
    "collapsed": false
   },
   "outputs": [
    {
     "data": {
      "text/plain": [
       "Index(['Distance', 'HourOfDay', 'midweek', 'cloud', 'rain', 'wind', 'temp'], dtype='object')"
      ]
     },
     "execution_count": 35,
     "metadata": {},
     "output_type": "execute_result"
    }
   ],
   "source": [
    "feature_cols = ['Distance','HourOfDay','midweek','cloud','rain','wind','temp']\n",
    "X = df[feature_cols]\n",
    "y = df['Trip_Time']\n",
    "X.columns\n",
    "\n",
    "#X_train, X_test, y_train, y_test = train_test_split(X, y, test_size=0.3)"
   ]
  },
  {
   "cell_type": "code",
   "execution_count": 10,
   "metadata": {
    "collapsed": true
   },
   "outputs": [],
   "source": [
    "import statsmodels.formula.api as sm\n",
    "df_linear = pd.concat([X, y], axis=1)\n",
    "%time lm = sm.ols(formula = \"Trip_Time ~ Distance+HourOfDay+midweek+cloud+rain+wind+temp\", data=df_linear).fit()"
   ]
  },
  {
   "cell_type": "code",
   "execution_count": 11,
   "metadata": {
    "collapsed": false
   },
   "outputs": [
    {
     "data": {
      "text/plain": [
       "Intercept    330.786784\n",
       "Distance       0.177387\n",
       "HourOfDay     -3.598221\n",
       "midweek     -209.282461\n",
       "cloud         -8.368503\n",
       "rain          56.839499\n",
       "wind          -1.547951\n",
       "temp           6.686312\n",
       "dtype: float64"
      ]
     },
     "execution_count": 11,
     "metadata": {},
     "output_type": "execute_result"
    }
   ],
   "source": [
    "lm.params"
   ]
  },
  {
   "cell_type": "code",
   "execution_count": 12,
   "metadata": {
    "collapsed": false
   },
   "outputs": [
    {
     "data": {
      "text/html": [
       "<table class=\"simpletable\">\n",
       "<caption>OLS Regression Results</caption>\n",
       "<tr>\n",
       "  <th>Dep. Variable:</th>        <td>Trip_Time</td>    <th>  R-squared:         </th>  <td>   0.803</td>  \n",
       "</tr>\n",
       "<tr>\n",
       "  <th>Model:</th>                   <td>OLS</td>       <th>  Adj. R-squared:    </th>  <td>   0.803</td>  \n",
       "</tr>\n",
       "<tr>\n",
       "  <th>Method:</th>             <td>Least Squares</td>  <th>  F-statistic:       </th>  <td>9.823e+06</td> \n",
       "</tr>\n",
       "<tr>\n",
       "  <th>Date:</th>             <td>Mon, 07 Aug 2017</td> <th>  Prob (F-statistic):</th>   <td>  0.00</td>   \n",
       "</tr>\n",
       "<tr>\n",
       "  <th>Time:</th>                 <td>19:00:21</td>     <th>  Log-Likelihood:    </th> <td>-1.3155e+08</td>\n",
       "</tr>\n",
       "<tr>\n",
       "  <th>No. Observations:</th>     <td>16852100</td>     <th>  AIC:               </th>  <td>2.631e+08</td> \n",
       "</tr>\n",
       "<tr>\n",
       "  <th>Df Residuals:</th>         <td>16852092</td>     <th>  BIC:               </th>  <td>2.631e+08</td> \n",
       "</tr>\n",
       "<tr>\n",
       "  <th>Df Model:</th>              <td>     7</td>      <th>                     </th>      <td> </td>     \n",
       "</tr>\n",
       "<tr>\n",
       "  <th>Covariance Type:</th>      <td>nonrobust</td>    <th>                     </th>      <td> </td>     \n",
       "</tr>\n",
       "</table>\n",
       "<table class=\"simpletable\">\n",
       "<tr>\n",
       "      <td></td>         <th>coef</th>     <th>std err</th>      <th>t</th>      <th>P>|t|</th>  <th>[0.025</th>    <th>0.975]</th>  \n",
       "</tr>\n",
       "<tr>\n",
       "  <th>Intercept</th> <td>  330.7868</td> <td>    0.701</td> <td>  471.864</td> <td> 0.000</td> <td>  329.413</td> <td>  332.161</td>\n",
       "</tr>\n",
       "<tr>\n",
       "  <th>Distance</th>  <td>    0.1774</td> <td> 2.15e-05</td> <td> 8260.852</td> <td> 0.000</td> <td>    0.177</td> <td>    0.177</td>\n",
       "</tr>\n",
       "<tr>\n",
       "  <th>HourOfDay</th> <td>   -3.5982</td> <td>    0.031</td> <td> -115.980</td> <td> 0.000</td> <td>   -3.659</td> <td>   -3.537</td>\n",
       "</tr>\n",
       "<tr>\n",
       "  <th>midweek</th>   <td> -209.2825</td> <td>    0.392</td> <td> -534.538</td> <td> 0.000</td> <td> -210.050</td> <td> -208.515</td>\n",
       "</tr>\n",
       "<tr>\n",
       "  <th>cloud</th>     <td>   -8.3685</td> <td>    0.081</td> <td> -102.972</td> <td> 0.000</td> <td>   -8.528</td> <td>   -8.209</td>\n",
       "</tr>\n",
       "<tr>\n",
       "  <th>rain</th>      <td>   56.8395</td> <td>    0.484</td> <td>  117.333</td> <td> 0.000</td> <td>   55.890</td> <td>   57.789</td>\n",
       "</tr>\n",
       "<tr>\n",
       "  <th>wind</th>      <td>   -1.5480</td> <td>    0.031</td> <td>  -50.699</td> <td> 0.000</td> <td>   -1.608</td> <td>   -1.488</td>\n",
       "</tr>\n",
       "<tr>\n",
       "  <th>temp</th>      <td>    6.6863</td> <td>    0.047</td> <td>  141.752</td> <td> 0.000</td> <td>    6.594</td> <td>    6.779</td>\n",
       "</tr>\n",
       "</table>\n",
       "<table class=\"simpletable\">\n",
       "<tr>\n",
       "  <th>Omnibus:</th>       <td>2502848.874</td> <th>  Durbin-Watson:     </th>   <td>   0.046</td>  \n",
       "</tr>\n",
       "<tr>\n",
       "  <th>Prob(Omnibus):</th>   <td> 0.000</td>    <th>  Jarque-Bera (JB):  </th> <td>12096719.747</td>\n",
       "</tr>\n",
       "<tr>\n",
       "  <th>Skew:</th>            <td> 0.645</td>    <th>  Prob(JB):          </th>   <td>    0.00</td>  \n",
       "</tr>\n",
       "<tr>\n",
       "  <th>Kurtosis:</th>        <td> 6.945</td>    <th>  Cond. No.          </th>   <td>6.00e+04</td>  \n",
       "</tr>\n",
       "</table>"
      ],
      "text/plain": [
       "<class 'statsmodels.iolib.summary.Summary'>\n",
       "\"\"\"\n",
       "                            OLS Regression Results                            \n",
       "==============================================================================\n",
       "Dep. Variable:              Trip_Time   R-squared:                       0.803\n",
       "Model:                            OLS   Adj. R-squared:                  0.803\n",
       "Method:                 Least Squares   F-statistic:                 9.823e+06\n",
       "Date:                Mon, 07 Aug 2017   Prob (F-statistic):               0.00\n",
       "Time:                        19:00:21   Log-Likelihood:            -1.3155e+08\n",
       "No. Observations:            16852100   AIC:                         2.631e+08\n",
       "Df Residuals:                16852092   BIC:                         2.631e+08\n",
       "Df Model:                           7                                         \n",
       "Covariance Type:            nonrobust                                         \n",
       "==============================================================================\n",
       "                 coef    std err          t      P>|t|      [0.025      0.975]\n",
       "------------------------------------------------------------------------------\n",
       "Intercept    330.7868      0.701    471.864      0.000     329.413     332.161\n",
       "Distance       0.1774   2.15e-05   8260.852      0.000       0.177       0.177\n",
       "HourOfDay     -3.5982      0.031   -115.980      0.000      -3.659      -3.537\n",
       "midweek     -209.2825      0.392   -534.538      0.000    -210.050    -208.515\n",
       "cloud         -8.3685      0.081   -102.972      0.000      -8.528      -8.209\n",
       "rain          56.8395      0.484    117.333      0.000      55.890      57.789\n",
       "wind          -1.5480      0.031    -50.699      0.000      -1.608      -1.488\n",
       "temp           6.6863      0.047    141.752      0.000       6.594       6.779\n",
       "==============================================================================\n",
       "Omnibus:                  2502848.874   Durbin-Watson:                   0.046\n",
       "Prob(Omnibus):                  0.000   Jarque-Bera (JB):         12096719.747\n",
       "Skew:                           0.645   Prob(JB):                         0.00\n",
       "Kurtosis:                       6.945   Cond. No.                     6.00e+04\n",
       "==============================================================================\n",
       "\n",
       "Warnings:\n",
       "[1] Standard Errors assume that the covariance matrix of the errors is correctly specified.\n",
       "[2] The condition number is large,  6e+04. This might indicate that there are\n",
       "strong multicollinearity or other numerical problems.\n",
       "\"\"\""
      ]
     },
     "execution_count": 12,
     "metadata": {},
     "output_type": "execute_result"
    }
   ],
   "source": [
    "lm.summary()"
   ]
  },
  {
   "cell_type": "code",
   "execution_count": 13,
   "metadata": {
    "collapsed": true
   },
   "outputs": [],
   "source": [
    "lm_predictions = lm.predict(X)"
   ]
  },
  {
   "cell_type": "code",
   "execution_count": 29,
   "metadata": {
    "collapsed": false
   },
   "outputs": [
    {
     "data": {
      "text/html": [
       "<div>\n",
       "<table border=\"1\" class=\"dataframe\">\n",
       "  <thead>\n",
       "    <tr style=\"text-align: right;\">\n",
       "      <th></th>\n",
       "      <th>Journey_Pattern_ID</th>\n",
       "      <th>Distance</th>\n",
       "      <th>Trip_Time</th>\n",
       "      <th>datetime</th>\n",
       "      <th>HourOfDay</th>\n",
       "      <th>day_of_week</th>\n",
       "      <th>midweek</th>\n",
       "      <th>time_bin</th>\n",
       "      <th>cloud</th>\n",
       "      <th>rain</th>\n",
       "      <th>temp</th>\n",
       "      <th>wind</th>\n",
       "    </tr>\n",
       "  </thead>\n",
       "  <tbody>\n",
       "    <tr>\n",
       "      <th>0</th>\n",
       "      <td>00010001</td>\n",
       "      <td>0</td>\n",
       "      <td>0</td>\n",
       "      <td>2012-11-06 12:15:13</td>\n",
       "      <td>12</td>\n",
       "      <td>Tuesday</td>\n",
       "      <td>0</td>\n",
       "      <td>am</td>\n",
       "      <td>6.88</td>\n",
       "      <td>0.0</td>\n",
       "      <td>7.55</td>\n",
       "      <td>16.25</td>\n",
       "    </tr>\n",
       "    <tr>\n",
       "      <th>1</th>\n",
       "      <td>00010001</td>\n",
       "      <td>22</td>\n",
       "      <td>360</td>\n",
       "      <td>2012-11-06 12:21:13</td>\n",
       "      <td>12</td>\n",
       "      <td>Tuesday</td>\n",
       "      <td>0</td>\n",
       "      <td>am</td>\n",
       "      <td>6.88</td>\n",
       "      <td>0.0</td>\n",
       "      <td>7.55</td>\n",
       "      <td>16.25</td>\n",
       "    </tr>\n",
       "    <tr>\n",
       "      <th>2</th>\n",
       "      <td>00010001</td>\n",
       "      <td>215</td>\n",
       "      <td>397</td>\n",
       "      <td>2012-11-06 12:21:50</td>\n",
       "      <td>12</td>\n",
       "      <td>Tuesday</td>\n",
       "      <td>0</td>\n",
       "      <td>am</td>\n",
       "      <td>6.88</td>\n",
       "      <td>0.0</td>\n",
       "      <td>7.55</td>\n",
       "      <td>16.25</td>\n",
       "    </tr>\n",
       "    <tr>\n",
       "      <th>3</th>\n",
       "      <td>00010001</td>\n",
       "      <td>264</td>\n",
       "      <td>418</td>\n",
       "      <td>2012-11-06 12:22:11</td>\n",
       "      <td>12</td>\n",
       "      <td>Tuesday</td>\n",
       "      <td>0</td>\n",
       "      <td>am</td>\n",
       "      <td>6.88</td>\n",
       "      <td>0.0</td>\n",
       "      <td>7.55</td>\n",
       "      <td>16.25</td>\n",
       "    </tr>\n",
       "    <tr>\n",
       "      <th>4</th>\n",
       "      <td>00010001</td>\n",
       "      <td>439</td>\n",
       "      <td>440</td>\n",
       "      <td>2012-11-06 12:22:33</td>\n",
       "      <td>12</td>\n",
       "      <td>Tuesday</td>\n",
       "      <td>0</td>\n",
       "      <td>am</td>\n",
       "      <td>6.88</td>\n",
       "      <td>0.0</td>\n",
       "      <td>7.55</td>\n",
       "      <td>16.25</td>\n",
       "    </tr>\n",
       "  </tbody>\n",
       "</table>\n",
       "</div>"
      ],
      "text/plain": [
       "  Journey_Pattern_ID  Distance  Trip_Time             datetime  HourOfDay  \\\n",
       "0           00010001         0          0  2012-11-06 12:15:13         12   \n",
       "1           00010001        22        360  2012-11-06 12:21:13         12   \n",
       "2           00010001       215        397  2012-11-06 12:21:50         12   \n",
       "3           00010001       264        418  2012-11-06 12:22:11         12   \n",
       "4           00010001       439        440  2012-11-06 12:22:33         12   \n",
       "\n",
       "  day_of_week  midweek time_bin  cloud  rain  temp   wind  \n",
       "0     Tuesday        0       am   6.88   0.0  7.55  16.25  \n",
       "1     Tuesday        0       am   6.88   0.0  7.55  16.25  \n",
       "2     Tuesday        0       am   6.88   0.0  7.55  16.25  \n",
       "3     Tuesday        0       am   6.88   0.0  7.55  16.25  \n",
       "4     Tuesday        0       am   6.88   0.0  7.55  16.25  "
      ]
     },
     "execution_count": 29,
     "metadata": {},
     "output_type": "execute_result"
    }
   ],
   "source": [
    "df.head()"
   ]
  },
  {
   "cell_type": "code",
   "execution_count": 37,
   "metadata": {
    "collapsed": false
   },
   "outputs": [
    {
     "data": {
      "text/plain": [
       "0    255.360298\n",
       "1    259.262807\n",
       "2    293.498459\n",
       "3    302.190412\n",
       "4    333.233102\n",
       "dtype: float64"
      ]
     },
     "execution_count": 37,
     "metadata": {},
     "output_type": "execute_result"
    }
   ],
   "source": [
    "lm.predict(X.head())\n",
    "#Distance+HourOfDay+midweek+cloud+rain+wind+temp"
   ]
  },
  {
   "cell_type": "code",
   "execution_count": 28,
   "metadata": {
    "collapsed": false
   },
   "outputs": [],
   "source": [
    "#df.plot(kind='scatter', x='Distance', y='Trip_Time')\n",
    "# plt.plot(X['Distance'], lm_predictions, c='red', linewidth=2)\n",
    "\n",
    "#plt.savefig('SM_Linear_Reg.png')"
   ]
  },
  {
   "cell_type": "code",
   "execution_count": 15,
   "metadata": {
    "collapsed": false
   },
   "outputs": [
    {
     "data": {
      "text/html": [
       "<div>\n",
       "<table border=\"1\" class=\"dataframe\">\n",
       "  <thead>\n",
       "    <tr style=\"text-align: right;\">\n",
       "      <th></th>\n",
       "      <th>0</th>\n",
       "      <th>1</th>\n",
       "    </tr>\n",
       "  </thead>\n",
       "  <tbody>\n",
       "    <tr>\n",
       "      <th>Intercept</th>\n",
       "      <td>329.412808</td>\n",
       "      <td>332.160759</td>\n",
       "    </tr>\n",
       "    <tr>\n",
       "      <th>Distance</th>\n",
       "      <td>0.177345</td>\n",
       "      <td>0.177429</td>\n",
       "    </tr>\n",
       "    <tr>\n",
       "      <th>HourOfDay</th>\n",
       "      <td>-3.659028</td>\n",
       "      <td>-3.537414</td>\n",
       "    </tr>\n",
       "    <tr>\n",
       "      <th>midweek</th>\n",
       "      <td>-210.049827</td>\n",
       "      <td>-208.515094</td>\n",
       "    </tr>\n",
       "    <tr>\n",
       "      <th>cloud</th>\n",
       "      <td>-8.527788</td>\n",
       "      <td>-8.209217</td>\n",
       "    </tr>\n",
       "    <tr>\n",
       "      <th>rain</th>\n",
       "      <td>55.890033</td>\n",
       "      <td>57.788965</td>\n",
       "    </tr>\n",
       "    <tr>\n",
       "      <th>wind</th>\n",
       "      <td>-1.607792</td>\n",
       "      <td>-1.488109</td>\n",
       "    </tr>\n",
       "    <tr>\n",
       "      <th>temp</th>\n",
       "      <td>6.593863</td>\n",
       "      <td>6.778762</td>\n",
       "    </tr>\n",
       "  </tbody>\n",
       "</table>\n",
       "</div>"
      ],
      "text/plain": [
       "                    0           1\n",
       "Intercept  329.412808  332.160759\n",
       "Distance     0.177345    0.177429\n",
       "HourOfDay   -3.659028   -3.537414\n",
       "midweek   -210.049827 -208.515094\n",
       "cloud       -8.527788   -8.209217\n",
       "rain        55.890033   57.788965\n",
       "wind        -1.607792   -1.488109\n",
       "temp         6.593863    6.778762"
      ]
     },
     "execution_count": 15,
     "metadata": {},
     "output_type": "execute_result"
    }
   ],
   "source": [
    "lm.conf_int()"
   ]
  },
  {
   "cell_type": "code",
   "execution_count": 16,
   "metadata": {
    "collapsed": false
   },
   "outputs": [
    {
     "name": "stdout",
     "output_type": "stream",
     "text": [
      "\n",
      " Mean Squared Error 353074.658828\n"
     ]
    }
   ],
   "source": [
    "# MSE: Mean Squared Error\n",
    "mse=((df_linear.Trip_Time-lm.predict(df_linear))**2).mean()\n",
    "print(\"\\n Mean Squared Error\",mse)"
   ]
  },
  {
   "cell_type": "code",
   "execution_count": 17,
   "metadata": {
    "collapsed": false
   },
   "outputs": [
    {
     "name": "stdout",
     "output_type": "stream",
     "text": [
      "Mean Absolute mean  436.961716179\n"
     ]
    }
   ],
   "source": [
    "# MAE:  Mean Absolute mean \n",
    "mae = abs(df_linear.Trip_Time-lm.predict(df_linear)).mean()\n",
    "print(\"Mean Absolute mean \",mae)"
   ]
  },
  {
   "cell_type": "markdown",
   "metadata": {
    "collapsed": true
   },
   "source": [
    "# Use LinearRegression to train data set without weather feature "
   ]
  },
  {
   "cell_type": "code",
   "execution_count": 6,
   "metadata": {
    "collapsed": true
   },
   "outputs": [],
   "source": [
    "from sklearn.pipeline import Pipeline\n",
    "from sklearn.preprocessing import PolynomialFeatures\n",
    "from sklearn.linear_model import LinearRegression\n",
    "from sklearn.model_selection import cross_val_score"
   ]
  },
  {
   "cell_type": "code",
   "execution_count": 7,
   "metadata": {
    "collapsed": false
   },
   "outputs": [
    {
     "data": {
      "text/plain": [
       "Index(['Distance', 'HourOfDay', 'midweek'], dtype='object')"
      ]
     },
     "execution_count": 7,
     "metadata": {},
     "output_type": "execute_result"
    }
   ],
   "source": [
    "feature_cols = ['Distance','HourOfDay','midweek']\n",
    "X = df[feature_cols]\n",
    "y = df['Trip_Time']\n",
    "X.columns"
   ]
  },
  {
   "cell_type": "code",
   "execution_count": 8,
   "metadata": {
    "collapsed": false
   },
   "outputs": [
    {
     "name": "stdout",
     "output_type": "stream",
     "text": [
      "CPU times: user 13.8 s, sys: 18.9 s, total: 32.6 s\n",
      "Wall time: 43.1 s\n"
     ]
    },
    {
     "data": {
      "text/plain": [
       "Pipeline(steps=[('polynomial_features', PolynomialFeatures(degree=2, include_bias=False, interaction_only=False)), ('linear_regression', LinearRegression(copy_X=True, fit_intercept=True, n_jobs=1, normalize=False))])"
      ]
     },
     "execution_count": 8,
     "metadata": {},
     "output_type": "execute_result"
    }
   ],
   "source": [
    "polynomial_features = PolynomialFeatures(degree=2,include_bias=False)\n",
    "linear_regression = LinearRegression()\n",
    "pipeline = Pipeline([(\"polynomial_features\", polynomial_features),\n",
    "                         (\"linear_regression\", linear_regression)])\n",
    "%time pipeline.fit(X, y)\n",
    "\n",
    "#df.plot(kind='scatter', x='Distance', y='Trip_Time',label=\"Samples\")\n",
    "#plt.plot(X['Distance'], pipeline.predict(X), c='Blue', label=\"Model\")\n",
    "\n",
    "#plt.savefig('Linear_Reg_Poly.png')"
   ]
  },
  {
   "cell_type": "code",
   "execution_count": 9,
   "metadata": {
    "collapsed": false
   },
   "outputs": [
    {
     "data": {
      "text/plain": [
       "0.81978845296301661"
      ]
     },
     "execution_count": 9,
     "metadata": {},
     "output_type": "execute_result"
    }
   ],
   "source": [
    "pipeline.score(X,y)"
   ]
  },
  {
   "cell_type": "code",
   "execution_count": 14,
   "metadata": {
    "collapsed": false
   },
   "outputs": [
    {
     "name": "stdout",
     "output_type": "stream",
     "text": [
      "Mean Absolute mean  420.137739952\n"
     ]
    }
   ],
   "source": [
    "# MAE:  Mean Absolute mean \n",
    "mae = abs(y-pipeline.predict(X)).mean()\n",
    "print(\"Mean Absolute mean \",mae)"
   ]
  },
  {
   "cell_type": "code",
   "execution_count": 11,
   "metadata": {
    "collapsed": false
   },
   "outputs": [
    {
     "name": "stdout",
     "output_type": "stream",
     "text": [
      "Mean  Percentage  Absolute Error  0.207264784096\n"
     ]
    }
   ],
   "source": [
    "# MAE:  Mean Percentage Absolute Error \n",
    "\n",
    "# Mean  Percentage  Absolute Error  of linear:  0.128071279637\n",
    "mpae = (abs(y-pipeline.predict(X))).sum()/y.sum()\n",
    "print(\"Mean  Percentage  Absolute Error \",mpae)"
   ]
  },
  {
   "cell_type": "code",
   "execution_count": 13,
   "metadata": {
    "collapsed": false
   },
   "outputs": [],
   "source": [
    "import pickle\n",
    "pickle.dump(pipeline, open('linear_model', 'wb'))"
   ]
  },
  {
   "cell_type": "markdown",
   "metadata": {},
   "source": [
    "# Use LinearRegression to train data set with weather feature "
   ]
  },
  {
   "cell_type": "code",
   "execution_count": 7,
   "metadata": {
    "collapsed": true
   },
   "outputs": [],
   "source": [
    "from sklearn.pipeline import Pipeline\n",
    "from sklearn.preprocessing import PolynomialFeatures\n",
    "from sklearn.linear_model import LinearRegression\n",
    "from sklearn.model_selection import cross_val_score"
   ]
  },
  {
   "cell_type": "code",
   "execution_count": 8,
   "metadata": {
    "collapsed": false
   },
   "outputs": [
    {
     "data": {
      "text/plain": [
       "Index(['Distance', 'HourOfDay', 'midweek', 'rain'], dtype='object')"
      ]
     },
     "execution_count": 8,
     "metadata": {},
     "output_type": "execute_result"
    }
   ],
   "source": [
    "feature_cols = ['Distance','HourOfDay','midweek','rain']\n",
    "X = df[feature_cols]\n",
    "y = df['Trip_Time']\n",
    "X.columns"
   ]
  },
  {
   "cell_type": "code",
   "execution_count": 9,
   "metadata": {
    "collapsed": false
   },
   "outputs": [
    {
     "data": {
      "text/plain": [
       "(16852100,)"
      ]
     },
     "execution_count": 9,
     "metadata": {},
     "output_type": "execute_result"
    }
   ],
   "source": [
    "y.shape"
   ]
  },
  {
   "cell_type": "code",
   "execution_count": 10,
   "metadata": {
    "collapsed": false
   },
   "outputs": [
    {
     "data": {
      "text/plain": [
       "Distance       int64\n",
       "HourOfDay      int64\n",
       "midweek        int64\n",
       "rain         float64\n",
       "dtype: object"
      ]
     },
     "execution_count": 10,
     "metadata": {},
     "output_type": "execute_result"
    }
   ],
   "source": [
    "X.dtypes"
   ]
  },
  {
   "cell_type": "raw",
   "metadata": {
    "collapsed": false
   },
   "source": [
    "from sklearn.preprocessing import LabelEncoder\n",
    "le=LabelEncoder()\n",
    "\n",
    "for col in X.columns.values:\n",
    "    if X[col].dtypes=='object':\n",
    "        # Using whole data to form an exhaustive list of levels\n",
    "        data=X[col]\n",
    "        le.fit(data.values)\n",
    "        X[col]=le.transform(X[col])"
   ]
  },
  {
   "cell_type": "raw",
   "metadata": {
    "collapsed": false
   },
   "source": [
    "degrees = [1,2]\n",
    "\n",
    "#plt.figure(figsize=(14, 5))\n",
    "for i in range(len(degrees)):\n",
    "    polynomial_features = PolynomialFeatures(degree=degrees[i],\n",
    "                                             include_bias=False)\n",
    "    linear_regression = LinearRegression()\n",
    "    pipeline = Pipeline([(\"polynomial_features\", polynomial_features),\n",
    "                         (\"linear_regression\", linear_regression)])\n",
    "    pipeline.fit(X, y)\n",
    "    #df.plot(kind='scatter', x='Distance', y='Trip_Time',label=\"Samples\")\n",
    "    #plt.plot(X['Distance'], pipeline.predict(X), c='Blue', label=\"Model\")\n",
    "    #plt.legend(loc=\"best\")\n",
    "    #plt.show()"
   ]
  },
  {
   "cell_type": "code",
   "execution_count": 11,
   "metadata": {
    "collapsed": false
   },
   "outputs": [
    {
     "name": "stdout",
     "output_type": "stream",
     "text": [
      "CPU times: user 25.2 s, sys: 46.4 s, total: 1min 11s\n",
      "Wall time: 1min 54s\n"
     ]
    },
    {
     "data": {
      "text/plain": [
       "Pipeline(steps=[('polynomial_features', PolynomialFeatures(degree=2, include_bias=False, interaction_only=False)), ('linear_regression', LinearRegression(copy_X=True, fit_intercept=True, n_jobs=1, normalize=False))])"
      ]
     },
     "execution_count": 11,
     "metadata": {},
     "output_type": "execute_result"
    }
   ],
   "source": [
    "polynomial_features = PolynomialFeatures(degree=2,include_bias=False)\n",
    "linear_regression = LinearRegression()\n",
    "pipeline = Pipeline([(\"polynomial_features\", polynomial_features),\n",
    "                         (\"linear_regression\", linear_regression)])\n",
    "%time pipeline.fit(X, y)\n",
    "\n",
    "#df.plot(kind='scatter', x='Distance', y='Trip_Time',label=\"Samples\")\n",
    "#plt.plot(X['Distance'], pipeline.predict(X), c='Blue', label=\"Model\")\n",
    "\n",
    "#plt.savefig('Linear_Reg_Poly.png')"
   ]
  },
  {
   "cell_type": "code",
   "execution_count": 12,
   "metadata": {
    "collapsed": false
   },
   "outputs": [
    {
     "data": {
      "text/plain": [
       "{'copy_X': True, 'fit_intercept': True, 'n_jobs': 1, 'normalize': False}"
      ]
     },
     "execution_count": 12,
     "metadata": {},
     "output_type": "execute_result"
    }
   ],
   "source": [
    "pipeline.named_steps['linear_regression'].get_params()"
   ]
  },
  {
   "cell_type": "code",
   "execution_count": 13,
   "metadata": {
    "collapsed": false
   },
   "outputs": [
    {
     "name": "stdout",
     "output_type": "stream",
     "text": [
      "CPU times: user 8.9 s, sys: 9.03 s, total: 17.9 s\n",
      "Wall time: 23.7 s\n"
     ]
    },
    {
     "data": {
      "text/plain": [
       "0.81989995394692972"
      ]
     },
     "execution_count": 13,
     "metadata": {},
     "output_type": "execute_result"
    }
   ],
   "source": [
    "%time pipeline.score(X,y)"
   ]
  },
  {
   "cell_type": "code",
   "execution_count": 14,
   "metadata": {
    "collapsed": false
   },
   "outputs": [
    {
     "data": {
      "text/plain": [
       "{'linear_regression': LinearRegression(copy_X=True, fit_intercept=True, n_jobs=1, normalize=False),\n",
       " 'linear_regression__copy_X': True,\n",
       " 'linear_regression__fit_intercept': True,\n",
       " 'linear_regression__n_jobs': 1,\n",
       " 'linear_regression__normalize': False,\n",
       " 'polynomial_features': PolynomialFeatures(degree=2, include_bias=False, interaction_only=False),\n",
       " 'polynomial_features__degree': 2,\n",
       " 'polynomial_features__include_bias': False,\n",
       " 'polynomial_features__interaction_only': False,\n",
       " 'steps': [('polynomial_features',\n",
       "   PolynomialFeatures(degree=2, include_bias=False, interaction_only=False)),\n",
       "  ('linear_regression',\n",
       "   LinearRegression(copy_X=True, fit_intercept=True, n_jobs=1, normalize=False))]}"
      ]
     },
     "execution_count": 14,
     "metadata": {},
     "output_type": "execute_result"
    }
   ],
   "source": [
    "pipeline.get_params()"
   ]
  },
  {
   "cell_type": "code",
   "execution_count": 15,
   "metadata": {
    "collapsed": false
   },
   "outputs": [
    {
     "name": "stdout",
     "output_type": "stream",
     "text": [
      "Mean Absolute mean  420.074239937\n"
     ]
    }
   ],
   "source": [
    "# MAE:  Mean Absolute mean \n",
    "mae = abs(y-pipeline.predict(X)).mean()\n",
    "print(\"Mean Absolute mean \",mae)"
   ]
  },
  {
   "cell_type": "code",
   "execution_count": 16,
   "metadata": {
    "collapsed": false
   },
   "outputs": [
    {
     "name": "stdout",
     "output_type": "stream",
     "text": [
      "Mean  Percentage  Absolute Error  0.2072334579\n"
     ]
    }
   ],
   "source": [
    "# MAE:  Mean Percentage Absolute Error \n",
    "\n",
    "# Mean  Percentage  Absolute Error  of linear:  0.128071279637\n",
    "mpae = (abs(y-pipeline.predict(X))).sum()/y.sum()\n",
    "print(\"Mean  Percentage  Absolute Error \",mpae)"
   ]
  },
  {
   "cell_type": "code",
   "execution_count": 17,
   "metadata": {
    "collapsed": false
   },
   "outputs": [
    {
     "data": {
      "text/plain": [
       "array([ 273.47297127,  277.9802564 ,  317.47803272,  327.49356122,\n",
       "        363.22229975])"
      ]
     },
     "execution_count": 17,
     "metadata": {},
     "output_type": "execute_result"
    }
   ],
   "source": [
    "pipeline.predict(X.head())"
   ]
  },
  {
   "cell_type": "code",
   "execution_count": 21,
   "metadata": {
    "collapsed": false
   },
   "outputs": [
    {
     "name": "stdout",
     "output_type": "stream",
     "text": [
      "   Distance  HourOfDay  midweek  rain\n",
      "0      4830         12        1     0\n"
     ]
    },
    {
     "data": {
      "text/plain": [
       "array([ 1055.59483546])"
      ]
     },
     "execution_count": 21,
     "metadata": {},
     "output_type": "execute_result"
    }
   ],
   "source": [
    "import pandas as pd\n",
    "feature_cols = ['Distance','midweek','HourOfDay']\n",
    "def get_time(distance,mid_week,hour):\n",
    "    params = [{\n",
    "           'Distance': distance,\n",
    "           'midweek':mid_week,\n",
    "           'HourOfDay':hour,\n",
    "           'rain':rain\n",
    "    }]\n",
    "    df = pd.DataFrame(params)\n",
    "    print(df)\n",
    "\n",
    "    estimated_time = pipeline.predict(df)\n",
    "    print\n",
    "    return estimated_time\n",
    "distance=4830\n",
    "mid_week=1\n",
    "hour=12\n",
    "rain=0\n",
    "get_time(distance,mid_week,hour)"
   ]
  },
  {
   "cell_type": "code",
   "execution_count": 18,
   "metadata": {
    "collapsed": false
   },
   "outputs": [
    {
     "name": "stderr",
     "output_type": "stream",
     "text": [
      "/Users/April/anaconda/envs/comp47350/lib/python3.6/site-packages/sklearn/utils/validation.py:395: DeprecationWarning: Passing 1d arrays as data is deprecated in 0.17 and will raise ValueError in 0.19. Reshape your data either using X.reshape(-1, 1) if your data has a single feature or X.reshape(1, -1) if it contains a single sample.\n",
      "  DeprecationWarning)\n"
     ]
    },
    {
     "data": {
      "text/plain": [
       "array([-27128.30438967])"
      ]
     },
     "execution_count": 18,
     "metadata": {},
     "output_type": "execute_result"
    }
   ],
   "source": [
    "pipeline.predict([4830,1,12,0])"
   ]
  },
  {
   "cell_type": "markdown",
   "metadata": {
    "collapsed": false
   },
   "source": [
    "df.plot(kind='scatter', x='Distance', y='Trip_Time')\n",
    "plt.plot(X['Distance'], lm_sk_predictions, c='red')\n",
    "plt.legend(loc=\"best\")\n",
    "plt.savefig('SM_Linear_Reg.png')"
   ]
  },
  {
   "cell_type": "code",
   "execution_count": 20,
   "metadata": {
    "collapsed": false
   },
   "outputs": [],
   "source": [
    "import pickle\n",
    "pickle.dump(pipeline, open('linear_model_all', 'wb'))"
   ]
  },
  {
   "cell_type": "code",
   "execution_count": null,
   "metadata": {
    "collapsed": true
   },
   "outputs": [],
   "source": []
  },
  {
   "cell_type": "markdown",
   "metadata": {
    "collapsed": true
   },
   "source": [
    "# Train all data set with Random Forest "
   ]
  },
  {
   "cell_type": "code",
   "execution_count": 21,
   "metadata": {
    "collapsed": true
   },
   "outputs": [],
   "source": [
    "from sklearn.datasets import load_boston\n",
    "from sklearn.ensemble import RandomForestRegressor\n",
    "from sklearn.preprocessing import Imputer\n",
    "from sklearn.multioutput import MultiOutputRegressor"
   ]
  },
  {
   "cell_type": "code",
   "execution_count": 22,
   "metadata": {
    "collapsed": false
   },
   "outputs": [],
   "source": [
    "# http://scikit-learn.org/stable/modules/generated/sklearn.ensemble.RandomForestRegressor.html\n",
    "#sklearn.ensemble.RandomForestRegressor\n",
    "max_depth = 30\n",
    "regr_rf = RandomForestRegressor(max_depth=max_depth,random_state=2)"
   ]
  },
  {
   "cell_type": "code",
   "execution_count": 23,
   "metadata": {
    "collapsed": false
   },
   "outputs": [
    {
     "data": {
      "text/plain": [
       "Distance       int64\n",
       "HourOfDay      int64\n",
       "midweek        int64\n",
       "rain         float64\n",
       "dtype: object"
      ]
     },
     "execution_count": 23,
     "metadata": {},
     "output_type": "execute_result"
    }
   ],
   "source": [
    "X.dtypes"
   ]
  },
  {
   "cell_type": "code",
   "execution_count": 24,
   "metadata": {
    "collapsed": false
   },
   "outputs": [
    {
     "data": {
      "text/html": [
       "<div>\n",
       "<table border=\"1\" class=\"dataframe\">\n",
       "  <thead>\n",
       "    <tr style=\"text-align: right;\">\n",
       "      <th></th>\n",
       "      <th>Distance</th>\n",
       "      <th>HourOfDay</th>\n",
       "      <th>midweek</th>\n",
       "      <th>rain</th>\n",
       "    </tr>\n",
       "  </thead>\n",
       "  <tbody>\n",
       "    <tr>\n",
       "      <th>0</th>\n",
       "      <td>0</td>\n",
       "      <td>12</td>\n",
       "      <td>0</td>\n",
       "      <td>0.0</td>\n",
       "    </tr>\n",
       "    <tr>\n",
       "      <th>1</th>\n",
       "      <td>22</td>\n",
       "      <td>12</td>\n",
       "      <td>0</td>\n",
       "      <td>0.0</td>\n",
       "    </tr>\n",
       "    <tr>\n",
       "      <th>2</th>\n",
       "      <td>215</td>\n",
       "      <td>12</td>\n",
       "      <td>0</td>\n",
       "      <td>0.0</td>\n",
       "    </tr>\n",
       "    <tr>\n",
       "      <th>3</th>\n",
       "      <td>264</td>\n",
       "      <td>12</td>\n",
       "      <td>0</td>\n",
       "      <td>0.0</td>\n",
       "    </tr>\n",
       "    <tr>\n",
       "      <th>4</th>\n",
       "      <td>439</td>\n",
       "      <td>12</td>\n",
       "      <td>0</td>\n",
       "      <td>0.0</td>\n",
       "    </tr>\n",
       "  </tbody>\n",
       "</table>\n",
       "</div>"
      ],
      "text/plain": [
       "   Distance  HourOfDay  midweek  rain\n",
       "0         0         12        0   0.0\n",
       "1        22         12        0   0.0\n",
       "2       215         12        0   0.0\n",
       "3       264         12        0   0.0\n",
       "4       439         12        0   0.0"
      ]
     },
     "execution_count": 24,
     "metadata": {},
     "output_type": "execute_result"
    }
   ],
   "source": [
    "X.head()"
   ]
  },
  {
   "cell_type": "raw",
   "metadata": {
    "collapsed": true
   },
   "source": [
    "from sklearn.preprocessing import LabelEncoder\n",
    "le=LabelEncoder()\n",
    "\n",
    "for col in X.columns.values:\n",
    "    if X[col].dtypes=='object':\n",
    "        # Using whole data to form an exhaustive list of levels\n",
    "        data=X[col]\n",
    "        le.fit(data.values)\n",
    "        X[col]=le.transform(X[col])"
   ]
  },
  {
   "cell_type": "code",
   "execution_count": 25,
   "metadata": {
    "collapsed": false
   },
   "outputs": [
    {
     "name": "stdout",
     "output_type": "stream",
     "text": [
      "CPU times: user 9min 54s, sys: 6.15 s, total: 10min\n",
      "Wall time: 10min 5s\n"
     ]
    },
    {
     "data": {
      "text/plain": [
       "RandomForestRegressor(bootstrap=True, criterion='mse', max_depth=30,\n",
       "           max_features='auto', max_leaf_nodes=None,\n",
       "           min_impurity_split=1e-07, min_samples_leaf=1,\n",
       "           min_samples_split=2, min_weight_fraction_leaf=0.0,\n",
       "           n_estimators=10, n_jobs=1, oob_score=False, random_state=2,\n",
       "           verbose=0, warm_start=False)"
      ]
     },
     "execution_count": 25,
     "metadata": {},
     "output_type": "execute_result"
    }
   ],
   "source": [
    "%time regr_rf.fit(X,y)"
   ]
  },
  {
   "cell_type": "code",
   "execution_count": 26,
   "metadata": {
    "collapsed": false
   },
   "outputs": [
    {
     "data": {
      "text/plain": [
       "0.87535624457291727"
      ]
     },
     "execution_count": 26,
     "metadata": {},
     "output_type": "execute_result"
    }
   ],
   "source": [
    "regr_rf.score(X,y)"
   ]
  },
  {
   "cell_type": "code",
   "execution_count": 27,
   "metadata": {
    "collapsed": true
   },
   "outputs": [],
   "source": [
    "y_regr_rf=regr_rf.predict(X)"
   ]
  },
  {
   "cell_type": "code",
   "execution_count": 29,
   "metadata": {
    "collapsed": false
   },
   "outputs": [
    {
     "data": {
      "text/plain": [
       "<matplotlib.collections.PathCollection at 0x1178b5588>"
      ]
     },
     "execution_count": 29,
     "metadata": {},
     "output_type": "execute_result"
    },
    {
     "data": {
      "image/png": "[encoded data removed]",
      "text/plain": [
       "<matplotlib.figure.Figure at 0x1163ef518>"
      ]
     },
     "metadata": {},
     "output_type": "display_data"
    }
   ],
   "source": [
    "#plt.scatter(X['Distance'],y,color='blue', lable='Data')\n",
    "#plt.plot(X['Distance'],y_regr_rf, color='red', lable='Random Forest')\n",
    "\n",
    "plt.scatter(X['Distance'], y, color='darkorange', label='data')\n",
    "#plt.savefig('RF_result.png')\n"
   ]
  },
  {
   "cell_type": "code",
   "execution_count": 30,
   "metadata": {
    "collapsed": false
   },
   "outputs": [
    {
     "data": {
      "text/plain": [
       "<matplotlib.collections.PathCollection at 0x1179b7cf8>"
      ]
     },
     "execution_count": 30,
     "metadata": {},
     "output_type": "execute_result"
    },
    {
     "data": {
      "image/png": "[encoded data removed]",
      "text/plain": [
       "<matplotlib.figure.Figure at 0x117a65a90>"
      ]
     },
     "metadata": {},
     "output_type": "display_data"
    }
   ],
   "source": [
    "plt.scatter(X['Distance'], y_regr_rf, color='navy', label='MRF model')\n",
    "#plt.get_backend()"
   ]
  },
  {
   "cell_type": "code",
   "execution_count": 31,
   "metadata": {
    "collapsed": false
   },
   "outputs": [
    {
     "name": "stdout",
     "output_type": "stream",
     "text": [
      "Mean Absolute Error of RF  339.632415066\n"
     ]
    }
   ],
   "source": [
    "# MAE:  Mean Absolute Error \n",
    "\n",
    "# Mean Absolute Error  of linear:  253.761443277\n",
    "mae = abs(y-y_regr_rf).mean()\n",
    "print(\"Mean Absolute Error of RF \",mae)"
   ]
  },
  {
   "cell_type": "code",
   "execution_count": 32,
   "metadata": {
    "collapsed": false
   },
   "outputs": [
    {
     "name": "stdout",
     "output_type": "stream",
     "text": [
      "Mean  Percentage  Absolute Error  0.167549430786\n"
     ]
    }
   ],
   "source": [
    "# MAE:  Mean Percentage Absolute Error \n",
    "\n",
    "# Mean  Percentage  Absolute Error  of linear:  0.128071279637\n",
    "mpae = (abs(y-y_regr_rf)).sum()/y.sum()\n",
    "print(\"Mean  Percentage  Absolute Error \",mpae)"
   ]
  },
  {
   "cell_type": "code",
   "execution_count": 36,
   "metadata": {
    "collapsed": false
   },
   "outputs": [
    {
     "ename": "OSError",
     "evalue": "[Errno 22] Invalid argument",
     "output_type": "error",
     "traceback": [
      "\u001b[0;31m---------------------------------------------------------------------------\u001b[0m",
      "\u001b[0;31mOSError\u001b[0m                                   Traceback (most recent call last)",
      "\u001b[0;32m<ipython-input-36-52b321fd3378>\u001b[0m in \u001b[0;36m<module>\u001b[0;34m()\u001b[0m\n\u001b[1;32m      3\u001b[0m \u001b[0;34m\u001b[0m\u001b[0m\n\u001b[1;32m      4\u001b[0m \u001b[0;32mimport\u001b[0m \u001b[0mpickle\u001b[0m\u001b[0;34m\u001b[0m\u001b[0m\n\u001b[0;32m----> 5\u001b[0;31m \u001b[0mpickle\u001b[0m\u001b[0;34m.\u001b[0m\u001b[0mdump\u001b[0m\u001b[0;34m(\u001b[0m\u001b[0mregr_rf\u001b[0m\u001b[0;34m,\u001b[0m \u001b[0mopen\u001b[0m\u001b[0;34m(\u001b[0m\u001b[0;34m'rfmodle.sav'\u001b[0m\u001b[0;34m,\u001b[0m \u001b[0;34m'wb'\u001b[0m\u001b[0;34m)\u001b[0m\u001b[0;34m)\u001b[0m\u001b[0;34m\u001b[0m\u001b[0m\n\u001b[0m",
      "\u001b[0;31mOSError\u001b[0m: [Errno 22] Invalid argument"
     ]
    }
   ],
   "source": [
    "#import pickle\n",
    "#pickle.dump(regr_rf, open('regr_rf_model', 'wb'))\n",
    "\n",
    "import pickle\n",
    "pickle.dump(regr_rf, open('rfmodle.sav', 'wb'))"
   ]
  },
  {
   "cell_type": "markdown",
   "metadata": {},
   "source": [
    "# Train all data with Journey Pattern ID \n",
    "## Don't need any more "
   ]
  },
  {
   "cell_type": "raw",
   "metadata": {
    "collapsed": false
   },
   "source": [
    "# http://scikit-learn.org/stable/modules/generated/sklearn.ensemble.RandomForestRegressor.html\n",
    "#sklearn.ensemble.RandomForestRegressor\n",
    "max_depth = 30\n",
    "regr_rf = RandomForestRegressor(max_depth=max_depth,random_state=2)\n",
    "# Prepare the descriptive features\n",
    "X = pd.concat([df[['Journey_Pattern_ID','Distance','HourOfDay','midweek','cloud','rain','wind','temp']]], axis=1)\n",
    "y = df.Trip_Time \n",
    "\n",
    "#print(\"Descriptive features:\\n\", X)\n",
    "#print(\"\\nTarget feature:\\n\", y)"
   ]
  },
  {
   "cell_type": "raw",
   "metadata": {
    "collapsed": false
   },
   "source": [
    "from sklearn.preprocessing import LabelEncoder\n",
    "le=LabelEncoder()\n",
    "\n",
    "for col in X.columns.values:\n",
    "    if X[col].dtypes=='object':\n",
    "        # Using whole data to form an exhaustive list of levels\n",
    "        data=X[col]\n",
    "        le.fit(data.values)\n",
    "        X[col]=le.transform(X[col])"
   ]
  },
  {
   "cell_type": "raw",
   "metadata": {
    "collapsed": false
   },
   "source": [
    "%time regr_rf.fit(X,y)"
   ]
  },
  {
   "cell_type": "raw",
   "metadata": {
    "collapsed": false
   },
   "source": [
    "regr_rf.score(X,y)"
   ]
  },
  {
   "cell_type": "raw",
   "metadata": {
    "collapsed": false
   },
   "source": [
    "# MAE:  Mean Absolute Error \n",
    "\n",
    "# Mean Absolute Error  of linear:  253.761443277\n",
    "mae = abs(y-regr_rf.predict(X)).mean()\n",
    "print(\"Mean Absolute Error of RF \",mae)"
   ]
  },
  {
   "cell_type": "raw",
   "metadata": {
    "collapsed": false
   },
   "source": [
    "# MAE:  Mean Percentage Absolute Error \n",
    "\n",
    "# Mean  Percentage  Absolute Error  of linear:  0.128071279637\n",
    "mpae = (abs(y-regr_rf.predict(X))).sum()/y.sum()\n",
    "print(\"Mean  Percentage  Absolute Error \",mpae)"
   ]
  },
  {
   "cell_type": "raw",
   "metadata": {
    "collapsed": true
   },
   "source": [
    "import pickle\n",
    "pickle.dump(regr_rf, open('regr_rf_model1', 'wb'))"
   ]
  },
  {
   "cell_type": "markdown",
   "metadata": {},
   "source": [
    "# splite our data to train and test data set and check our model result \n"
   ]
  },
  {
   "cell_type": "markdown",
   "metadata": {},
   "source": [
    "# Linear Regression "
   ]
  },
  {
   "cell_type": "code",
   "execution_count": 37,
   "metadata": {
    "collapsed": false
   },
   "outputs": [
    {
     "name": "stderr",
     "output_type": "stream",
     "text": [
      "/Users/April/anaconda/envs/comp47350/lib/python3.6/site-packages/sklearn/cross_validation.py:44: DeprecationWarning: This module was deprecated in version 0.18 in favor of the model_selection module into which all the refactored classes and functions are moved. Also note that the interface of the new CV iterators are different from that of this module. This module will be removed in 0.20.\n",
      "  \"This module will be removed in 0.20.\", DeprecationWarning)\n"
     ]
    }
   ],
   "source": [
    "from sklearn.cross_validation import train_test_split\n",
    "X_train, X_test, y_train, y_test = train_test_split(X, y, test_size=0.3)"
   ]
  },
  {
   "cell_type": "code",
   "execution_count": null,
   "metadata": {
    "collapsed": false
   },
   "outputs": [],
   "source": [
    "polynomial_features = PolynomialFeatures(degree=1,include_bias=False)\n",
    "linear_regression = LinearRegression()\n",
    "pipeline_train = Pipeline([(\"polynomial_features\", polynomial_features),\n",
    "                         (\"linear_regression\", linear_regression)])\n",
    "%time pipeline_train.fit(X_train, y_train)"
   ]
  },
  {
   "cell_type": "code",
   "execution_count": null,
   "metadata": {
    "collapsed": true
   },
   "outputs": [],
   "source": [
    "pipeline_train.score(X_train,y_train)"
   ]
  },
  {
   "cell_type": "code",
   "execution_count": null,
   "metadata": {
    "collapsed": true
   },
   "outputs": [],
   "source": [
    "pipeline_train.score(X_test,y_test)"
   ]
  },
  {
   "cell_type": "code",
   "execution_count": null,
   "metadata": {
    "collapsed": true
   },
   "outputs": [],
   "source": [
    "# MAE:  Mean Absolute Error  of Training Data \n",
    "\n",
    "mae = abs(y_train-pipeline_train.predict(X_train)).mean()\n",
    "print(\"Mean Absolute Error of RF \",mae)"
   ]
  },
  {
   "cell_type": "code",
   "execution_count": null,
   "metadata": {
    "collapsed": true
   },
   "outputs": [],
   "source": [
    "# MAE:  Mean Absolute Error of Testing Data \n",
    " \n",
    "mae = abs(y_test-pipeline_train.predict(X_test)).mean()\n",
    "print(\"Mean Absolute Error of RF \",mae)"
   ]
  },
  {
   "cell_type": "markdown",
   "metadata": {},
   "source": [
    "# Random Forest "
   ]
  },
  {
   "cell_type": "code",
   "execution_count": null,
   "metadata": {
    "collapsed": true
   },
   "outputs": [],
   "source": [
    "max_depth = 30\n",
    "regr_rf_Train = RandomForestRegressor(max_depth=max_depth,random_state=2)"
   ]
  },
  {
   "cell_type": "code",
   "execution_count": null,
   "metadata": {
    "collapsed": false
   },
   "outputs": [],
   "source": [
    "%time regr_rf_Train.fit(X_train,y_train)"
   ]
  },
  {
   "cell_type": "code",
   "execution_count": null,
   "metadata": {
    "collapsed": false
   },
   "outputs": [],
   "source": [
    "regr_rf_Train.score(X_train,y_train)"
   ]
  },
  {
   "cell_type": "code",
   "execution_count": null,
   "metadata": {
    "collapsed": false
   },
   "outputs": [],
   "source": [
    "regr_rf_Train.score(X_test,y_test)"
   ]
  },
  {
   "cell_type": "code",
   "execution_count": null,
   "metadata": {
    "collapsed": true
   },
   "outputs": [],
   "source": [
    "# MAE:  Mean Absolute Error of training data set\n",
    "\n",
    "\n",
    "mae = abs(y_train-regr_rf.predict(X_train)).mean()\n",
    "print(\"Mean Absolute Error of RF \",mae)"
   ]
  },
  {
   "cell_type": "code",
   "execution_count": null,
   "metadata": {
    "collapsed": false
   },
   "outputs": [],
   "source": [
    "# MAE:  Mean Absolute Error of testing data set \n",
    "\n",
    "mae = abs(y_test-regr_rf.predict(X_test)).mean()\n",
    "print(\"Mean Absolute Error of RF \",mae)"
   ]
  },
  {
   "cell_type": "code",
   "execution_count": null,
   "metadata": {
    "collapsed": false
   },
   "outputs": [],
   "source": [
    "# MAE:  Mean Percentage Absolute Error \n",
    "\n",
    "# Mean  Percentage  Absolute Error  of linear:  0.128071279637\n",
    "mpae = (abs(y_test-regr_rf.predict(X_test))).sum()/y.sum()\n",
    "print(\"Mean  Percentage  Absolute Error \",mpae)"
   ]
  },
  {
   "cell_type": "code",
   "execution_count": null,
   "metadata": {
    "collapsed": true
   },
   "outputs": [],
   "source": [
    "End_time=time.time()\n",
    "Duringtime=End_time-begin_time\n",
    "print(\"The time used is \",Duringtime//60)"
   ]
  },
  {
   "cell_type": "markdown",
   "metadata": {},
   "source": [
    "# Pickle our model and read the model to predict "
   ]
  },
  {
   "cell_type": "raw",
   "metadata": {
    "collapsed": true
   },
   "source": [
    "import pickle\n",
    "pickle.dump(regr_rf, open('regr_rf_model1', 'wb'))"
   ]
  },
  {
   "cell_type": "raw",
   "metadata": {
    "collapsed": false
   },
   "source": [
    "from sklearn.externals import joblib\n",
    "joblib.dump(regr_rf,'regr_rf_model.sav')"
   ]
  },
  {
   "cell_type": "code",
   "execution_count": 26,
   "metadata": {
    "collapsed": false
   },
   "outputs": [],
   "source": [
    "import pickle \n",
    "filename_all='linear_model_all'\n",
    "filename='linear_model'\n",
    "loaded_model_all = pickle.load(open(filename_all, 'rb'))"
   ]
  },
  {
   "cell_type": "code",
   "execution_count": 27,
   "metadata": {
    "collapsed": false
   },
   "outputs": [],
   "source": [
    "# loaded_model_all.predict([4830,1,12,0])"
   ]
  },
  {
   "cell_type": "code",
   "execution_count": 28,
   "metadata": {
    "collapsed": false
   },
   "outputs": [],
   "source": [
    "loaded_model = pickle.load(open(filename, 'rb'))\n"
   ]
  },
  {
   "cell_type": "code",
   "execution_count": 29,
   "metadata": {
    "collapsed": false
   },
   "outputs": [
    {
     "name": "stdout",
     "output_type": "stream",
     "text": [
      "   Distance  HourOfDay  midweek  rain\n",
      "0      4830         12        1     0\n"
     ]
    },
    {
     "data": {
      "text/plain": [
       "array([ 1055.59483546])"
      ]
     },
     "execution_count": 29,
     "metadata": {},
     "output_type": "execute_result"
    }
   ],
   "source": [
    "import pandas as pd\n",
    "feature_cols = ['Distance','midweek','HourOfDay']\n",
    "def get_time(distance,mid_week,hour):\n",
    "    params = [{\n",
    "           'Distance': distance,\n",
    "           'midweek':mid_week,\n",
    "           'HourOfDay':hour,\n",
    "           'rain':rain\n",
    "    }]\n",
    "    df = pd.DataFrame(params)\n",
    "    print(df)\n",
    "\n",
    "    estimated_time = loaded_model_all.predict(df)\n",
    "    print\n",
    "    return estimated_time\n",
    "distance=4830\n",
    "mid_week=1\n",
    "hour=12\n",
    "rain=0\n",
    "get_time(distance,mid_week,hour)"
   ]
  },
  {
   "cell_type": "code",
   "execution_count": 31,
   "metadata": {
    "collapsed": false
   },
   "outputs": [
    {
     "name": "stdout",
     "output_type": "stream",
     "text": [
      "   Distance  HourOfDay  midweek\n",
      "0      4830         12        1\n"
     ]
    },
    {
     "data": {
      "text/plain": [
       "array([ 1055.51860124])"
      ]
     },
     "execution_count": 31,
     "metadata": {},
     "output_type": "execute_result"
    }
   ],
   "source": [
    "import pandas as pd\n",
    "feature_cols = ['Distance','midweek','HourOfDay']\n",
    "def get_time(distance,mid_week,hour):\n",
    "    params = [{\n",
    "           'Distance': distance,\n",
    "           'midweek':mid_week,\n",
    "           'HourOfDay':hour,\n",
    "    }]\n",
    "    df = pd.DataFrame(params)\n",
    "    print(df)\n",
    "\n",
    "    estimated_time = loaded_model.predict(df)\n",
    "    print\n",
    "    return estimated_time\n",
    "distance=4830\n",
    "mid_week=1\n",
    "hour=12\n",
    "get_time(distance,mid_week,hour)"
   ]
  },
  {
   "cell_type": "code",
   "execution_count": null,
   "metadata": {
    "collapsed": true
   },
   "outputs": [],
   "source": []
  }
 ],
 "metadata": {
  "kernelspec": {
   "display_name": "Python 3",
   "language": "python",
   "name": "python3"
  },
  "language_info": {
   "codemirror_mode": {
    "name": "ipython",
    "version": 3
   },
   "file_extension": ".py",
   "mimetype": "text/x-python",
   "name": "python",
   "nbconvert_exporter": "python",
   "pygments_lexer": "ipython3",
   "version": "3.6.0"
  }
 },
 "nbformat": 4,
 "nbformat_minor": 2
}
