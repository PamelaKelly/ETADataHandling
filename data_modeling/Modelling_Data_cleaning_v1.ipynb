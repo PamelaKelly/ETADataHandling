{
 "cells": [
  {
   "cell_type": "markdown",
   "metadata": {},
   "source": [
    "# Read the file "
   ]
  },
  {
   "cell_type": "code",
   "execution_count": 1,
   "metadata": {
    "collapsed": true
   },
   "outputs": [],
   "source": [
    "import pandas as pd\n",
    "import numpy as np\n",
    "import matplotlib\n",
    "import matplotlib.pyplot as plt\n",
    "import matplotlib.patches as mpatches\n",
    "from matplotlib.backends.backend_pdf import PdfPages\n",
    "import seaborn as sns\n",
    "matplotlib.style.use('ggplot')\n",
    "%matplotlib inline"
   ]
  },
  {
   "cell_type": "code",
   "execution_count": 6,
   "metadata": {
    "collapsed": false
   },
   "outputs": [
    {
     "name": "stderr",
     "output_type": "stream",
     "text": [
      "<string>:2: DtypeWarning: Columns (1,13) have mixed types. Specify dtype option on import or set low_memory=False.\n"
     ]
    },
    {
     "name": "stdout",
     "output_type": "stream",
     "text": [
      "CPU times: user 12.1 s, sys: 3.96 s, total: 16 s\n",
      "Wall time: 17.6 s\n"
     ]
    },
    {
     "data": {
      "text/plain": [
       "Timestamp               int64\n",
       "Line_ID                object\n",
       "Direction               int64\n",
       "Journey_Pattern_ID     object\n",
       "Date                   object\n",
       "Vehicle_Journey_ID      int64\n",
       "Operator               object\n",
       "Congestion              int64\n",
       "Lon_WGS84             float64\n",
       "Lat_WGS84             float64\n",
       "Delay                   int64\n",
       "Block_ID                int64\n",
       "Vehicle_ID              int64\n",
       "Stop_ID                object\n",
       "At_Stop                 int64\n",
       "Distance                int64\n",
       "Trip_Time               int64\n",
       "datetime               object\n",
       "HourOfDay               int64\n",
       "day_of_week            object\n",
       "midweek                 int64\n",
       "dtype: object"
      ]
     },
     "execution_count": 6,
     "metadata": {},
     "output_type": "execute_result"
    }
   ],
   "source": [
    "%time df_all = pd.read_csv('dublin_2012_week1.csv',dtype={ 'Journey_Pattern_ID': object})\n",
    "df_all.dtypes"
   ]
  },
  {
   "cell_type": "code",
   "execution_count": 7,
   "metadata": {
    "collapsed": false
   },
   "outputs": [
    {
     "data": {
      "text/html": [
       "<div>\n",
       "<table border=\"1\" class=\"dataframe\">\n",
       "  <thead>\n",
       "    <tr style=\"text-align: right;\">\n",
       "      <th></th>\n",
       "      <th>Timestamp</th>\n",
       "      <th>Line_ID</th>\n",
       "      <th>Direction</th>\n",
       "      <th>Journey_Pattern_ID</th>\n",
       "      <th>Date</th>\n",
       "      <th>Vehicle_Journey_ID</th>\n",
       "      <th>Operator</th>\n",
       "      <th>Congestion</th>\n",
       "      <th>Lon_WGS84</th>\n",
       "      <th>Lat_WGS84</th>\n",
       "      <th>...</th>\n",
       "      <th>Block_ID</th>\n",
       "      <th>Vehicle_ID</th>\n",
       "      <th>Stop_ID</th>\n",
       "      <th>At_Stop</th>\n",
       "      <th>Distance</th>\n",
       "      <th>Trip_Time</th>\n",
       "      <th>datetime</th>\n",
       "      <th>HourOfDay</th>\n",
       "      <th>day_of_week</th>\n",
       "      <th>midweek</th>\n",
       "    </tr>\n",
       "  </thead>\n",
       "  <tbody>\n",
       "    <tr>\n",
       "      <th>0</th>\n",
       "      <td>1352196906</td>\n",
       "      <td>1</td>\n",
       "      <td>0</td>\n",
       "      <td>00010001</td>\n",
       "      <td>2012-11-06</td>\n",
       "      <td>5425</td>\n",
       "      <td>RD</td>\n",
       "      <td>0</td>\n",
       "      <td>-6.261950</td>\n",
       "      <td>53.391151</td>\n",
       "      <td>...</td>\n",
       "      <td>1001</td>\n",
       "      <td>33494</td>\n",
       "      <td>226</td>\n",
       "      <td>1</td>\n",
       "      <td>0</td>\n",
       "      <td>0</td>\n",
       "      <td>2012-11-06 10:15:06</td>\n",
       "      <td>10</td>\n",
       "      <td>Tuesday</td>\n",
       "      <td>0</td>\n",
       "    </tr>\n",
       "    <tr>\n",
       "      <th>1</th>\n",
       "      <td>1352197236</td>\n",
       "      <td>1</td>\n",
       "      <td>0</td>\n",
       "      <td>00010001</td>\n",
       "      <td>2012-11-06</td>\n",
       "      <td>5425</td>\n",
       "      <td>RD</td>\n",
       "      <td>0</td>\n",
       "      <td>-6.262341</td>\n",
       "      <td>53.391186</td>\n",
       "      <td>...</td>\n",
       "      <td>1001</td>\n",
       "      <td>33494</td>\n",
       "      <td>226</td>\n",
       "      <td>0</td>\n",
       "      <td>26</td>\n",
       "      <td>330</td>\n",
       "      <td>2012-11-06 10:20:36</td>\n",
       "      <td>10</td>\n",
       "      <td>Tuesday</td>\n",
       "      <td>0</td>\n",
       "    </tr>\n",
       "    <tr>\n",
       "      <th>2</th>\n",
       "      <td>1352197298</td>\n",
       "      <td>1</td>\n",
       "      <td>0</td>\n",
       "      <td>00010001</td>\n",
       "      <td>2012-11-06</td>\n",
       "      <td>5425</td>\n",
       "      <td>RD</td>\n",
       "      <td>0</td>\n",
       "      <td>-6.257599</td>\n",
       "      <td>53.391567</td>\n",
       "      <td>...</td>\n",
       "      <td>1001</td>\n",
       "      <td>33494</td>\n",
       "      <td>228</td>\n",
       "      <td>0</td>\n",
       "      <td>418</td>\n",
       "      <td>392</td>\n",
       "      <td>2012-11-06 10:21:38</td>\n",
       "      <td>10</td>\n",
       "      <td>Tuesday</td>\n",
       "      <td>0</td>\n",
       "    </tr>\n",
       "    <tr>\n",
       "      <th>3</th>\n",
       "      <td>1352197316</td>\n",
       "      <td>1</td>\n",
       "      <td>0</td>\n",
       "      <td>00010001</td>\n",
       "      <td>2012-11-06</td>\n",
       "      <td>5425</td>\n",
       "      <td>RD</td>\n",
       "      <td>0</td>\n",
       "      <td>-6.256446</td>\n",
       "      <td>53.391319</td>\n",
       "      <td>...</td>\n",
       "      <td>1001</td>\n",
       "      <td>33494</td>\n",
       "      <td>229</td>\n",
       "      <td>0</td>\n",
       "      <td>500</td>\n",
       "      <td>410</td>\n",
       "      <td>2012-11-06 10:21:56</td>\n",
       "      <td>10</td>\n",
       "      <td>Tuesday</td>\n",
       "      <td>0</td>\n",
       "    </tr>\n",
       "    <tr>\n",
       "      <th>4</th>\n",
       "      <td>1352197357</td>\n",
       "      <td>1</td>\n",
       "      <td>0</td>\n",
       "      <td>00010001</td>\n",
       "      <td>2012-11-06</td>\n",
       "      <td>5425</td>\n",
       "      <td>RD</td>\n",
       "      <td>0</td>\n",
       "      <td>-6.251322</td>\n",
       "      <td>53.391087</td>\n",
       "      <td>...</td>\n",
       "      <td>1001</td>\n",
       "      <td>33494</td>\n",
       "      <td>227</td>\n",
       "      <td>1</td>\n",
       "      <td>843</td>\n",
       "      <td>451</td>\n",
       "      <td>2012-11-06 10:22:37</td>\n",
       "      <td>10</td>\n",
       "      <td>Tuesday</td>\n",
       "      <td>0</td>\n",
       "    </tr>\n",
       "  </tbody>\n",
       "</table>\n",
       "<p>5 rows × 21 columns</p>\n",
       "</div>"
      ],
      "text/plain": [
       "    Timestamp Line_ID  Direction Journey_Pattern_ID        Date  \\\n",
       "0  1352196906       1          0           00010001  2012-11-06   \n",
       "1  1352197236       1          0           00010001  2012-11-06   \n",
       "2  1352197298       1          0           00010001  2012-11-06   \n",
       "3  1352197316       1          0           00010001  2012-11-06   \n",
       "4  1352197357       1          0           00010001  2012-11-06   \n",
       "\n",
       "   Vehicle_Journey_ID Operator  Congestion  Lon_WGS84  Lat_WGS84   ...    \\\n",
       "0                5425       RD           0  -6.261950  53.391151   ...     \n",
       "1                5425       RD           0  -6.262341  53.391186   ...     \n",
       "2                5425       RD           0  -6.257599  53.391567   ...     \n",
       "3                5425       RD           0  -6.256446  53.391319   ...     \n",
       "4                5425       RD           0  -6.251322  53.391087   ...     \n",
       "\n",
       "   Block_ID  Vehicle_ID  Stop_ID At_Stop  Distance  Trip_Time  \\\n",
       "0      1001       33494      226       1         0          0   \n",
       "1      1001       33494      226       0        26        330   \n",
       "2      1001       33494      228       0       418        392   \n",
       "3      1001       33494      229       0       500        410   \n",
       "4      1001       33494      227       1       843        451   \n",
       "\n",
       "              datetime HourOfDay  day_of_week midweek  \n",
       "0  2012-11-06 10:15:06        10      Tuesday       0  \n",
       "1  2012-11-06 10:20:36        10      Tuesday       0  \n",
       "2  2012-11-06 10:21:38        10      Tuesday       0  \n",
       "3  2012-11-06 10:21:56        10      Tuesday       0  \n",
       "4  2012-11-06 10:22:37        10      Tuesday       0  \n",
       "\n",
       "[5 rows x 21 columns]"
      ]
     },
     "execution_count": 7,
     "metadata": {},
     "output_type": "execute_result"
    }
   ],
   "source": [
    "df_all.head()"
   ]
  },
  {
   "cell_type": "code",
   "execution_count": 8,
   "metadata": {
    "collapsed": false
   },
   "outputs": [
    {
     "data": {
      "text/html": [
       "<div>\n",
       "<table border=\"1\" class=\"dataframe\">\n",
       "  <thead>\n",
       "    <tr style=\"text-align: right;\">\n",
       "      <th></th>\n",
       "      <th>Journey_Pattern_ID</th>\n",
       "      <th>Date</th>\n",
       "      <th>Vehicle_Journey_ID</th>\n",
       "      <th>Lon_WGS84</th>\n",
       "      <th>Lat_WGS84</th>\n",
       "      <th>Stop_ID</th>\n",
       "      <th>At_Stop</th>\n",
       "      <th>Distance</th>\n",
       "      <th>Trip_Time</th>\n",
       "      <th>datetime</th>\n",
       "      <th>HourOfDay</th>\n",
       "      <th>day_of_week</th>\n",
       "      <th>midweek</th>\n",
       "    </tr>\n",
       "  </thead>\n",
       "  <tbody>\n",
       "    <tr>\n",
       "      <th>0</th>\n",
       "      <td>00010001</td>\n",
       "      <td>2012-11-06</td>\n",
       "      <td>5425</td>\n",
       "      <td>-6.261950</td>\n",
       "      <td>53.391151</td>\n",
       "      <td>226</td>\n",
       "      <td>1</td>\n",
       "      <td>0</td>\n",
       "      <td>0</td>\n",
       "      <td>2012-11-06 10:15:06</td>\n",
       "      <td>10</td>\n",
       "      <td>Tuesday</td>\n",
       "      <td>0</td>\n",
       "    </tr>\n",
       "    <tr>\n",
       "      <th>1</th>\n",
       "      <td>00010001</td>\n",
       "      <td>2012-11-06</td>\n",
       "      <td>5425</td>\n",
       "      <td>-6.262341</td>\n",
       "      <td>53.391186</td>\n",
       "      <td>226</td>\n",
       "      <td>0</td>\n",
       "      <td>26</td>\n",
       "      <td>330</td>\n",
       "      <td>2012-11-06 10:20:36</td>\n",
       "      <td>10</td>\n",
       "      <td>Tuesday</td>\n",
       "      <td>0</td>\n",
       "    </tr>\n",
       "    <tr>\n",
       "      <th>2</th>\n",
       "      <td>00010001</td>\n",
       "      <td>2012-11-06</td>\n",
       "      <td>5425</td>\n",
       "      <td>-6.257599</td>\n",
       "      <td>53.391567</td>\n",
       "      <td>228</td>\n",
       "      <td>0</td>\n",
       "      <td>418</td>\n",
       "      <td>392</td>\n",
       "      <td>2012-11-06 10:21:38</td>\n",
       "      <td>10</td>\n",
       "      <td>Tuesday</td>\n",
       "      <td>0</td>\n",
       "    </tr>\n",
       "  </tbody>\n",
       "</table>\n",
       "</div>"
      ],
      "text/plain": [
       "  Journey_Pattern_ID        Date  Vehicle_Journey_ID  Lon_WGS84  Lat_WGS84  \\\n",
       "0           00010001  2012-11-06                5425  -6.261950  53.391151   \n",
       "1           00010001  2012-11-06                5425  -6.262341  53.391186   \n",
       "2           00010001  2012-11-06                5425  -6.257599  53.391567   \n",
       "\n",
       "  Stop_ID  At_Stop  Distance  Trip_Time             datetime  HourOfDay  \\\n",
       "0     226        1         0          0  2012-11-06 10:15:06         10   \n",
       "1     226        0        26        330  2012-11-06 10:20:36         10   \n",
       "2     228        0       418        392  2012-11-06 10:21:38         10   \n",
       "\n",
       "  day_of_week  midweek  \n",
       "0     Tuesday        0  \n",
       "1     Tuesday        0  \n",
       "2     Tuesday        0  "
      ]
     },
     "execution_count": 8,
     "metadata": {},
     "output_type": "execute_result"
    }
   ],
   "source": [
    "df_all.drop(df_all.columns[[0,1,2,6,7,10,11,12]], axis=1, inplace=True)\n",
    "df_all.head(3)"
   ]
  },
  {
   "cell_type": "code",
   "execution_count": 66,
   "metadata": {
    "collapsed": false
   },
   "outputs": [
    {
     "data": {
      "text/html": [
       "<div>\n",
       "<table border=\"1\" class=\"dataframe\">\n",
       "  <thead>\n",
       "    <tr style=\"text-align: right;\">\n",
       "      <th></th>\n",
       "      <th>Journey_Pattern_ID</th>\n",
       "      <th>Date</th>\n",
       "      <th>Vehicle_Journey_ID</th>\n",
       "      <th>Lon_WGS84</th>\n",
       "      <th>Lat_WGS84</th>\n",
       "      <th>Stop_ID</th>\n",
       "      <th>At_Stop</th>\n",
       "      <th>Distance</th>\n",
       "      <th>Trip_Time</th>\n",
       "      <th>datetime</th>\n",
       "      <th>HourOfDay</th>\n",
       "      <th>day_of_week</th>\n",
       "      <th>midweek</th>\n",
       "    </tr>\n",
       "  </thead>\n",
       "  <tbody>\n",
       "    <tr>\n",
       "      <th>0</th>\n",
       "      <td>00010001</td>\n",
       "      <td>2012-11-06</td>\n",
       "      <td>5425</td>\n",
       "      <td>-6.261950</td>\n",
       "      <td>53.391151</td>\n",
       "      <td>226</td>\n",
       "      <td>1</td>\n",
       "      <td>0</td>\n",
       "      <td>0</td>\n",
       "      <td>2012-11-06 10:15:06</td>\n",
       "      <td>10</td>\n",
       "      <td>Tuesday</td>\n",
       "      <td>0</td>\n",
       "    </tr>\n",
       "    <tr>\n",
       "      <th>1</th>\n",
       "      <td>00010001</td>\n",
       "      <td>2012-11-06</td>\n",
       "      <td>5425</td>\n",
       "      <td>-6.262341</td>\n",
       "      <td>53.391186</td>\n",
       "      <td>226</td>\n",
       "      <td>0</td>\n",
       "      <td>26</td>\n",
       "      <td>330</td>\n",
       "      <td>2012-11-06 10:20:36</td>\n",
       "      <td>10</td>\n",
       "      <td>Tuesday</td>\n",
       "      <td>0</td>\n",
       "    </tr>\n",
       "    <tr>\n",
       "      <th>2</th>\n",
       "      <td>00010001</td>\n",
       "      <td>2012-11-06</td>\n",
       "      <td>5425</td>\n",
       "      <td>-6.257599</td>\n",
       "      <td>53.391567</td>\n",
       "      <td>228</td>\n",
       "      <td>0</td>\n",
       "      <td>418</td>\n",
       "      <td>392</td>\n",
       "      <td>2012-11-06 10:21:38</td>\n",
       "      <td>10</td>\n",
       "      <td>Tuesday</td>\n",
       "      <td>0</td>\n",
       "    </tr>\n",
       "  </tbody>\n",
       "</table>\n",
       "</div>"
      ],
      "text/plain": [
       "  Journey_Pattern_ID        Date  Vehicle_Journey_ID  Lon_WGS84  Lat_WGS84  \\\n",
       "0           00010001  2012-11-06                5425  -6.261950  53.391151   \n",
       "1           00010001  2012-11-06                5425  -6.262341  53.391186   \n",
       "2           00010001  2012-11-06                5425  -6.257599  53.391567   \n",
       "\n",
       "  Stop_ID  At_Stop  Distance  Trip_Time             datetime  HourOfDay  \\\n",
       "0     226        1         0          0  2012-11-06 10:15:06         10   \n",
       "1     226        0        26        330  2012-11-06 10:20:36         10   \n",
       "2     228        0       418        392  2012-11-06 10:21:38         10   \n",
       "\n",
       "  day_of_week  midweek  \n",
       "0     Tuesday        0  \n",
       "1     Tuesday        0  \n",
       "2     Tuesday        0  "
      ]
     },
     "execution_count": 66,
     "metadata": {},
     "output_type": "execute_result"
    }
   ],
   "source": [
    "df_all.head(3)"
   ]
  },
  {
   "cell_type": "code",
   "execution_count": 8,
   "metadata": {
    "collapsed": false
   },
   "outputs": [
    {
     "data": {
      "text/html": [
       "<div>\n",
       "<table border=\"1\" class=\"dataframe\">\n",
       "  <thead>\n",
       "    <tr style=\"text-align: right;\">\n",
       "      <th></th>\n",
       "      <th>Journey_Pattern_ID</th>\n",
       "      <th>Date</th>\n",
       "      <th>Vehicle_Journey_ID</th>\n",
       "      <th>Lon_WGS84</th>\n",
       "      <th>Lat_WGS84</th>\n",
       "      <th>Stop_ID</th>\n",
       "      <th>At_Stop</th>\n",
       "      <th>Distance</th>\n",
       "      <th>Trip_Time</th>\n",
       "      <th>datetime</th>\n",
       "      <th>day_of_week</th>\n",
       "      <th>HourOfDay</th>\n",
       "      <th>midweek</th>\n",
       "    </tr>\n",
       "  </thead>\n",
       "  <tbody>\n",
       "    <tr>\n",
       "      <th>2962931</th>\n",
       "      <td>084A1002</td>\n",
       "      <td>2012-11-12</td>\n",
       "      <td>5997</td>\n",
       "      <td>-6.167072</td>\n",
       "      <td>53.290138</td>\n",
       "      <td>3162</td>\n",
       "      <td>0</td>\n",
       "      <td>13944</td>\n",
       "      <td>2728</td>\n",
       "      <td>2012-11-12 08:17:14</td>\n",
       "      <td>Monday</td>\n",
       "      <td>8</td>\n",
       "      <td>1</td>\n",
       "    </tr>\n",
       "    <tr>\n",
       "      <th>2962932</th>\n",
       "      <td>084A1002</td>\n",
       "      <td>2012-11-12</td>\n",
       "      <td>5997</td>\n",
       "      <td>-6.167358</td>\n",
       "      <td>53.293385</td>\n",
       "      <td>3163</td>\n",
       "      <td>0</td>\n",
       "      <td>14321</td>\n",
       "      <td>2908</td>\n",
       "      <td>2012-11-12 08:20:14</td>\n",
       "      <td>Monday</td>\n",
       "      <td>8</td>\n",
       "      <td>1</td>\n",
       "    </tr>\n",
       "    <tr>\n",
       "      <th>2962933</th>\n",
       "      <td>084A1002</td>\n",
       "      <td>2012-11-12</td>\n",
       "      <td>5997</td>\n",
       "      <td>-6.169822</td>\n",
       "      <td>53.295616</td>\n",
       "      <td>3164</td>\n",
       "      <td>1</td>\n",
       "      <td>14620</td>\n",
       "      <td>2989</td>\n",
       "      <td>2012-11-12 08:21:35</td>\n",
       "      <td>Monday</td>\n",
       "      <td>8</td>\n",
       "      <td>1</td>\n",
       "    </tr>\n",
       "    <tr>\n",
       "      <th>2962934</th>\n",
       "      <td>084A1002</td>\n",
       "      <td>2012-11-12</td>\n",
       "      <td>5997</td>\n",
       "      <td>-6.169878</td>\n",
       "      <td>53.295780</td>\n",
       "      <td>3164</td>\n",
       "      <td>0</td>\n",
       "      <td>14638</td>\n",
       "      <td>3030</td>\n",
       "      <td>2012-11-12 08:22:16</td>\n",
       "      <td>Monday</td>\n",
       "      <td>8</td>\n",
       "      <td>1</td>\n",
       "    </tr>\n",
       "    <tr>\n",
       "      <th>2962935</th>\n",
       "      <td>084A1002</td>\n",
       "      <td>2012-11-12</td>\n",
       "      <td>5997</td>\n",
       "      <td>-6.170424</td>\n",
       "      <td>53.298500</td>\n",
       "      <td>3079</td>\n",
       "      <td>0</td>\n",
       "      <td>14971</td>\n",
       "      <td>3308</td>\n",
       "      <td>2012-11-12 08:26:54</td>\n",
       "      <td>Monday</td>\n",
       "      <td>8</td>\n",
       "      <td>1</td>\n",
       "    </tr>\n",
       "    <tr>\n",
       "      <th>2962936</th>\n",
       "      <td>084A1002</td>\n",
       "      <td>2012-11-12</td>\n",
       "      <td>5997</td>\n",
       "      <td>-6.174983</td>\n",
       "      <td>53.300522</td>\n",
       "      <td>3080</td>\n",
       "      <td>0</td>\n",
       "      <td>15372</td>\n",
       "      <td>3368</td>\n",
       "      <td>2012-11-12 08:27:54</td>\n",
       "      <td>Monday</td>\n",
       "      <td>8</td>\n",
       "      <td>1</td>\n",
       "    </tr>\n",
       "    <tr>\n",
       "      <th>2962937</th>\n",
       "      <td>084A1002</td>\n",
       "      <td>2012-11-12</td>\n",
       "      <td>5997</td>\n",
       "      <td>-6.178104</td>\n",
       "      <td>53.300499</td>\n",
       "      <td>3082</td>\n",
       "      <td>1</td>\n",
       "      <td>15597</td>\n",
       "      <td>3409</td>\n",
       "      <td>2012-11-12 08:28:35</td>\n",
       "      <td>Monday</td>\n",
       "      <td>8</td>\n",
       "      <td>1</td>\n",
       "    </tr>\n",
       "    <tr>\n",
       "      <th>2962938</th>\n",
       "      <td>084A1002</td>\n",
       "      <td>2012-11-12</td>\n",
       "      <td>5997</td>\n",
       "      <td>-6.178182</td>\n",
       "      <td>53.300468</td>\n",
       "      <td>3082</td>\n",
       "      <td>0</td>\n",
       "      <td>15604</td>\n",
       "      <td>3427</td>\n",
       "      <td>2012-11-12 08:28:53</td>\n",
       "      <td>Monday</td>\n",
       "      <td>8</td>\n",
       "      <td>1</td>\n",
       "    </tr>\n",
       "    <tr>\n",
       "      <th>2962939</th>\n",
       "      <td>084A1002</td>\n",
       "      <td>2012-11-12</td>\n",
       "      <td>5997</td>\n",
       "      <td>-6.181094</td>\n",
       "      <td>53.301472</td>\n",
       "      <td>3084</td>\n",
       "      <td>0</td>\n",
       "      <td>15869</td>\n",
       "      <td>3749</td>\n",
       "      <td>2012-11-12 08:34:15</td>\n",
       "      <td>Monday</td>\n",
       "      <td>8</td>\n",
       "      <td>1</td>\n",
       "    </tr>\n",
       "    <tr>\n",
       "      <th>2962940</th>\n",
       "      <td>084A1002</td>\n",
       "      <td>2012-11-12</td>\n",
       "      <td>5997</td>\n",
       "      <td>-6.183967</td>\n",
       "      <td>53.302956</td>\n",
       "      <td>469</td>\n",
       "      <td>1</td>\n",
       "      <td>16122</td>\n",
       "      <td>3791</td>\n",
       "      <td>2012-11-12 08:34:57</td>\n",
       "      <td>Monday</td>\n",
       "      <td>8</td>\n",
       "      <td>1</td>\n",
       "    </tr>\n",
       "    <tr>\n",
       "      <th>2962941</th>\n",
       "      <td>084A1002</td>\n",
       "      <td>2012-11-12</td>\n",
       "      <td>5997</td>\n",
       "      <td>-6.184217</td>\n",
       "      <td>53.303139</td>\n",
       "      <td>469</td>\n",
       "      <td>0</td>\n",
       "      <td>16148</td>\n",
       "      <td>3807</td>\n",
       "      <td>2012-11-12 08:35:13</td>\n",
       "      <td>Monday</td>\n",
       "      <td>8</td>\n",
       "      <td>1</td>\n",
       "    </tr>\n",
       "    <tr>\n",
       "      <th>2962942</th>\n",
       "      <td>084A1002</td>\n",
       "      <td>2012-11-12</td>\n",
       "      <td>5997</td>\n",
       "      <td>-6.188910</td>\n",
       "      <td>53.305687</td>\n",
       "      <td>470</td>\n",
       "      <td>1</td>\n",
       "      <td>16571</td>\n",
       "      <td>3871</td>\n",
       "      <td>2012-11-12 08:36:17</td>\n",
       "      <td>Monday</td>\n",
       "      <td>8</td>\n",
       "      <td>1</td>\n",
       "    </tr>\n",
       "    <tr>\n",
       "      <th>2962943</th>\n",
       "      <td>084A1002</td>\n",
       "      <td>2012-11-12</td>\n",
       "      <td>5997</td>\n",
       "      <td>-6.190376</td>\n",
       "      <td>53.306675</td>\n",
       "      <td>470</td>\n",
       "      <td>0</td>\n",
       "      <td>16718</td>\n",
       "      <td>3887</td>\n",
       "      <td>2012-11-12 08:36:33</td>\n",
       "      <td>Monday</td>\n",
       "      <td>8</td>\n",
       "      <td>1</td>\n",
       "    </tr>\n",
       "    <tr>\n",
       "      <th>2962944</th>\n",
       "      <td>084A1002</td>\n",
       "      <td>2012-11-12</td>\n",
       "      <td>5997</td>\n",
       "      <td>-6.192271</td>\n",
       "      <td>53.307289</td>\n",
       "      <td>471</td>\n",
       "      <td>0</td>\n",
       "      <td>16862</td>\n",
       "      <td>3910</td>\n",
       "      <td>2012-11-12 08:36:56</td>\n",
       "      <td>Monday</td>\n",
       "      <td>8</td>\n",
       "      <td>1</td>\n",
       "    </tr>\n",
       "    <tr>\n",
       "      <th>2962945</th>\n",
       "      <td>084A1002</td>\n",
       "      <td>2012-11-12</td>\n",
       "      <td>5997</td>\n",
       "      <td>-6.194923</td>\n",
       "      <td>53.308018</td>\n",
       "      <td>472</td>\n",
       "      <td>0</td>\n",
       "      <td>17058</td>\n",
       "      <td>3969</td>\n",
       "      <td>2012-11-12 08:37:55</td>\n",
       "      <td>Monday</td>\n",
       "      <td>8</td>\n",
       "      <td>1</td>\n",
       "    </tr>\n",
       "    <tr>\n",
       "      <th>2962946</th>\n",
       "      <td>084A1002</td>\n",
       "      <td>2012-11-12</td>\n",
       "      <td>5997</td>\n",
       "      <td>-6.197320</td>\n",
       "      <td>53.309319</td>\n",
       "      <td>473</td>\n",
       "      <td>1</td>\n",
       "      <td>17274</td>\n",
       "      <td>4509</td>\n",
       "      <td>2012-11-12 08:46:55</td>\n",
       "      <td>Monday</td>\n",
       "      <td>8</td>\n",
       "      <td>1</td>\n",
       "    </tr>\n",
       "    <tr>\n",
       "      <th>2962947</th>\n",
       "      <td>084A1002</td>\n",
       "      <td>2012-11-12</td>\n",
       "      <td>5997</td>\n",
       "      <td>-6.198972</td>\n",
       "      <td>53.310318</td>\n",
       "      <td>473</td>\n",
       "      <td>0</td>\n",
       "      <td>17431</td>\n",
       "      <td>4548</td>\n",
       "      <td>2012-11-12 08:47:34</td>\n",
       "      <td>Monday</td>\n",
       "      <td>8</td>\n",
       "      <td>1</td>\n",
       "    </tr>\n",
       "    <tr>\n",
       "      <th>2962948</th>\n",
       "      <td>084A1002</td>\n",
       "      <td>2012-11-12</td>\n",
       "      <td>5997</td>\n",
       "      <td>-6.200304</td>\n",
       "      <td>53.311111</td>\n",
       "      <td>4705</td>\n",
       "      <td>0</td>\n",
       "      <td>17556</td>\n",
       "      <td>4568</td>\n",
       "      <td>2012-11-12 08:47:54</td>\n",
       "      <td>Monday</td>\n",
       "      <td>8</td>\n",
       "      <td>1</td>\n",
       "    </tr>\n",
       "    <tr>\n",
       "      <th>2962949</th>\n",
       "      <td>084A1002</td>\n",
       "      <td>2012-11-12</td>\n",
       "      <td>5997</td>\n",
       "      <td>-6.201967</td>\n",
       "      <td>53.313023</td>\n",
       "      <td>475</td>\n",
       "      <td>0</td>\n",
       "      <td>17796</td>\n",
       "      <td>4648</td>\n",
       "      <td>2012-11-12 08:49:14</td>\n",
       "      <td>Monday</td>\n",
       "      <td>8</td>\n",
       "      <td>1</td>\n",
       "    </tr>\n",
       "    <tr>\n",
       "      <th>2962950</th>\n",
       "      <td>084A1002</td>\n",
       "      <td>2012-11-12</td>\n",
       "      <td>5997</td>\n",
       "      <td>-6.204712</td>\n",
       "      <td>53.315842</td>\n",
       "      <td>476</td>\n",
       "      <td>0</td>\n",
       "      <td>18162</td>\n",
       "      <td>4708</td>\n",
       "      <td>2012-11-12 08:50:14</td>\n",
       "      <td>Monday</td>\n",
       "      <td>8</td>\n",
       "      <td>1</td>\n",
       "    </tr>\n",
       "    <tr>\n",
       "      <th>2962951</th>\n",
       "      <td>084A1002</td>\n",
       "      <td>2012-11-12</td>\n",
       "      <td>5997</td>\n",
       "      <td>-6.206925</td>\n",
       "      <td>53.316917</td>\n",
       "      <td>477</td>\n",
       "      <td>1</td>\n",
       "      <td>18353</td>\n",
       "      <td>4749</td>\n",
       "      <td>2012-11-12 08:50:55</td>\n",
       "      <td>Monday</td>\n",
       "      <td>8</td>\n",
       "      <td>1</td>\n",
       "    </tr>\n",
       "    <tr>\n",
       "      <th>2962952</th>\n",
       "      <td>084A1002</td>\n",
       "      <td>2012-11-12</td>\n",
       "      <td>5997</td>\n",
       "      <td>-6.209553</td>\n",
       "      <td>53.317707</td>\n",
       "      <td>477</td>\n",
       "      <td>0</td>\n",
       "      <td>18549</td>\n",
       "      <td>4788</td>\n",
       "      <td>2012-11-12 08:51:34</td>\n",
       "      <td>Monday</td>\n",
       "      <td>8</td>\n",
       "      <td>1</td>\n",
       "    </tr>\n",
       "    <tr>\n",
       "      <th>2962953</th>\n",
       "      <td>084A1002</td>\n",
       "      <td>2012-11-12</td>\n",
       "      <td>6013</td>\n",
       "      <td>-6.101284</td>\n",
       "      <td>53.204800</td>\n",
       "      <td>4168</td>\n",
       "      <td>1</td>\n",
       "      <td>0</td>\n",
       "      <td>0</td>\n",
       "      <td>2012-11-12 10:21:27</td>\n",
       "      <td>Monday</td>\n",
       "      <td>10</td>\n",
       "      <td>1</td>\n",
       "    </tr>\n",
       "    <tr>\n",
       "      <th>2962954</th>\n",
       "      <td>084A1002</td>\n",
       "      <td>2012-11-12</td>\n",
       "      <td>6013</td>\n",
       "      <td>-6.101079</td>\n",
       "      <td>53.204285</td>\n",
       "      <td>4168</td>\n",
       "      <td>0</td>\n",
       "      <td>65</td>\n",
       "      <td>457</td>\n",
       "      <td>2012-11-12 10:29:04</td>\n",
       "      <td>Monday</td>\n",
       "      <td>10</td>\n",
       "      <td>1</td>\n",
       "    </tr>\n",
       "    <tr>\n",
       "      <th>2962955</th>\n",
       "      <td>084A1002</td>\n",
       "      <td>2012-11-12</td>\n",
       "      <td>6013</td>\n",
       "      <td>-6.109205</td>\n",
       "      <td>53.203510</td>\n",
       "      <td>4170</td>\n",
       "      <td>0</td>\n",
       "      <td>1215</td>\n",
       "      <td>578</td>\n",
       "      <td>2012-11-12 10:31:05</td>\n",
       "      <td>Monday</td>\n",
       "      <td>10</td>\n",
       "      <td>1</td>\n",
       "    </tr>\n",
       "    <tr>\n",
       "      <th>2962956</th>\n",
       "      <td>084A1002</td>\n",
       "      <td>2012-11-12</td>\n",
       "      <td>6013</td>\n",
       "      <td>-6.109405</td>\n",
       "      <td>53.204952</td>\n",
       "      <td>4153</td>\n",
       "      <td>1</td>\n",
       "      <td>1395</td>\n",
       "      <td>758</td>\n",
       "      <td>2012-11-12 10:34:05</td>\n",
       "      <td>Monday</td>\n",
       "      <td>10</td>\n",
       "      <td>1</td>\n",
       "    </tr>\n",
       "    <tr>\n",
       "      <th>2962957</th>\n",
       "      <td>084A1002</td>\n",
       "      <td>2012-11-12</td>\n",
       "      <td>6013</td>\n",
       "      <td>-6.109436</td>\n",
       "      <td>53.205021</td>\n",
       "      <td>4153</td>\n",
       "      <td>0</td>\n",
       "      <td>1403</td>\n",
       "      <td>781</td>\n",
       "      <td>2012-11-12 10:34:28</td>\n",
       "      <td>Monday</td>\n",
       "      <td>10</td>\n",
       "      <td>1</td>\n",
       "    </tr>\n",
       "    <tr>\n",
       "      <th>2962958</th>\n",
       "      <td>084A1002</td>\n",
       "      <td>2012-11-12</td>\n",
       "      <td>6013</td>\n",
       "      <td>-6.113792</td>\n",
       "      <td>53.207428</td>\n",
       "      <td>4154</td>\n",
       "      <td>0</td>\n",
       "      <td>1806</td>\n",
       "      <td>840</td>\n",
       "      <td>2012-11-12 10:35:27</td>\n",
       "      <td>Monday</td>\n",
       "      <td>10</td>\n",
       "      <td>1</td>\n",
       "    </tr>\n",
       "    <tr>\n",
       "      <th>2962959</th>\n",
       "      <td>084A1002</td>\n",
       "      <td>2012-11-12</td>\n",
       "      <td>6013</td>\n",
       "      <td>-6.114906</td>\n",
       "      <td>53.208679</td>\n",
       "      <td>4416</td>\n",
       "      <td>0</td>\n",
       "      <td>1964</td>\n",
       "      <td>899</td>\n",
       "      <td>2012-11-12 10:36:26</td>\n",
       "      <td>Monday</td>\n",
       "      <td>10</td>\n",
       "      <td>1</td>\n",
       "    </tr>\n",
       "    <tr>\n",
       "      <th>2962960</th>\n",
       "      <td>084A1002</td>\n",
       "      <td>2012-11-12</td>\n",
       "      <td>6013</td>\n",
       "      <td>-6.118669</td>\n",
       "      <td>53.212852</td>\n",
       "      <td>4201</td>\n",
       "      <td>0</td>\n",
       "      <td>2496</td>\n",
       "      <td>961</td>\n",
       "      <td>2012-11-12 10:37:28</td>\n",
       "      <td>Monday</td>\n",
       "      <td>10</td>\n",
       "      <td>1</td>\n",
       "    </tr>\n",
       "    <tr>\n",
       "      <th>...</th>\n",
       "      <td>...</td>\n",
       "      <td>...</td>\n",
       "      <td>...</td>\n",
       "      <td>...</td>\n",
       "      <td>...</td>\n",
       "      <td>...</td>\n",
       "      <td>...</td>\n",
       "      <td>...</td>\n",
       "      <td>...</td>\n",
       "      <td>...</td>\n",
       "      <td>...</td>\n",
       "      <td>...</td>\n",
       "      <td>...</td>\n",
       "    </tr>\n",
       "    <tr>\n",
       "      <th>2963001</th>\n",
       "      <td>084A1002</td>\n",
       "      <td>2012-11-12</td>\n",
       "      <td>6013</td>\n",
       "      <td>-6.207317</td>\n",
       "      <td>53.317055</td>\n",
       "      <td>477</td>\n",
       "      <td>0</td>\n",
       "      <td>17290</td>\n",
       "      <td>2722</td>\n",
       "      <td>2012-11-12 11:06:49</td>\n",
       "      <td>Monday</td>\n",
       "      <td>11</td>\n",
       "      <td>1</td>\n",
       "    </tr>\n",
       "    <tr>\n",
       "      <th>2963002</th>\n",
       "      <td>084A1002</td>\n",
       "      <td>2012-11-12</td>\n",
       "      <td>6013</td>\n",
       "      <td>-6.215917</td>\n",
       "      <td>53.317417</td>\n",
       "      <td>478</td>\n",
       "      <td>1</td>\n",
       "      <td>17891</td>\n",
       "      <td>2808</td>\n",
       "      <td>2012-11-12 11:08:15</td>\n",
       "      <td>Monday</td>\n",
       "      <td>11</td>\n",
       "      <td>1</td>\n",
       "    </tr>\n",
       "    <tr>\n",
       "      <th>2963003</th>\n",
       "      <td>PP071001</td>\n",
       "      <td>2012-11-10</td>\n",
       "      <td>12869</td>\n",
       "      <td>-6.128440</td>\n",
       "      <td>53.246613</td>\n",
       "      <td>3222</td>\n",
       "      <td>0</td>\n",
       "      <td>0</td>\n",
       "      <td>0</td>\n",
       "      <td>2012-11-10 07:59:07</td>\n",
       "      <td>Saturday</td>\n",
       "      <td>7</td>\n",
       "      <td>1</td>\n",
       "    </tr>\n",
       "    <tr>\n",
       "      <th>2963004</th>\n",
       "      <td>PP071001</td>\n",
       "      <td>2012-11-10</td>\n",
       "      <td>12869</td>\n",
       "      <td>-6.132267</td>\n",
       "      <td>53.251888</td>\n",
       "      <td>3224</td>\n",
       "      <td>1</td>\n",
       "      <td>640</td>\n",
       "      <td>44</td>\n",
       "      <td>2012-11-10 07:59:51</td>\n",
       "      <td>Saturday</td>\n",
       "      <td>7</td>\n",
       "      <td>1</td>\n",
       "    </tr>\n",
       "    <tr>\n",
       "      <th>2963005</th>\n",
       "      <td>PP071001</td>\n",
       "      <td>2012-11-10</td>\n",
       "      <td>12869</td>\n",
       "      <td>-6.131655</td>\n",
       "      <td>53.252647</td>\n",
       "      <td>3224</td>\n",
       "      <td>0</td>\n",
       "      <td>2437</td>\n",
       "      <td>199</td>\n",
       "      <td>2012-11-10 08:02:26</td>\n",
       "      <td>Saturday</td>\n",
       "      <td>8</td>\n",
       "      <td>1</td>\n",
       "    </tr>\n",
       "    <tr>\n",
       "      <th>2963006</th>\n",
       "      <td>PP071001</td>\n",
       "      <td>2012-11-10</td>\n",
       "      <td>12869</td>\n",
       "      <td>-6.135930</td>\n",
       "      <td>53.266819</td>\n",
       "      <td>3226</td>\n",
       "      <td>0</td>\n",
       "      <td>4282</td>\n",
       "      <td>439</td>\n",
       "      <td>2012-11-10 08:06:26</td>\n",
       "      <td>Saturday</td>\n",
       "      <td>8</td>\n",
       "      <td>1</td>\n",
       "    </tr>\n",
       "    <tr>\n",
       "      <th>2963007</th>\n",
       "      <td>PP071001</td>\n",
       "      <td>2012-11-10</td>\n",
       "      <td>12869</td>\n",
       "      <td>-6.139507</td>\n",
       "      <td>53.268753</td>\n",
       "      <td>3230</td>\n",
       "      <td>0</td>\n",
       "      <td>4603</td>\n",
       "      <td>460</td>\n",
       "      <td>2012-11-10 08:06:47</td>\n",
       "      <td>Saturday</td>\n",
       "      <td>8</td>\n",
       "      <td>1</td>\n",
       "    </tr>\n",
       "    <tr>\n",
       "      <th>2963008</th>\n",
       "      <td>PP071001</td>\n",
       "      <td>2012-11-10</td>\n",
       "      <td>12869</td>\n",
       "      <td>-6.139853</td>\n",
       "      <td>53.273392</td>\n",
       "      <td>3233</td>\n",
       "      <td>0</td>\n",
       "      <td>5211</td>\n",
       "      <td>559</td>\n",
       "      <td>2012-11-10 08:08:26</td>\n",
       "      <td>Saturday</td>\n",
       "      <td>8</td>\n",
       "      <td>1</td>\n",
       "    </tr>\n",
       "    <tr>\n",
       "      <th>2963009</th>\n",
       "      <td>PP071001</td>\n",
       "      <td>2012-11-10</td>\n",
       "      <td>12869</td>\n",
       "      <td>-6.137094</td>\n",
       "      <td>53.279510</td>\n",
       "      <td>3237</td>\n",
       "      <td>0</td>\n",
       "      <td>6118</td>\n",
       "      <td>680</td>\n",
       "      <td>2012-11-10 08:10:27</td>\n",
       "      <td>Saturday</td>\n",
       "      <td>8</td>\n",
       "      <td>1</td>\n",
       "    </tr>\n",
       "    <tr>\n",
       "      <th>2963010</th>\n",
       "      <td>PP071001</td>\n",
       "      <td>2012-11-10</td>\n",
       "      <td>12869</td>\n",
       "      <td>-6.135117</td>\n",
       "      <td>53.291866</td>\n",
       "      <td>3240</td>\n",
       "      <td>0</td>\n",
       "      <td>7835</td>\n",
       "      <td>951</td>\n",
       "      <td>2012-11-10 08:14:58</td>\n",
       "      <td>Saturday</td>\n",
       "      <td>8</td>\n",
       "      <td>1</td>\n",
       "    </tr>\n",
       "    <tr>\n",
       "      <th>2963011</th>\n",
       "      <td>PP071001</td>\n",
       "      <td>2012-11-10</td>\n",
       "      <td>12869</td>\n",
       "      <td>-6.135922</td>\n",
       "      <td>53.292263</td>\n",
       "      <td>3070</td>\n",
       "      <td>0</td>\n",
       "      <td>7904</td>\n",
       "      <td>959</td>\n",
       "      <td>2012-11-10 08:15:06</td>\n",
       "      <td>Saturday</td>\n",
       "      <td>8</td>\n",
       "      <td>1</td>\n",
       "    </tr>\n",
       "    <tr>\n",
       "      <th>2963012</th>\n",
       "      <td>PP071001</td>\n",
       "      <td>2012-11-10</td>\n",
       "      <td>12869</td>\n",
       "      <td>-6.152602</td>\n",
       "      <td>53.293823</td>\n",
       "      <td>3071</td>\n",
       "      <td>0</td>\n",
       "      <td>9117</td>\n",
       "      <td>1120</td>\n",
       "      <td>2012-11-10 08:17:47</td>\n",
       "      <td>Saturday</td>\n",
       "      <td>8</td>\n",
       "      <td>1</td>\n",
       "    </tr>\n",
       "    <tr>\n",
       "      <th>2963013</th>\n",
       "      <td>PP071001</td>\n",
       "      <td>2012-11-10</td>\n",
       "      <td>12869</td>\n",
       "      <td>-6.161431</td>\n",
       "      <td>53.294773</td>\n",
       "      <td>3073</td>\n",
       "      <td>0</td>\n",
       "      <td>9715</td>\n",
       "      <td>1159</td>\n",
       "      <td>2012-11-10 08:18:26</td>\n",
       "      <td>Saturday</td>\n",
       "      <td>8</td>\n",
       "      <td>1</td>\n",
       "    </tr>\n",
       "    <tr>\n",
       "      <th>2963014</th>\n",
       "      <td>PP071001</td>\n",
       "      <td>2012-11-10</td>\n",
       "      <td>12869</td>\n",
       "      <td>-6.171041</td>\n",
       "      <td>53.297260</td>\n",
       "      <td>3076</td>\n",
       "      <td>0</td>\n",
       "      <td>10420</td>\n",
       "      <td>1240</td>\n",
       "      <td>2012-11-10 08:19:47</td>\n",
       "      <td>Saturday</td>\n",
       "      <td>8</td>\n",
       "      <td>1</td>\n",
       "    </tr>\n",
       "    <tr>\n",
       "      <th>2963015</th>\n",
       "      <td>PP071001</td>\n",
       "      <td>2012-11-10</td>\n",
       "      <td>12869</td>\n",
       "      <td>-6.176503</td>\n",
       "      <td>53.300941</td>\n",
       "      <td>3080</td>\n",
       "      <td>0</td>\n",
       "      <td>11052</td>\n",
       "      <td>1400</td>\n",
       "      <td>2012-11-10 08:22:27</td>\n",
       "      <td>Saturday</td>\n",
       "      <td>8</td>\n",
       "      <td>1</td>\n",
       "    </tr>\n",
       "    <tr>\n",
       "      <th>2963016</th>\n",
       "      <td>PP071001</td>\n",
       "      <td>2012-11-10</td>\n",
       "      <td>12869</td>\n",
       "      <td>-6.182444</td>\n",
       "      <td>53.302166</td>\n",
       "      <td>3084</td>\n",
       "      <td>0</td>\n",
       "      <td>11559</td>\n",
       "      <td>1479</td>\n",
       "      <td>2012-11-10 08:23:46</td>\n",
       "      <td>Saturday</td>\n",
       "      <td>8</td>\n",
       "      <td>1</td>\n",
       "    </tr>\n",
       "    <tr>\n",
       "      <th>2963017</th>\n",
       "      <td>PP071001</td>\n",
       "      <td>2012-11-10</td>\n",
       "      <td>12869</td>\n",
       "      <td>-6.198656</td>\n",
       "      <td>53.310127</td>\n",
       "      <td>472</td>\n",
       "      <td>0</td>\n",
       "      <td>12960</td>\n",
       "      <td>1640</td>\n",
       "      <td>2012-11-10 08:26:27</td>\n",
       "      <td>Saturday</td>\n",
       "      <td>8</td>\n",
       "      <td>1</td>\n",
       "    </tr>\n",
       "    <tr>\n",
       "      <th>2963018</th>\n",
       "      <td>PP071001</td>\n",
       "      <td>2012-11-10</td>\n",
       "      <td>12869</td>\n",
       "      <td>-6.201615</td>\n",
       "      <td>53.312531</td>\n",
       "      <td>4705</td>\n",
       "      <td>0</td>\n",
       "      <td>13293</td>\n",
       "      <td>1679</td>\n",
       "      <td>2012-11-10 08:27:06</td>\n",
       "      <td>Saturday</td>\n",
       "      <td>8</td>\n",
       "      <td>1</td>\n",
       "    </tr>\n",
       "    <tr>\n",
       "      <th>2963019</th>\n",
       "      <td>PP071001</td>\n",
       "      <td>2012-11-10</td>\n",
       "      <td>12869</td>\n",
       "      <td>-6.204702</td>\n",
       "      <td>53.315838</td>\n",
       "      <td>476</td>\n",
       "      <td>1</td>\n",
       "      <td>13714</td>\n",
       "      <td>1720</td>\n",
       "      <td>2012-11-10 08:27:47</td>\n",
       "      <td>Saturday</td>\n",
       "      <td>8</td>\n",
       "      <td>1</td>\n",
       "    </tr>\n",
       "    <tr>\n",
       "      <th>2963020</th>\n",
       "      <td>PP071001</td>\n",
       "      <td>2012-11-10</td>\n",
       "      <td>12869</td>\n",
       "      <td>-6.213103</td>\n",
       "      <td>53.319118</td>\n",
       "      <td>478</td>\n",
       "      <td>0</td>\n",
       "      <td>14383</td>\n",
       "      <td>1840</td>\n",
       "      <td>2012-11-10 08:29:47</td>\n",
       "      <td>Saturday</td>\n",
       "      <td>8</td>\n",
       "      <td>1</td>\n",
       "    </tr>\n",
       "    <tr>\n",
       "      <th>2963021</th>\n",
       "      <td>PP071001</td>\n",
       "      <td>2012-11-10</td>\n",
       "      <td>12869</td>\n",
       "      <td>-6.222707</td>\n",
       "      <td>53.325207</td>\n",
       "      <td>482</td>\n",
       "      <td>0</td>\n",
       "      <td>15316</td>\n",
       "      <td>1961</td>\n",
       "      <td>2012-11-10 08:31:48</td>\n",
       "      <td>Saturday</td>\n",
       "      <td>8</td>\n",
       "      <td>1</td>\n",
       "    </tr>\n",
       "    <tr>\n",
       "      <th>2963022</th>\n",
       "      <td>PP071001</td>\n",
       "      <td>2012-11-10</td>\n",
       "      <td>12869</td>\n",
       "      <td>-6.229305</td>\n",
       "      <td>53.328529</td>\n",
       "      <td>485</td>\n",
       "      <td>0</td>\n",
       "      <td>15892</td>\n",
       "      <td>2020</td>\n",
       "      <td>2012-11-10 08:32:47</td>\n",
       "      <td>Saturday</td>\n",
       "      <td>8</td>\n",
       "      <td>1</td>\n",
       "    </tr>\n",
       "    <tr>\n",
       "      <th>2963023</th>\n",
       "      <td>PP071001</td>\n",
       "      <td>2012-11-10</td>\n",
       "      <td>12869</td>\n",
       "      <td>-6.233802</td>\n",
       "      <td>53.330879</td>\n",
       "      <td>487</td>\n",
       "      <td>1</td>\n",
       "      <td>16297</td>\n",
       "      <td>2119</td>\n",
       "      <td>2012-11-10 08:34:26</td>\n",
       "      <td>Saturday</td>\n",
       "      <td>8</td>\n",
       "      <td>1</td>\n",
       "    </tr>\n",
       "    <tr>\n",
       "      <th>2963024</th>\n",
       "      <td>PP071001</td>\n",
       "      <td>2012-11-10</td>\n",
       "      <td>12869</td>\n",
       "      <td>-6.234951</td>\n",
       "      <td>53.331806</td>\n",
       "      <td>487</td>\n",
       "      <td>0</td>\n",
       "      <td>16426</td>\n",
       "      <td>2140</td>\n",
       "      <td>2012-11-10 08:34:47</td>\n",
       "      <td>Saturday</td>\n",
       "      <td>8</td>\n",
       "      <td>1</td>\n",
       "    </tr>\n",
       "    <tr>\n",
       "      <th>2963025</th>\n",
       "      <td>PP071001</td>\n",
       "      <td>2012-11-10</td>\n",
       "      <td>12869</td>\n",
       "      <td>-6.236443</td>\n",
       "      <td>53.333817</td>\n",
       "      <td>488</td>\n",
       "      <td>0</td>\n",
       "      <td>16671</td>\n",
       "      <td>2160</td>\n",
       "      <td>2012-11-10 08:35:07</td>\n",
       "      <td>Saturday</td>\n",
       "      <td>8</td>\n",
       "      <td>1</td>\n",
       "    </tr>\n",
       "    <tr>\n",
       "      <th>2963026</th>\n",
       "      <td>PP071001</td>\n",
       "      <td>2012-11-10</td>\n",
       "      <td>12869</td>\n",
       "      <td>-6.250455</td>\n",
       "      <td>53.341072</td>\n",
       "      <td>493</td>\n",
       "      <td>0</td>\n",
       "      <td>17946</td>\n",
       "      <td>2299</td>\n",
       "      <td>2012-11-10 08:37:26</td>\n",
       "      <td>Saturday</td>\n",
       "      <td>8</td>\n",
       "      <td>1</td>\n",
       "    </tr>\n",
       "    <tr>\n",
       "      <th>2963027</th>\n",
       "      <td>PP071001</td>\n",
       "      <td>2012-11-10</td>\n",
       "      <td>12869</td>\n",
       "      <td>-6.251815</td>\n",
       "      <td>53.341549</td>\n",
       "      <td>494</td>\n",
       "      <td>0</td>\n",
       "      <td>18051</td>\n",
       "      <td>2361</td>\n",
       "      <td>2012-11-10 08:38:28</td>\n",
       "      <td>Saturday</td>\n",
       "      <td>8</td>\n",
       "      <td>1</td>\n",
       "    </tr>\n",
       "    <tr>\n",
       "      <th>2963028</th>\n",
       "      <td>PP071001</td>\n",
       "      <td>2012-11-10</td>\n",
       "      <td>12869</td>\n",
       "      <td>-6.260572</td>\n",
       "      <td>53.350132</td>\n",
       "      <td>279</td>\n",
       "      <td>1</td>\n",
       "      <td>19432</td>\n",
       "      <td>2640</td>\n",
       "      <td>2012-11-10 08:43:07</td>\n",
       "      <td>Saturday</td>\n",
       "      <td>8</td>\n",
       "      <td>1</td>\n",
       "    </tr>\n",
       "    <tr>\n",
       "      <th>2963029</th>\n",
       "      <td>PP071001</td>\n",
       "      <td>2012-11-10</td>\n",
       "      <td>12869</td>\n",
       "      <td>-6.260678</td>\n",
       "      <td>53.350342</td>\n",
       "      <td>279</td>\n",
       "      <td>0</td>\n",
       "      <td>19457</td>\n",
       "      <td>2660</td>\n",
       "      <td>2012-11-10 08:43:27</td>\n",
       "      <td>Saturday</td>\n",
       "      <td>8</td>\n",
       "      <td>1</td>\n",
       "    </tr>\n",
       "    <tr>\n",
       "      <th>2963030</th>\n",
       "      <td>PP071001</td>\n",
       "      <td>2012-11-10</td>\n",
       "      <td>12869</td>\n",
       "      <td>-6.256516</td>\n",
       "      <td>53.356998</td>\n",
       "      <td>4962</td>\n",
       "      <td>1</td>\n",
       "      <td>20405</td>\n",
       "      <td>2986</td>\n",
       "      <td>2012-11-10 08:48:53</td>\n",
       "      <td>Saturday</td>\n",
       "      <td>8</td>\n",
       "      <td>1</td>\n",
       "    </tr>\n",
       "  </tbody>\n",
       "</table>\n",
       "<p>100 rows × 13 columns</p>\n",
       "</div>"
      ],
      "text/plain": [
       "        Journey_Pattern_ID        Date  Vehicle_Journey_ID  Lon_WGS84  \\\n",
       "2962931           084A1002  2012-11-12                5997  -6.167072   \n",
       "2962932           084A1002  2012-11-12                5997  -6.167358   \n",
       "2962933           084A1002  2012-11-12                5997  -6.169822   \n",
       "2962934           084A1002  2012-11-12                5997  -6.169878   \n",
       "2962935           084A1002  2012-11-12                5997  -6.170424   \n",
       "2962936           084A1002  2012-11-12                5997  -6.174983   \n",
       "2962937           084A1002  2012-11-12                5997  -6.178104   \n",
       "2962938           084A1002  2012-11-12                5997  -6.178182   \n",
       "2962939           084A1002  2012-11-12                5997  -6.181094   \n",
       "2962940           084A1002  2012-11-12                5997  -6.183967   \n",
       "2962941           084A1002  2012-11-12                5997  -6.184217   \n",
       "2962942           084A1002  2012-11-12                5997  -6.188910   \n",
       "2962943           084A1002  2012-11-12                5997  -6.190376   \n",
       "2962944           084A1002  2012-11-12                5997  -6.192271   \n",
       "2962945           084A1002  2012-11-12                5997  -6.194923   \n",
       "2962946           084A1002  2012-11-12                5997  -6.197320   \n",
       "2962947           084A1002  2012-11-12                5997  -6.198972   \n",
       "2962948           084A1002  2012-11-12                5997  -6.200304   \n",
       "2962949           084A1002  2012-11-12                5997  -6.201967   \n",
       "2962950           084A1002  2012-11-12                5997  -6.204712   \n",
       "2962951           084A1002  2012-11-12                5997  -6.206925   \n",
       "2962952           084A1002  2012-11-12                5997  -6.209553   \n",
       "2962953           084A1002  2012-11-12                6013  -6.101284   \n",
       "2962954           084A1002  2012-11-12                6013  -6.101079   \n",
       "2962955           084A1002  2012-11-12                6013  -6.109205   \n",
       "2962956           084A1002  2012-11-12                6013  -6.109405   \n",
       "2962957           084A1002  2012-11-12                6013  -6.109436   \n",
       "2962958           084A1002  2012-11-12                6013  -6.113792   \n",
       "2962959           084A1002  2012-11-12                6013  -6.114906   \n",
       "2962960           084A1002  2012-11-12                6013  -6.118669   \n",
       "...                    ...         ...                 ...        ...   \n",
       "2963001           084A1002  2012-11-12                6013  -6.207317   \n",
       "2963002           084A1002  2012-11-12                6013  -6.215917   \n",
       "2963003           PP071001  2012-11-10               12869  -6.128440   \n",
       "2963004           PP071001  2012-11-10               12869  -6.132267   \n",
       "2963005           PP071001  2012-11-10               12869  -6.131655   \n",
       "2963006           PP071001  2012-11-10               12869  -6.135930   \n",
       "2963007           PP071001  2012-11-10               12869  -6.139507   \n",
       "2963008           PP071001  2012-11-10               12869  -6.139853   \n",
       "2963009           PP071001  2012-11-10               12869  -6.137094   \n",
       "2963010           PP071001  2012-11-10               12869  -6.135117   \n",
       "2963011           PP071001  2012-11-10               12869  -6.135922   \n",
       "2963012           PP071001  2012-11-10               12869  -6.152602   \n",
       "2963013           PP071001  2012-11-10               12869  -6.161431   \n",
       "2963014           PP071001  2012-11-10               12869  -6.171041   \n",
       "2963015           PP071001  2012-11-10               12869  -6.176503   \n",
       "2963016           PP071001  2012-11-10               12869  -6.182444   \n",
       "2963017           PP071001  2012-11-10               12869  -6.198656   \n",
       "2963018           PP071001  2012-11-10               12869  -6.201615   \n",
       "2963019           PP071001  2012-11-10               12869  -6.204702   \n",
       "2963020           PP071001  2012-11-10               12869  -6.213103   \n",
       "2963021           PP071001  2012-11-10               12869  -6.222707   \n",
       "2963022           PP071001  2012-11-10               12869  -6.229305   \n",
       "2963023           PP071001  2012-11-10               12869  -6.233802   \n",
       "2963024           PP071001  2012-11-10               12869  -6.234951   \n",
       "2963025           PP071001  2012-11-10               12869  -6.236443   \n",
       "2963026           PP071001  2012-11-10               12869  -6.250455   \n",
       "2963027           PP071001  2012-11-10               12869  -6.251815   \n",
       "2963028           PP071001  2012-11-10               12869  -6.260572   \n",
       "2963029           PP071001  2012-11-10               12869  -6.260678   \n",
       "2963030           PP071001  2012-11-10               12869  -6.256516   \n",
       "\n",
       "         Lat_WGS84 Stop_ID  At_Stop  Distance  Trip_Time            datetime  \\\n",
       "2962931  53.290138    3162        0     13944       2728 2012-11-12 08:17:14   \n",
       "2962932  53.293385    3163        0     14321       2908 2012-11-12 08:20:14   \n",
       "2962933  53.295616    3164        1     14620       2989 2012-11-12 08:21:35   \n",
       "2962934  53.295780    3164        0     14638       3030 2012-11-12 08:22:16   \n",
       "2962935  53.298500    3079        0     14971       3308 2012-11-12 08:26:54   \n",
       "2962936  53.300522    3080        0     15372       3368 2012-11-12 08:27:54   \n",
       "2962937  53.300499    3082        1     15597       3409 2012-11-12 08:28:35   \n",
       "2962938  53.300468    3082        0     15604       3427 2012-11-12 08:28:53   \n",
       "2962939  53.301472    3084        0     15869       3749 2012-11-12 08:34:15   \n",
       "2962940  53.302956     469        1     16122       3791 2012-11-12 08:34:57   \n",
       "2962941  53.303139     469        0     16148       3807 2012-11-12 08:35:13   \n",
       "2962942  53.305687     470        1     16571       3871 2012-11-12 08:36:17   \n",
       "2962943  53.306675     470        0     16718       3887 2012-11-12 08:36:33   \n",
       "2962944  53.307289     471        0     16862       3910 2012-11-12 08:36:56   \n",
       "2962945  53.308018     472        0     17058       3969 2012-11-12 08:37:55   \n",
       "2962946  53.309319     473        1     17274       4509 2012-11-12 08:46:55   \n",
       "2962947  53.310318     473        0     17431       4548 2012-11-12 08:47:34   \n",
       "2962948  53.311111    4705        0     17556       4568 2012-11-12 08:47:54   \n",
       "2962949  53.313023     475        0     17796       4648 2012-11-12 08:49:14   \n",
       "2962950  53.315842     476        0     18162       4708 2012-11-12 08:50:14   \n",
       "2962951  53.316917     477        1     18353       4749 2012-11-12 08:50:55   \n",
       "2962952  53.317707     477        0     18549       4788 2012-11-12 08:51:34   \n",
       "2962953  53.204800    4168        1         0          0 2012-11-12 10:21:27   \n",
       "2962954  53.204285    4168        0        65        457 2012-11-12 10:29:04   \n",
       "2962955  53.203510    4170        0      1215        578 2012-11-12 10:31:05   \n",
       "2962956  53.204952    4153        1      1395        758 2012-11-12 10:34:05   \n",
       "2962957  53.205021    4153        0      1403        781 2012-11-12 10:34:28   \n",
       "2962958  53.207428    4154        0      1806        840 2012-11-12 10:35:27   \n",
       "2962959  53.208679    4416        0      1964        899 2012-11-12 10:36:26   \n",
       "2962960  53.212852    4201        0      2496        961 2012-11-12 10:37:28   \n",
       "...            ...     ...      ...       ...        ...                 ...   \n",
       "2963001  53.317055     477        0     17290       2722 2012-11-12 11:06:49   \n",
       "2963002  53.317417     478        1     17891       2808 2012-11-12 11:08:15   \n",
       "2963003  53.246613    3222        0         0          0 2012-11-10 07:59:07   \n",
       "2963004  53.251888    3224        1       640         44 2012-11-10 07:59:51   \n",
       "2963005  53.252647    3224        0      2437        199 2012-11-10 08:02:26   \n",
       "2963006  53.266819    3226        0      4282        439 2012-11-10 08:06:26   \n",
       "2963007  53.268753    3230        0      4603        460 2012-11-10 08:06:47   \n",
       "2963008  53.273392    3233        0      5211        559 2012-11-10 08:08:26   \n",
       "2963009  53.279510    3237        0      6118        680 2012-11-10 08:10:27   \n",
       "2963010  53.291866    3240        0      7835        951 2012-11-10 08:14:58   \n",
       "2963011  53.292263    3070        0      7904        959 2012-11-10 08:15:06   \n",
       "2963012  53.293823    3071        0      9117       1120 2012-11-10 08:17:47   \n",
       "2963013  53.294773    3073        0      9715       1159 2012-11-10 08:18:26   \n",
       "2963014  53.297260    3076        0     10420       1240 2012-11-10 08:19:47   \n",
       "2963015  53.300941    3080        0     11052       1400 2012-11-10 08:22:27   \n",
       "2963016  53.302166    3084        0     11559       1479 2012-11-10 08:23:46   \n",
       "2963017  53.310127     472        0     12960       1640 2012-11-10 08:26:27   \n",
       "2963018  53.312531    4705        0     13293       1679 2012-11-10 08:27:06   \n",
       "2963019  53.315838     476        1     13714       1720 2012-11-10 08:27:47   \n",
       "2963020  53.319118     478        0     14383       1840 2012-11-10 08:29:47   \n",
       "2963021  53.325207     482        0     15316       1961 2012-11-10 08:31:48   \n",
       "2963022  53.328529     485        0     15892       2020 2012-11-10 08:32:47   \n",
       "2963023  53.330879     487        1     16297       2119 2012-11-10 08:34:26   \n",
       "2963024  53.331806     487        0     16426       2140 2012-11-10 08:34:47   \n",
       "2963025  53.333817     488        0     16671       2160 2012-11-10 08:35:07   \n",
       "2963026  53.341072     493        0     17946       2299 2012-11-10 08:37:26   \n",
       "2963027  53.341549     494        0     18051       2361 2012-11-10 08:38:28   \n",
       "2963028  53.350132     279        1     19432       2640 2012-11-10 08:43:07   \n",
       "2963029  53.350342     279        0     19457       2660 2012-11-10 08:43:27   \n",
       "2963030  53.356998    4962        1     20405       2986 2012-11-10 08:48:53   \n",
       "\n",
       "        day_of_week  HourOfDay  midweek  \n",
       "2962931      Monday          8        1  \n",
       "2962932      Monday          8        1  \n",
       "2962933      Monday          8        1  \n",
       "2962934      Monday          8        1  \n",
       "2962935      Monday          8        1  \n",
       "2962936      Monday          8        1  \n",
       "2962937      Monday          8        1  \n",
       "2962938      Monday          8        1  \n",
       "2962939      Monday          8        1  \n",
       "2962940      Monday          8        1  \n",
       "2962941      Monday          8        1  \n",
       "2962942      Monday          8        1  \n",
       "2962943      Monday          8        1  \n",
       "2962944      Monday          8        1  \n",
       "2962945      Monday          8        1  \n",
       "2962946      Monday          8        1  \n",
       "2962947      Monday          8        1  \n",
       "2962948      Monday          8        1  \n",
       "2962949      Monday          8        1  \n",
       "2962950      Monday          8        1  \n",
       "2962951      Monday          8        1  \n",
       "2962952      Monday          8        1  \n",
       "2962953      Monday         10        1  \n",
       "2962954      Monday         10        1  \n",
       "2962955      Monday         10        1  \n",
       "2962956      Monday         10        1  \n",
       "2962957      Monday         10        1  \n",
       "2962958      Monday         10        1  \n",
       "2962959      Monday         10        1  \n",
       "2962960      Monday         10        1  \n",
       "...             ...        ...      ...  \n",
       "2963001      Monday         11        1  \n",
       "2963002      Monday         11        1  \n",
       "2963003    Saturday          7        1  \n",
       "2963004    Saturday          7        1  \n",
       "2963005    Saturday          8        1  \n",
       "2963006    Saturday          8        1  \n",
       "2963007    Saturday          8        1  \n",
       "2963008    Saturday          8        1  \n",
       "2963009    Saturday          8        1  \n",
       "2963010    Saturday          8        1  \n",
       "2963011    Saturday          8        1  \n",
       "2963012    Saturday          8        1  \n",
       "2963013    Saturday          8        1  \n",
       "2963014    Saturday          8        1  \n",
       "2963015    Saturday          8        1  \n",
       "2963016    Saturday          8        1  \n",
       "2963017    Saturday          8        1  \n",
       "2963018    Saturday          8        1  \n",
       "2963019    Saturday          8        1  \n",
       "2963020    Saturday          8        1  \n",
       "2963021    Saturday          8        1  \n",
       "2963022    Saturday          8        1  \n",
       "2963023    Saturday          8        1  \n",
       "2963024    Saturday          8        1  \n",
       "2963025    Saturday          8        1  \n",
       "2963026    Saturday          8        1  \n",
       "2963027    Saturday          8        1  \n",
       "2963028    Saturday          8        1  \n",
       "2963029    Saturday          8        1  \n",
       "2963030    Saturday          8        1  \n",
       "\n",
       "[100 rows x 13 columns]"
      ]
     },
     "execution_count": 8,
     "metadata": {},
     "output_type": "execute_result"
    }
   ],
   "source": [
    "df_all.tail(3)"
   ]
  },
  {
   "cell_type": "code",
   "execution_count": 10,
   "metadata": {
    "collapsed": false
   },
   "outputs": [
    {
     "data": {
      "text/plain": [
       "Journey_Pattern_ID     object\n",
       "Date                   object\n",
       "Vehicle_Journey_ID      int64\n",
       "Lon_WGS84             float64\n",
       "Lat_WGS84             float64\n",
       "Stop_ID                object\n",
       "At_Stop                 int64\n",
       "Distance                int64\n",
       "Trip_Time               int64\n",
       "datetime               object\n",
       "HourOfDay               int64\n",
       "day_of_week            object\n",
       "midweek                 int64\n",
       "dtype: object"
      ]
     },
     "execution_count": 10,
     "metadata": {},
     "output_type": "execute_result"
    }
   ],
   "source": [
    "df_all.dtypes"
   ]
  },
  {
   "cell_type": "markdown",
   "metadata": {},
   "source": [
    "# Get one Journey_Pattern_ID"
   ]
  },
  {
   "cell_type": "code",
   "execution_count": 13,
   "metadata": {
    "collapsed": false
   },
   "outputs": [],
   "source": [
    "df=df_all.loc[df_all['Journey_Pattern_ID']=='00010001']\n",
    "df.reset_index(drop=True, inplace=True)"
   ]
  },
  {
   "cell_type": "code",
   "execution_count": 14,
   "metadata": {
    "collapsed": false
   },
   "outputs": [
    {
     "data": {
      "text/plain": [
       "(14131, 13)"
      ]
     },
     "execution_count": 14,
     "metadata": {},
     "output_type": "execute_result"
    }
   ],
   "source": [
    "df.shape"
   ]
  },
  {
   "cell_type": "code",
   "execution_count": 10,
   "metadata": {
    "collapsed": false
   },
   "outputs": [],
   "source": [
    "df_error=df.loc[(df['Vehicle_Journey_ID']==5456) & (df['day_of_week']==\"Wednesday\")]"
   ]
  },
  {
   "cell_type": "markdown",
   "metadata": {
    "collapsed": false
   },
   "source": [
    "df_error.head"
   ]
  },
  {
   "cell_type": "markdown",
   "metadata": {},
   "source": [
    "# Train Data set with statsmodels"
   ]
  },
  {
   "cell_type": "code",
   "execution_count": 15,
   "metadata": {
    "collapsed": false
   },
   "outputs": [
    {
     "data": {
      "text/plain": [
       "(14131, 13)"
      ]
     },
     "execution_count": 15,
     "metadata": {},
     "output_type": "execute_result"
    }
   ],
   "source": [
    "df.shape"
   ]
  },
  {
   "cell_type": "code",
   "execution_count": 16,
   "metadata": {
    "collapsed": false
   },
   "outputs": [
    {
     "data": {
      "text/plain": [
       "Index(['Distance', 'midweek', 'HourOfDay'], dtype='object')"
      ]
     },
     "execution_count": 16,
     "metadata": {},
     "output_type": "execute_result"
    }
   ],
   "source": [
    "feature_cols = ['Distance','midweek','HourOfDay']\n",
    "X = df[feature_cols]\n",
    "y = df['Trip_Time']\n",
    "X.columns\n",
    "\n",
    "#X_train, X_test, y_train, y_test = train_test_split(X, y, test_size=0.3)"
   ]
  },
  {
   "cell_type": "code",
   "execution_count": 17,
   "metadata": {
    "collapsed": false
   },
   "outputs": [],
   "source": [
    "import statsmodels.formula.api as sm\n",
    "df_linear = pd.concat([X, y], axis=1)\n",
    "lm = sm.ols(formula = \"Trip_Time ~ Distance+HourOfDay+midweek\", data=df_linear).fit()"
   ]
  },
  {
   "cell_type": "code",
   "execution_count": 18,
   "metadata": {
    "collapsed": false
   },
   "outputs": [
    {
     "data": {
      "text/plain": [
       "Intercept    305.735498\n",
       "Distance       0.248631\n",
       "HourOfDay    -12.145194\n",
       "midweek      -67.001046\n",
       "dtype: float64"
      ]
     },
     "execution_count": 18,
     "metadata": {},
     "output_type": "execute_result"
    }
   ],
   "source": [
    "lm.params"
   ]
  },
  {
   "cell_type": "code",
   "execution_count": 19,
   "metadata": {
    "collapsed": false
   },
   "outputs": [
    {
     "data": {
      "text/html": [
       "<table class=\"simpletable\">\n",
       "<caption>OLS Regression Results</caption>\n",
       "<tr>\n",
       "  <th>Dep. Variable:</th>        <td>Trip_Time</td>    <th>  R-squared:         </th>  <td>   0.897</td>  \n",
       "</tr>\n",
       "<tr>\n",
       "  <th>Model:</th>                   <td>OLS</td>       <th>  Adj. R-squared:    </th>  <td>   0.897</td>  \n",
       "</tr>\n",
       "<tr>\n",
       "  <th>Method:</th>             <td>Least Squares</td>  <th>  F-statistic:       </th>  <td>4.103e+04</td> \n",
       "</tr>\n",
       "<tr>\n",
       "  <th>Date:</th>             <td>Sat, 22 Jul 2017</td> <th>  Prob (F-statistic):</th>   <td>  0.00</td>   \n",
       "</tr>\n",
       "<tr>\n",
       "  <th>Time:</th>                 <td>20:16:14</td>     <th>  Log-Likelihood:    </th> <td>-1.0087e+05</td>\n",
       "</tr>\n",
       "<tr>\n",
       "  <th>No. Observations:</th>      <td> 14131</td>      <th>  AIC:               </th>  <td>2.017e+05</td> \n",
       "</tr>\n",
       "<tr>\n",
       "  <th>Df Residuals:</th>          <td> 14127</td>      <th>  BIC:               </th>  <td>2.018e+05</td> \n",
       "</tr>\n",
       "<tr>\n",
       "  <th>Df Model:</th>              <td>     3</td>      <th>                     </th>      <td> </td>     \n",
       "</tr>\n",
       "<tr>\n",
       "  <th>Covariance Type:</th>      <td>nonrobust</td>    <th>                     </th>      <td> </td>     \n",
       "</tr>\n",
       "</table>\n",
       "<table class=\"simpletable\">\n",
       "<tr>\n",
       "      <td></td>         <th>coef</th>     <th>std err</th>      <th>t</th>      <th>P>|t|</th>  <th>[0.025</th>    <th>0.975]</th>  \n",
       "</tr>\n",
       "<tr>\n",
       "  <th>Intercept</th> <td>  305.7355</td> <td>   10.902</td> <td>   28.044</td> <td> 0.000</td> <td>  284.366</td> <td>  327.105</td>\n",
       "</tr>\n",
       "<tr>\n",
       "  <th>Distance</th>  <td>    0.2486</td> <td>    0.001</td> <td>  350.328</td> <td> 0.000</td> <td>    0.247</td> <td>    0.250</td>\n",
       "</tr>\n",
       "<tr>\n",
       "  <th>HourOfDay</th> <td>  -12.1452</td> <td>    0.648</td> <td>  -18.737</td> <td> 0.000</td> <td>  -13.416</td> <td>  -10.875</td>\n",
       "</tr>\n",
       "<tr>\n",
       "  <th>midweek</th>   <td>  -67.0010</td> <td>    5.309</td> <td>  -12.620</td> <td> 0.000</td> <td>  -77.407</td> <td>  -56.595</td>\n",
       "</tr>\n",
       "</table>\n",
       "<table class=\"simpletable\">\n",
       "<tr>\n",
       "  <th>Omnibus:</th>       <td>2244.004</td> <th>  Durbin-Watson:     </th> <td>   0.077</td> \n",
       "</tr>\n",
       "<tr>\n",
       "  <th>Prob(Omnibus):</th>  <td> 0.000</td>  <th>  Jarque-Bera (JB):  </th> <td>13452.625</td>\n",
       "</tr>\n",
       "<tr>\n",
       "  <th>Skew:</th>           <td> 0.626</td>  <th>  Prob(JB):          </th> <td>    0.00</td> \n",
       "</tr>\n",
       "<tr>\n",
       "  <th>Kurtosis:</th>       <td> 7.613</td>  <th>  Cond. No.          </th> <td>3.03e+04</td> \n",
       "</tr>\n",
       "</table>"
      ],
      "text/plain": [
       "<class 'statsmodels.iolib.summary.Summary'>\n",
       "\"\"\"\n",
       "                            OLS Regression Results                            \n",
       "==============================================================================\n",
       "Dep. Variable:              Trip_Time   R-squared:                       0.897\n",
       "Model:                            OLS   Adj. R-squared:                  0.897\n",
       "Method:                 Least Squares   F-statistic:                 4.103e+04\n",
       "Date:                Sat, 22 Jul 2017   Prob (F-statistic):               0.00\n",
       "Time:                        20:16:14   Log-Likelihood:            -1.0087e+05\n",
       "No. Observations:               14131   AIC:                         2.017e+05\n",
       "Df Residuals:                   14127   BIC:                         2.018e+05\n",
       "Df Model:                           3                                         \n",
       "Covariance Type:            nonrobust                                         \n",
       "==============================================================================\n",
       "                 coef    std err          t      P>|t|      [0.025      0.975]\n",
       "------------------------------------------------------------------------------\n",
       "Intercept    305.7355     10.902     28.044      0.000     284.366     327.105\n",
       "Distance       0.2486      0.001    350.328      0.000       0.247       0.250\n",
       "HourOfDay    -12.1452      0.648    -18.737      0.000     -13.416     -10.875\n",
       "midweek      -67.0010      5.309    -12.620      0.000     -77.407     -56.595\n",
       "==============================================================================\n",
       "Omnibus:                     2244.004   Durbin-Watson:                   0.077\n",
       "Prob(Omnibus):                  0.000   Jarque-Bera (JB):            13452.625\n",
       "Skew:                           0.626   Prob(JB):                         0.00\n",
       "Kurtosis:                       7.613   Cond. No.                     3.03e+04\n",
       "==============================================================================\n",
       "\n",
       "Warnings:\n",
       "[1] Standard Errors assume that the covariance matrix of the errors is correctly specified.\n",
       "[2] The condition number is large, 3.03e+04. This might indicate that there are\n",
       "strong multicollinearity or other numerical problems.\n",
       "\"\"\""
      ]
     },
     "execution_count": 19,
     "metadata": {},
     "output_type": "execute_result"
    }
   ],
   "source": [
    "lm.summary()"
   ]
  },
  {
   "cell_type": "code",
   "execution_count": 20,
   "metadata": {
    "collapsed": true
   },
   "outputs": [],
   "source": [
    "lm_predictions = lm.predict(X)"
   ]
  },
  {
   "cell_type": "code",
   "execution_count": 21,
   "metadata": {
    "collapsed": false
   },
   "outputs": [
    {
     "data": {
      "text/plain": [
       "[<matplotlib.lines.Line2D at 0x1296262e8>]"
      ]
     },
     "execution_count": 21,
     "metadata": {},
     "output_type": "execute_result"
    },
    {
     "data": {
      "image/png": "[encoded data removed]",
      "text/plain": [
       "<matplotlib.figure.Figure at 0x129607a58>"
      ]
     },
     "metadata": {},
     "output_type": "display_data"
    }
   ],
   "source": [
    "df.plot(kind='scatter', x='Distance', y='Trip_Time')\n",
    "plt.plot(X['Distance'], lm_predictions, c='red', linewidth=2)\n",
    "\n",
    "#plt.savefig('SM_Linear_Reg.png')"
   ]
  },
  {
   "cell_type": "code",
   "execution_count": 22,
   "metadata": {
    "collapsed": false
   },
   "outputs": [
    {
     "data": {
      "text/html": [
       "<div>\n",
       "<table border=\"1\" class=\"dataframe\">\n",
       "  <thead>\n",
       "    <tr style=\"text-align: right;\">\n",
       "      <th></th>\n",
       "      <th>0</th>\n",
       "      <th>1</th>\n",
       "    </tr>\n",
       "  </thead>\n",
       "  <tbody>\n",
       "    <tr>\n",
       "      <th>Intercept</th>\n",
       "      <td>284.366207</td>\n",
       "      <td>327.104789</td>\n",
       "    </tr>\n",
       "    <tr>\n",
       "      <th>Distance</th>\n",
       "      <td>0.247239</td>\n",
       "      <td>0.250022</td>\n",
       "    </tr>\n",
       "    <tr>\n",
       "      <th>HourOfDay</th>\n",
       "      <td>-13.415756</td>\n",
       "      <td>-10.874632</td>\n",
       "    </tr>\n",
       "    <tr>\n",
       "      <th>midweek</th>\n",
       "      <td>-77.407473</td>\n",
       "      <td>-56.594619</td>\n",
       "    </tr>\n",
       "  </tbody>\n",
       "</table>\n",
       "</div>"
      ],
      "text/plain": [
       "                    0           1\n",
       "Intercept  284.366207  327.104789\n",
       "Distance     0.247239    0.250022\n",
       "HourOfDay  -13.415756  -10.874632\n",
       "midweek    -77.407473  -56.594619"
      ]
     },
     "execution_count": 22,
     "metadata": {},
     "output_type": "execute_result"
    }
   ],
   "source": [
    "lm.conf_int()"
   ]
  },
  {
   "cell_type": "code",
   "execution_count": 23,
   "metadata": {
    "collapsed": false
   },
   "outputs": [
    {
     "name": "stdout",
     "output_type": "stream",
     "text": [
      "\n",
      " Mean Squared Error 92780.7228801\n"
     ]
    }
   ],
   "source": [
    "# MSE: Mean Squared Error\n",
    "mse=((df_linear.Trip_Time-lm.predict(df_linear))**2).mean()\n",
    "print(\"\\n Mean Squared Error\",mse)"
   ]
  },
  {
   "cell_type": "code",
   "execution_count": 24,
   "metadata": {
    "collapsed": false
   },
   "outputs": [
    {
     "name": "stdout",
     "output_type": "stream",
     "text": [
      "Mean Absolute mean  220.770166738\n"
     ]
    }
   ],
   "source": [
    "# MAE:  Mean Absolute mean \n",
    "mae = abs(df_linear.Trip_Time-lm.predict(df_linear)).mean()\n",
    "print(\"Mean Absolute mean \",mae)"
   ]
  },
  {
   "cell_type": "markdown",
   "metadata": {},
   "source": [
    "# Use an sklearn model LinearRegression to train data set "
   ]
  },
  {
   "cell_type": "code",
   "execution_count": 25,
   "metadata": {
    "collapsed": true
   },
   "outputs": [],
   "source": [
    "from sklearn.pipeline import Pipeline\n",
    "from sklearn.preprocessing import PolynomialFeatures\n",
    "from sklearn.linear_model import LinearRegression\n",
    "from sklearn.model_selection import cross_val_score"
   ]
  },
  {
   "cell_type": "code",
   "execution_count": 26,
   "metadata": {
    "collapsed": false
   },
   "outputs": [
    {
     "data": {
      "text/plain": [
       "Index(['Distance', 'midweek', 'HourOfDay'], dtype='object')"
      ]
     },
     "execution_count": 26,
     "metadata": {},
     "output_type": "execute_result"
    }
   ],
   "source": [
    "feature_cols = ['Distance','midweek','HourOfDay']\n",
    "X = df[feature_cols]\n",
    "y = df['Trip_Time']\n",
    "X.columns"
   ]
  },
  {
   "cell_type": "code",
   "execution_count": 27,
   "metadata": {
    "collapsed": false
   },
   "outputs": [
    {
     "data": {
      "text/plain": [
       "(14131,)"
      ]
     },
     "execution_count": 27,
     "metadata": {},
     "output_type": "execute_result"
    }
   ],
   "source": [
    "y.shape"
   ]
  },
  {
   "cell_type": "code",
   "execution_count": 28,
   "metadata": {
    "collapsed": false
   },
   "outputs": [
    {
     "data": {
      "image/png": "[encoded data removed]",
      "text/plain": [
       "<matplotlib.figure.Figure at 0x12d05d710>"
      ]
     },
     "metadata": {},
     "output_type": "display_data"
    },
    {
     "data": {
      "image/png": "[encoded data removed]",
      "text/plain": [
       "<matplotlib.figure.Figure at 0x1319a3eb8>"
      ]
     },
     "metadata": {},
     "output_type": "display_data"
    },
    {
     "data": {
      "image/png": "[encoded data removed]",
      "text/plain": [
       "<matplotlib.figure.Figure at 0x1345fdda0>"
      ]
     },
     "metadata": {},
     "output_type": "display_data"
    },
    {
     "data": {
      "image/png": "[encoded data removed]",
      "text/plain": [
       "<matplotlib.figure.Figure at 0x13de0b358>"
      ]
     },
     "metadata": {},
     "output_type": "display_data"
    }
   ],
   "source": [
    "degrees = [2,4,10,15]\n",
    "\n",
    "#plt.figure(figsize=(14, 5))\n",
    "for i in range(len(degrees)):\n",
    "    polynomial_features = PolynomialFeatures(degree=degrees[i],\n",
    "                                             include_bias=False)\n",
    "    linear_regression = LinearRegression()\n",
    "    pipeline = Pipeline([(\"polynomial_features\", polynomial_features),\n",
    "                         (\"linear_regression\", linear_regression)])\n",
    "    pipeline.fit(X, y)\n",
    "    scores = cross_val_score(pipeline, X, y,\n",
    "                             scoring=\"neg_mean_squared_error\", cv=10)\n",
    "\n",
    "    df.plot(kind='scatter', x='Distance', y='Trip_Time',label=\"Samples\")\n",
    "    plt.plot(X['Distance'], pipeline.predict(X), c='Blue', label=\"Model\")\n",
    "    plt.legend(loc=\"best\")\n",
    "    plt.title(\"Degree {}\\nMSE = {:.2e}(+/- {:.2e})\".format(\n",
    "        degrees[i], -scores.mean(), scores.std()))\n",
    "    plt.show()"
   ]
  },
  {
   "cell_type": "code",
   "execution_count": 29,
   "metadata": {
    "collapsed": false
   },
   "outputs": [
    {
     "data": {
      "text/plain": [
       "[<matplotlib.lines.Line2D at 0x1319a3320>]"
      ]
     },
     "execution_count": 29,
     "metadata": {},
     "output_type": "execute_result"
    },
    {
     "data": {
      "image/png": "[encoded data removed]",
      "text/plain": [
       "<matplotlib.figure.Figure at 0x1319a3400>"
      ]
     },
     "metadata": {},
     "output_type": "display_data"
    }
   ],
   "source": [
    "polynomial_features = PolynomialFeatures(degree=4,include_bias=False)\n",
    "linear_regression = LinearRegression()\n",
    "pipeline = Pipeline([(\"polynomial_features\", polynomial_features),\n",
    "                         (\"linear_regression\", linear_regression)])\n",
    "pipeline.fit(X, y)\n",
    "\n",
    "df.plot(kind='scatter', x='Distance', y='Trip_Time',label=\"Samples\")\n",
    "plt.plot(X['Distance'], pipeline.predict(X), c='Blue', label=\"Model\")\n",
    "\n",
    "#plt.savefig('Linear_Reg_Poly.png')"
   ]
  },
  {
   "cell_type": "code",
   "execution_count": 30,
   "metadata": {
    "collapsed": false
   },
   "outputs": [
    {
     "data": {
      "text/plain": [
       "{'copy_X': True, 'fit_intercept': True, 'n_jobs': 1, 'normalize': False}"
      ]
     },
     "execution_count": 30,
     "metadata": {},
     "output_type": "execute_result"
    }
   ],
   "source": [
    "pipeline.named_steps['linear_regression'].get_params()"
   ]
  },
  {
   "cell_type": "code",
   "execution_count": 31,
   "metadata": {
    "collapsed": false
   },
   "outputs": [
    {
     "data": {
      "text/plain": [
       "0.91183444611576969"
      ]
     },
     "execution_count": 31,
     "metadata": {},
     "output_type": "execute_result"
    }
   ],
   "source": [
    "pipeline.score(X,y)"
   ]
  },
  {
   "cell_type": "code",
   "execution_count": 32,
   "metadata": {
    "collapsed": false
   },
   "outputs": [
    {
     "name": "stdout",
     "output_type": "stream",
     "text": [
      "\n",
      " Mean Squared Error 79446.710291\n"
     ]
    }
   ],
   "source": [
    "# MSE: Mean Squared Error\n",
    "mse=((y-pipeline.predict(X))**2).mean()\n",
    "print(\"\\n Mean Squared Error\",mse)"
   ]
  },
  {
   "cell_type": "code",
   "execution_count": 33,
   "metadata": {
    "collapsed": false
   },
   "outputs": [
    {
     "name": "stdout",
     "output_type": "stream",
     "text": [
      "Mean Absolute Error  202.970274763\n"
     ]
    }
   ],
   "source": [
    "# MAE:  Mean Absolute Error \n",
    "mae = abs(y-pipeline.predict(X)).mean()\n",
    "print(\"Mean Absolute Error \",mae)"
   ]
  },
  {
   "cell_type": "code",
   "execution_count": 40,
   "metadata": {
    "collapsed": false
   },
   "outputs": [
    {
     "data": {
      "text/plain": [
       "{'linear_regression': LinearRegression(copy_X=True, fit_intercept=True, n_jobs=1, normalize=False),\n",
       " 'linear_regression__copy_X': True,\n",
       " 'linear_regression__fit_intercept': True,\n",
       " 'linear_regression__n_jobs': 1,\n",
       " 'linear_regression__normalize': False,\n",
       " 'polynomial_features': PolynomialFeatures(degree=4, include_bias=False, interaction_only=False),\n",
       " 'polynomial_features__degree': 4,\n",
       " 'polynomial_features__include_bias': False,\n",
       " 'polynomial_features__interaction_only': False,\n",
       " 'steps': [('polynomial_features',\n",
       "   PolynomialFeatures(degree=4, include_bias=False, interaction_only=False)),\n",
       "  ('linear_regression',\n",
       "   LinearRegression(copy_X=True, fit_intercept=True, n_jobs=1, normalize=False))]}"
      ]
     },
     "execution_count": 40,
     "metadata": {},
     "output_type": "execute_result"
    }
   ],
   "source": [
    "pipeline.get_params()"
   ]
  },
  {
   "cell_type": "code",
   "execution_count": 41,
   "metadata": {
    "collapsed": true
   },
   "outputs": [],
   "source": [
    "lm_sk_predictions = pipeline.predict(X)"
   ]
  },
  {
   "cell_type": "markdown",
   "metadata": {
    "collapsed": false
   },
   "source": [
    "df.plot(kind='scatter', x='Distance_Terminal', y='Trip_Time')\n",
    "plt.plot(X['Distance'], lm_sk_predictions, c='red')\n",
    "plt.legend(loc=\"best\")\n",
    "plt.savefig('SM_Linear_Reg.png')"
   ]
  },
  {
   "cell_type": "markdown",
   "metadata": {},
   "source": [
    "# Train data set with SVM "
   ]
  },
  {
   "cell_type": "code",
   "execution_count": 42,
   "metadata": {
    "collapsed": true
   },
   "outputs": [],
   "source": [
    "#Import SVM and assign to a model \n",
    "from sklearn import svm\n",
    "# http://scikit-learn.org/stable/modules/generated/sklearn.svm.SVR.html\n",
    "clf = svm.SVR()"
   ]
  },
  {
   "cell_type": "code",
   "execution_count": 67,
   "metadata": {
    "collapsed": false
   },
   "outputs": [],
   "source": [
    "# Prepare the descriptive features\n",
    "X = pd.concat([df[['Distance','midweek','HourOfDay']]], axis=1)\n",
    "y = df.Trip_Time \n",
    "\n",
    "#print(\"Descriptive features:\\n\", X)\n",
    "#print(\"\\nTarget feature:\\n\", y)"
   ]
  },
  {
   "cell_type": "code",
   "execution_count": 44,
   "metadata": {
    "collapsed": false
   },
   "outputs": [
    {
     "name": "stdout",
     "output_type": "stream",
     "text": [
      "CPU times: user 5.15 s, sys: 285 ms, total: 5.43 s\n",
      "Wall time: 5.65 s\n"
     ]
    },
    {
     "data": {
      "text/plain": [
       "SVR(C=1.0, cache_size=200, coef0=0.0, degree=3, epsilon=0.1, gamma='auto',\n",
       "  kernel='rbf', max_iter=-1, shrinking=True, tol=0.001, verbose=False)"
      ]
     },
     "execution_count": 44,
     "metadata": {},
     "output_type": "execute_result"
    }
   ],
   "source": [
    "# Train the model \n",
    "%time clf.fit(X, y)"
   ]
  },
  {
   "cell_type": "code",
   "execution_count": 45,
   "metadata": {
    "collapsed": false
   },
   "outputs": [
    {
     "data": {
      "text/plain": [
       "array([ 1480.73157147,  1481.61277427,  1479.69084568, ...,  1486.60407307,\n",
       "        1486.07528526,  1486.15986634])"
      ]
     },
     "execution_count": 45,
     "metadata": {},
     "output_type": "execute_result"
    }
   ],
   "source": [
    "# Get the predicetion \n",
    "y_rbf = clf.predict(X)\n",
    "y_rbf"
   ]
  },
  {
   "cell_type": "code",
   "execution_count": 46,
   "metadata": {
    "collapsed": false
   },
   "outputs": [
    {
     "data": {
      "text/plain": [
       "-0.013027281911475841"
      ]
     },
     "execution_count": 46,
     "metadata": {},
     "output_type": "execute_result"
    }
   ],
   "source": [
    "# Score \n",
    "clf.score(X,y)"
   ]
  },
  {
   "cell_type": "code",
   "execution_count": 47,
   "metadata": {
    "collapsed": false
   },
   "outputs": [
    {
     "data": {
      "image/png": "[encoded data removed]",
      "text/plain": [
       "<matplotlib.figure.Figure at 0x115ef5978>"
      ]
     },
     "metadata": {},
     "output_type": "display_data"
    }
   ],
   "source": [
    "# Get the predicetion \n",
    "y_rbf = clf.predict(X)\n",
    "y_rbf\n",
    "plt.scatter(X['Distance'], y, color='darkorange', label='data')\n",
    "plt.plot(X['Distance'], y_rbf, color='navy', label='RBF model')\n",
    "plt.savefig('SVM_result.png')"
   ]
  },
  {
   "cell_type": "code",
   "execution_count": 48,
   "metadata": {
    "collapsed": false
   },
   "outputs": [
    {
     "data": {
      "text/plain": [
       "<matplotlib.collections.PathCollection at 0x115eef048>"
      ]
     },
     "execution_count": 48,
     "metadata": {},
     "output_type": "execute_result"
    },
    {
     "data": {
      "image/png": "[encoded data removed]",
      "text/plain": [
       "<matplotlib.figure.Figure at 0x115efaef0>"
      ]
     },
     "metadata": {},
     "output_type": "display_data"
    }
   ],
   "source": [
    "plt.scatter(X['Distance'], y, color='darkorange', label='data')"
   ]
  },
  {
   "cell_type": "code",
   "execution_count": 49,
   "metadata": {
    "collapsed": false
   },
   "outputs": [
    {
     "data": {
      "image/png": "[encoded data removed]",
      "text/plain": [
       "<matplotlib.figure.Figure at 0x115f084e0>"
      ]
     },
     "metadata": {},
     "output_type": "display_data"
    }
   ],
   "source": [
    "plt.plot(X['Distance'], y_rbf, color='navy', label='RBF model')\n",
    "plt.show()"
   ]
  },
  {
   "cell_type": "markdown",
   "metadata": {
    "collapsed": true
   },
   "source": [
    "# Train Data with Neural network model "
   ]
  },
  {
   "cell_type": "code",
   "execution_count": 34,
   "metadata": {
    "collapsed": true
   },
   "outputs": [],
   "source": [
    "# http://scikit-learn.org/stable/modules/generated/sklearn.neural_network.MLPRegressor.html#sklearn.neural_network.MLPRegressor\n",
    "# Import MLPRegressor from sklearn.neural_network \n",
    "from sklearn.neural_network import MLPRegressor \n",
    "mlpreg=MLPRegressor()"
   ]
  },
  {
   "cell_type": "code",
   "execution_count": 35,
   "metadata": {
    "collapsed": false
   },
   "outputs": [
    {
     "name": "stdout",
     "output_type": "stream",
     "text": [
      "Descriptive features:\n",
      "        Distance  midweek  HourOfDay\n",
      "0             0        0         10\n",
      "1            26        0         10\n",
      "2           418        0         10\n",
      "3           500        0         10\n",
      "4           843        0         10\n",
      "5           917        0         10\n",
      "6          1056        0         10\n",
      "7          1077        0         10\n",
      "8          1315        0         10\n",
      "9          1317        0         10\n",
      "10         1729        0         10\n",
      "11         1948        0         10\n",
      "12         2132        0         10\n",
      "13         2318        0         10\n",
      "14         2371        0         10\n",
      "15         2795        0         10\n",
      "16         2979        0         10\n",
      "17         3128        0         10\n",
      "18         3236        0         10\n",
      "19         3375        0         10\n",
      "20         3410        0         10\n",
      "21         3749        0         10\n",
      "22         3791        0         10\n",
      "23         4072        0         10\n",
      "24         4091        0         10\n",
      "25         4448        0         10\n",
      "26         4455        0         10\n",
      "27         4651        0         10\n",
      "28         4684        0         10\n",
      "29         4947        0         10\n",
      "...         ...      ...        ...\n",
      "14101      6257        1         18\n",
      "14102      6794        1         18\n",
      "14103      6853        1         18\n",
      "14104      7209        1         18\n",
      "14105      7226        1         18\n",
      "14106      7705        1         18\n",
      "14107      8056        1         18\n",
      "14108      8243        1         18\n",
      "14109      8427        1         18\n",
      "14110      8433        1         18\n",
      "14111      8646        1         18\n",
      "14112      8875        1         18\n",
      "14113      8940        1         18\n",
      "14114      9299        1         18\n",
      "14115      9372        1         18\n",
      "14116      9699        1         18\n",
      "14117      9746        1         18\n",
      "14118      9891        1         18\n",
      "14119     10200        1         18\n",
      "14120     10490        1         18\n",
      "14121     10538        1         18\n",
      "14122     10541        1         18\n",
      "14123     10778        1         18\n",
      "14124     11111        1         18\n",
      "14125     11294        1         18\n",
      "14126     11376        1         18\n",
      "14127     11527        1         18\n",
      "14128     11673        1         18\n",
      "14129     11918        1         18\n",
      "14130     12281        1         18\n",
      "\n",
      "[14131 rows x 3 columns]\n",
      "\n",
      "Target feature:\n",
      " 0           0\n",
      "1         330\n",
      "2         392\n",
      "3         410\n",
      "4         451\n",
      "5         471\n",
      "6         490\n",
      "7         510\n",
      "8         570\n",
      "9         611\n",
      "10        731\n",
      "11        750\n",
      "12        770\n",
      "13        811\n",
      "14        830\n",
      "15        871\n",
      "16        891\n",
      "17        910\n",
      "18        930\n",
      "19        971\n",
      "20        989\n",
      "21       1071\n",
      "22       1090\n",
      "23       1170\n",
      "24       1190\n",
      "25       1231\n",
      "26       1250\n",
      "27       1338\n",
      "28       1360\n",
      "29       1458\n",
      "         ... \n",
      "14101    1348\n",
      "14102    1511\n",
      "14103    1607\n",
      "14104    1707\n",
      "14105    1807\n",
      "14106    1988\n",
      "14107    2108\n",
      "14108    2188\n",
      "14109    2227\n",
      "14110    2248\n",
      "14111    2310\n",
      "14112    2347\n",
      "14113    2389\n",
      "14114    2469\n",
      "14115    2508\n",
      "14116    2608\n",
      "14117    2628\n",
      "14118    2747\n",
      "14119    2790\n",
      "14120    2829\n",
      "14121    2848\n",
      "14122    2869\n",
      "14123    2908\n",
      "14124    3006\n",
      "14125    3027\n",
      "14126    3050\n",
      "14127    3068\n",
      "14128    3089\n",
      "14129    3110\n",
      "14130    3202\n",
      "Name: Trip_Time, dtype: int64\n"
     ]
    }
   ],
   "source": [
    "# Prepare the descriptive features\n",
    "X = pd.concat([df[['Distance','midweek','HourOfDay']]], axis=1)\n",
    "y = df.Trip_Time \n",
    "\n",
    "#print(\"Descriptive features:\\n\", X)\n",
    "#print(\"\\nTarget feature:\\n\", y)"
   ]
  },
  {
   "cell_type": "code",
   "execution_count": 36,
   "metadata": {
    "collapsed": false
   },
   "outputs": [
    {
     "data": {
      "text/plain": [
       "MLPRegressor(activation='relu', alpha=0.0001, batch_size='auto', beta_1=0.9,\n",
       "       beta_2=0.999, early_stopping=False, epsilon=1e-08,\n",
       "       hidden_layer_sizes=(100,), learning_rate='constant',\n",
       "       learning_rate_init=0.001, max_iter=200, momentum=0.9,\n",
       "       nesterovs_momentum=True, power_t=0.5, random_state=None,\n",
       "       shuffle=True, solver='adam', tol=0.0001, validation_fraction=0.1,\n",
       "       verbose=False, warm_start=False)"
      ]
     },
     "execution_count": 36,
     "metadata": {},
     "output_type": "execute_result"
    }
   ],
   "source": [
    "# Train the data with MLP Regressor \n",
    "mlpreg.fit(X,y)"
   ]
  },
  {
   "cell_type": "code",
   "execution_count": 37,
   "metadata": {
    "collapsed": false
   },
   "outputs": [
    {
     "data": {
      "text/plain": [
       "0.89559627162079969"
      ]
     },
     "execution_count": 37,
     "metadata": {},
     "output_type": "execute_result"
    }
   ],
   "source": [
    "mlpreg.score(X,y)"
   ]
  },
  {
   "cell_type": "code",
   "execution_count": 38,
   "metadata": {
    "collapsed": false
   },
   "outputs": [
    {
     "data": {
      "text/plain": [
       "[<matplotlib.lines.Line2D at 0x131992c88>]"
      ]
     },
     "execution_count": 38,
     "metadata": {},
     "output_type": "execute_result"
    },
    {
     "data": {
      "image/png": "[encoded data removed]",
      "text/plain": [
       "<matplotlib.figure.Figure at 0x131992748>"
      ]
     },
     "metadata": {},
     "output_type": "display_data"
    }
   ],
   "source": [
    "# Get the predicetion \n",
    "y_mlpreg = mlpreg.predict(X)\n",
    "plt.scatter(X['Distance'], y, color='darkorange', label='data')\n",
    "plt.plot(X['Distance'], y_mlpreg, color='navy', label='ANN model')\n",
    "#plt.savefig('ANN_result.png')"
   ]
  },
  {
   "cell_type": "code",
   "execution_count": 39,
   "metadata": {
    "collapsed": false
   },
   "outputs": [
    {
     "name": "stdout",
     "output_type": "stream",
     "text": [
      "\n",
      " Mean Squared Error 94079.0637206\n"
     ]
    }
   ],
   "source": [
    "# MSE: Mean Squared Error   \n",
    "# Mean Squared Error of linear: 131771.970239 \n",
    "mse=((y-mlpreg.predict(X))**2).mean()\n",
    "print(\"\\n Mean Squared Error\",mse)"
   ]
  },
  {
   "cell_type": "code",
   "execution_count": 40,
   "metadata": {
    "collapsed": false
   },
   "outputs": [
    {
     "name": "stdout",
     "output_type": "stream",
     "text": [
      "Mean Absolute Error  218.472852875\n"
     ]
    }
   ],
   "source": [
    "# MAE:  Mean Absolute Error \n",
    "\n",
    "# Mean Absolute Error  of linear:  253.761443277\n",
    "mae = abs(y-mlpreg.predict(X)).mean()\n",
    "print(\"Mean Absolute Error \",mae)"
   ]
  },
  {
   "cell_type": "code",
   "execution_count": 41,
   "metadata": {
    "collapsed": false
   },
   "outputs": [
    {
     "data": {
      "text/plain": [
       "0.89559627162079969"
      ]
     },
     "execution_count": 41,
     "metadata": {},
     "output_type": "execute_result"
    }
   ],
   "source": [
    "mlpreg.score(X,y)"
   ]
  },
  {
   "cell_type": "markdown",
   "metadata": {
    "collapsed": true
   },
   "source": [
    "# Train data set with Random Forest "
   ]
  },
  {
   "cell_type": "code",
   "execution_count": 42,
   "metadata": {
    "collapsed": true
   },
   "outputs": [],
   "source": [
    "from sklearn.datasets import load_boston\n",
    "from sklearn.ensemble import RandomForestRegressor\n",
    "from sklearn.preprocessing import Imputer\n",
    "from sklearn.multioutput import MultiOutputRegressor"
   ]
  },
  {
   "cell_type": "code",
   "execution_count": 43,
   "metadata": {
    "collapsed": false
   },
   "outputs": [],
   "source": [
    "# http://scikit-learn.org/stable/modules/generated/sklearn.ensemble.RandomForestRegressor.html\n",
    "#sklearn.ensemble.RandomForestRegressor\n",
    "max_depth = 30\n",
    "regr_multirf = RandomForestRegressor(max_depth=max_depth,random_state=2)"
   ]
  },
  {
   "cell_type": "code",
   "execution_count": 69,
   "metadata": {
    "collapsed": false
   },
   "outputs": [],
   "source": [
    "# Prepare the descriptive features\n",
    "X = pd.concat([df[['Distance','midweek','HourOfDay']]], axis=1)\n",
    "y = df.Trip_Time \n",
    "\n",
    "#print(\"Descriptive features:\\n\", X)\n",
    "#print(\"\\nTarget feature:\\n\", y)"
   ]
  },
  {
   "cell_type": "code",
   "execution_count": 45,
   "metadata": {
    "collapsed": false
   },
   "outputs": [
    {
     "data": {
      "text/plain": [
       "RandomForestRegressor(bootstrap=True, criterion='mse', max_depth=30,\n",
       "           max_features='auto', max_leaf_nodes=None,\n",
       "           min_impurity_split=1e-07, min_samples_leaf=1,\n",
       "           min_samples_split=2, min_weight_fraction_leaf=0.0,\n",
       "           n_estimators=10, n_jobs=1, oob_score=False, random_state=2,\n",
       "           verbose=0, warm_start=False)"
      ]
     },
     "execution_count": 45,
     "metadata": {},
     "output_type": "execute_result"
    }
   ],
   "source": [
    "regr_multirf.fit(X, y)"
   ]
  },
  {
   "cell_type": "code",
   "execution_count": 46,
   "metadata": {
    "collapsed": false
   },
   "outputs": [
    {
     "data": {
      "text/plain": [
       "0.98286931764097951"
      ]
     },
     "execution_count": 46,
     "metadata": {},
     "output_type": "execute_result"
    }
   ],
   "source": [
    "regr_multirf.score(X,y)\n",
    "#0.94701267864972594"
   ]
  },
  {
   "cell_type": "code",
   "execution_count": 47,
   "metadata": {
    "collapsed": false
   },
   "outputs": [
    {
     "data": {
      "image/png": "[encoded data removed]",
      "text/plain": [
       "<matplotlib.figure.Figure at 0x13e7242b0>"
      ]
     },
     "metadata": {},
     "output_type": "display_data"
    }
   ],
   "source": [
    "# Get the predicetion \n",
    "y_regr_multirf = regr_multirf.predict(X)\n",
    "plt.scatter(X['Distance'], y, color='darkorange', label='data')\n",
    "plt.plot(X['Distance'], y_regr_multirf, color='navy', label='MRF model')\n",
    "plt.savefig('MRF_result.png')"
   ]
  },
  {
   "cell_type": "code",
   "execution_count": 48,
   "metadata": {
    "collapsed": false
   },
   "outputs": [
    {
     "name": "stdout",
     "output_type": "stream",
     "text": [
      "Mean Absolute Error of MRF  82.2362315081\n"
     ]
    }
   ],
   "source": [
    "# MAE:  Mean Absolute Error \n",
    "\n",
    "# Mean Absolute Error  of linear:  253.761443277\n",
    "mae = abs(y-regr_multirf.predict(X)).mean()\n",
    "print(\"Mean Absolute Error of MRF \",mae)"
   ]
  },
  {
   "cell_type": "code",
   "execution_count": 18,
   "metadata": {
    "collapsed": true
   },
   "outputs": [],
   "source": [
    "df.to_csv('a_trip_distance.csv')"
   ]
  },
  {
   "cell_type": "markdown",
   "metadata": {
    "collapsed": true
   },
   "source": [
    "# Train all data set with Random Forest "
   ]
  },
  {
   "cell_type": "code",
   "execution_count": 49,
   "metadata": {
    "collapsed": true
   },
   "outputs": [],
   "source": [
    "# http://scikit-learn.org/stable/modules/generated/sklearn.ensemble.RandomForestRegressor.html\n",
    "#sklearn.ensemble.RandomForestRegressor\n",
    "max_depth = 30\n",
    "regr_rf = RandomForestRegressor(max_depth=max_depth,random_state=2)"
   ]
  },
  {
   "cell_type": "code",
   "execution_count": 68,
   "metadata": {
    "collapsed": false
   },
   "outputs": [],
   "source": [
    "# http://scikit-learn.org/stable/modules/generated/sklearn.ensemble.RandomForestRegressor.html\n",
    "#sklearn.ensemble.RandomForestRegressor\n",
    "max_depth = 30\n",
    "regr_rf = RandomForestRegressor(max_depth=max_depth,random_state=2)\n",
    "# Prepare the descriptive features\n",
    "X = pd.concat([df_all[['Distance','midweek','HourOfDay']]], axis=1)\n",
    "y = df_all.Trip_Time \n",
    "\n",
    "#print(\"Descriptive features:\\n\", X)\n",
    "#print(\"\\nTarget feature:\\n\", y)"
   ]
  },
  {
   "cell_type": "code",
   "execution_count": 51,
   "metadata": {
    "collapsed": false
   },
   "outputs": [
    {
     "data": {
      "text/plain": [
       "RandomForestRegressor(bootstrap=True, criterion='mse', max_depth=30,\n",
       "           max_features='auto', max_leaf_nodes=None,\n",
       "           min_impurity_split=1e-07, min_samples_leaf=1,\n",
       "           min_samples_split=2, min_weight_fraction_leaf=0.0,\n",
       "           n_estimators=10, n_jobs=1, oob_score=False, random_state=2,\n",
       "           verbose=0, warm_start=False)"
      ]
     },
     "execution_count": 51,
     "metadata": {},
     "output_type": "execute_result"
    }
   ],
   "source": [
    "regr_rf.fit(X,y)"
   ]
  },
  {
   "cell_type": "code",
   "execution_count": 52,
   "metadata": {
    "collapsed": false
   },
   "outputs": [
    {
     "data": {
      "text/plain": [
       "0.87160365813087737"
      ]
     },
     "execution_count": 52,
     "metadata": {},
     "output_type": "execute_result"
    }
   ],
   "source": [
    "regr_rf.score(X,y)"
   ]
  },
  {
   "cell_type": "code",
   "execution_count": 53,
   "metadata": {
    "collapsed": true
   },
   "outputs": [],
   "source": [
    "y_regr_rf=regr_rf.predict(X)"
   ]
  },
  {
   "cell_type": "code",
   "execution_count": 54,
   "metadata": {
    "collapsed": false
   },
   "outputs": [
    {
     "data": {
      "image/png": "[encoded data removed]",
      "text/plain": [
       "<matplotlib.figure.Figure at 0x1415fabe0>"
      ]
     },
     "metadata": {},
     "output_type": "display_data"
    }
   ],
   "source": [
    "#plt.scatter(X['Distance'],y,color='blue', lable='Data')\n",
    "#plt.plot(X['Distance'],y_regr_rf, color='red', lable='Random Forest')\n",
    "\n",
    "plt.scatter(X['Distance'], y, color='darkorange', label='data')\n",
    "plt.savefig('RF_result.png')\n"
   ]
  },
  {
   "cell_type": "code",
   "execution_count": 55,
   "metadata": {
    "collapsed": false
   },
   "outputs": [
    {
     "data": {
      "text/plain": [
       "<matplotlib.collections.PathCollection at 0x142d47160>"
      ]
     },
     "execution_count": 55,
     "metadata": {},
     "output_type": "execute_result"
    },
    {
     "data": {
      "image/png": "[encoded data removed]",
      "text/plain": [
       "<matplotlib.figure.Figure at 0x1416b61d0>"
      ]
     },
     "metadata": {},
     "output_type": "display_data"
    }
   ],
   "source": [
    "plt.scatter(X['Distance'], y_regr_rf, color='navy', label='MRF model')\n",
    "#plt.get_backend()"
   ]
  },
  {
   "cell_type": "code",
   "execution_count": 56,
   "metadata": {
    "collapsed": false
   },
   "outputs": [
    {
     "name": "stdout",
     "output_type": "stream",
     "text": [
      "Mean Absolute Error of RF  353.194979583\n"
     ]
    }
   ],
   "source": [
    "# MAE:  Mean Absolute Error \n",
    "\n",
    "# Mean Absolute Error  of linear:  253.761443277\n",
    "mae = abs(y-regr_rf.predict(X)).mean()\n",
    "print(\"Mean Absolute Error of RF \",mae)"
   ]
  },
  {
   "cell_type": "markdown",
   "metadata": {},
   "source": [
    "# Train all data with Journey Pattern ID"
   ]
  },
  {
   "cell_type": "code",
   "execution_count": 57,
   "metadata": {
    "collapsed": true
   },
   "outputs": [],
   "source": [
    "# http://scikit-learn.org/stable/modules/generated/sklearn.ensemble.RandomForestRegressor.html\n",
    "#sklearn.ensemble.RandomForestRegressor\n",
    "max_depth = 30\n",
    "regr_rf = RandomForestRegressor(max_depth=max_depth,random_state=2)\n",
    "# Prepare the descriptive features\n",
    "X = pd.concat([df_all[['Journey_Pattern_ID','Distance','midweek','HourOfDay']]], axis=1)\n",
    "y = df_all.Trip_Time \n",
    "\n",
    "#print(\"Descriptive features:\\n\", X)\n",
    "#print(\"\\nTarget feature:\\n\", y)"
   ]
  },
  {
   "cell_type": "code",
   "execution_count": 58,
   "metadata": {
    "collapsed": false
   },
   "outputs": [
    {
     "data": {
      "text/plain": [
       "Journey_Pattern_ID    object\n",
       "Distance               int64\n",
       "midweek                int64\n",
       "HourOfDay              int64\n",
       "dtype: object"
      ]
     },
     "execution_count": 58,
     "metadata": {},
     "output_type": "execute_result"
    }
   ],
   "source": [
    "X.dtypes"
   ]
  },
  {
   "cell_type": "code",
   "execution_count": 70,
   "metadata": {
    "collapsed": false
   },
   "outputs": [],
   "source": [
    "from sklearn.preprocessing import LabelEncoder\n",
    "le=LabelEncoder()\n",
    "\n",
    "for col in X.columns.values:\n",
    "    if X[col].dtypes=='object':\n",
    "        # Using whole data to form an exhaustive list of levels\n",
    "        data=X[col]\n",
    "        le.fit(data.values)\n",
    "        X[col]=le.transform(X[col])"
   ]
  },
  {
   "cell_type": "code",
   "execution_count": 60,
   "metadata": {
    "collapsed": false
   },
   "outputs": [
    {
     "name": "stdout",
     "output_type": "stream",
     "text": [
      "CPU times: user 1min 45s, sys: 2.55 s, total: 1min 47s\n",
      "Wall time: 1min 54s\n"
     ]
    },
    {
     "data": {
      "text/plain": [
       "RandomForestRegressor(bootstrap=True, criterion='mse', max_depth=30,\n",
       "           max_features='auto', max_leaf_nodes=None,\n",
       "           min_impurity_split=1e-07, min_samples_leaf=1,\n",
       "           min_samples_split=2, min_weight_fraction_leaf=0.0,\n",
       "           n_estimators=10, n_jobs=1, oob_score=False, random_state=2,\n",
       "           verbose=0, warm_start=False)"
      ]
     },
     "execution_count": 60,
     "metadata": {},
     "output_type": "execute_result"
    }
   ],
   "source": [
    "%time regr_rf.fit(X,y)"
   ]
  },
  {
   "cell_type": "code",
   "execution_count": 62,
   "metadata": {
    "collapsed": false
   },
   "outputs": [
    {
     "data": {
      "text/plain": [
       "0.98254118424886283"
      ]
     },
     "execution_count": 62,
     "metadata": {},
     "output_type": "execute_result"
    }
   ],
   "source": [
    "regr_rf.score(X,y)"
   ]
  },
  {
   "cell_type": "code",
   "execution_count": 63,
   "metadata": {
    "collapsed": false
   },
   "outputs": [
    {
     "name": "stdout",
     "output_type": "stream",
     "text": [
      "Mean Absolute Error of RF  112.931756316\n"
     ]
    }
   ],
   "source": [
    "# MAE:  Mean Absolute Error \n",
    "\n",
    "# Mean Absolute Error  of linear:  253.761443277\n",
    "mae = abs(y-regr_rf.predict(X)).mean()\n",
    "print(\"Mean Absolute Error of RF \",mae)"
   ]
  },
  {
   "cell_type": "code",
   "execution_count": null,
   "metadata": {
    "collapsed": true
   },
   "outputs": [],
   "source": []
  }
 ],
 "metadata": {
  "kernelspec": {
   "display_name": "Python 3",
   "language": "python",
   "name": "python3"
  },
  "language_info": {
   "codemirror_mode": {
    "name": "ipython",
    "version": 3
   },
   "file_extension": ".py",
   "mimetype": "text/x-python",
   "name": "python",
   "nbconvert_exporter": "python",
   "pygments_lexer": "ipython3",
   "version": "3.6.0"
  }
 },
 "nbformat": 4,
 "nbformat_minor": 2
}
