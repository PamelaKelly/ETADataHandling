{
 "cells": [
  {
   "cell_type": "markdown",
   "metadata": {},
   "source": [
    "# Project Dublin Bus：Predict Travel Time for Dublin Bus  --Team ETA \n",
    "\n",
    "\n",
    "##  Modeling for one week's data \n",
    "\n",
    "\n",
    "In the notebook, the task is to train different models with one week's data which has been cleaned by our data cleaning process \n",
    "\n",
    "The main models we are using in the notebook are from Sklearn package: \n",
    "\n",
    "-Linear Regression \n",
    "\n",
    "-Random Forest: RF Regressor\n",
    "\n",
    "-SVM: Epsilon-Support Vector Regression\n",
    "\n",
    "-Neural network model: MLPRegressor\n",
    "\n"
   ]
  },
  {
   "cell_type": "markdown",
   "metadata": {},
   "source": [
    "## Read data file to data frame  and check the first and last 5 rows "
   ]
  },
  {
   "cell_type": "code",
   "execution_count": 1,
   "metadata": {
    "collapsed": true
   },
   "outputs": [],
   "source": [
    "#  import those package for modeling \n",
    "import pandas as pd\n",
    "import numpy as np\n",
    "import matplotlib\n",
    "import matplotlib.pyplot as plt\n",
    "import matplotlib.patches as mpatches\n",
    "from matplotlib.backends.backend_pdf import PdfPages\n",
    "import seaborn as sns\n",
    "matplotlib.style.use('ggplot')\n",
    "%matplotlib inline"
   ]
  },
  {
   "cell_type": "code",
   "execution_count": 2,
   "metadata": {
    "collapsed": false
   },
   "outputs": [
    {
     "name": "stdout",
     "output_type": "stream",
     "text": [
      "CPU times: user 8.62 s, sys: 1.17 s, total: 9.79 s\n",
      "Wall time: 9.99 s\n"
     ]
    }
   ],
   "source": [
    "# Read data file to data frame \n",
    "%time df_all = pd.read_csv('dublin_2012_week1_distance.csv',dtype={ 'Journey_Pattern_ID': object})"
   ]
  },
  {
   "cell_type": "code",
   "execution_count": 3,
   "metadata": {
    "collapsed": false
   },
   "outputs": [
    {
     "data": {
      "text/html": [
       "<div>\n",
       "<table border=\"1\" class=\"dataframe\">\n",
       "  <thead>\n",
       "    <tr style=\"text-align: right;\">\n",
       "      <th></th>\n",
       "      <th>Timestamp</th>\n",
       "      <th>Journey_Pattern_ID</th>\n",
       "      <th>Date</th>\n",
       "      <th>Vehicle_Journey_ID</th>\n",
       "      <th>Lon_WGS84</th>\n",
       "      <th>Lat_WGS84</th>\n",
       "      <th>Stop_ID</th>\n",
       "      <th>At_Stop</th>\n",
       "      <th>First_Stop</th>\n",
       "      <th>Last_Stop</th>\n",
       "      <th>...</th>\n",
       "      <th>Trip_Time</th>\n",
       "      <th>datetime</th>\n",
       "      <th>HourOfDay</th>\n",
       "      <th>day_of_week</th>\n",
       "      <th>midweek</th>\n",
       "      <th>time_bin</th>\n",
       "      <th>cloud</th>\n",
       "      <th>rain</th>\n",
       "      <th>temp</th>\n",
       "      <th>wind</th>\n",
       "    </tr>\n",
       "  </thead>\n",
       "  <tbody>\n",
       "    <tr>\n",
       "      <th>0</th>\n",
       "      <td>1352204113</td>\n",
       "      <td>00010001</td>\n",
       "      <td>2012-11-06</td>\n",
       "      <td>5427</td>\n",
       "      <td>-6.262000</td>\n",
       "      <td>53.391182</td>\n",
       "      <td>226</td>\n",
       "      <td>1</td>\n",
       "      <td>226</td>\n",
       "      <td>380</td>\n",
       "      <td>...</td>\n",
       "      <td>0</td>\n",
       "      <td>2012-11-06 12:15:13</td>\n",
       "      <td>12</td>\n",
       "      <td>Tuesday</td>\n",
       "      <td>0</td>\n",
       "      <td>am</td>\n",
       "      <td>6.88</td>\n",
       "      <td>0.0</td>\n",
       "      <td>7.55</td>\n",
       "      <td>16.25</td>\n",
       "    </tr>\n",
       "    <tr>\n",
       "      <th>1</th>\n",
       "      <td>1352204473</td>\n",
       "      <td>00010001</td>\n",
       "      <td>2012-11-06</td>\n",
       "      <td>5427</td>\n",
       "      <td>-6.262341</td>\n",
       "      <td>53.391186</td>\n",
       "      <td>226</td>\n",
       "      <td>0</td>\n",
       "      <td>226</td>\n",
       "      <td>380</td>\n",
       "      <td>...</td>\n",
       "      <td>360</td>\n",
       "      <td>2012-11-06 12:21:13</td>\n",
       "      <td>12</td>\n",
       "      <td>Tuesday</td>\n",
       "      <td>0</td>\n",
       "      <td>am</td>\n",
       "      <td>6.88</td>\n",
       "      <td>0.0</td>\n",
       "      <td>7.55</td>\n",
       "      <td>16.25</td>\n",
       "    </tr>\n",
       "    <tr>\n",
       "      <th>2</th>\n",
       "      <td>1352204510</td>\n",
       "      <td>00010001</td>\n",
       "      <td>2012-11-06</td>\n",
       "      <td>5427</td>\n",
       "      <td>-6.259799</td>\n",
       "      <td>53.391804</td>\n",
       "      <td>228</td>\n",
       "      <td>1</td>\n",
       "      <td>226</td>\n",
       "      <td>380</td>\n",
       "      <td>...</td>\n",
       "      <td>397</td>\n",
       "      <td>2012-11-06 12:21:50</td>\n",
       "      <td>12</td>\n",
       "      <td>Tuesday</td>\n",
       "      <td>0</td>\n",
       "      <td>am</td>\n",
       "      <td>6.88</td>\n",
       "      <td>0.0</td>\n",
       "      <td>7.55</td>\n",
       "      <td>16.25</td>\n",
       "    </tr>\n",
       "    <tr>\n",
       "      <th>3</th>\n",
       "      <td>1352204531</td>\n",
       "      <td>00010001</td>\n",
       "      <td>2012-11-06</td>\n",
       "      <td>5427</td>\n",
       "      <td>-6.259056</td>\n",
       "      <td>53.391758</td>\n",
       "      <td>228</td>\n",
       "      <td>0</td>\n",
       "      <td>226</td>\n",
       "      <td>380</td>\n",
       "      <td>...</td>\n",
       "      <td>418</td>\n",
       "      <td>2012-11-06 12:22:11</td>\n",
       "      <td>12</td>\n",
       "      <td>Tuesday</td>\n",
       "      <td>0</td>\n",
       "      <td>am</td>\n",
       "      <td>6.88</td>\n",
       "      <td>0.0</td>\n",
       "      <td>7.55</td>\n",
       "      <td>16.25</td>\n",
       "    </tr>\n",
       "    <tr>\n",
       "      <th>4</th>\n",
       "      <td>1352204553</td>\n",
       "      <td>00010001</td>\n",
       "      <td>2012-11-06</td>\n",
       "      <td>5427</td>\n",
       "      <td>-6.256530</td>\n",
       "      <td>53.391335</td>\n",
       "      <td>229</td>\n",
       "      <td>1</td>\n",
       "      <td>226</td>\n",
       "      <td>380</td>\n",
       "      <td>...</td>\n",
       "      <td>440</td>\n",
       "      <td>2012-11-06 12:22:33</td>\n",
       "      <td>12</td>\n",
       "      <td>Tuesday</td>\n",
       "      <td>0</td>\n",
       "      <td>am</td>\n",
       "      <td>6.88</td>\n",
       "      <td>0.0</td>\n",
       "      <td>7.55</td>\n",
       "      <td>16.25</td>\n",
       "    </tr>\n",
       "  </tbody>\n",
       "</table>\n",
       "<p>5 rows × 21 columns</p>\n",
       "</div>"
      ],
      "text/plain": [
       "    Timestamp Journey_Pattern_ID        Date  Vehicle_Journey_ID  Lon_WGS84  \\\n",
       "0  1352204113           00010001  2012-11-06                5427  -6.262000   \n",
       "1  1352204473           00010001  2012-11-06                5427  -6.262341   \n",
       "2  1352204510           00010001  2012-11-06                5427  -6.259799   \n",
       "3  1352204531           00010001  2012-11-06                5427  -6.259056   \n",
       "4  1352204553           00010001  2012-11-06                5427  -6.256530   \n",
       "\n",
       "   Lat_WGS84  Stop_ID  At_Stop  First_Stop  Last_Stop  ...    Trip_Time  \\\n",
       "0  53.391182      226        1         226        380  ...            0   \n",
       "1  53.391186      226        0         226        380  ...          360   \n",
       "2  53.391804      228        1         226        380  ...          397   \n",
       "3  53.391758      228        0         226        380  ...          418   \n",
       "4  53.391335      229        1         226        380  ...          440   \n",
       "\n",
       "              datetime HourOfDay  day_of_week midweek  time_bin cloud  rain  \\\n",
       "0  2012-11-06 12:15:13        12      Tuesday       0        am  6.88   0.0   \n",
       "1  2012-11-06 12:21:13        12      Tuesday       0        am  6.88   0.0   \n",
       "2  2012-11-06 12:21:50        12      Tuesday       0        am  6.88   0.0   \n",
       "3  2012-11-06 12:22:11        12      Tuesday       0        am  6.88   0.0   \n",
       "4  2012-11-06 12:22:33        12      Tuesday       0        am  6.88   0.0   \n",
       "\n",
       "   temp   wind  \n",
       "0  7.55  16.25  \n",
       "1  7.55  16.25  \n",
       "2  7.55  16.25  \n",
       "3  7.55  16.25  \n",
       "4  7.55  16.25  \n",
       "\n",
       "[5 rows x 21 columns]"
      ]
     },
     "execution_count": 3,
     "metadata": {},
     "output_type": "execute_result"
    }
   ],
   "source": [
    "# Check dataframe first 5 row data \n",
    "df_all.head()"
   ]
  },
  {
   "cell_type": "code",
   "execution_count": 4,
   "metadata": {
    "collapsed": false
   },
   "outputs": [
    {
     "data": {
      "text/html": [
       "<div>\n",
       "<table border=\"1\" class=\"dataframe\">\n",
       "  <thead>\n",
       "    <tr style=\"text-align: right;\">\n",
       "      <th></th>\n",
       "      <th>Timestamp</th>\n",
       "      <th>Journey_Pattern_ID</th>\n",
       "      <th>Date</th>\n",
       "      <th>Vehicle_Journey_ID</th>\n",
       "      <th>Lon_WGS84</th>\n",
       "      <th>Lat_WGS84</th>\n",
       "      <th>Stop_ID</th>\n",
       "      <th>At_Stop</th>\n",
       "      <th>First_Stop</th>\n",
       "      <th>Last_Stop</th>\n",
       "      <th>...</th>\n",
       "      <th>Trip_Time</th>\n",
       "      <th>datetime</th>\n",
       "      <th>HourOfDay</th>\n",
       "      <th>day_of_week</th>\n",
       "      <th>midweek</th>\n",
       "      <th>time_bin</th>\n",
       "      <th>cloud</th>\n",
       "      <th>rain</th>\n",
       "      <th>temp</th>\n",
       "      <th>wind</th>\n",
       "    </tr>\n",
       "  </thead>\n",
       "  <tbody>\n",
       "    <tr>\n",
       "      <th>2209399</th>\n",
       "      <td>1352536987</td>\n",
       "      <td>PP071001</td>\n",
       "      <td>2012-11-10</td>\n",
       "      <td>12869</td>\n",
       "      <td>-6.260572</td>\n",
       "      <td>53.350132</td>\n",
       "      <td>279</td>\n",
       "      <td>1</td>\n",
       "      <td>3222</td>\n",
       "      <td>4962</td>\n",
       "      <td>...</td>\n",
       "      <td>2640</td>\n",
       "      <td>2012-11-10 08:43:07</td>\n",
       "      <td>8</td>\n",
       "      <td>Saturday</td>\n",
       "      <td>1</td>\n",
       "      <td>am</td>\n",
       "      <td>3.75</td>\n",
       "      <td>0.0</td>\n",
       "      <td>4.96</td>\n",
       "      <td>10.25</td>\n",
       "    </tr>\n",
       "    <tr>\n",
       "      <th>2209400</th>\n",
       "      <td>1352537007</td>\n",
       "      <td>PP071001</td>\n",
       "      <td>2012-11-10</td>\n",
       "      <td>12869</td>\n",
       "      <td>-6.260678</td>\n",
       "      <td>53.350342</td>\n",
       "      <td>279</td>\n",
       "      <td>0</td>\n",
       "      <td>3222</td>\n",
       "      <td>4962</td>\n",
       "      <td>...</td>\n",
       "      <td>2660</td>\n",
       "      <td>2012-11-10 08:43:27</td>\n",
       "      <td>8</td>\n",
       "      <td>Saturday</td>\n",
       "      <td>1</td>\n",
       "      <td>am</td>\n",
       "      <td>3.75</td>\n",
       "      <td>0.0</td>\n",
       "      <td>4.96</td>\n",
       "      <td>10.25</td>\n",
       "    </tr>\n",
       "    <tr>\n",
       "      <th>2209401</th>\n",
       "      <td>1352537333</td>\n",
       "      <td>PP071001</td>\n",
       "      <td>2012-11-10</td>\n",
       "      <td>12869</td>\n",
       "      <td>-6.256516</td>\n",
       "      <td>53.356998</td>\n",
       "      <td>4962</td>\n",
       "      <td>1</td>\n",
       "      <td>3222</td>\n",
       "      <td>4962</td>\n",
       "      <td>...</td>\n",
       "      <td>2986</td>\n",
       "      <td>2012-11-10 08:48:53</td>\n",
       "      <td>8</td>\n",
       "      <td>Saturday</td>\n",
       "      <td>1</td>\n",
       "      <td>am</td>\n",
       "      <td>3.75</td>\n",
       "      <td>0.0</td>\n",
       "      <td>4.96</td>\n",
       "      <td>10.25</td>\n",
       "    </tr>\n",
       "  </tbody>\n",
       "</table>\n",
       "<p>3 rows × 21 columns</p>\n",
       "</div>"
      ],
      "text/plain": [
       "          Timestamp Journey_Pattern_ID        Date  Vehicle_Journey_ID  \\\n",
       "2209399  1352536987           PP071001  2012-11-10               12869   \n",
       "2209400  1352537007           PP071001  2012-11-10               12869   \n",
       "2209401  1352537333           PP071001  2012-11-10               12869   \n",
       "\n",
       "         Lon_WGS84  Lat_WGS84  Stop_ID  At_Stop  First_Stop  Last_Stop  ...    \\\n",
       "2209399  -6.260572  53.350132      279        1        3222       4962  ...     \n",
       "2209400  -6.260678  53.350342      279        0        3222       4962  ...     \n",
       "2209401  -6.256516  53.356998     4962        1        3222       4962  ...     \n",
       "\n",
       "         Trip_Time             datetime HourOfDay  day_of_week midweek  \\\n",
       "2209399       2640  2012-11-10 08:43:07         8     Saturday       1   \n",
       "2209400       2660  2012-11-10 08:43:27         8     Saturday       1   \n",
       "2209401       2986  2012-11-10 08:48:53         8     Saturday       1   \n",
       "\n",
       "         time_bin cloud  rain  temp   wind  \n",
       "2209399        am  3.75   0.0  4.96  10.25  \n",
       "2209400        am  3.75   0.0  4.96  10.25  \n",
       "2209401        am  3.75   0.0  4.96  10.25  \n",
       "\n",
       "[3 rows x 21 columns]"
      ]
     },
     "execution_count": 4,
     "metadata": {},
     "output_type": "execute_result"
    }
   ],
   "source": [
    "# Check last 5 rows \n",
    "df_all.tail(3)"
   ]
  },
  {
   "cell_type": "code",
   "execution_count": 5,
   "metadata": {
    "collapsed": false
   },
   "outputs": [
    {
     "data": {
      "text/plain": [
       "array(['00010001', '00010002', '00010003', '00011001', '00011002',\n",
       "       '00040001', '00040002', '00041001', '00041002', '00070001',\n",
       "       '00070002', '00070003', '00071001', '00071002', '00080001',\n",
       "       '00081001', '00090001', '00090002', '00091001', '00091002',\n",
       "       '00110001', '00110002', '00111001', '00111002', '00130001',\n",
       "       '00130002', '00130003', '00130004', '00130005', '00130006',\n",
       "       '00130007', '00130008', '00131001', '00131002', '00131003',\n",
       "       '00131004', '00131005', '00131007', '00131008', '00131009',\n",
       "       '00131010', '00131012', '00140001', '00141001', '00141003',\n",
       "       '00150001', '00150002', '00151001', '00151002', '00160001',\n",
       "       '00160002', '00160003', '00160004', '00161001', '00170001',\n",
       "       '00170002', '00170003', '00170004', '00170005', '00171001',\n",
       "       '00171002', '00171003', '00171004', '00180001', '00181001',\n",
       "       '00181002', '00250001', '00251001', '00260001', '00261001',\n",
       "       '00270001', '00270002', '00270003', '00271001', '00271002',\n",
       "       '00271003', '00310001', '00310002', '00310003', '00311001',\n",
       "       '00320001', '00321001', '00330002', '00331002', '00331004',\n",
       "       '00370001', '00371001', '00371002', '00380001', '00380002',\n",
       "       '00381001', '00381002', '00381003', '00390001', '00390002',\n",
       "       '00391001', '00400001', '00400002', '00400003', '00400004',\n",
       "       '00401001', '00401002', '00401003', '00410001', '00410003',\n",
       "       '00410005', '00410006', '00410007', '00411001', '00411002',\n",
       "       '00411003', '00411004', '00420001', '00420002', '00421001',\n",
       "       '00421002', '00430001', '00430002', '00431001', '00431002',\n",
       "       '00440001', '00440002', '00441001', '00441002', '00470001',\n",
       "       '00470002', '00471001', '00471002', '00490001', '00491001',\n",
       "       '00491002', '00530001', '00531001', '00590001', '00591001',\n",
       "       '00610001', '00610002', '00611001', '00611002', '00630001',\n",
       "       '00630002', '00630003', '00631001', '00631002', '00631003',\n",
       "       '00631004', '00650003', '00651001', '00651003', '00660001',\n",
       "       '00661001', '00670001', '00671001', '00680001', '00680002',\n",
       "       '00680003', '00680004', '00681001', '00681002', '00681003',\n",
       "       '00681004', '00681005', '00690001', '00691001', '00691002',\n",
       "       '00700001', '00701001', '00750001', '00750002', '00751001',\n",
       "       '00751002', '00751003', '00751004', '00760001', '00761001',\n",
       "       '00790001', '00791001', '007B0001', '007B1001', '007D0001',\n",
       "       '007D1001', '007D1002', '00830001', '00830003', '00830004',\n",
       "       '00830006', '00831001', '00831003', '00831004', '00831006',\n",
       "       '00840001', '00840003', '00840004', '00841001', '00841002',\n",
       "       '00841004', '01020001', '01021001', '01021002', '01040001',\n",
       "       '01041001', '01110001', '01111001', '01140001', '01141001',\n",
       "       '01160001', '01161001', '01161002', '01181001', '01200001',\n",
       "       '01200002', '01201001', '01201002', '01220001', '01220002',\n",
       "       '01221001', '01221002', '01230001', '01230002', '01231001',\n",
       "       '01231002', '01300001', '01301001', '01400001', '01400002',\n",
       "       '01401001', '01401002', '01420001', '01421001', '01450001',\n",
       "       '01450002', '01450003', '01450004', '01450005', '01451001',\n",
       "       '01451002', '01451003', '01451004', '01451005', '01451006',\n",
       "       '01451007', '01451008', '014C0001', '014C1001', '01500001',\n",
       "       '01501001', '01510001', '01510002', '01511001', '01511002',\n",
       "       '01511003', '015A0001', '015A0002', '015A1001', '015B0001',\n",
       "       '015B0002', '015B0003', '015B1001', '015B1002', '01610001',\n",
       "       '01611001', '01611002', '016C0001', '016C0002', '016C0003',\n",
       "       '016C1001', '017A0001', '017A0002', '017A0004', '017A0005',\n",
       "       '017A1001', '017A1002', '017A1003', '017A1004', '01840001',\n",
       "       '01841001', '01850001', '01850002', '01850003', '01850004',\n",
       "       '01850005', '01850006', '01851001', '01851002', '01851003',\n",
       "       '01851004', '01851005', '01851006', '01851007', '01851008',\n",
       "       '02200001', '02200002', '02201001', '02201002', '02360001',\n",
       "       '02361001', '02380001', '02380002', '02381001', '02390001',\n",
       "       '02390002', '02391001', '025A0001', '025A1001', '025B0001',\n",
       "       '025B1001', '025X0001', '025X1001', '025X1002', '02700001',\n",
       "       '02701001', '027A0001', '027A1001', '027A1002', '027B0001',\n",
       "       '027B0002', '027B0003', '027B0004', '027B0005', '027B1001',\n",
       "       '027B1002', '027B1003', '027B1004', '027B1005', '027B1006',\n",
       "       '027X0001', '027X1001', '029A0001', '029A1001', '031B0001',\n",
       "       '031B0002', '031B0003', '031B1001', '031B1002', '031B1003',\n",
       "       '032A0001', '032A1001', '032B0001', '032B0002', '032B1001',\n",
       "       '032B1002', '032X0001', '032X1001', '032X1002', '033A0001',\n",
       "       '033A0002', '033A1001', '033A1002', '033A1003', '033B0001',\n",
       "       '033B0002', '033B1001', '033B1002', '033B1003', '033X1001',\n",
       "       '038A0001', '038A1001', '038A1002', '038A1003', '038B0001',\n",
       "       '038B1001', '039A0001', '039A0002', '039A1001', '039A1002',\n",
       "       '040B0001', '040B0002', '040B1001', '040D0001', '040D0002',\n",
       "       '040D1001', '040D1002', '041A1001', '041B0001', '041B0002',\n",
       "       '041B1002', '041C0001', '041C1001', '041C1002', '041X0001',\n",
       "       '041X0002', '041X1001', '041X1002', '041X1003', '044B0001',\n",
       "       '044B1001', '045A0001', '045A0003', '045A0004', '045A1001',\n",
       "       '045A1002', '045A1003', '045A1004', '045A1005', '046A0001',\n",
       "       '046A0002', '046A0003', '046A0004', '046A0005', '046A0007',\n",
       "       '046A0008', '046A1001', '046A1002', '046A1003', '046A1004',\n",
       "       '046A1005', '046A1006', '046E1001', '051D0001', '051D1001',\n",
       "       '051X1001', '053B0001', '053B1001', '054A0001', '054A1001',\n",
       "       '056A0001', '056A1001', '065B0001', '065B1001', '066A0001',\n",
       "       '066A1001', '066B0001', '066B1001', '066X0001', '066X0002',\n",
       "       '066X0003', '066X0004', '066X1001', '066X1002', '066X1003',\n",
       "       '066X1004', '066X1005', '067X0001', '067X0002', '067X0003',\n",
       "       '067X1001', '067X1002', '068A0001', '068A1001', '069X0001',\n",
       "       '069X1001', '07470001', '07471001', '076A0001', '076A1001',\n",
       "       '077A0001', '077A1001', '079A0001', '079A1001', '083A0001',\n",
       "       '083A0002', '083A1001', '083A1002', '084A0001', '084A0002',\n",
       "       '084A1001', '084A1002', '084X1002', 'OL77X101', 'PP071001'], dtype=object)"
      ]
     },
     "execution_count": 5,
     "metadata": {},
     "output_type": "execute_result"
    }
   ],
   "source": [
    "# Check all the Journey_Pattern_ID unique value \n",
    "df_all['Journey_Pattern_ID'].unique()"
   ]
  },
  {
   "cell_type": "code",
   "execution_count": 7,
   "metadata": {
    "collapsed": false
   },
   "outputs": [],
   "source": [
    "#Drop Error Journery Pattern \n",
    "df_all.drop(df_all.index[df_all['Journey_Pattern_ID']=='OL77X101'],inplace=True)\n",
    "df_all.drop(df_all.index[df_all['Journey_Pattern_ID']=='PP071001'],inplace=True)"
   ]
  },
  {
   "cell_type": "markdown",
   "metadata": {},
   "source": [
    "## For all those models, train with only one  Journey_Pattern_ID data first \n",
    "\n",
    "In this part, we tried many different Journey_Pattern_ID, and only show 00010001 as an example \n",
    "\n",
    "### Get one Journey_Pattern_ID data "
   ]
  },
  {
   "cell_type": "code",
   "execution_count": 8,
   "metadata": {
    "collapsed": false
   },
   "outputs": [],
   "source": [
    "# Use loc to get the one Journey_Pattern_ID data from the whole data set \n",
    "df=df_all.loc[df_all['Journey_Pattern_ID']=='00010001']\n",
    "df.reset_index(drop=True, inplace=True)"
   ]
  },
  {
   "cell_type": "code",
   "execution_count": 9,
   "metadata": {
    "collapsed": false
   },
   "outputs": [
    {
     "data": {
      "text/plain": [
       "(9575, 21)"
      ]
     },
     "execution_count": 9,
     "metadata": {},
     "output_type": "execute_result"
    }
   ],
   "source": [
    "# Check the one Journey_Pattern_ID data size \n",
    "df.shape"
   ]
  },
  {
   "cell_type": "markdown",
   "metadata": {},
   "source": [
    "## Train Data set with statsmodels linear regression "
   ]
  },
  {
   "cell_type": "code",
   "execution_count": 10,
   "metadata": {
    "collapsed": false
   },
   "outputs": [
    {
     "data": {
      "text/plain": [
       "(9575, 21)"
      ]
     },
     "execution_count": 10,
     "metadata": {},
     "output_type": "execute_result"
    }
   ],
   "source": [
    "# Check data set size \n",
    "df.shape"
   ]
  },
  {
   "cell_type": "code",
   "execution_count": 11,
   "metadata": {
    "collapsed": false
   },
   "outputs": [
    {
     "data": {
      "text/plain": [
       "Index(['Distance', 'midweek', 'HourOfDay'], dtype='object')"
      ]
     },
     "execution_count": 11,
     "metadata": {},
     "output_type": "execute_result"
    }
   ],
   "source": [
    "# Get those features which are using to train the models \n",
    "feature_cols = ['Distance','midweek','HourOfDay']\n",
    "X = df[feature_cols]\n",
    "y = df['Trip_Time']\n",
    "X.columns\n"
   ]
  },
  {
   "cell_type": "code",
   "execution_count": 12,
   "metadata": {
    "collapsed": false
   },
   "outputs": [],
   "source": [
    "# Train the data set with  statsmodels\n",
    "import statsmodels.formula.api as sm\n",
    "df_linear = pd.concat([X, y], axis=1)\n",
    "lm = sm.ols(formula = \"Trip_Time ~ Distance+HourOfDay+midweek\", data=df_linear).fit()"
   ]
  },
  {
   "cell_type": "code",
   "execution_count": 13,
   "metadata": {
    "collapsed": false
   },
   "outputs": [
    {
     "data": {
      "text/plain": [
       "Intercept    385.811233\n",
       "Distance       0.238069\n",
       "HourOfDay    -16.182614\n",
       "midweek     -131.703135\n",
       "dtype: float64"
      ]
     },
     "execution_count": 13,
     "metadata": {},
     "output_type": "execute_result"
    }
   ],
   "source": [
    "# Check the model parameters \n",
    "lm.params"
   ]
  },
  {
   "cell_type": "code",
   "execution_count": 14,
   "metadata": {
    "collapsed": false
   },
   "outputs": [
    {
     "data": {
      "text/html": [
       "<table class=\"simpletable\">\n",
       "<caption>OLS Regression Results</caption>\n",
       "<tr>\n",
       "  <th>Dep. Variable:</th>        <td>Trip_Time</td>    <th>  R-squared:         </th> <td>   0.919</td> \n",
       "</tr>\n",
       "<tr>\n",
       "  <th>Model:</th>                   <td>OLS</td>       <th>  Adj. R-squared:    </th> <td>   0.919</td> \n",
       "</tr>\n",
       "<tr>\n",
       "  <th>Method:</th>             <td>Least Squares</td>  <th>  F-statistic:       </th> <td>3.640e+04</td>\n",
       "</tr>\n",
       "<tr>\n",
       "  <th>Date:</th>             <td>Sun, 20 Aug 2017</td> <th>  Prob (F-statistic):</th>  <td>  0.00</td>  \n",
       "</tr>\n",
       "<tr>\n",
       "  <th>Time:</th>                 <td>10:55:22</td>     <th>  Log-Likelihood:    </th> <td> -66715.</td> \n",
       "</tr>\n",
       "<tr>\n",
       "  <th>No. Observations:</th>      <td>  9575</td>      <th>  AIC:               </th> <td>1.334e+05</td>\n",
       "</tr>\n",
       "<tr>\n",
       "  <th>Df Residuals:</th>          <td>  9571</td>      <th>  BIC:               </th> <td>1.335e+05</td>\n",
       "</tr>\n",
       "<tr>\n",
       "  <th>Df Model:</th>              <td>     3</td>      <th>                     </th>     <td> </td>    \n",
       "</tr>\n",
       "<tr>\n",
       "  <th>Covariance Type:</th>      <td>nonrobust</td>    <th>                     </th>     <td> </td>    \n",
       "</tr>\n",
       "</table>\n",
       "<table class=\"simpletable\">\n",
       "<tr>\n",
       "      <td></td>         <th>coef</th>     <th>std err</th>      <th>t</th>      <th>P>|t|</th>  <th>[0.025</th>    <th>0.975]</th>  \n",
       "</tr>\n",
       "<tr>\n",
       "  <th>Intercept</th> <td>  385.8112</td> <td>   10.481</td> <td>   36.810</td> <td> 0.000</td> <td>  365.266</td> <td>  406.356</td>\n",
       "</tr>\n",
       "<tr>\n",
       "  <th>Distance</th>  <td>    0.2381</td> <td>    0.001</td> <td>  329.718</td> <td> 0.000</td> <td>    0.237</td> <td>    0.239</td>\n",
       "</tr>\n",
       "<tr>\n",
       "  <th>HourOfDay</th> <td>  -16.1826</td> <td>    0.626</td> <td>  -25.837</td> <td> 0.000</td> <td>  -17.410</td> <td>  -14.955</td>\n",
       "</tr>\n",
       "<tr>\n",
       "  <th>midweek</th>   <td> -131.7031</td> <td>    7.051</td> <td>  -18.679</td> <td> 0.000</td> <td> -145.524</td> <td> -117.882</td>\n",
       "</tr>\n",
       "</table>\n",
       "<table class=\"simpletable\">\n",
       "<tr>\n",
       "  <th>Omnibus:</th>       <td>764.173</td> <th>  Durbin-Watson:     </th> <td>   0.084</td>\n",
       "</tr>\n",
       "<tr>\n",
       "  <th>Prob(Omnibus):</th> <td> 0.000</td>  <th>  Jarque-Bera (JB):  </th> <td>2483.347</td>\n",
       "</tr>\n",
       "<tr>\n",
       "  <th>Skew:</th>          <td> 0.392</td>  <th>  Prob(JB):          </th> <td>    0.00</td>\n",
       "</tr>\n",
       "<tr>\n",
       "  <th>Kurtosis:</th>      <td> 5.369</td>  <th>  Cond. No.          </th> <td>2.87e+04</td>\n",
       "</tr>\n",
       "</table>"
      ],
      "text/plain": [
       "<class 'statsmodels.iolib.summary.Summary'>\n",
       "\"\"\"\n",
       "                            OLS Regression Results                            \n",
       "==============================================================================\n",
       "Dep. Variable:              Trip_Time   R-squared:                       0.919\n",
       "Model:                            OLS   Adj. R-squared:                  0.919\n",
       "Method:                 Least Squares   F-statistic:                 3.640e+04\n",
       "Date:                Sun, 20 Aug 2017   Prob (F-statistic):               0.00\n",
       "Time:                        10:55:22   Log-Likelihood:                -66715.\n",
       "No. Observations:                9575   AIC:                         1.334e+05\n",
       "Df Residuals:                    9571   BIC:                         1.335e+05\n",
       "Df Model:                           3                                         \n",
       "Covariance Type:            nonrobust                                         \n",
       "==============================================================================\n",
       "                 coef    std err          t      P>|t|      [0.025      0.975]\n",
       "------------------------------------------------------------------------------\n",
       "Intercept    385.8112     10.481     36.810      0.000     365.266     406.356\n",
       "Distance       0.2381      0.001    329.718      0.000       0.237       0.239\n",
       "HourOfDay    -16.1826      0.626    -25.837      0.000     -17.410     -14.955\n",
       "midweek     -131.7031      7.051    -18.679      0.000    -145.524    -117.882\n",
       "==============================================================================\n",
       "Omnibus:                      764.173   Durbin-Watson:                   0.084\n",
       "Prob(Omnibus):                  0.000   Jarque-Bera (JB):             2483.347\n",
       "Skew:                           0.392   Prob(JB):                         0.00\n",
       "Kurtosis:                       5.369   Cond. No.                     2.87e+04\n",
       "==============================================================================\n",
       "\n",
       "Warnings:\n",
       "[1] Standard Errors assume that the covariance matrix of the errors is correctly specified.\n",
       "[2] The condition number is large, 2.87e+04. This might indicate that there are\n",
       "strong multicollinearity or other numerical problems.\n",
       "\"\"\""
      ]
     },
     "execution_count": 14,
     "metadata": {},
     "output_type": "execute_result"
    }
   ],
   "source": [
    "# Check the summary of the linear regression model \n",
    "lm.summary()"
   ]
  },
  {
   "cell_type": "code",
   "execution_count": 15,
   "metadata": {
    "collapsed": true
   },
   "outputs": [],
   "source": [
    "# Get the predict of train data set \n",
    "lm_predictions = lm.predict(X)"
   ]
  },
  {
   "cell_type": "code",
   "execution_count": 16,
   "metadata": {
    "collapsed": false
   },
   "outputs": [
    {
     "data": {
      "text/plain": [
       "[<matplotlib.lines.Line2D at 0x113f44d68>]"
      ]
     },
     "execution_count": 16,
     "metadata": {},
     "output_type": "execute_result"
    },
    {
     "data": {
      "image/png": "[encoded data removed]",
      "text/plain": [
       "<matplotlib.figure.Figure at 0x113f37fd0>"
      ]
     },
     "metadata": {},
     "output_type": "display_data"
    }
   ],
   "source": [
    "# Plot the pridiction of target feature with the real data \n",
    "df.plot(kind='scatter', x='Distance', y='Trip_Time')\n",
    "plt.plot(X['Distance'], lm_predictions, c='red', linewidth=2)\n",
    "\n",
    "#plt.savefig('SM_Linear_Reg.png')"
   ]
  },
  {
   "cell_type": "code",
   "execution_count": 17,
   "metadata": {
    "collapsed": false
   },
   "outputs": [
    {
     "data": {
      "text/html": [
       "<div>\n",
       "<table border=\"1\" class=\"dataframe\">\n",
       "  <thead>\n",
       "    <tr style=\"text-align: right;\">\n",
       "      <th></th>\n",
       "      <th>0</th>\n",
       "      <th>1</th>\n",
       "    </tr>\n",
       "  </thead>\n",
       "  <tbody>\n",
       "    <tr>\n",
       "      <th>Intercept</th>\n",
       "      <td>365.266192</td>\n",
       "      <td>406.356273</td>\n",
       "    </tr>\n",
       "    <tr>\n",
       "      <th>Distance</th>\n",
       "      <td>0.236653</td>\n",
       "      <td>0.239484</td>\n",
       "    </tr>\n",
       "    <tr>\n",
       "      <th>HourOfDay</th>\n",
       "      <td>-17.410369</td>\n",
       "      <td>-14.954859</td>\n",
       "    </tr>\n",
       "    <tr>\n",
       "      <th>midweek</th>\n",
       "      <td>-145.524450</td>\n",
       "      <td>-117.881819</td>\n",
       "    </tr>\n",
       "  </tbody>\n",
       "</table>\n",
       "</div>"
      ],
      "text/plain": [
       "                    0           1\n",
       "Intercept  365.266192  406.356273\n",
       "Distance     0.236653    0.239484\n",
       "HourOfDay  -17.410369  -14.954859\n",
       "midweek   -145.524450 -117.881819"
      ]
     },
     "execution_count": 17,
     "metadata": {},
     "output_type": "execute_result"
    }
   ],
   "source": [
    "# Print the confidence interval of the fitted parameters\n",
    "lm.conf_int()"
   ]
  },
  {
   "cell_type": "code",
   "execution_count": 18,
   "metadata": {
    "collapsed": false
   },
   "outputs": [
    {
     "name": "stdout",
     "output_type": "stream",
     "text": [
      "\n",
      " Mean Squared Error 65996.0526352\n"
     ]
    }
   ],
   "source": [
    "# MSE: Mean Squared Error of prediction to real traget feature \n",
    "mse=((df_linear.Trip_Time-lm.predict(df_linear))**2).mean()\n",
    "print(\"\\n Mean Squared Error\",mse)"
   ]
  },
  {
   "cell_type": "code",
   "execution_count": 19,
   "metadata": {
    "collapsed": false
   },
   "outputs": [
    {
     "name": "stdout",
     "output_type": "stream",
     "text": [
      "Mean Absolute mean  192.174083032\n"
     ]
    }
   ],
   "source": [
    "# MAE:  Mean Absolute mean of prediction to real traget feature \n",
    "mae = abs(df_linear.Trip_Time-lm.predict(df_linear)).mean()\n",
    "print(\"Mean Absolute mean \",mae)"
   ]
  },
  {
   "cell_type": "markdown",
   "metadata": {},
   "source": [
    "## Use an sklearn model LinearRegression to train data set "
   ]
  },
  {
   "cell_type": "code",
   "execution_count": 20,
   "metadata": {
    "collapsed": true
   },
   "outputs": [],
   "source": [
    "# Import the modules from sklearn package \n",
    "from sklearn.pipeline import Pipeline\n",
    "from sklearn.preprocessing import PolynomialFeatures\n",
    "from sklearn.linear_model import LinearRegression\n",
    "from sklearn.model_selection import cross_val_score"
   ]
  },
  {
   "cell_type": "code",
   "execution_count": 21,
   "metadata": {
    "collapsed": false
   },
   "outputs": [
    {
     "data": {
      "text/plain": [
       "Index(['Distance', 'midweek', 'HourOfDay'], dtype='object')"
      ]
     },
     "execution_count": 21,
     "metadata": {},
     "output_type": "execute_result"
    }
   ],
   "source": [
    "# Get those features which are using to train the models \n",
    "feature_cols = ['Distance','midweek','HourOfDay']\n",
    "X = df[feature_cols]\n",
    "y = df['Trip_Time']\n",
    "X.columns"
   ]
  },
  {
   "cell_type": "code",
   "execution_count": 22,
   "metadata": {
    "collapsed": false
   },
   "outputs": [
    {
     "data": {
      "image/png": "[encoded data removed]",
      "text/plain": [
       "<matplotlib.figure.Figure at 0x10f8864e0>"
      ]
     },
     "metadata": {},
     "output_type": "display_data"
    },
    {
     "data": {
      "image/png": "[encoded data removed]",
      "text/plain": [
       "<matplotlib.figure.Figure at 0x115626978>"
      ]
     },
     "metadata": {},
     "output_type": "display_data"
    },
    {
     "data": {
      "image/png": "[encoded data removed]",
      "text/plain": [
       "<matplotlib.figure.Figure at 0x115b0b828>"
      ]
     },
     "metadata": {},
     "output_type": "display_data"
    },
    {
     "data": {
      "image/png": "[encoded data removed]",
      "text/plain": [
       "<matplotlib.figure.Figure at 0x1157bbcf8>"
      ]
     },
     "metadata": {},
     "output_type": "display_data"
    }
   ],
   "source": [
    "# http://scikit-learn.org/stable/auto_examples/model_selection/plot_underfitting_overfitting.html\n",
    "# Using pipeline to use PolynomialFeatures in linear regression to check how to get the best fitting to the data set \n",
    "\n",
    "degrees = [2,4,6,10]\n",
    "\n",
    "#plt.figure(figsize=(14, 5))\n",
    "for i in range(len(degrees)):\n",
    "    polynomial_features = PolynomialFeatures(degree=degrees[i],\n",
    "                                             include_bias=False)\n",
    "    linear_regression = LinearRegression()\n",
    "    pipeline = Pipeline([(\"polynomial_features\", polynomial_features),\n",
    "                         (\"linear_regression\", linear_regression)])\n",
    "    pipeline.fit(X, y)\n",
    "    scores = cross_val_score(pipeline, X, y,\n",
    "                             scoring=\"neg_mean_squared_error\", cv=10)\n",
    "\n",
    "    df.plot(kind='scatter', x='Distance', y='Trip_Time',label=\"Samples\")\n",
    "    plt.plot(X['Distance'], pipeline.predict(X), c='Blue', label=\"Model\")\n",
    "    plt.legend(loc=\"best\")\n",
    "    plt.title(\"Degree {}\\nMSE = {:.2e}(+/- {:.2e})\".format(\n",
    "        degrees[i], -scores.mean(), scores.std()))\n",
    "    plt.show()"
   ]
  },
  {
   "cell_type": "markdown",
   "metadata": {},
   "source": [
    "### Result comparison \n",
    "From the result before, we could see that when the degree=2, the fitting result is the best "
   ]
  },
  {
   "cell_type": "code",
   "execution_count": 23,
   "metadata": {
    "collapsed": false
   },
   "outputs": [
    {
     "data": {
      "text/plain": [
       "[<matplotlib.lines.Line2D at 0x115749ac8>]"
      ]
     },
     "execution_count": 23,
     "metadata": {},
     "output_type": "execute_result"
    },
    {
     "data": {
      "image/png": "[encoded data removed]",
      "text/plain": [
       "<matplotlib.figure.Figure at 0x115633d30>"
      ]
     },
     "metadata": {},
     "output_type": "display_data"
    }
   ],
   "source": [
    "# Train the data set with PolynomialFeatures when degree = 2\n",
    "polynomial_features = PolynomialFeatures(degree=2,include_bias=False)\n",
    "linear_regression = LinearRegression()\n",
    "pipeline = Pipeline([(\"polynomial_features\", polynomial_features),\n",
    "                         (\"linear_regression\", linear_regression)])\n",
    "pipeline.fit(X, y)\n",
    "\n",
    "df.plot(kind='scatter', x='Distance', y='Trip_Time',label=\"Samples\")\n",
    "plt.plot(X['Distance'], pipeline.predict(X), c='Blue', label=\"Model\")\n",
    "\n",
    "#plt.savefig('Linear_Reg_Poly.png')"
   ]
  },
  {
   "cell_type": "code",
   "execution_count": 24,
   "metadata": {
    "collapsed": false
   },
   "outputs": [
    {
     "data": {
      "text/plain": [
       "{'copy_X': True, 'fit_intercept': True, 'n_jobs': 1, 'normalize': False}"
      ]
     },
     "execution_count": 24,
     "metadata": {},
     "output_type": "execute_result"
    }
   ],
   "source": [
    "# Check the parameter of the linear refression \n",
    "pipeline.named_steps['linear_regression'].get_params()"
   ]
  },
  {
   "cell_type": "code",
   "execution_count": 25,
   "metadata": {
    "collapsed": false
   },
   "outputs": [
    {
     "data": {
      "text/plain": [
       "0.9260311627143113"
      ]
     },
     "execution_count": 25,
     "metadata": {},
     "output_type": "execute_result"
    }
   ],
   "source": [
    "# Check the score of the model \n",
    "pipeline.score(X,y)"
   ]
  },
  {
   "cell_type": "code",
   "execution_count": 26,
   "metadata": {
    "collapsed": false
   },
   "outputs": [
    {
     "name": "stdout",
     "output_type": "stream",
     "text": [
      "\n",
      " Mean Squared Error 60585.2268643\n"
     ]
    }
   ],
   "source": [
    "# MSE: Mean Squared Error\n",
    "mse=((y-pipeline.predict(X))**2).mean()\n",
    "print(\"\\n Mean Squared Error\",mse)"
   ]
  },
  {
   "cell_type": "code",
   "execution_count": 27,
   "metadata": {
    "collapsed": false
   },
   "outputs": [
    {
     "name": "stdout",
     "output_type": "stream",
     "text": [
      "Mean Absolute Error  180.694803253\n"
     ]
    }
   ],
   "source": [
    "# MAE:  Mean Absolute Error \n",
    "mae = abs(y-pipeline.predict(X)).mean()\n",
    "print(\"Mean Absolute Error \",mae)"
   ]
  },
  {
   "cell_type": "markdown",
   "metadata": {},
   "source": [
    "# Train data set with SVM "
   ]
  },
  {
   "cell_type": "code",
   "execution_count": 30,
   "metadata": {
    "collapsed": true
   },
   "outputs": [],
   "source": [
    "#Import SVM and assign to a model \n",
    "from sklearn import svm\n",
    "# http://scikit-learn.org/stable/modules/generated/sklearn.svm.SVR.html\n",
    "clf = svm.SVR()"
   ]
  },
  {
   "cell_type": "code",
   "execution_count": 31,
   "metadata": {
    "collapsed": false
   },
   "outputs": [],
   "source": [
    "# Prepare the descriptive features\n",
    "X = pd.concat([df[['Distance','midweek','HourOfDay']]], axis=1)\n",
    "y = df.Trip_Time \n",
    "\n",
    "#print(\"Descriptive features:\\n\", X)\n",
    "#print(\"\\nTarget feature:\\n\", y)"
   ]
  },
  {
   "cell_type": "code",
   "execution_count": 32,
   "metadata": {
    "collapsed": false
   },
   "outputs": [
    {
     "name": "stdout",
     "output_type": "stream",
     "text": [
      "CPU times: user 2.05 s, sys: 139 ms, total: 2.19 s\n",
      "Wall time: 2.24 s\n"
     ]
    },
    {
     "data": {
      "text/plain": [
       "SVR(C=1.0, cache_size=200, coef0=0.0, degree=3, epsilon=0.1, gamma='auto',\n",
       "  kernel='rbf', max_iter=-1, shrinking=True, tol=0.001, verbose=False)"
      ]
     },
     "execution_count": 32,
     "metadata": {},
     "output_type": "execute_result"
    }
   ],
   "source": [
    "# Train the model \n",
    "%time clf.fit(X, y)"
   ]
  },
  {
   "cell_type": "code",
   "execution_count": 35,
   "metadata": {
    "collapsed": false
   },
   "outputs": [
    {
     "data": {
      "image/png": "[encoded data removed]",
      "text/plain": [
       "<matplotlib.figure.Figure at 0x115686278>"
      ]
     },
     "metadata": {},
     "output_type": "display_data"
    }
   ],
   "source": [
    "# Get the predicetion and plot the distance and trip_time of the data and prediction \n",
    "y_rbf = clf.predict(X)\n",
    "plt.scatter(X['Distance'], y, color='darkorange', label='data')\n",
    "plt.plot(X['Distance'], y_rbf, color='navy', label='RBF model')"
   ]
  },
  {
   "cell_type": "code",
   "execution_count": 38,
   "metadata": {
    "collapsed": false
   },
   "outputs": [
    {
     "data": {
      "image/png": "[encoded data removed]",
      "text/plain": [
       "<matplotlib.figure.Figure at 0x117091eb8>"
      ]
     },
     "metadata": {},
     "output_type": "display_data"
    }
   ],
   "source": [
    "# As the plot before couldn't show the result well, we plot the prediction directly\n",
    "#Plot the distance and trip_time of prediction \n",
    "plt.plot(X['Distance'], y_rbf, color='navy', label='RBF model')\n",
    "plt.show()"
   ]
  },
  {
   "cell_type": "code",
   "execution_count": 34,
   "metadata": {
    "collapsed": false
   },
   "outputs": [
    {
     "data": {
      "text/plain": [
       "-0.006278936646301192"
      ]
     },
     "execution_count": 34,
     "metadata": {},
     "output_type": "execute_result"
    }
   ],
   "source": [
    "# Check the Score of the model \n",
    "clf.score(X,y)"
   ]
  },
  {
   "cell_type": "code",
   "execution_count": 62,
   "metadata": {
    "collapsed": false
   },
   "outputs": [
    {
     "name": "stdout",
     "output_type": "stream",
     "text": [
      "\n",
      " Mean Squared Error 824207.056682\n"
     ]
    }
   ],
   "source": [
    "# MSE: Mean Squared Error\n",
    "mse=((y-y_rbf)**2).mean()\n",
    "print(\"\\n Mean Squared Error\",mse)"
   ]
  },
  {
   "cell_type": "code",
   "execution_count": 63,
   "metadata": {
    "collapsed": false
   },
   "outputs": [
    {
     "name": "stdout",
     "output_type": "stream",
     "text": [
      "Mean Absolute Error  787.860747745\n"
     ]
    }
   ],
   "source": [
    "# MAE:  Mean Absolute Error \n",
    "mae = abs(y-y_rbf).mean()\n",
    "print(\"Mean Absolute Error \",mae)"
   ]
  },
  {
   "cell_type": "markdown",
   "metadata": {
    "collapsed": true
   },
   "source": [
    "# Train Data with Neural network model "
   ]
  },
  {
   "cell_type": "code",
   "execution_count": 39,
   "metadata": {
    "collapsed": true
   },
   "outputs": [],
   "source": [
    "# http://scikit-learn.org/stable/modules/generated/sklearn.neural_network.MLPRegressor.html#sklearn.neural_network.MLPRegressor\n",
    "# Import MLPRegressor from sklearn.neural_network \n",
    "from sklearn.neural_network import MLPRegressor \n",
    "mlpreg=MLPRegressor()"
   ]
  },
  {
   "cell_type": "code",
   "execution_count": 40,
   "metadata": {
    "collapsed": false
   },
   "outputs": [],
   "source": [
    "# Prepare the descriptive features\n",
    "X = pd.concat([df[['Distance','midweek','HourOfDay']]], axis=1)\n",
    "y = df.Trip_Time \n",
    "\n",
    "#print(\"Descriptive features:\\n\", X)\n",
    "#print(\"\\nTarget feature:\\n\", y)"
   ]
  },
  {
   "cell_type": "code",
   "execution_count": 41,
   "metadata": {
    "collapsed": false
   },
   "outputs": [
    {
     "data": {
      "text/plain": [
       "MLPRegressor(activation='relu', alpha=0.0001, batch_size='auto', beta_1=0.9,\n",
       "       beta_2=0.999, early_stopping=False, epsilon=1e-08,\n",
       "       hidden_layer_sizes=(100,), learning_rate='constant',\n",
       "       learning_rate_init=0.001, max_iter=200, momentum=0.9,\n",
       "       nesterovs_momentum=True, power_t=0.5, random_state=None,\n",
       "       shuffle=True, solver='adam', tol=0.0001, validation_fraction=0.1,\n",
       "       verbose=False, warm_start=False)"
      ]
     },
     "execution_count": 41,
     "metadata": {},
     "output_type": "execute_result"
    }
   ],
   "source": [
    "# Train the data with MLP Regressor \n",
    "mlpreg.fit(X,y)"
   ]
  },
  {
   "cell_type": "code",
   "execution_count": 43,
   "metadata": {
    "collapsed": false
   },
   "outputs": [
    {
     "data": {
      "text/plain": [
       "[<matplotlib.lines.Line2D at 0x116b83400>]"
      ]
     },
     "execution_count": 43,
     "metadata": {},
     "output_type": "execute_result"
    },
    {
     "data": {
      "image/png": "[encoded data removed]",
      "text/plain": [
       "<matplotlib.figure.Figure at 0x116b83128>"
      ]
     },
     "metadata": {},
     "output_type": "display_data"
    }
   ],
   "source": [
    "# Get the predicetion and plot the distance and trip_time of the real data and prediction \n",
    "y_mlpreg = mlpreg.predict(X)\n",
    "plt.scatter(X['Distance'], y, color='darkorange', label='data')\n",
    "plt.plot(X['Distance'], y_mlpreg, color='navy', label='ANN model')\n",
    "#plt.savefig('ANN_result.png')"
   ]
  },
  {
   "cell_type": "code",
   "execution_count": 42,
   "metadata": {
    "collapsed": false
   },
   "outputs": [
    {
     "data": {
      "text/plain": [
       "0.91274259593949403"
      ]
     },
     "execution_count": 42,
     "metadata": {},
     "output_type": "execute_result"
    }
   ],
   "source": [
    "# Check the model score \n",
    "mlpreg.score(X,y)"
   ]
  },
  {
   "cell_type": "code",
   "execution_count": 44,
   "metadata": {
    "collapsed": false
   },
   "outputs": [
    {
     "name": "stdout",
     "output_type": "stream",
     "text": [
      "\n",
      " Mean Squared Error 71469.4162377\n"
     ]
    }
   ],
   "source": [
    "# MSE: Mean Squared Error   \n",
    "# Mean Squared Error of linear: 131771.970239 \n",
    "mse=((y-mlpreg.predict(X))**2).mean()\n",
    "print(\"\\n Mean Squared Error\",mse)"
   ]
  },
  {
   "cell_type": "code",
   "execution_count": 45,
   "metadata": {
    "collapsed": false
   },
   "outputs": [
    {
     "name": "stdout",
     "output_type": "stream",
     "text": [
      "Mean Absolute Error  193.840212505\n"
     ]
    }
   ],
   "source": [
    "# MAE:  Mean Absolute Error \n",
    "# Mean Absolute Error  of linear:  253.761443277\n",
    "mae = abs(y-mlpreg.predict(X)).mean()\n",
    "print(\"Mean Absolute Error \",mae)"
   ]
  },
  {
   "cell_type": "markdown",
   "metadata": {
    "collapsed": true
   },
   "source": [
    "# Train data set with Random Forest "
   ]
  },
  {
   "cell_type": "code",
   "execution_count": 46,
   "metadata": {
    "collapsed": true
   },
   "outputs": [],
   "source": [
    "from sklearn.datasets import load_boston\n",
    "from sklearn.ensemble import RandomForestRegressor\n",
    "from sklearn.preprocessing import Imputer\n",
    "#from sklearn.multioutput import MultiOutputRegressor"
   ]
  },
  {
   "cell_type": "code",
   "execution_count": 52,
   "metadata": {
    "collapsed": false
   },
   "outputs": [],
   "source": [
    "# http://scikit-learn.org/stable/modules/generated/sklearn.ensemble.RandomForestRegressor.html\n",
    "#sklearn.ensemble.RandomForestRegressor\n",
    "max_depth = 30\n",
    "regr_rf = RandomForestRegressor(max_depth=max_depth,random_state=2)"
   ]
  },
  {
   "cell_type": "code",
   "execution_count": 53,
   "metadata": {
    "collapsed": false
   },
   "outputs": [],
   "source": [
    "# Prepare the descriptive features\n",
    "X = pd.concat([df[['Distance','midweek','HourOfDay']]], axis=1)\n",
    "y = df.Trip_Time \n",
    "\n",
    "#print(\"Descriptive features:\\n\", X)\n",
    "#print(\"\\nTarget feature:\\n\", y)"
   ]
  },
  {
   "cell_type": "code",
   "execution_count": 54,
   "metadata": {
    "collapsed": false
   },
   "outputs": [
    {
     "data": {
      "text/plain": [
       "RandomForestRegressor(bootstrap=True, criterion='mse', max_depth=30,\n",
       "           max_features='auto', max_leaf_nodes=None,\n",
       "           min_impurity_split=1e-07, min_samples_leaf=1,\n",
       "           min_samples_split=2, min_weight_fraction_leaf=0.0,\n",
       "           n_estimators=10, n_jobs=1, oob_score=False, random_state=2,\n",
       "           verbose=0, warm_start=False)"
      ]
     },
     "execution_count": 54,
     "metadata": {},
     "output_type": "execute_result"
    }
   ],
   "source": [
    "regr_rf.fit(X, y)"
   ]
  },
  {
   "cell_type": "code",
   "execution_count": 55,
   "metadata": {
    "collapsed": false,
    "scrolled": true
   },
   "outputs": [
    {
     "data": {
      "text/plain": [
       "0.986126164382225"
      ]
     },
     "execution_count": 55,
     "metadata": {},
     "output_type": "execute_result"
    }
   ],
   "source": [
    "regr_rf.score(X,y)\n",
    "#0.94701267864972594"
   ]
  },
  {
   "cell_type": "code",
   "execution_count": 59,
   "metadata": {
    "collapsed": false
   },
   "outputs": [
    {
     "data": {
      "image/png": "[encoded data removed]",
      "text/plain": [
       "<matplotlib.figure.Figure at 0x117183390>"
      ]
     },
     "metadata": {},
     "output_type": "display_data"
    }
   ],
   "source": [
    "# Get the predicetion \n",
    "y_regr_rf = regr_rf.predict(X)\n",
    "plt.scatter(X['Distance'], y, color='darkorange', label='data')\n",
    "plt.scatter(X['Distance'], y_regr_rf, color='navy', label='MRF model')\n",
    "plt.savefig('MRF_result.png')"
   ]
  },
  {
   "cell_type": "code",
   "execution_count": 61,
   "metadata": {
    "collapsed": false
   },
   "outputs": [
    {
     "name": "stdout",
     "output_type": "stream",
     "text": [
      "\n",
      " Mean Squared Error 11363.5621327\n"
     ]
    }
   ],
   "source": [
    "# MSE: Mean Squared Error   \n",
    "# Mean Squared Error of linear: 131771.970239 \n",
    "mse=((y-y_regr_rf)**2).mean()\n",
    "print(\"\\n Mean Squared Error\",mse)"
   ]
  },
  {
   "cell_type": "code",
   "execution_count": 60,
   "metadata": {
    "collapsed": false
   },
   "outputs": [
    {
     "name": "stdout",
     "output_type": "stream",
     "text": [
      "Mean Absolute Error of MRF  70.8174825563\n"
     ]
    }
   ],
   "source": [
    "# MAE:  Mean Absolute Error \n",
    "\n",
    "# Mean Absolute Error  of linear:  253.761443277\n",
    "mae = abs(y-y_regr_rf).mean()\n",
    "print(\"Mean Absolute Error of MRF \",mae)"
   ]
  },
  {
   "cell_type": "markdown",
   "metadata": {},
   "source": [
    "## The comparion of differnt models \n",
    "\n",
    "Here we only compared the result for Journery_Pattern_ID 00010001, here is the result of different models.\n",
    "\n",
    "The comparion used mea,mse and score to evaluate the models. \n",
    "\n",
    "MAE:  Mean Absolute Error\n",
    "\n",
    "MSE:  Mean Squared Error\n",
    "    \n",
    "Score: the coefficient of determination R^2 of the prediction\n",
    "\n",
    "The results of differnt models: \n",
    "\n",
    "-Linear Regression   Score: 0.926  MAE:180.69s   MSE: 60585.23\n",
    "\n",
    "-Random Forest: RF Regressor Score: 0.926  MAE:180.69s   MSE: 60585.23\n",
    "\n",
    "-SVM: Epsilon-Support Vector Regression  Score: -0.006  MAE:787.86s MSE: 824207.06\n",
    "\n",
    "-Neural network model: MLPRegressor  Score: 0.913 MAE:193.84s  MSE: 71469.42\n",
    "\n",
    "\n",
    "\n",
    "We also chose the other Journery_Pattern_ID to test the result, they all got the similar result. \n",
    "\n",
    "From the result we could see that the Linear regression and Random Forest get much better result than the other two models. So we decised to use Linear regression and Random Forest Regressor to train the whole data set. \n"
   ]
  },
  {
   "cell_type": "markdown",
   "metadata": {},
   "source": [
    "# Train all data set with Linear Regression "
   ]
  },
  {
   "cell_type": "code",
   "execution_count": 64,
   "metadata": {
    "collapsed": true
   },
   "outputs": [],
   "source": [
    "from sklearn.pipeline import Pipeline\n",
    "from sklearn.preprocessing import PolynomialFeatures\n",
    "from sklearn.linear_model import LinearRegression\n",
    "from sklearn.model_selection import cross_val_score"
   ]
  },
  {
   "cell_type": "code",
   "execution_count": 65,
   "metadata": {
    "collapsed": false
   },
   "outputs": [
    {
     "data": {
      "text/plain": [
       "Index(['Distance', 'midweek', 'HourOfDay'], dtype='object')"
      ]
     },
     "execution_count": 65,
     "metadata": {},
     "output_type": "execute_result"
    }
   ],
   "source": [
    "# Prepare the data set for modeling \n",
    "feature_cols = ['Distance','midweek','HourOfDay']\n",
    "X = df_all[feature_cols]\n",
    "y = df_all['Trip_Time']\n",
    "X.columns"
   ]
  },
  {
   "cell_type": "code",
   "execution_count": 66,
   "metadata": {
    "collapsed": false
   },
   "outputs": [
    {
     "name": "stdout",
     "output_type": "stream",
     "text": [
      "CPU times: user 7.69 s, sys: 3.5 s, total: 11.2 s\n",
      "Wall time: 10.9 s\n"
     ]
    },
    {
     "data": {
      "text/plain": [
       "Pipeline(steps=[('polynomial_features', PolynomialFeatures(degree=4, include_bias=False, interaction_only=False)), ('linear_regression', LinearRegression(copy_X=True, fit_intercept=True, n_jobs=1, normalize=False))])"
      ]
     },
     "execution_count": 66,
     "metadata": {},
     "output_type": "execute_result"
    }
   ],
   "source": [
    "# Train the data set with PolynomialFeatures when degree = 2\n",
    "polynomial_features = PolynomialFeatures(degree=2,include_bias=False)\n",
    "linear_regression = LinearRegression()\n",
    "pipeline = Pipeline([(\"polynomial_features\", polynomial_features),\n",
    "                         (\"linear_regression\", linear_regression)])\n",
    "%time pipeline.fit(X, y)"
   ]
  },
  {
   "cell_type": "code",
   "execution_count": 67,
   "metadata": {
    "collapsed": false
   },
   "outputs": [
    {
     "data": {
      "text/plain": [
       "0.82672902644297019"
      ]
     },
     "execution_count": 67,
     "metadata": {},
     "output_type": "execute_result"
    }
   ],
   "source": [
    "# Check model score \n",
    "pipeline.score(X,y)"
   ]
  },
  {
   "cell_type": "code",
   "execution_count": 68,
   "metadata": {
    "collapsed": false
   },
   "outputs": [
    {
     "name": "stdout",
     "output_type": "stream",
     "text": [
      "\n",
      " Mean Squared Error 318746.63094\n"
     ]
    }
   ],
   "source": [
    "# MSE: Mean Squared Error\n",
    "mse=((y-pipeline.predict(X))**2).mean()\n",
    "print(\"\\n Mean Squared Error\",mse)"
   ]
  },
  {
   "cell_type": "code",
   "execution_count": 69,
   "metadata": {
    "collapsed": false
   },
   "outputs": [
    {
     "name": "stdout",
     "output_type": "stream",
     "text": [
      "Mean Absolute Error  416.218979585\n"
     ]
    }
   ],
   "source": [
    "# MAE:  Mean Absolute Error \n",
    "mae = abs(y-pipeline.predict(X)).mean()\n",
    "print(\"Mean Absolute Error \",mae)"
   ]
  },
  {
   "cell_type": "markdown",
   "metadata": {},
   "source": [
    "# Train all data with Journey Pattern ID linear regression  "
   ]
  },
  {
   "cell_type": "code",
   "execution_count": 70,
   "metadata": {
    "collapsed": false
   },
   "outputs": [
    {
     "data": {
      "text/plain": [
       "Index(['Journey_Pattern_ID', 'Distance', 'midweek', 'HourOfDay'], dtype='object')"
      ]
     },
     "execution_count": 70,
     "metadata": {},
     "output_type": "execute_result"
    }
   ],
   "source": [
    "# Add the Journey_Pattern_ID in to train data set \n",
    "feature_cols = ['Journey_Pattern_ID','Distance','midweek','HourOfDay']\n",
    "X = df_all[feature_cols]\n",
    "y = df_all['Trip_Time']\n",
    "X.columns"
   ]
  },
  {
   "cell_type": "code",
   "execution_count": 71,
   "metadata": {
    "collapsed": false
   },
   "outputs": [
    {
     "data": {
      "text/plain": [
       "(2209308, 4)"
      ]
     },
     "execution_count": 71,
     "metadata": {},
     "output_type": "execute_result"
    }
   ],
   "source": [
    "X.shape"
   ]
  },
  {
   "cell_type": "code",
   "execution_count": 72,
   "metadata": {
    "collapsed": false
   },
   "outputs": [
    {
     "name": "stderr",
     "output_type": "stream",
     "text": [
      "/Users/April/anaconda/envs/comp47350/lib/python3.6/site-packages/ipykernel_launcher.py:9: SettingWithCopyWarning: \n",
      "A value is trying to be set on a copy of a slice from a DataFrame.\n",
      "Try using .loc[row_indexer,col_indexer] = value instead\n",
      "\n",
      "See the caveats in the documentation: http://pandas.pydata.org/pandas-docs/stable/indexing.html#indexing-view-versus-copy\n",
      "  if __name__ == '__main__':\n"
     ]
    }
   ],
   "source": [
    "# Used the LabelEncoder to convert object column to numberical \n",
    "from sklearn.preprocessing import LabelEncoder\n",
    "le=LabelEncoder()\n",
    "\n",
    "for col in X.columns.values:\n",
    "    if X[col].dtypes=='object':\n",
    "        # Using whole data to form an exhaustive list of levels\n",
    "        data=X[col]\n",
    "        le.fit(data.values)\n",
    "        X[col]=le.transform(X[col])"
   ]
  },
  {
   "cell_type": "code",
   "execution_count": 73,
   "metadata": {
    "collapsed": false
   },
   "outputs": [
    {
     "data": {
      "text/html": [
       "<div>\n",
       "<table border=\"1\" class=\"dataframe\">\n",
       "  <thead>\n",
       "    <tr style=\"text-align: right;\">\n",
       "      <th></th>\n",
       "      <th>Journey_Pattern_ID</th>\n",
       "      <th>Distance</th>\n",
       "      <th>midweek</th>\n",
       "      <th>HourOfDay</th>\n",
       "    </tr>\n",
       "  </thead>\n",
       "  <tbody>\n",
       "    <tr>\n",
       "      <th>0</th>\n",
       "      <td>0</td>\n",
       "      <td>0</td>\n",
       "      <td>0</td>\n",
       "      <td>12</td>\n",
       "    </tr>\n",
       "    <tr>\n",
       "      <th>1</th>\n",
       "      <td>0</td>\n",
       "      <td>22</td>\n",
       "      <td>0</td>\n",
       "      <td>12</td>\n",
       "    </tr>\n",
       "    <tr>\n",
       "      <th>2</th>\n",
       "      <td>0</td>\n",
       "      <td>215</td>\n",
       "      <td>0</td>\n",
       "      <td>12</td>\n",
       "    </tr>\n",
       "    <tr>\n",
       "      <th>3</th>\n",
       "      <td>0</td>\n",
       "      <td>264</td>\n",
       "      <td>0</td>\n",
       "      <td>12</td>\n",
       "    </tr>\n",
       "    <tr>\n",
       "      <th>4</th>\n",
       "      <td>0</td>\n",
       "      <td>439</td>\n",
       "      <td>0</td>\n",
       "      <td>12</td>\n",
       "    </tr>\n",
       "  </tbody>\n",
       "</table>\n",
       "</div>"
      ],
      "text/plain": [
       "   Journey_Pattern_ID  Distance  midweek  HourOfDay\n",
       "0                   0         0        0         12\n",
       "1                   0        22        0         12\n",
       "2                   0       215        0         12\n",
       "3                   0       264        0         12\n",
       "4                   0       439        0         12"
      ]
     },
     "execution_count": 73,
     "metadata": {},
     "output_type": "execute_result"
    }
   ],
   "source": [
    "X.head()"
   ]
  },
  {
   "cell_type": "code",
   "execution_count": 74,
   "metadata": {
    "collapsed": false
   },
   "outputs": [
    {
     "name": "stdout",
     "output_type": "stream",
     "text": [
      "CPU times: user 2.54 s, sys: 889 ms, total: 3.43 s\n",
      "Wall time: 3.05 s\n"
     ]
    },
    {
     "data": {
      "text/plain": [
       "Pipeline(steps=[('polynomial_features', PolynomialFeatures(degree=2, include_bias=False, interaction_only=False)), ('linear_regression', LinearRegression(copy_X=True, fit_intercept=True, n_jobs=1, normalize=False))])"
      ]
     },
     "execution_count": 74,
     "metadata": {},
     "output_type": "execute_result"
    }
   ],
   "source": [
    "# Train the data set with PolynomialFeatures when degree = 2\n",
    "polynomial_features = PolynomialFeatures(degree=2,include_bias=False)\n",
    "linear_regression = LinearRegression()\n",
    "pipeline = Pipeline([(\"polynomial_features\", polynomial_features),\n",
    "                         (\"linear_regression\", linear_regression)])\n",
    "%time pipeline.fit(X, y)\n",
    "\n",
    "#df.plot(kind='scatter', x='Distance', y='Trip_Time',label=\"Samples\")\n",
    "#plt.plot(X['Distance'], pipeline.predict(X), c='Blue', label=\"Model\")\n",
    "\n",
    "#plt.savefig('Linear_Reg_Poly.png')"
   ]
  },
  {
   "cell_type": "code",
   "execution_count": 75,
   "metadata": {
    "collapsed": false
   },
   "outputs": [
    {
     "data": {
      "text/plain": [
       "0.83194724898116601"
      ]
     },
     "execution_count": 75,
     "metadata": {},
     "output_type": "execute_result"
    }
   ],
   "source": [
    "# Check the model's score \n",
    "pipeline.score(X,y)"
   ]
  },
  {
   "cell_type": "code",
   "execution_count": 77,
   "metadata": {
    "collapsed": false
   },
   "outputs": [
    {
     "name": "stdout",
     "output_type": "stream",
     "text": [
      "\n",
      " Mean Squared Error 309147.268627\n"
     ]
    }
   ],
   "source": [
    "# MSE: Mean Squared Error\n",
    "mse=((y-pipeline.predict(X))**2).mean()\n",
    "print(\"\\n Mean Squared Error\",mse)"
   ]
  },
  {
   "cell_type": "code",
   "execution_count": 76,
   "metadata": {
    "collapsed": false
   },
   "outputs": [
    {
     "name": "stdout",
     "output_type": "stream",
     "text": [
      "Mean Absolute Error  417.042791631\n"
     ]
    }
   ],
   "source": [
    "# MAE:  Mean Absolute Error \n",
    "mae = abs(y-pipeline.predict(X)).mean()\n",
    "print(\"Mean Absolute Error \",mae)"
   ]
  },
  {
   "cell_type": "markdown",
   "metadata": {},
   "source": [
    "## Result comparison of linear regression \n",
    "\n",
    "We checked that train all data with Journey Pattern ID feature, the linear regression model's mea became bigger: from 416.22s to 417.04. As Journey Pattern ID is a categorical feature, it doesn't help to improve the accuracy of the modeling. "
   ]
  },
  {
   "cell_type": "markdown",
   "metadata": {
    "collapsed": true
   },
   "source": [
    "# Train all data set with Random Forest "
   ]
  },
  {
   "cell_type": "code",
   "execution_count": 94,
   "metadata": {
    "collapsed": false
   },
   "outputs": [],
   "source": [
    "# http://scikit-learn.org/stable/modules/generated/sklearn.ensemble.RandomForestRegressor.html\n",
    "#sklearn.ensemble.RandomForestRegressor\n",
    "max_depth = 30\n",
    "regr_rf = RandomForestRegressor(max_depth=max_depth,random_state=2)"
   ]
  },
  {
   "cell_type": "code",
   "execution_count": 95,
   "metadata": {
    "collapsed": false
   },
   "outputs": [],
   "source": [
    "# http://scikit-learn.org/stable/modules/generated/sklearn.ensemble.RandomForestRegressor.html\n",
    "#sklearn.ensemble.RandomForestRegressor\n",
    "max_depth = 30\n",
    "regr_rf = RandomForestRegressor(max_depth=max_depth,random_state=2)\n",
    "# Prepare the descriptive features\n",
    "X = pd.concat([df_all[['Distance','midweek','HourOfDay']]], axis=1)\n",
    "y = df_all.Trip_Time \n",
    "\n",
    "#print(\"Descriptive features:\\n\", X)\n",
    "#print(\"\\nTarget feature:\\n\", y)"
   ]
  },
  {
   "cell_type": "code",
   "execution_count": 80,
   "metadata": {
    "collapsed": false
   },
   "outputs": [
    {
     "data": {
      "text/plain": [
       "RandomForestRegressor(bootstrap=True, criterion='mse', max_depth=30,\n",
       "           max_features='auto', max_leaf_nodes=None,\n",
       "           min_impurity_split=1e-07, min_samples_leaf=1,\n",
       "           min_samples_split=2, min_weight_fraction_leaf=0.0,\n",
       "           n_estimators=10, n_jobs=1, oob_score=False, random_state=2,\n",
       "           verbose=0, warm_start=False)"
      ]
     },
     "execution_count": 80,
     "metadata": {},
     "output_type": "execute_result"
    }
   ],
   "source": [
    "regr_rf.fit(X,y)"
   ]
  },
  {
   "cell_type": "code",
   "execution_count": 81,
   "metadata": {
    "collapsed": false
   },
   "outputs": [
    {
     "data": {
      "text/plain": [
       "0.88622772165524566"
      ]
     },
     "execution_count": 81,
     "metadata": {},
     "output_type": "execute_result"
    }
   ],
   "source": [
    "regr_rf.score(X,y)"
   ]
  },
  {
   "cell_type": "code",
   "execution_count": 82,
   "metadata": {
    "collapsed": false
   },
   "outputs": [
    {
     "data": {
      "text/plain": [
       "['regr_rf_model_no.sav']"
      ]
     },
     "execution_count": 82,
     "metadata": {},
     "output_type": "execute_result"
    }
   ],
   "source": [
    "from sklearn.externals import joblib\n",
    "joblib.dump(regr_rf,'regr_rf_model_no.sav')"
   ]
  },
  {
   "cell_type": "code",
   "execution_count": 83,
   "metadata": {
    "collapsed": true
   },
   "outputs": [],
   "source": [
    "y_regr_rf=regr_rf.predict(X)"
   ]
  },
  {
   "cell_type": "code",
   "execution_count": 84,
   "metadata": {
    "collapsed": false
   },
   "outputs": [
    {
     "data": {
      "image/png": "[encoded data removed]",
      "text/plain": [
       "<matplotlib.figure.Figure at 0x116d12390>"
      ]
     },
     "metadata": {},
     "output_type": "display_data"
    }
   ],
   "source": [
    "#plt.scatter(X['Distance'],y,color='blue', lable='Data')\n",
    "#plt.plot(X['Distance'],y_regr_rf, color='red', lable='Random Forest')\n",
    "\n",
    "plt.scatter(X['Distance'], y, color='darkorange', label='data')\n",
    "plt.savefig('RF_result.png')\n"
   ]
  },
  {
   "cell_type": "code",
   "execution_count": 85,
   "metadata": {
    "collapsed": false
   },
   "outputs": [
    {
     "data": {
      "text/plain": [
       "<matplotlib.collections.PathCollection at 0x117ed6a90>"
      ]
     },
     "execution_count": 85,
     "metadata": {},
     "output_type": "execute_result"
    },
    {
     "data": {
      "image/png": "[encoded data removed]",
      "text/plain": [
       "<matplotlib.figure.Figure at 0x11709e240>"
      ]
     },
     "metadata": {},
     "output_type": "display_data"
    }
   ],
   "source": [
    "plt.scatter(X['Distance'], y_regr_rf, color='navy', label='MRF model')\n",
    "#plt.get_backend()"
   ]
  },
  {
   "cell_type": "code",
   "execution_count": 86,
   "metadata": {
    "collapsed": false
   },
   "outputs": [
    {
     "name": "stdout",
     "output_type": "stream",
     "text": [
      "Mean Absolute Error of RF  331.047770846\n"
     ]
    }
   ],
   "source": [
    "# MAE:  Mean Absolute Error \n",
    "\n",
    "# Mean Absolute Error  of linear:  253.761443277\n",
    "mae = abs(y-regr_rf.predict(X)).mean()\n",
    "print(\"Mean Absolute Error of RF \",mae)"
   ]
  },
  {
   "cell_type": "markdown",
   "metadata": {},
   "source": [
    "# Train all data with Journey Pattern ID Random Forest "
   ]
  },
  {
   "cell_type": "code",
   "execution_count": 87,
   "metadata": {
    "collapsed": false
   },
   "outputs": [],
   "source": [
    "# http://scikit-learn.org/stable/modules/generated/sklearn.ensemble.RandomForestRegressor.html\n",
    "#sklearn.ensemble.RandomForestRegressor\n",
    "max_depth = 30\n",
    "regr_rf = RandomForestRegressor(max_depth=max_depth,random_state=2)\n",
    "# Prepare the descriptive features\n",
    "X = pd.concat([df_all[['Journey_Pattern_ID','Distance','midweek','HourOfDay']]], axis=1)\n",
    "y = df_all.Trip_Time \n",
    "\n",
    "#print(\"Descriptive features:\\n\", X)\n",
    "#print(\"\\nTarget feature:\\n\", y)"
   ]
  },
  {
   "cell_type": "code",
   "execution_count": 88,
   "metadata": {
    "collapsed": false
   },
   "outputs": [
    {
     "data": {
      "text/plain": [
       "Journey_Pattern_ID    object\n",
       "Distance               int64\n",
       "midweek                int64\n",
       "HourOfDay              int64\n",
       "dtype: object"
      ]
     },
     "execution_count": 88,
     "metadata": {},
     "output_type": "execute_result"
    }
   ],
   "source": [
    "X.dtypes"
   ]
  },
  {
   "cell_type": "code",
   "execution_count": 89,
   "metadata": {
    "collapsed": false
   },
   "outputs": [],
   "source": [
    "from sklearn.preprocessing import LabelEncoder\n",
    "le=LabelEncoder()\n",
    "\n",
    "for col in X.columns.values:\n",
    "    if X[col].dtypes=='object':\n",
    "        # Using whole data to form an exhaustive list of levels\n",
    "        data=X[col]\n",
    "        le.fit(data.values)\n",
    "        X[col]=le.transform(X[col])"
   ]
  },
  {
   "cell_type": "code",
   "execution_count": 90,
   "metadata": {
    "collapsed": false
   },
   "outputs": [
    {
     "name": "stdout",
     "output_type": "stream",
     "text": [
      "CPU times: user 1min 13s, sys: 1.58 s, total: 1min 14s\n",
      "Wall time: 1min 16s\n"
     ]
    },
    {
     "data": {
      "text/plain": [
       "RandomForestRegressor(bootstrap=True, criterion='mse', max_depth=30,\n",
       "           max_features='auto', max_leaf_nodes=None,\n",
       "           min_impurity_split=1e-07, min_samples_leaf=1,\n",
       "           min_samples_split=2, min_weight_fraction_leaf=0.0,\n",
       "           n_estimators=10, n_jobs=1, oob_score=False, random_state=2,\n",
       "           verbose=0, warm_start=False)"
      ]
     },
     "execution_count": 90,
     "metadata": {},
     "output_type": "execute_result"
    }
   ],
   "source": [
    "%time regr_rf.fit(X,y)"
   ]
  },
  {
   "cell_type": "code",
   "execution_count": 91,
   "metadata": {
    "collapsed": false
   },
   "outputs": [
    {
     "data": {
      "text/plain": [
       "0.98710536512302793"
      ]
     },
     "execution_count": 91,
     "metadata": {},
     "output_type": "execute_result"
    }
   ],
   "source": [
    "regr_rf.score(X,y)"
   ]
  },
  {
   "cell_type": "code",
   "execution_count": 92,
   "metadata": {
    "collapsed": false
   },
   "outputs": [
    {
     "name": "stdout",
     "output_type": "stream",
     "text": [
      "Mean Absolute Error of RF  100.326528637\n"
     ]
    }
   ],
   "source": [
    "# MAE:  Mean Absolute Error \n",
    "mae = abs(y-regr_rf.predict(X)).mean()\n",
    "print(\"Mean Absolute Error of RF \",mae)"
   ]
  },
  {
   "cell_type": "markdown",
   "metadata": {},
   "source": [
    " ## Result comparison of Random Forest \n",
    "\n",
    "We checked that train all data with Journey Pattern ID feature, the Random Forest model's mea reduced a lot from 331.05s to 100.32s. As Journey Pattern ID is a categorical feature, it actually helps to improve the accuracy of the modeling. \n"
   ]
  }
 ],
 "metadata": {
  "kernelspec": {
   "display_name": "Python 3",
   "language": "python",
   "name": "python3"
  },
  "language_info": {
   "codemirror_mode": {
    "name": "ipython",
    "version": 3
   },
   "file_extension": ".py",
   "mimetype": "text/x-python",
   "name": "python",
   "nbconvert_exporter": "python",
   "pygments_lexer": "ipython3",
   "version": "3.6.0"
  }
 },
 "nbformat": 4,
 "nbformat_minor": 2
}
