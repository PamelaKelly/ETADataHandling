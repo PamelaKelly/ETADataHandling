{
 "cells": [
  {
   "cell_type": "markdown",
   "metadata": {},
   "source": [
    "## Data Cleaning - April's Notebook"
   ]
  },
  {
   "cell_type": "code",
   "execution_count": 1,
   "metadata": {
    "collapsed": true
   },
   "outputs": [],
   "source": [
    "#Import the required packages\n",
    "#Import package pandas for data analysis\n",
    "import pandas as pd\n",
    "\n",
    "# Import package numpy for numeric computing\n",
    "import numpy as np\n",
    "\n",
    "# Import package matplotlib  for visualisation/plotting\n",
    "import matplotlib.pyplot as plt\n",
    "\n",
    "#import matplotlib.patches as mpatches\n",
    "import seaborn as sns\n",
    "\n",
    "#import package matplotlib for import plots to PDF\n",
    "from matplotlib.backends.backend_pdf import PdfPages\n",
    "import datetime\n",
    "#For showing plots directly in the notebook\n",
    "#%matplotlib inline\n",
    "\n",
    "# Reading from a csv file, into a data frame"
   ]
  },
  {
   "cell_type": "code",
   "execution_count": 2,
   "metadata": {
    "collapsed": false
   },
   "outputs": [
    {
     "name": "stdout",
     "output_type": "stream",
     "text": [
      "Wall time: 18 s\n"
     ]
    }
   ],
   "source": [
    "#This is the data of January 2013df\n",
    "%time df = pd.read_csv('2012_one_week.csv')"
   ]
  },
  {
   "cell_type": "code",
   "execution_count": 3,
   "metadata": {
    "collapsed": false
   },
   "outputs": [
    {
     "data": {
      "text/html": [
       "<div>\n",
       "<table border=\"1\" class=\"dataframe\">\n",
       "  <thead>\n",
       "    <tr style=\"text-align: right;\">\n",
       "      <th></th>\n",
       "      <th>Unnamed: 0</th>\n",
       "      <th>Timestamp</th>\n",
       "      <th>Line_ID</th>\n",
       "      <th>Direction</th>\n",
       "      <th>JourneyPattern_ID</th>\n",
       "      <th>Time_Frame</th>\n",
       "      <th>VehicleJourney_ID</th>\n",
       "      <th>Operator</th>\n",
       "      <th>Congestion</th>\n",
       "      <th>Longitude</th>\n",
       "      <th>Latitude</th>\n",
       "      <th>Delay</th>\n",
       "      <th>Block_ID</th>\n",
       "      <th>Vehicle_ID</th>\n",
       "      <th>Stop_ID</th>\n",
       "      <th>At_Stop</th>\n",
       "      <th>Time</th>\n",
       "      <th>Day</th>\n",
       "      <th>datetime</th>\n",
       "    </tr>\n",
       "  </thead>\n",
       "  <tbody>\n",
       "    <tr>\n",
       "      <th>0</th>\n",
       "      <td>0</td>\n",
       "      <td>1352160002000000</td>\n",
       "      <td>41.0</td>\n",
       "      <td>0</td>\n",
       "      <td>041B0002</td>\n",
       "      <td>2012-11-05</td>\n",
       "      <td>61</td>\n",
       "      <td>SL</td>\n",
       "      <td>0</td>\n",
       "      <td>-6.264167</td>\n",
       "      <td>53.453217</td>\n",
       "      <td>-623</td>\n",
       "      <td>41008</td>\n",
       "      <td>33631</td>\n",
       "      <td>3874</td>\n",
       "      <td>1</td>\n",
       "      <td>00:00:02</td>\n",
       "      <td>Tuesday</td>\n",
       "      <td>('00:00:02', 'Tuesday')</td>\n",
       "    </tr>\n",
       "    <tr>\n",
       "      <th>1</th>\n",
       "      <td>1</td>\n",
       "      <td>1352160002000000</td>\n",
       "      <td>27.0</td>\n",
       "      <td>0</td>\n",
       "      <td>00270001</td>\n",
       "      <td>2012-11-05</td>\n",
       "      <td>4976</td>\n",
       "      <td>RD</td>\n",
       "      <td>0</td>\n",
       "      <td>-6.290833</td>\n",
       "      <td>53.319332</td>\n",
       "      <td>0</td>\n",
       "      <td>27011</td>\n",
       "      <td>33415</td>\n",
       "      <td>2355</td>\n",
       "      <td>1</td>\n",
       "      <td>00:00:02</td>\n",
       "      <td>Tuesday</td>\n",
       "      <td>('00:00:02', 'Tuesday')</td>\n",
       "    </tr>\n",
       "    <tr>\n",
       "      <th>2</th>\n",
       "      <td>2</td>\n",
       "      <td>1352160002000000</td>\n",
       "      <td>140.0</td>\n",
       "      <td>0</td>\n",
       "      <td>01400001</td>\n",
       "      <td>2012-11-05</td>\n",
       "      <td>6615</td>\n",
       "      <td>HN</td>\n",
       "      <td>0</td>\n",
       "      <td>-6.276083</td>\n",
       "      <td>53.343884</td>\n",
       "      <td>0</td>\n",
       "      <td>140010</td>\n",
       "      <td>33141</td>\n",
       "      <td>895</td>\n",
       "      <td>1</td>\n",
       "      <td>00:00:02</td>\n",
       "      <td>Tuesday</td>\n",
       "      <td>('00:00:02', 'Tuesday')</td>\n",
       "    </tr>\n",
       "    <tr>\n",
       "      <th>3</th>\n",
       "      <td>3</td>\n",
       "      <td>1352160002000000</td>\n",
       "      <td>83.0</td>\n",
       "      <td>0</td>\n",
       "      <td>083A0001</td>\n",
       "      <td>2012-11-05</td>\n",
       "      <td>7099</td>\n",
       "      <td>HN</td>\n",
       "      <td>0</td>\n",
       "      <td>-6.273733</td>\n",
       "      <td>53.419632</td>\n",
       "      <td>0</td>\n",
       "      <td>83002</td>\n",
       "      <td>40019</td>\n",
       "      <td>324</td>\n",
       "      <td>1</td>\n",
       "      <td>00:00:02</td>\n",
       "      <td>Tuesday</td>\n",
       "      <td>('00:00:02', 'Tuesday')</td>\n",
       "    </tr>\n",
       "    <tr>\n",
       "      <th>4</th>\n",
       "      <td>4</td>\n",
       "      <td>1352160002000000</td>\n",
       "      <td>16.0</td>\n",
       "      <td>0</td>\n",
       "      <td>016C0001</td>\n",
       "      <td>2012-11-05</td>\n",
       "      <td>6175</td>\n",
       "      <td>SL</td>\n",
       "      <td>0</td>\n",
       "      <td>-6.254583</td>\n",
       "      <td>53.355534</td>\n",
       "      <td>-23</td>\n",
       "      <td>16017</td>\n",
       "      <td>33633</td>\n",
       "      <td>270</td>\n",
       "      <td>1</td>\n",
       "      <td>00:00:02</td>\n",
       "      <td>Tuesday</td>\n",
       "      <td>('00:00:02', 'Tuesday')</td>\n",
       "    </tr>\n",
       "  </tbody>\n",
       "</table>\n",
       "</div>"
      ],
      "text/plain": [
       "   Unnamed: 0         Timestamp  Line_ID  Direction JourneyPattern_ID  \\\n",
       "0           0  1352160002000000     41.0          0          041B0002   \n",
       "1           1  1352160002000000     27.0          0          00270001   \n",
       "2           2  1352160002000000    140.0          0          01400001   \n",
       "3           3  1352160002000000     83.0          0          083A0001   \n",
       "4           4  1352160002000000     16.0          0          016C0001   \n",
       "\n",
       "   Time_Frame  VehicleJourney_ID Operator  Congestion  Longitude   Latitude  \\\n",
       "0  2012-11-05                 61       SL           0  -6.264167  53.453217   \n",
       "1  2012-11-05               4976       RD           0  -6.290833  53.319332   \n",
       "2  2012-11-05               6615       HN           0  -6.276083  53.343884   \n",
       "3  2012-11-05               7099       HN           0  -6.273733  53.419632   \n",
       "4  2012-11-05               6175       SL           0  -6.254583  53.355534   \n",
       "\n",
       "   Delay  Block_ID  Vehicle_ID  Stop_ID  At_Stop      Time      Day  \\\n",
       "0   -623     41008       33631     3874        1  00:00:02  Tuesday   \n",
       "1      0     27011       33415     2355        1  00:00:02  Tuesday   \n",
       "2      0    140010       33141      895        1  00:00:02  Tuesday   \n",
       "3      0     83002       40019      324        1  00:00:02  Tuesday   \n",
       "4    -23     16017       33633      270        1  00:00:02  Tuesday   \n",
       "\n",
       "                  datetime  \n",
       "0  ('00:00:02', 'Tuesday')  \n",
       "1  ('00:00:02', 'Tuesday')  \n",
       "2  ('00:00:02', 'Tuesday')  \n",
       "3  ('00:00:02', 'Tuesday')  \n",
       "4  ('00:00:02', 'Tuesday')  "
      ]
     },
     "execution_count": 3,
     "metadata": {},
     "output_type": "execute_result"
    }
   ],
   "source": [
    "df.head(5)"
   ]
  },
  {
   "cell_type": "code",
   "execution_count": 4,
   "metadata": {
    "collapsed": false
   },
   "outputs": [
    {
     "data": {
      "text/plain": [
       "Timestamp              int64\n",
       "Line_ID              float64\n",
       "Direction              int64\n",
       "JourneyPattern_ID     object\n",
       "Time_Frame            object\n",
       "VehicleJourney_ID      int64\n",
       "Operator              object\n",
       "Congestion             int64\n",
       "Longitude            float64\n",
       "Latitude             float64\n",
       "Delay                  int64\n",
       "Block_ID               int64\n",
       "Vehicle_ID             int64\n",
       "Stop_ID                int64\n",
       "At_Stop                int64\n",
       "Time                  object\n",
       "Day                   object\n",
       "datetime              object\n",
       "dtype: object"
      ]
     },
     "execution_count": 4,
     "metadata": {},
     "output_type": "execute_result"
    }
   ],
   "source": [
    "#Drop the index column and line_id \n",
    "df.drop(df.columns[[0]], axis=1, inplace=True)\n",
    "df.dtypes"
   ]
  },
  {
   "cell_type": "code",
   "execution_count": 5,
   "metadata": {
    "collapsed": false
   },
   "outputs": [
    {
     "data": {
      "text/plain": [
       "(2337254, 18)"
      ]
     },
     "execution_count": 5,
     "metadata": {},
     "output_type": "execute_result"
    }
   ],
   "source": [
    "df.shape"
   ]
  },
  {
   "cell_type": "code",
   "execution_count": 6,
   "metadata": {
    "collapsed": false
   },
   "outputs": [
    {
     "data": {
      "text/html": [
       "<div>\n",
       "<table border=\"1\" class=\"dataframe\">\n",
       "  <thead>\n",
       "    <tr style=\"text-align: right;\">\n",
       "      <th></th>\n",
       "      <th>Timestamp</th>\n",
       "      <th>Line_ID</th>\n",
       "      <th>Direction</th>\n",
       "      <th>JourneyPattern_ID</th>\n",
       "      <th>Time_Frame</th>\n",
       "      <th>VehicleJourney_ID</th>\n",
       "      <th>Operator</th>\n",
       "      <th>Congestion</th>\n",
       "      <th>Longitude</th>\n",
       "      <th>Latitude</th>\n",
       "      <th>Delay</th>\n",
       "      <th>Block_ID</th>\n",
       "      <th>Vehicle_ID</th>\n",
       "      <th>Stop_ID</th>\n",
       "      <th>At_Stop</th>\n",
       "      <th>Time</th>\n",
       "      <th>Day</th>\n",
       "      <th>datetime</th>\n",
       "    </tr>\n",
       "  </thead>\n",
       "  <tbody>\n",
       "    <tr>\n",
       "      <th>0</th>\n",
       "      <td>1352160002000000</td>\n",
       "      <td>41.0</td>\n",
       "      <td>0</td>\n",
       "      <td>041B0002</td>\n",
       "      <td>2012-11-05</td>\n",
       "      <td>61</td>\n",
       "      <td>SL</td>\n",
       "      <td>0</td>\n",
       "      <td>-6.264167</td>\n",
       "      <td>53.453217</td>\n",
       "      <td>-623</td>\n",
       "      <td>41008</td>\n",
       "      <td>33631</td>\n",
       "      <td>3874</td>\n",
       "      <td>1</td>\n",
       "      <td>00:00:02</td>\n",
       "      <td>Tuesday</td>\n",
       "      <td>('00:00:02', 'Tuesday')</td>\n",
       "    </tr>\n",
       "    <tr>\n",
       "      <th>1</th>\n",
       "      <td>1352160002000000</td>\n",
       "      <td>27.0</td>\n",
       "      <td>0</td>\n",
       "      <td>00270001</td>\n",
       "      <td>2012-11-05</td>\n",
       "      <td>4976</td>\n",
       "      <td>RD</td>\n",
       "      <td>0</td>\n",
       "      <td>-6.290833</td>\n",
       "      <td>53.319332</td>\n",
       "      <td>0</td>\n",
       "      <td>27011</td>\n",
       "      <td>33415</td>\n",
       "      <td>2355</td>\n",
       "      <td>1</td>\n",
       "      <td>00:00:02</td>\n",
       "      <td>Tuesday</td>\n",
       "      <td>('00:00:02', 'Tuesday')</td>\n",
       "    </tr>\n",
       "    <tr>\n",
       "      <th>2</th>\n",
       "      <td>1352160002000000</td>\n",
       "      <td>140.0</td>\n",
       "      <td>0</td>\n",
       "      <td>01400001</td>\n",
       "      <td>2012-11-05</td>\n",
       "      <td>6615</td>\n",
       "      <td>HN</td>\n",
       "      <td>0</td>\n",
       "      <td>-6.276083</td>\n",
       "      <td>53.343884</td>\n",
       "      <td>0</td>\n",
       "      <td>140010</td>\n",
       "      <td>33141</td>\n",
       "      <td>895</td>\n",
       "      <td>1</td>\n",
       "      <td>00:00:02</td>\n",
       "      <td>Tuesday</td>\n",
       "      <td>('00:00:02', 'Tuesday')</td>\n",
       "    </tr>\n",
       "  </tbody>\n",
       "</table>\n",
       "</div>"
      ],
      "text/plain": [
       "          Timestamp  Line_ID  Direction JourneyPattern_ID  Time_Frame  \\\n",
       "0  1352160002000000     41.0          0          041B0002  2012-11-05   \n",
       "1  1352160002000000     27.0          0          00270001  2012-11-05   \n",
       "2  1352160002000000    140.0          0          01400001  2012-11-05   \n",
       "\n",
       "   VehicleJourney_ID Operator  Congestion  Longitude   Latitude  Delay  \\\n",
       "0                 61       SL           0  -6.264167  53.453217   -623   \n",
       "1               4976       RD           0  -6.290833  53.319332      0   \n",
       "2               6615       HN           0  -6.276083  53.343884      0   \n",
       "\n",
       "   Block_ID  Vehicle_ID  Stop_ID  At_Stop      Time      Day  \\\n",
       "0     41008       33631     3874        1  00:00:02  Tuesday   \n",
       "1     27011       33415     2355        1  00:00:02  Tuesday   \n",
       "2    140010       33141      895        1  00:00:02  Tuesday   \n",
       "\n",
       "                  datetime  \n",
       "0  ('00:00:02', 'Tuesday')  \n",
       "1  ('00:00:02', 'Tuesday')  \n",
       "2  ('00:00:02', 'Tuesday')  "
      ]
     },
     "execution_count": 6,
     "metadata": {},
     "output_type": "execute_result"
    }
   ],
   "source": [
    "df.head(3)"
   ]
  },
  {
   "cell_type": "code",
   "execution_count": 7,
   "metadata": {
    "collapsed": false
   },
   "outputs": [],
   "source": [
    "df.drop(df.columns[[1, 2, 8, 9, 14, 17]], axis=1, inplace=True)\n",
    "#df['datetime'] = pd.to_datetime(df['datetime'])\n",
    "#df['Date']=df['datetime'].dt.date"
   ]
  },
  {
   "cell_type": "code",
   "execution_count": 8,
   "metadata": {
    "collapsed": false
   },
   "outputs": [
    {
     "data": {
      "text/html": [
       "<div>\n",
       "<table border=\"1\" class=\"dataframe\">\n",
       "  <thead>\n",
       "    <tr style=\"text-align: right;\">\n",
       "      <th></th>\n",
       "      <th>Timestamp</th>\n",
       "      <th>JourneyPattern_ID</th>\n",
       "      <th>Time_Frame</th>\n",
       "      <th>VehicleJourney_ID</th>\n",
       "      <th>Operator</th>\n",
       "      <th>Congestion</th>\n",
       "      <th>Delay</th>\n",
       "      <th>Block_ID</th>\n",
       "      <th>Vehicle_ID</th>\n",
       "      <th>Stop_ID</th>\n",
       "      <th>Time</th>\n",
       "      <th>Day</th>\n",
       "    </tr>\n",
       "  </thead>\n",
       "  <tbody>\n",
       "    <tr>\n",
       "      <th>0</th>\n",
       "      <td>1352160002000000</td>\n",
       "      <td>041B0002</td>\n",
       "      <td>2012-11-05</td>\n",
       "      <td>61</td>\n",
       "      <td>SL</td>\n",
       "      <td>0</td>\n",
       "      <td>-623</td>\n",
       "      <td>41008</td>\n",
       "      <td>33631</td>\n",
       "      <td>3874</td>\n",
       "      <td>00:00:02</td>\n",
       "      <td>Tuesday</td>\n",
       "    </tr>\n",
       "    <tr>\n",
       "      <th>1</th>\n",
       "      <td>1352160002000000</td>\n",
       "      <td>00270001</td>\n",
       "      <td>2012-11-05</td>\n",
       "      <td>4976</td>\n",
       "      <td>RD</td>\n",
       "      <td>0</td>\n",
       "      <td>0</td>\n",
       "      <td>27011</td>\n",
       "      <td>33415</td>\n",
       "      <td>2355</td>\n",
       "      <td>00:00:02</td>\n",
       "      <td>Tuesday</td>\n",
       "    </tr>\n",
       "    <tr>\n",
       "      <th>2</th>\n",
       "      <td>1352160002000000</td>\n",
       "      <td>01400001</td>\n",
       "      <td>2012-11-05</td>\n",
       "      <td>6615</td>\n",
       "      <td>HN</td>\n",
       "      <td>0</td>\n",
       "      <td>0</td>\n",
       "      <td>140010</td>\n",
       "      <td>33141</td>\n",
       "      <td>895</td>\n",
       "      <td>00:00:02</td>\n",
       "      <td>Tuesday</td>\n",
       "    </tr>\n",
       "  </tbody>\n",
       "</table>\n",
       "</div>"
      ],
      "text/plain": [
       "          Timestamp JourneyPattern_ID  Time_Frame  VehicleJourney_ID Operator  \\\n",
       "0  1352160002000000          041B0002  2012-11-05                 61       SL   \n",
       "1  1352160002000000          00270001  2012-11-05               4976       RD   \n",
       "2  1352160002000000          01400001  2012-11-05               6615       HN   \n",
       "\n",
       "   Congestion  Delay  Block_ID  Vehicle_ID  Stop_ID      Time      Day  \n",
       "0           0   -623     41008       33631     3874  00:00:02  Tuesday  \n",
       "1           0      0     27011       33415     2355  00:00:02  Tuesday  \n",
       "2           0      0    140010       33141      895  00:00:02  Tuesday  "
      ]
     },
     "execution_count": 8,
     "metadata": {},
     "output_type": "execute_result"
    }
   ],
   "source": [
    "df.head(3)"
   ]
  },
  {
   "cell_type": "code",
   "execution_count": 9,
   "metadata": {
    "collapsed": false,
    "scrolled": true
   },
   "outputs": [
    {
     "data": {
      "text/plain": [
       "Timestamp             int64\n",
       "JourneyPattern_ID    object\n",
       "Time_Frame           object\n",
       "VehicleJourney_ID     int64\n",
       "Operator             object\n",
       "Congestion            int64\n",
       "Delay                 int64\n",
       "Block_ID              int64\n",
       "Vehicle_ID            int64\n",
       "Stop_ID               int64\n",
       "Time                 object\n",
       "Day                  object\n",
       "dtype: object"
      ]
     },
     "execution_count": 9,
     "metadata": {},
     "output_type": "execute_result"
    }
   ],
   "source": [
    "df.dtypes"
   ]
  },
  {
   "cell_type": "code",
   "execution_count": 10,
   "metadata": {
    "collapsed": false
   },
   "outputs": [
    {
     "data": {
      "text/html": [
       "<div>\n",
       "<table border=\"1\" class=\"dataframe\">\n",
       "  <thead>\n",
       "    <tr style=\"text-align: right;\">\n",
       "      <th></th>\n",
       "      <th>Timestamp</th>\n",
       "      <th>JourneyPattern_ID</th>\n",
       "      <th>Time_Frame</th>\n",
       "      <th>VehicleJourney_ID</th>\n",
       "      <th>Operator</th>\n",
       "      <th>Congestion</th>\n",
       "      <th>Delay</th>\n",
       "      <th>Block_ID</th>\n",
       "      <th>Vehicle_ID</th>\n",
       "      <th>Stop_ID</th>\n",
       "      <th>Time</th>\n",
       "      <th>Day</th>\n",
       "    </tr>\n",
       "  </thead>\n",
       "  <tbody>\n",
       "    <tr>\n",
       "      <th>0</th>\n",
       "      <td>1352160002</td>\n",
       "      <td>041B0002</td>\n",
       "      <td>2012-11-05</td>\n",
       "      <td>61</td>\n",
       "      <td>SL</td>\n",
       "      <td>0</td>\n",
       "      <td>-623</td>\n",
       "      <td>41008</td>\n",
       "      <td>33631</td>\n",
       "      <td>3874</td>\n",
       "      <td>00:00:02</td>\n",
       "      <td>Tuesday</td>\n",
       "    </tr>\n",
       "    <tr>\n",
       "      <th>1</th>\n",
       "      <td>1352160002</td>\n",
       "      <td>00270001</td>\n",
       "      <td>2012-11-05</td>\n",
       "      <td>4976</td>\n",
       "      <td>RD</td>\n",
       "      <td>0</td>\n",
       "      <td>0</td>\n",
       "      <td>27011</td>\n",
       "      <td>33415</td>\n",
       "      <td>2355</td>\n",
       "      <td>00:00:02</td>\n",
       "      <td>Tuesday</td>\n",
       "    </tr>\n",
       "    <tr>\n",
       "      <th>2</th>\n",
       "      <td>1352160002</td>\n",
       "      <td>01400001</td>\n",
       "      <td>2012-11-05</td>\n",
       "      <td>6615</td>\n",
       "      <td>HN</td>\n",
       "      <td>0</td>\n",
       "      <td>0</td>\n",
       "      <td>140010</td>\n",
       "      <td>33141</td>\n",
       "      <td>895</td>\n",
       "      <td>00:00:02</td>\n",
       "      <td>Tuesday</td>\n",
       "    </tr>\n",
       "  </tbody>\n",
       "</table>\n",
       "</div>"
      ],
      "text/plain": [
       "    Timestamp JourneyPattern_ID  Time_Frame  VehicleJourney_ID Operator  \\\n",
       "0  1352160002          041B0002  2012-11-05                 61       SL   \n",
       "1  1352160002          00270001  2012-11-05               4976       RD   \n",
       "2  1352160002          01400001  2012-11-05               6615       HN   \n",
       "\n",
       "   Congestion  Delay  Block_ID  Vehicle_ID  Stop_ID      Time      Day  \n",
       "0           0   -623     41008       33631     3874  00:00:02  Tuesday  \n",
       "1           0      0     27011       33415     2355  00:00:02  Tuesday  \n",
       "2           0      0    140010       33141      895  00:00:02  Tuesday  "
      ]
     },
     "execution_count": 10,
     "metadata": {},
     "output_type": "execute_result"
    }
   ],
   "source": [
    "df['Timestamp'] = df['Timestamp'] //1000000\n",
    "df.head(3)"
   ]
  },
  {
   "cell_type": "code",
   "execution_count": 11,
   "metadata": {
    "collapsed": false
   },
   "outputs": [
    {
     "data": {
      "text/html": [
       "<div>\n",
       "<table border=\"1\" class=\"dataframe\">\n",
       "  <thead>\n",
       "    <tr style=\"text-align: right;\">\n",
       "      <th></th>\n",
       "      <th>count</th>\n",
       "      <th>unique</th>\n",
       "      <th>top</th>\n",
       "      <th>freq</th>\n",
       "    </tr>\n",
       "  </thead>\n",
       "  <tbody>\n",
       "    <tr>\n",
       "      <th>JourneyPattern_ID</th>\n",
       "      <td>2337224</td>\n",
       "      <td>472</td>\n",
       "      <td>046A1001</td>\n",
       "      <td>59284</td>\n",
       "    </tr>\n",
       "    <tr>\n",
       "      <th>VehicleJourney_ID</th>\n",
       "      <td>2337254</td>\n",
       "      <td>17323</td>\n",
       "      <td>6059</td>\n",
       "      <td>1528</td>\n",
       "    </tr>\n",
       "    <tr>\n",
       "      <th>Stop_ID</th>\n",
       "      <td>2337254</td>\n",
       "      <td>4563</td>\n",
       "      <td>2039</td>\n",
       "      <td>43374</td>\n",
       "    </tr>\n",
       "    <tr>\n",
       "      <th>Day</th>\n",
       "      <td>2337254</td>\n",
       "      <td>7</td>\n",
       "      <td>Monday</td>\n",
       "      <td>395784</td>\n",
       "    </tr>\n",
       "  </tbody>\n",
       "</table>\n",
       "</div>"
      ],
      "text/plain": [
       "                     count unique       top    freq\n",
       "JourneyPattern_ID  2337224    472  046A1001   59284\n",
       "VehicleJourney_ID  2337254  17323      6059    1528\n",
       "Stop_ID            2337254   4563      2039   43374\n",
       "Day                2337254      7    Monday  395784"
      ]
     },
     "execution_count": 11,
     "metadata": {},
     "output_type": "execute_result"
    }
   ],
   "source": [
    "# Select columns containing categorical data\n",
    "categorical_columns = df[['JourneyPattern_ID','VehicleJourney_ID','Stop_ID', 'Day']].columns\n",
    "\n",
    "# Convert data type to category for these columns\n",
    "for column in categorical_columns:\n",
    "    df[column] = df[column].astype('category')\n",
    "# Descriptive stats for categorical features\n",
    "#df.select_dtypes(['category']).describe().T\n",
    "df[categorical_columns].describe().T"
   ]
  },
  {
   "cell_type": "code",
   "execution_count": null,
   "metadata": {
    "collapsed": false
   },
   "outputs": [],
   "source": []
  },
  {
   "cell_type": "markdown",
   "metadata": {},
   "source": [
    "# Delete all rows which are not in a journey and not at stop"
   ]
  },
  {
   "cell_type": "code",
   "execution_count": 12,
   "metadata": {
    "collapsed": false
   },
   "outputs": [],
   "source": [
    "df_groupby=df.groupby(['VehicleJourney_ID','JourneyPattern_ID'])\n",
    "\n",
    "size = df_groupby.size()\n",
    "#size=size[size<13]\n",
    "\n",
    "keys=df_groupby.groups"
   ]
  },
  {
   "cell_type": "code",
   "execution_count": 13,
   "metadata": {
    "collapsed": false
   },
   "outputs": [],
   "source": [
    "# Filter all the data only have \n",
    "df2=df_groupby.filter(lambda x: len(x) < 13)"
   ]
  },
  {
   "cell_type": "code",
   "execution_count": 16,
   "metadata": {
    "collapsed": true
   },
   "outputs": [],
   "source": [
    "df=pd.concat([df, df2]).drop_duplicates(keep=False)"
   ]
  },
  {
   "cell_type": "code",
   "execution_count": 17,
   "metadata": {
    "collapsed": false
   },
   "outputs": [
    {
     "name": "stdout",
     "output_type": "stream",
     "text": [
      "Wall time: 674 ms\n"
     ]
    },
    {
     "data": {
      "text/html": [
       "<div>\n",
       "<table border=\"1\" class=\"dataframe\">\n",
       "  <thead>\n",
       "    <tr style=\"text-align: right;\">\n",
       "      <th></th>\n",
       "      <th>VehicleJourney_ID</th>\n",
       "      <th>JourneyPattern_ID</th>\n",
       "      <th>Day</th>\n",
       "      <th>count</th>\n",
       "    </tr>\n",
       "  </thead>\n",
       "  <tbody>\n",
       "    <tr>\n",
       "      <th>0</th>\n",
       "      <td>1</td>\n",
       "      <td>033A1002</td>\n",
       "      <td>Friday</td>\n",
       "      <td>11</td>\n",
       "    </tr>\n",
       "    <tr>\n",
       "      <th>1</th>\n",
       "      <td>1</td>\n",
       "      <td>033A1002</td>\n",
       "      <td>Monday</td>\n",
       "      <td>11</td>\n",
       "    </tr>\n",
       "    <tr>\n",
       "      <th>2</th>\n",
       "      <td>1</td>\n",
       "      <td>033A1002</td>\n",
       "      <td>Thursday</td>\n",
       "      <td>17</td>\n",
       "    </tr>\n",
       "    <tr>\n",
       "      <th>3</th>\n",
       "      <td>1</td>\n",
       "      <td>033A1002</td>\n",
       "      <td>Tuesday</td>\n",
       "      <td>56</td>\n",
       "    </tr>\n",
       "    <tr>\n",
       "      <th>4</th>\n",
       "      <td>1</td>\n",
       "      <td>033A1002</td>\n",
       "      <td>Wednesday</td>\n",
       "      <td>17</td>\n",
       "    </tr>\n",
       "    <tr>\n",
       "      <th>5</th>\n",
       "      <td>2</td>\n",
       "      <td>033A0001</td>\n",
       "      <td>Friday</td>\n",
       "      <td>14</td>\n",
       "    </tr>\n",
       "    <tr>\n",
       "      <th>6</th>\n",
       "      <td>2</td>\n",
       "      <td>033A0001</td>\n",
       "      <td>Thursday</td>\n",
       "      <td>45</td>\n",
       "    </tr>\n",
       "    <tr>\n",
       "      <th>7</th>\n",
       "      <td>2</td>\n",
       "      <td>033A0001</td>\n",
       "      <td>Tuesday</td>\n",
       "      <td>33</td>\n",
       "    </tr>\n",
       "    <tr>\n",
       "      <th>8</th>\n",
       "      <td>2</td>\n",
       "      <td>033A0001</td>\n",
       "      <td>Wednesday</td>\n",
       "      <td>33</td>\n",
       "    </tr>\n",
       "    <tr>\n",
       "      <th>9</th>\n",
       "      <td>2</td>\n",
       "      <td>033A1002</td>\n",
       "      <td>Wednesday</td>\n",
       "      <td>1</td>\n",
       "    </tr>\n",
       "    <tr>\n",
       "      <th>10</th>\n",
       "      <td>2</td>\n",
       "      <td>null</td>\n",
       "      <td>Thursday</td>\n",
       "      <td>1</td>\n",
       "    </tr>\n",
       "    <tr>\n",
       "      <th>11</th>\n",
       "      <td>4</td>\n",
       "      <td>00411001</td>\n",
       "      <td>Friday</td>\n",
       "      <td>14</td>\n",
       "    </tr>\n",
       "    <tr>\n",
       "      <th>12</th>\n",
       "      <td>4</td>\n",
       "      <td>00411001</td>\n",
       "      <td>Monday</td>\n",
       "      <td>58</td>\n",
       "    </tr>\n",
       "    <tr>\n",
       "      <th>13</th>\n",
       "      <td>4</td>\n",
       "      <td>00411001</td>\n",
       "      <td>Thursday</td>\n",
       "      <td>61</td>\n",
       "    </tr>\n",
       "    <tr>\n",
       "      <th>14</th>\n",
       "      <td>4</td>\n",
       "      <td>00411001</td>\n",
       "      <td>Tuesday</td>\n",
       "      <td>68</td>\n",
       "    </tr>\n",
       "    <tr>\n",
       "      <th>15</th>\n",
       "      <td>4</td>\n",
       "      <td>00411001</td>\n",
       "      <td>Wednesday</td>\n",
       "      <td>47</td>\n",
       "    </tr>\n",
       "    <tr>\n",
       "      <th>16</th>\n",
       "      <td>5</td>\n",
       "      <td>00411001</td>\n",
       "      <td>Friday</td>\n",
       "      <td>1</td>\n",
       "    </tr>\n",
       "    <tr>\n",
       "      <th>17</th>\n",
       "      <td>5</td>\n",
       "      <td>00411001</td>\n",
       "      <td>Thursday</td>\n",
       "      <td>1</td>\n",
       "    </tr>\n",
       "    <tr>\n",
       "      <th>18</th>\n",
       "      <td>5</td>\n",
       "      <td>00411001</td>\n",
       "      <td>Tuesday</td>\n",
       "      <td>1</td>\n",
       "    </tr>\n",
       "    <tr>\n",
       "      <th>19</th>\n",
       "      <td>5</td>\n",
       "      <td>00411001</td>\n",
       "      <td>Wednesday</td>\n",
       "      <td>1</td>\n",
       "    </tr>\n",
       "    <tr>\n",
       "      <th>20</th>\n",
       "      <td>5</td>\n",
       "      <td>041C0001</td>\n",
       "      <td>Friday</td>\n",
       "      <td>24</td>\n",
       "    </tr>\n",
       "    <tr>\n",
       "      <th>21</th>\n",
       "      <td>5</td>\n",
       "      <td>041C0001</td>\n",
       "      <td>Monday</td>\n",
       "      <td>41</td>\n",
       "    </tr>\n",
       "    <tr>\n",
       "      <th>22</th>\n",
       "      <td>5</td>\n",
       "      <td>041C0001</td>\n",
       "      <td>Thursday</td>\n",
       "      <td>56</td>\n",
       "    </tr>\n",
       "    <tr>\n",
       "      <th>23</th>\n",
       "      <td>5</td>\n",
       "      <td>041C0001</td>\n",
       "      <td>Tuesday</td>\n",
       "      <td>70</td>\n",
       "    </tr>\n",
       "    <tr>\n",
       "      <th>24</th>\n",
       "      <td>5</td>\n",
       "      <td>041C0001</td>\n",
       "      <td>Wednesday</td>\n",
       "      <td>48</td>\n",
       "    </tr>\n",
       "    <tr>\n",
       "      <th>25</th>\n",
       "      <td>6</td>\n",
       "      <td>00411002</td>\n",
       "      <td>Friday</td>\n",
       "      <td>37</td>\n",
       "    </tr>\n",
       "    <tr>\n",
       "      <th>26</th>\n",
       "      <td>6</td>\n",
       "      <td>00411002</td>\n",
       "      <td>Monday</td>\n",
       "      <td>48</td>\n",
       "    </tr>\n",
       "    <tr>\n",
       "      <th>27</th>\n",
       "      <td>6</td>\n",
       "      <td>00411002</td>\n",
       "      <td>Thursday</td>\n",
       "      <td>53</td>\n",
       "    </tr>\n",
       "    <tr>\n",
       "      <th>28</th>\n",
       "      <td>6</td>\n",
       "      <td>00411002</td>\n",
       "      <td>Tuesday</td>\n",
       "      <td>39</td>\n",
       "    </tr>\n",
       "    <tr>\n",
       "      <th>29</th>\n",
       "      <td>6</td>\n",
       "      <td>00411002</td>\n",
       "      <td>Wednesday</td>\n",
       "      <td>42</td>\n",
       "    </tr>\n",
       "    <tr>\n",
       "      <th>...</th>\n",
       "      <td>...</td>\n",
       "      <td>...</td>\n",
       "      <td>...</td>\n",
       "      <td>...</td>\n",
       "    </tr>\n",
       "    <tr>\n",
       "      <th>74668</th>\n",
       "      <td>990180</td>\n",
       "      <td>00071001</td>\n",
       "      <td>Thursday</td>\n",
       "      <td>45</td>\n",
       "    </tr>\n",
       "    <tr>\n",
       "      <th>74669</th>\n",
       "      <td>990640</td>\n",
       "      <td>00041001</td>\n",
       "      <td>Friday</td>\n",
       "      <td>1</td>\n",
       "    </tr>\n",
       "    <tr>\n",
       "      <th>74670</th>\n",
       "      <td>990706</td>\n",
       "      <td>00411001</td>\n",
       "      <td>Friday</td>\n",
       "      <td>44</td>\n",
       "    </tr>\n",
       "    <tr>\n",
       "      <th>74671</th>\n",
       "      <td>990711</td>\n",
       "      <td>00271001</td>\n",
       "      <td>Sunday</td>\n",
       "      <td>4</td>\n",
       "    </tr>\n",
       "    <tr>\n",
       "      <th>74672</th>\n",
       "      <td>990905</td>\n",
       "      <td>00311001</td>\n",
       "      <td>Tuesday</td>\n",
       "      <td>8</td>\n",
       "    </tr>\n",
       "    <tr>\n",
       "      <th>74673</th>\n",
       "      <td>990912</td>\n",
       "      <td>077A1001</td>\n",
       "      <td>Wednesday</td>\n",
       "      <td>17</td>\n",
       "    </tr>\n",
       "    <tr>\n",
       "      <th>74674</th>\n",
       "      <td>991396</td>\n",
       "      <td>045A1004</td>\n",
       "      <td>Wednesday</td>\n",
       "      <td>1</td>\n",
       "    </tr>\n",
       "    <tr>\n",
       "      <th>74675</th>\n",
       "      <td>991654</td>\n",
       "      <td>00041001</td>\n",
       "      <td>Friday</td>\n",
       "      <td>6</td>\n",
       "    </tr>\n",
       "    <tr>\n",
       "      <th>74676</th>\n",
       "      <td>992606</td>\n",
       "      <td>025A0001</td>\n",
       "      <td>Monday</td>\n",
       "      <td>9</td>\n",
       "    </tr>\n",
       "    <tr>\n",
       "      <th>74677</th>\n",
       "      <td>992714</td>\n",
       "      <td>046A1001</td>\n",
       "      <td>Monday</td>\n",
       "      <td>12</td>\n",
       "    </tr>\n",
       "    <tr>\n",
       "      <th>74678</th>\n",
       "      <td>993235</td>\n",
       "      <td>00161001</td>\n",
       "      <td>Friday</td>\n",
       "      <td>25</td>\n",
       "    </tr>\n",
       "    <tr>\n",
       "      <th>74679</th>\n",
       "      <td>993374</td>\n",
       "      <td>00390001</td>\n",
       "      <td>Wednesday</td>\n",
       "      <td>67</td>\n",
       "    </tr>\n",
       "    <tr>\n",
       "      <th>74680</th>\n",
       "      <td>993439</td>\n",
       "      <td>00071002</td>\n",
       "      <td>Friday</td>\n",
       "      <td>1</td>\n",
       "    </tr>\n",
       "    <tr>\n",
       "      <th>74681</th>\n",
       "      <td>993669</td>\n",
       "      <td>029A1001</td>\n",
       "      <td>Wednesday</td>\n",
       "      <td>1</td>\n",
       "    </tr>\n",
       "    <tr>\n",
       "      <th>74682</th>\n",
       "      <td>994052</td>\n",
       "      <td>039A0002</td>\n",
       "      <td>Friday</td>\n",
       "      <td>18</td>\n",
       "    </tr>\n",
       "    <tr>\n",
       "      <th>74683</th>\n",
       "      <td>994351</td>\n",
       "      <td>00380001</td>\n",
       "      <td>Monday</td>\n",
       "      <td>7</td>\n",
       "    </tr>\n",
       "    <tr>\n",
       "      <th>74684</th>\n",
       "      <td>994364</td>\n",
       "      <td>00071001</td>\n",
       "      <td>Monday</td>\n",
       "      <td>3</td>\n",
       "    </tr>\n",
       "    <tr>\n",
       "      <th>74685</th>\n",
       "      <td>994421</td>\n",
       "      <td>025A1001</td>\n",
       "      <td>Thursday</td>\n",
       "      <td>16</td>\n",
       "    </tr>\n",
       "    <tr>\n",
       "      <th>74686</th>\n",
       "      <td>995509</td>\n",
       "      <td>025A1001</td>\n",
       "      <td>Friday</td>\n",
       "      <td>25</td>\n",
       "    </tr>\n",
       "    <tr>\n",
       "      <th>74687</th>\n",
       "      <td>995782</td>\n",
       "      <td>00750001</td>\n",
       "      <td>Friday</td>\n",
       "      <td>5</td>\n",
       "    </tr>\n",
       "    <tr>\n",
       "      <th>74688</th>\n",
       "      <td>996115</td>\n",
       "      <td>00171001</td>\n",
       "      <td>Tuesday</td>\n",
       "      <td>10</td>\n",
       "    </tr>\n",
       "    <tr>\n",
       "      <th>74689</th>\n",
       "      <td>996128</td>\n",
       "      <td>01501001</td>\n",
       "      <td>Tuesday</td>\n",
       "      <td>1</td>\n",
       "    </tr>\n",
       "    <tr>\n",
       "      <th>74690</th>\n",
       "      <td>996843</td>\n",
       "      <td>00131002</td>\n",
       "      <td>Wednesday</td>\n",
       "      <td>13</td>\n",
       "    </tr>\n",
       "    <tr>\n",
       "      <th>74691</th>\n",
       "      <td>997845</td>\n",
       "      <td>00750001</td>\n",
       "      <td>Monday</td>\n",
       "      <td>2</td>\n",
       "    </tr>\n",
       "    <tr>\n",
       "      <th>74692</th>\n",
       "      <td>997891</td>\n",
       "      <td>00131002</td>\n",
       "      <td>Friday</td>\n",
       "      <td>1</td>\n",
       "    </tr>\n",
       "    <tr>\n",
       "      <th>74693</th>\n",
       "      <td>998471</td>\n",
       "      <td>00011001</td>\n",
       "      <td>Saturday</td>\n",
       "      <td>37</td>\n",
       "    </tr>\n",
       "    <tr>\n",
       "      <th>74694</th>\n",
       "      <td>998547</td>\n",
       "      <td>077A0001</td>\n",
       "      <td>Friday</td>\n",
       "      <td>32</td>\n",
       "    </tr>\n",
       "    <tr>\n",
       "      <th>74695</th>\n",
       "      <td>998685</td>\n",
       "      <td>00071001</td>\n",
       "      <td>Thursday</td>\n",
       "      <td>3</td>\n",
       "    </tr>\n",
       "    <tr>\n",
       "      <th>74696</th>\n",
       "      <td>999390</td>\n",
       "      <td>077A0001</td>\n",
       "      <td>Tuesday</td>\n",
       "      <td>17</td>\n",
       "    </tr>\n",
       "    <tr>\n",
       "      <th>74697</th>\n",
       "      <td>999825</td>\n",
       "      <td>046A0001</td>\n",
       "      <td>Monday</td>\n",
       "      <td>83</td>\n",
       "    </tr>\n",
       "  </tbody>\n",
       "</table>\n",
       "<p>74698 rows × 4 columns</p>\n",
       "</div>"
      ],
      "text/plain": [
       "      VehicleJourney_ID JourneyPattern_ID        Day  count\n",
       "0                     1          033A1002     Friday     11\n",
       "1                     1          033A1002     Monday     11\n",
       "2                     1          033A1002   Thursday     17\n",
       "3                     1          033A1002    Tuesday     56\n",
       "4                     1          033A1002  Wednesday     17\n",
       "5                     2          033A0001     Friday     14\n",
       "6                     2          033A0001   Thursday     45\n",
       "7                     2          033A0001    Tuesday     33\n",
       "8                     2          033A0001  Wednesday     33\n",
       "9                     2          033A1002  Wednesday      1\n",
       "10                    2              null   Thursday      1\n",
       "11                    4          00411001     Friday     14\n",
       "12                    4          00411001     Monday     58\n",
       "13                    4          00411001   Thursday     61\n",
       "14                    4          00411001    Tuesday     68\n",
       "15                    4          00411001  Wednesday     47\n",
       "16                    5          00411001     Friday      1\n",
       "17                    5          00411001   Thursday      1\n",
       "18                    5          00411001    Tuesday      1\n",
       "19                    5          00411001  Wednesday      1\n",
       "20                    5          041C0001     Friday     24\n",
       "21                    5          041C0001     Monday     41\n",
       "22                    5          041C0001   Thursday     56\n",
       "23                    5          041C0001    Tuesday     70\n",
       "24                    5          041C0001  Wednesday     48\n",
       "25                    6          00411002     Friday     37\n",
       "26                    6          00411002     Monday     48\n",
       "27                    6          00411002   Thursday     53\n",
       "28                    6          00411002    Tuesday     39\n",
       "29                    6          00411002  Wednesday     42\n",
       "...                 ...               ...        ...    ...\n",
       "74668            990180          00071001   Thursday     45\n",
       "74669            990640          00041001     Friday      1\n",
       "74670            990706          00411001     Friday     44\n",
       "74671            990711          00271001     Sunday      4\n",
       "74672            990905          00311001    Tuesday      8\n",
       "74673            990912          077A1001  Wednesday     17\n",
       "74674            991396          045A1004  Wednesday      1\n",
       "74675            991654          00041001     Friday      6\n",
       "74676            992606          025A0001     Monday      9\n",
       "74677            992714          046A1001     Monday     12\n",
       "74678            993235          00161001     Friday     25\n",
       "74679            993374          00390001  Wednesday     67\n",
       "74680            993439          00071002     Friday      1\n",
       "74681            993669          029A1001  Wednesday      1\n",
       "74682            994052          039A0002     Friday     18\n",
       "74683            994351          00380001     Monday      7\n",
       "74684            994364          00071001     Monday      3\n",
       "74685            994421          025A1001   Thursday     16\n",
       "74686            995509          025A1001     Friday     25\n",
       "74687            995782          00750001     Friday      5\n",
       "74688            996115          00171001    Tuesday     10\n",
       "74689            996128          01501001    Tuesday      1\n",
       "74690            996843          00131002  Wednesday     13\n",
       "74691            997845          00750001     Monday      2\n",
       "74692            997891          00131002     Friday      1\n",
       "74693            998471          00011001   Saturday     37\n",
       "74694            998547          077A0001     Friday     32\n",
       "74695            998685          00071001   Thursday      3\n",
       "74696            999390          077A0001    Tuesday     17\n",
       "74697            999825          046A0001     Monday     83\n",
       "\n",
       "[74698 rows x 4 columns]"
      ]
     },
     "execution_count": 17,
     "metadata": {},
     "output_type": "execute_result"
    }
   ],
   "source": [
    "%time df.groupby(['VehicleJourney_ID','JourneyPattern_ID','Day']).size().reset_index().rename(columns={0:'count'})"
   ]
  },
  {
   "cell_type": "code",
   "execution_count": 18,
   "metadata": {
    "collapsed": false
   },
   "outputs": [
    {
     "ename": "AttributeError",
     "evalue": "'DataFrame' object has no attribute 'At_Stop'",
     "output_type": "error",
     "traceback": [
      "\u001b[0;31m---------------------------------------------------------------------------\u001b[0m",
      "\u001b[0;31mAttributeError\u001b[0m                            Traceback (most recent call last)",
      "\u001b[0;32m<ipython-input-18-43cb36862046>\u001b[0m in \u001b[0;36m<module>\u001b[0;34m()\u001b[0m\n\u001b[0;32m----> 1\u001b[0;31m \u001b[0mdf\u001b[0m \u001b[1;33m=\u001b[0m \u001b[0mdf\u001b[0m\u001b[1;33m.\u001b[0m\u001b[0mdrop\u001b[0m\u001b[1;33m(\u001b[0m\u001b[0mdf\u001b[0m\u001b[1;33m.\u001b[0m\u001b[0mindex\u001b[0m\u001b[1;33m[\u001b[0m\u001b[0mdf\u001b[0m\u001b[1;33m.\u001b[0m\u001b[0mAt_Stop\u001b[0m \u001b[1;33m==\u001b[0m \u001b[1;36m0\u001b[0m\u001b[1;33m]\u001b[0m\u001b[1;33m)\u001b[0m\u001b[1;33m\u001b[0m\u001b[0m\n\u001b[0m",
      "\u001b[0;32mC:\\Users\\pamel\\Anaconda3\\lib\\site-packages\\pandas\\core\\generic.py\u001b[0m in \u001b[0;36m__getattr__\u001b[0;34m(self, name)\u001b[0m\n\u001b[1;32m   2742\u001b[0m             \u001b[1;32mif\u001b[0m \u001b[0mname\u001b[0m \u001b[1;32min\u001b[0m \u001b[0mself\u001b[0m\u001b[1;33m.\u001b[0m\u001b[0m_info_axis\u001b[0m\u001b[1;33m:\u001b[0m\u001b[1;33m\u001b[0m\u001b[0m\n\u001b[1;32m   2743\u001b[0m                 \u001b[1;32mreturn\u001b[0m \u001b[0mself\u001b[0m\u001b[1;33m[\u001b[0m\u001b[0mname\u001b[0m\u001b[1;33m]\u001b[0m\u001b[1;33m\u001b[0m\u001b[0m\n\u001b[0;32m-> 2744\u001b[0;31m             \u001b[1;32mreturn\u001b[0m \u001b[0mobject\u001b[0m\u001b[1;33m.\u001b[0m\u001b[0m__getattribute__\u001b[0m\u001b[1;33m(\u001b[0m\u001b[0mself\u001b[0m\u001b[1;33m,\u001b[0m \u001b[0mname\u001b[0m\u001b[1;33m)\u001b[0m\u001b[1;33m\u001b[0m\u001b[0m\n\u001b[0m\u001b[1;32m   2745\u001b[0m \u001b[1;33m\u001b[0m\u001b[0m\n\u001b[1;32m   2746\u001b[0m     \u001b[1;32mdef\u001b[0m \u001b[0m__setattr__\u001b[0m\u001b[1;33m(\u001b[0m\u001b[0mself\u001b[0m\u001b[1;33m,\u001b[0m \u001b[0mname\u001b[0m\u001b[1;33m,\u001b[0m \u001b[0mvalue\u001b[0m\u001b[1;33m)\u001b[0m\u001b[1;33m:\u001b[0m\u001b[1;33m\u001b[0m\u001b[0m\n",
      "\u001b[0;31mAttributeError\u001b[0m: 'DataFrame' object has no attribute 'At_Stop'"
     ]
    }
   ],
   "source": [
    "df = df.drop(df.index[df.At_Stop == 0])"
   ]
  },
  {
   "cell_type": "code",
   "execution_count": 20,
   "metadata": {
    "collapsed": false
   },
   "outputs": [
    {
     "data": {
      "text/plain": [
       "VehicleJourney_ID\n",
       "1         112\n",
       "2         128\n",
       "4         248\n",
       "5         243\n",
       "6         224\n",
       "7         187\n",
       "8         347\n",
       "9         159\n",
       "10        123\n",
       "11        429\n",
       "12        183\n",
       "13        211\n",
       "14        162\n",
       "15        242\n",
       "16        264\n",
       "17        277\n",
       "18        184\n",
       "19        244\n",
       "20        265\n",
       "21        260\n",
       "22        262\n",
       "23        211\n",
       "24        279\n",
       "25        206\n",
       "26        171\n",
       "27        188\n",
       "28        104\n",
       "29        231\n",
       "30        163\n",
       "31        180\n",
       "         ... \n",
       "990180     45\n",
       "990640      1\n",
       "990706     44\n",
       "990711      4\n",
       "990905      8\n",
       "990912     17\n",
       "991396      1\n",
       "991654      6\n",
       "992606      9\n",
       "992714     12\n",
       "993235     25\n",
       "993374     67\n",
       "993439      1\n",
       "993669      1\n",
       "994052     18\n",
       "994351      7\n",
       "994364      3\n",
       "994421     16\n",
       "995509     25\n",
       "995782      5\n",
       "996115     10\n",
       "996128      1\n",
       "996843     13\n",
       "997845      2\n",
       "997891      2\n",
       "998471     37\n",
       "998547     32\n",
       "998685      3\n",
       "999390     17\n",
       "999825     83\n",
       "dtype: int64"
      ]
     },
     "execution_count": 20,
     "metadata": {},
     "output_type": "execute_result"
    }
   ],
   "source": [
    "df.groupby(['VehicleJourney_ID']).size()"
   ]
  },
  {
   "cell_type": "markdown",
   "metadata": {},
   "source": [
    "## Groupby Vehicle_Journey_ID, Date, Journey_Patter_ID ，and delete duplicate stop_id, only keep the first one "
   ]
  },
  {
   "cell_type": "code",
   "execution_count": 22,
   "metadata": {
    "collapsed": false
   },
   "outputs": [],
   "source": [
    "df2 = df.drop_duplicates(['VehicleJourney_ID','JourneyPattern_ID','Day'])"
   ]
  },
  {
   "cell_type": "code",
   "execution_count": 25,
   "metadata": {
    "collapsed": false
   },
   "outputs": [],
   "source": [
    "df2_15744=df2.loc[df2['VehicleJourney_ID']==15744]"
   ]
  },
  {
   "cell_type": "code",
   "execution_count": 26,
   "metadata": {
    "collapsed": false
   },
   "outputs": [
    {
     "data": {
      "text/html": [
       "<div>\n",
       "<table border=\"1\" class=\"dataframe\">\n",
       "  <thead>\n",
       "    <tr style=\"text-align: right;\">\n",
       "      <th></th>\n",
       "      <th>count</th>\n",
       "      <th>unique</th>\n",
       "      <th>top</th>\n",
       "      <th>freq</th>\n",
       "    </tr>\n",
       "  </thead>\n",
       "  <tbody>\n",
       "    <tr>\n",
       "      <th>JourneyPattern_ID</th>\n",
       "      <td>2</td>\n",
       "      <td>2</td>\n",
       "      <td>07470001</td>\n",
       "      <td>1</td>\n",
       "    </tr>\n",
       "    <tr>\n",
       "      <th>VehicleJourney_ID</th>\n",
       "      <td>2</td>\n",
       "      <td>1</td>\n",
       "      <td>15744</td>\n",
       "      <td>2</td>\n",
       "    </tr>\n",
       "    <tr>\n",
       "      <th>Stop_ID</th>\n",
       "      <td>2</td>\n",
       "      <td>1</td>\n",
       "      <td>3665</td>\n",
       "      <td>2</td>\n",
       "    </tr>\n",
       "    <tr>\n",
       "      <th>Day</th>\n",
       "      <td>2</td>\n",
       "      <td>1</td>\n",
       "      <td>Sunday</td>\n",
       "      <td>2</td>\n",
       "    </tr>\n",
       "  </tbody>\n",
       "</table>\n",
       "</div>"
      ],
      "text/plain": [
       "                  count unique       top freq\n",
       "JourneyPattern_ID     2      2  07470001    1\n",
       "VehicleJourney_ID     2      1     15744    2\n",
       "Stop_ID               2      1      3665    2\n",
       "Day                   2      1    Sunday    2"
      ]
     },
     "execution_count": 26,
     "metadata": {},
     "output_type": "execute_result"
    }
   ],
   "source": [
    "df2_15744[categorical_columns].describe().T"
   ]
  },
  {
   "cell_type": "markdown",
   "metadata": {},
   "source": [
    "## add a new feature stop_num, calculate the time between the current stop in the row and that first stop as an extra column"
   ]
  },
  {
   "cell_type": "code",
   "execution_count": null,
   "metadata": {
    "collapsed": true
   },
   "outputs": [],
   "source": [
    "df"
   ]
  },
  {
   "cell_type": "markdown",
   "metadata": {},
   "source": [
    "## Add a new feature Time_during"
   ]
  },
  {
   "cell_type": "code",
   "execution_count": 27,
   "metadata": {
    "collapsed": false
   },
   "outputs": [],
   "source": [
    "zscore=lambda x: (x - x.min())\n",
    "df['Trip_Time']= df.groupby(['VehicleJourney_ID','JourneyPattern_ID','Day'])['Timestamp'].transform(zscore)"
   ]
  },
  {
   "cell_type": "code",
   "execution_count": null,
   "metadata": {
    "collapsed": false
   },
   "outputs": [],
   "source": [
    "df.tail(5)"
   ]
  },
  {
   "cell_type": "code",
   "execution_count": null,
   "metadata": {
    "collapsed": false
   },
   "outputs": [],
   "source": [
    "df_15744=df.loc[df['Vehicle_Journey_ID']==15744]\n"
   ]
  },
  {
   "cell_type": "code",
   "execution_count": null,
   "metadata": {
    "collapsed": false
   },
   "outputs": [],
   "source": [
    "df_15744[categorical_columns].describe().T"
   ]
  },
  {
   "cell_type": "code",
   "execution_count": null,
   "metadata": {
    "collapsed": false
   },
   "outputs": [],
   "source": [
    "df_15744"
   ]
  },
  {
   "cell_type": "markdown",
   "metadata": {},
   "source": [
    "# Check data of one Vehicle_Journey_ID 6187"
   ]
  },
  {
   "cell_type": "code",
   "execution_count": null,
   "metadata": {
    "collapsed": true
   },
   "outputs": [],
   "source": [
    "df_6187=df.loc[df.Vehicle_Journey_ID==6187]"
   ]
  },
  {
   "cell_type": "code",
   "execution_count": null,
   "metadata": {
    "collapsed": false
   },
   "outputs": [],
   "source": [
    "df_6187[categorical_columns].describe().T"
   ]
  },
  {
   "cell_type": "code",
   "execution_count": null,
   "metadata": {
    "collapsed": false
   },
   "outputs": [],
   "source": [
    "pd.unique(df_6187.Journey_Pattern_ID.ravel())"
   ]
  },
  {
   "cell_type": "code",
   "execution_count": null,
   "metadata": {
    "collapsed": false
   },
   "outputs": [],
   "source": [
    "pd.unique(df_6187.day_of_week.ravel())"
   ]
  },
  {
   "cell_type": "code",
   "execution_count": null,
   "metadata": {
    "collapsed": true
   },
   "outputs": [],
   "source": [
    "df_6187_Mon=df_6187.loc[df['day_of_week']=='Monday']"
   ]
  },
  {
   "cell_type": "code",
   "execution_count": null,
   "metadata": {
    "collapsed": false
   },
   "outputs": [],
   "source": [
    "df_6187_Mon[categorical_columns].describe().T"
   ]
  },
  {
   "cell_type": "code",
   "execution_count": null,
   "metadata": {
    "collapsed": true
   },
   "outputs": [],
   "source": [
    "df_6187_Mon_150=df_6187_Mon.loc[df_6187_Mon['Journey_Pattern_ID']=='01501001']"
   ]
  },
  {
   "cell_type": "code",
   "execution_count": null,
   "metadata": {
    "collapsed": false
   },
   "outputs": [],
   "source": [
    "df_6187_Mon_150[categorical_columns].describe().T"
   ]
  },
  {
   "cell_type": "code",
   "execution_count": null,
   "metadata": {
    "collapsed": false
   },
   "outputs": [],
   "source": [
    "df_6187_Mon_46A=df_6187_Mon.loc[df_6187_Mon['Journey_Pattern_ID']=='046A0005']\n",
    "df_6187_Mon_46A"
   ]
  },
  {
   "cell_type": "code",
   "execution_count": null,
   "metadata": {
    "collapsed": false
   },
   "outputs": [],
   "source": [
    "df_6187_Mon_150"
   ]
  },
  {
   "cell_type": "code",
   "execution_count": null,
   "metadata": {
    "collapsed": true
   },
   "outputs": [],
   "source": []
  }
 ],
 "metadata": {
  "kernelspec": {
   "display_name": "Python 3",
   "language": "python",
   "name": "python3"
  },
  "language_info": {
   "codemirror_mode": {
    "name": "ipython",
    "version": 3
   },
   "file_extension": ".py",
   "mimetype": "text/x-python",
   "name": "python",
   "nbconvert_exporter": "python",
   "pygments_lexer": "ipython3",
   "version": "3.6.0"
  }
 },
 "nbformat": 4,
 "nbformat_minor": 2
}
