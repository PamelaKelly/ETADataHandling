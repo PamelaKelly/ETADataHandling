{
 "cells": [
  {
   "cell_type": "markdown",
   "metadata": {},
   "source": [
    "## Project Dublin Bus \n",
    "\n",
    "\n",
    "## Change the data format, remove duplication and  save it "
   ]
  },
  {
   "cell_type": "markdown",
   "metadata": {},
   "source": [
    "## Import package and data "
   ]
  },
  {
   "cell_type": "code",
   "execution_count": 1,
   "metadata": {
    "collapsed": false
   },
   "outputs": [],
   "source": [
    "#Import the required packages\n",
    "#Import package pandas for data analysis\n",
    "import pandas as pd\n",
    "\n",
    "# Import package numpy for numeric computing\n",
    "import numpy as np\n",
    "\n",
    "# Import package matplotlib  for visualisation/plotting\n",
    "import matplotlib.pyplot as plt\n",
    "\n",
    "#import matplotlib.patches as mpatches\n",
    "import seaborn as sns\n",
    "\n",
    "#import package matplotlib for import plots to PDF\n",
    "from matplotlib.backends.backend_pdf import PdfPages\n",
    "\n",
    "#For showing plots directly in the notebook\n",
    "#%matplotlib inline\n",
    "\n",
    "# Reading from a csv file, into a data frame\n",
    "\n",
    "import time \n",
    "begin_time=time.time()"
   ]
  },
  {
   "cell_type": "code",
   "execution_count": 2,
   "metadata": {
    "collapsed": true
   },
   "outputs": [],
   "source": [
    "#Change the columns's names \n",
    "Columns_name = ['Timestamp','Line_ID','Direction','Journey_Pattern_ID','Date','Vehicle_Journey_ID','Operator',\n",
    "              'Congestion','Lon_WGS84','Lat_WGS84','Delay','Block_ID','Vehicle_ID','Stop_ID','At_Stop']"
   ]
  },
  {
   "cell_type": "code",
   "execution_count": 3,
   "metadata": {
    "collapsed": false
   },
   "outputs": [
    {
     "name": "stderr",
     "output_type": "stream",
     "text": [
      "/Users/April/anaconda/envs/comp47350/lib/python3.6/site-packages/IPython/core/interactiveshell.py:2698: DtypeWarning: Columns (1) have mixed types. Specify dtype option on import or set low_memory=False.\n",
      "  interactivity=interactivity, compiler=compiler, result=result)\n"
     ]
    },
    {
     "data": {
      "text/html": [
       "<div>\n",
       "<table border=\"1\" class=\"dataframe\">\n",
       "  <thead>\n",
       "    <tr style=\"text-align: right;\">\n",
       "      <th></th>\n",
       "      <th>Timestamp</th>\n",
       "      <th>Line_ID</th>\n",
       "      <th>Direction</th>\n",
       "      <th>Journey_Pattern_ID</th>\n",
       "      <th>Date</th>\n",
       "      <th>Vehicle_Journey_ID</th>\n",
       "      <th>Operator</th>\n",
       "      <th>Congestion</th>\n",
       "      <th>Lon_WGS84</th>\n",
       "      <th>Lat_WGS84</th>\n",
       "      <th>Delay</th>\n",
       "      <th>Block_ID</th>\n",
       "      <th>Vehicle_ID</th>\n",
       "      <th>Stop_ID</th>\n",
       "      <th>At_Stop</th>\n",
       "    </tr>\n",
       "  </thead>\n",
       "  <tbody>\n",
       "    <tr>\n",
       "      <th>0</th>\n",
       "      <td>1352160000000000</td>\n",
       "      <td>15</td>\n",
       "      <td>0</td>\n",
       "      <td>00150001</td>\n",
       "      <td>2012-11-05</td>\n",
       "      <td>5826</td>\n",
       "      <td>RD</td>\n",
       "      <td>0</td>\n",
       "      <td>-6.258584</td>\n",
       "      <td>53.340099</td>\n",
       "      <td>-361</td>\n",
       "      <td>15013</td>\n",
       "      <td>33210</td>\n",
       "      <td>4870</td>\n",
       "      <td>0</td>\n",
       "    </tr>\n",
       "    <tr>\n",
       "      <th>1</th>\n",
       "      <td>1352160000000000</td>\n",
       "      <td>46</td>\n",
       "      <td>0</td>\n",
       "      <td>046A1002</td>\n",
       "      <td>2012-11-05</td>\n",
       "      <td>7267</td>\n",
       "      <td>D2</td>\n",
       "      <td>0</td>\n",
       "      <td>-6.259093</td>\n",
       "      <td>53.345425</td>\n",
       "      <td>-1101</td>\n",
       "      <td>46004</td>\n",
       "      <td>36024</td>\n",
       "      <td>794</td>\n",
       "      <td>0</td>\n",
       "    </tr>\n",
       "    <tr>\n",
       "      <th>2</th>\n",
       "      <td>1352160000000000</td>\n",
       "      <td>14</td>\n",
       "      <td>0</td>\n",
       "      <td>00140001</td>\n",
       "      <td>2012-11-05</td>\n",
       "      <td>6206</td>\n",
       "      <td>D2</td>\n",
       "      <td>0</td>\n",
       "      <td>-6.257329</td>\n",
       "      <td>53.287521</td>\n",
       "      <td>-126</td>\n",
       "      <td>14003</td>\n",
       "      <td>33325</td>\n",
       "      <td>1047</td>\n",
       "      <td>0</td>\n",
       "    </tr>\n",
       "  </tbody>\n",
       "</table>\n",
       "</div>"
      ],
      "text/plain": [
       "          Timestamp Line_ID  Direction Journey_Pattern_ID        Date  \\\n",
       "0  1352160000000000      15          0           00150001  2012-11-05   \n",
       "1  1352160000000000      46          0           046A1002  2012-11-05   \n",
       "2  1352160000000000      14          0           00140001  2012-11-05   \n",
       "\n",
       "   Vehicle_Journey_ID Operator  Congestion  Lon_WGS84  Lat_WGS84  Delay  \\\n",
       "0                5826       RD           0  -6.258584  53.340099   -361   \n",
       "1                7267       D2           0  -6.259093  53.345425  -1101   \n",
       "2                6206       D2           0  -6.257329  53.287521   -126   \n",
       "\n",
       "   Block_ID  Vehicle_ID Stop_ID  At_Stop  \n",
       "0     15013       33210    4870        0  \n",
       "1     46004       36024     794        0  \n",
       "2     14003       33325    1047        0  "
      ]
     },
     "execution_count": 3,
     "metadata": {},
     "output_type": "execute_result"
    }
   ],
   "source": [
    "#This is the data of January 2013\n",
    "df = pd.read_csv('siri.20121106.csv',names=Columns_name, dtype={ 'Journey_Pattern_ID': object} )\n",
    "df.head(3)"
   ]
  },
  {
   "cell_type": "code",
   "execution_count": 4,
   "metadata": {
    "collapsed": false
   },
   "outputs": [
    {
     "data": {
      "text/plain": [
       "(1765912, 15)"
      ]
     },
     "execution_count": 4,
     "metadata": {},
     "output_type": "execute_result"
    }
   ],
   "source": [
    "# Check how many rows we have after loaded the csv file \n",
    "df.shape"
   ]
  },
  {
   "cell_type": "markdown",
   "metadata": {},
   "source": [
    "#  Data Cleaning \n"
   ]
  },
  {
   "cell_type": "code",
   "execution_count": 5,
   "metadata": {
    "collapsed": false
   },
   "outputs": [],
   "source": [
    "#Drop duplicate rows \n",
    "df=df.drop_duplicates()\n",
    "#Drop constant column\n",
    "#df.drop(['Direction','Operator'],axis=1,inplace=True)\n",
    "#Drop Unused column\n",
    "#df.drop(['Line_ID','Congestion','Block_ID','Vehicle_ID'],axis=1,inplace=True)"
   ]
  },
  {
   "cell_type": "code",
   "execution_count": 6,
   "metadata": {
    "collapsed": false
   },
   "outputs": [
    {
     "data": {
      "text/plain": [
       "(1765912, 15)"
      ]
     },
     "execution_count": 6,
     "metadata": {},
     "output_type": "execute_result"
    }
   ],
   "source": [
    "# Check how many rows we have after remove duplication\n",
    "df.shape"
   ]
  },
  {
   "cell_type": "markdown",
   "metadata": {},
   "source": [
    "## Remove all Journey_Pattern_ID is null"
   ]
  },
  {
   "cell_type": "code",
   "execution_count": 7,
   "metadata": {
    "collapsed": false
   },
   "outputs": [],
   "source": [
    "# Drop all Journey_Pattern_ID is null \n",
    "df=df.drop(df.index[df['Journey_Pattern_ID'].isnull()])"
   ]
  },
  {
   "cell_type": "code",
   "execution_count": 8,
   "metadata": {
    "collapsed": false
   },
   "outputs": [
    {
     "data": {
      "text/plain": [
       "(1765848, 15)"
      ]
     },
     "execution_count": 8,
     "metadata": {},
     "output_type": "execute_result"
    }
   ],
   "source": [
    "#Check how many rows we deleted(Before it is (10856935, 15) )\n",
    "df.shape"
   ]
  },
  {
   "cell_type": "code",
   "execution_count": 9,
   "metadata": {
    "collapsed": false
   },
   "outputs": [],
   "source": [
    "# Drop all Journey_Pattern_ID is null \n",
    "df=df.drop(df.index[df['Journey_Pattern_ID'] == 'null'])"
   ]
  },
  {
   "cell_type": "code",
   "execution_count": 10,
   "metadata": {
    "collapsed": false
   },
   "outputs": [
    {
     "data": {
      "text/plain": [
       "(1495764, 15)"
      ]
     },
     "execution_count": 10,
     "metadata": {},
     "output_type": "execute_result"
    }
   ],
   "source": [
    "#Check how many rows we deleted(Before it is (10856935, 15) )\n",
    "df.shape"
   ]
  },
  {
   "cell_type": "code",
   "execution_count": 58,
   "metadata": {
    "collapsed": false
   },
   "outputs": [],
   "source": [
    "#Print all the unique Journey_Pattern_ID\n",
    "#print(\"Unique Journey_Pattern_ID \", pd.unique(df.Journey_Pattern_ID.ravel()))"
   ]
  },
  {
   "cell_type": "markdown",
   "metadata": {},
   "source": [
    "## Remove some noise data ( Like only have less than 45 rows in one trip  )\n",
    "## Those data are not actually a full run "
   ]
  },
  {
   "cell_type": "code",
   "execution_count": 59,
   "metadata": {
    "collapsed": true
   },
   "outputs": [],
   "source": [
    "df_groupby=df.groupby(['Vehicle_Journey_ID','Date','Journey_Pattern_ID'])\n",
    "\n",
    "#size = df_groupby.size()\n",
    "#size=size[size<13]\n",
    "\n",
    "#keys=df_groupby.groups\n",
    "\n",
    "# Filter all the data only have less than 13 rows data \n",
    "df_short_Journ=df_groupby.filter(lambda x: len(x) < 45 )"
   ]
  },
  {
   "cell_type": "code",
   "execution_count": 60,
   "metadata": {
    "collapsed": true
   },
   "outputs": [],
   "source": [
    "# Drop all the Journery that are less than a number \n",
    "\n",
    "df=pd.concat([df, df_short_Journ]).drop_duplicates(keep=False)"
   ]
  },
  {
   "cell_type": "code",
   "execution_count": 61,
   "metadata": {
    "collapsed": false
   },
   "outputs": [
    {
     "data": {
      "text/plain": [
       "(9160370, 15)"
      ]
     },
     "execution_count": 61,
     "metadata": {},
     "output_type": "execute_result"
    }
   ],
   "source": [
    "#Check how many rows we deleted\n",
    "df.shape\n"
   ]
  },
  {
   "cell_type": "markdown",
   "metadata": {},
   "source": [
    "# Solution to check the long time trip issue\n",
    "## Check the time gap of two gps coordinations, if there are big than one minute, delete the first one "
   ]
  },
  {
   "cell_type": "code",
   "execution_count": 5,
   "metadata": {
    "collapsed": false
   },
   "outputs": [
    {
     "data": {
      "text/html": [
       "<div>\n",
       "<table border=\"1\" class=\"dataframe\">\n",
       "  <thead>\n",
       "    <tr style=\"text-align: right;\">\n",
       "      <th></th>\n",
       "      <th>Timestamp</th>\n",
       "      <th>Line_ID</th>\n",
       "      <th>Direction</th>\n",
       "      <th>Journey_Pattern_ID</th>\n",
       "      <th>Date</th>\n",
       "      <th>Vehicle_Journey_ID</th>\n",
       "      <th>Operator</th>\n",
       "      <th>Congestion</th>\n",
       "      <th>Lon_WGS84</th>\n",
       "      <th>Lat_WGS84</th>\n",
       "      <th>Delay</th>\n",
       "      <th>Block_ID</th>\n",
       "      <th>Vehicle_ID</th>\n",
       "      <th>Stop_ID</th>\n",
       "      <th>At_Stop</th>\n",
       "    </tr>\n",
       "  </thead>\n",
       "  <tbody>\n",
       "    <tr>\n",
       "      <th>0</th>\n",
       "      <td>1352160000</td>\n",
       "      <td>15</td>\n",
       "      <td>0</td>\n",
       "      <td>00150001</td>\n",
       "      <td>2012-11-05</td>\n",
       "      <td>5826</td>\n",
       "      <td>RD</td>\n",
       "      <td>0</td>\n",
       "      <td>-6.258584</td>\n",
       "      <td>53.340099</td>\n",
       "      <td>-361</td>\n",
       "      <td>15013</td>\n",
       "      <td>33210</td>\n",
       "      <td>4870</td>\n",
       "      <td>0</td>\n",
       "    </tr>\n",
       "    <tr>\n",
       "      <th>1</th>\n",
       "      <td>1352160000</td>\n",
       "      <td>46</td>\n",
       "      <td>0</td>\n",
       "      <td>046A1002</td>\n",
       "      <td>2012-11-05</td>\n",
       "      <td>7267</td>\n",
       "      <td>D2</td>\n",
       "      <td>0</td>\n",
       "      <td>-6.259093</td>\n",
       "      <td>53.345425</td>\n",
       "      <td>-1101</td>\n",
       "      <td>46004</td>\n",
       "      <td>36024</td>\n",
       "      <td>794</td>\n",
       "      <td>0</td>\n",
       "    </tr>\n",
       "    <tr>\n",
       "      <th>2</th>\n",
       "      <td>1352160000</td>\n",
       "      <td>14</td>\n",
       "      <td>0</td>\n",
       "      <td>00140001</td>\n",
       "      <td>2012-11-05</td>\n",
       "      <td>6206</td>\n",
       "      <td>D2</td>\n",
       "      <td>0</td>\n",
       "      <td>-6.257329</td>\n",
       "      <td>53.287521</td>\n",
       "      <td>-126</td>\n",
       "      <td>14003</td>\n",
       "      <td>33325</td>\n",
       "      <td>1047</td>\n",
       "      <td>0</td>\n",
       "    </tr>\n",
       "  </tbody>\n",
       "</table>\n",
       "</div>"
      ],
      "text/plain": [
       "    Timestamp Line_ID  Direction Journey_Pattern_ID        Date  \\\n",
       "0  1352160000      15          0           00150001  2012-11-05   \n",
       "1  1352160000      46          0           046A1002  2012-11-05   \n",
       "2  1352160000      14          0           00140001  2012-11-05   \n",
       "\n",
       "   Vehicle_Journey_ID Operator  Congestion  Lon_WGS84  Lat_WGS84  Delay  \\\n",
       "0                5826       RD           0  -6.258584  53.340099   -361   \n",
       "1                7267       D2           0  -6.259093  53.345425  -1101   \n",
       "2                6206       D2           0  -6.257329  53.287521   -126   \n",
       "\n",
       "   Block_ID  Vehicle_ID Stop_ID  At_Stop  \n",
       "0     15013       33210    4870        0  \n",
       "1     46004       36024     794        0  \n",
       "2     14003       33325    1047        0  "
      ]
     },
     "execution_count": 5,
     "metadata": {},
     "output_type": "execute_result"
    }
   ],
   "source": [
    "df['Timestamp'] = df['Timestamp'] //1000000\n",
    "df.head(3)"
   ]
  },
  {
   "cell_type": "code",
   "execution_count": 12,
   "metadata": {
    "collapsed": true
   },
   "outputs": [],
   "source": [
    "df['Next_Timestamp']=df.groupby(['Vehicle_Journey_ID','Journey_Pattern_ID','Date'])['Timestamp'].shift(-1)"
   ]
  },
  {
   "cell_type": "code",
   "execution_count": 13,
   "metadata": {
    "collapsed": false
   },
   "outputs": [],
   "source": [
    "def get_rid_of_nulls(row):\n",
    "    if pd.isnull(row['Next_Timestamp']):\n",
    "        return row['Timestamp']\n",
    "    else:\n",
    "        return row['Next_Timestamp']\n",
    "\n",
    "df['Next_Timestamp']=df.apply(get_rid_of_nulls, axis=1)"
   ]
  },
  {
   "cell_type": "code",
   "execution_count": 14,
   "metadata": {
    "collapsed": false
   },
   "outputs": [
    {
     "data": {
      "text/html": [
       "<div>\n",
       "<table border=\"1\" class=\"dataframe\">\n",
       "  <thead>\n",
       "    <tr style=\"text-align: right;\">\n",
       "      <th></th>\n",
       "      <th>Timestamp</th>\n",
       "      <th>Line_ID</th>\n",
       "      <th>Direction</th>\n",
       "      <th>Journey_Pattern_ID</th>\n",
       "      <th>Date</th>\n",
       "      <th>Vehicle_Journey_ID</th>\n",
       "      <th>Operator</th>\n",
       "      <th>Congestion</th>\n",
       "      <th>Lon_WGS84</th>\n",
       "      <th>Lat_WGS84</th>\n",
       "      <th>Delay</th>\n",
       "      <th>Block_ID</th>\n",
       "      <th>Vehicle_ID</th>\n",
       "      <th>Stop_ID</th>\n",
       "      <th>At_Stop</th>\n",
       "      <th>Next_Timestamp</th>\n",
       "    </tr>\n",
       "  </thead>\n",
       "  <tbody>\n",
       "    <tr>\n",
       "      <th>1765907</th>\n",
       "      <td>1352246396</td>\n",
       "      <td>15</td>\n",
       "      <td>0</td>\n",
       "      <td>015A0001</td>\n",
       "      <td>2012-11-06</td>\n",
       "      <td>3130</td>\n",
       "      <td>RD</td>\n",
       "      <td>0</td>\n",
       "      <td>-6.322834</td>\n",
       "      <td>53.304768</td>\n",
       "      <td>-241</td>\n",
       "      <td>15009</td>\n",
       "      <td>33490</td>\n",
       "      <td>1104</td>\n",
       "      <td>1</td>\n",
       "      <td>1.352246e+09</td>\n",
       "    </tr>\n",
       "    <tr>\n",
       "      <th>1765908</th>\n",
       "      <td>1352246396</td>\n",
       "      <td>33</td>\n",
       "      <td>0</td>\n",
       "      <td>00331005</td>\n",
       "      <td>2012-11-06</td>\n",
       "      <td>269</td>\n",
       "      <td>SL</td>\n",
       "      <td>0</td>\n",
       "      <td>-6.125801</td>\n",
       "      <td>53.578407</td>\n",
       "      <td>18</td>\n",
       "      <td>33011</td>\n",
       "      <td>43052</td>\n",
       "      <td>3816</td>\n",
       "      <td>0</td>\n",
       "      <td>1.352246e+09</td>\n",
       "    </tr>\n",
       "    <tr>\n",
       "      <th>1765909</th>\n",
       "      <td>1352246396</td>\n",
       "      <td>56</td>\n",
       "      <td>0</td>\n",
       "      <td>056A0001</td>\n",
       "      <td>2012-11-06</td>\n",
       "      <td>2078</td>\n",
       "      <td>RD</td>\n",
       "      <td>0</td>\n",
       "      <td>-6.371067</td>\n",
       "      <td>53.306877</td>\n",
       "      <td>-764</td>\n",
       "      <td>56002</td>\n",
       "      <td>33471</td>\n",
       "      <td>2739</td>\n",
       "      <td>0</td>\n",
       "      <td>1.352246e+09</td>\n",
       "    </tr>\n",
       "    <tr>\n",
       "      <th>1765910</th>\n",
       "      <td>1352246396</td>\n",
       "      <td>66</td>\n",
       "      <td>0</td>\n",
       "      <td>066A0001</td>\n",
       "      <td>2012-11-06</td>\n",
       "      <td>2940</td>\n",
       "      <td>PO</td>\n",
       "      <td>0</td>\n",
       "      <td>-6.429667</td>\n",
       "      <td>53.355366</td>\n",
       "      <td>-121</td>\n",
       "      <td>66001</td>\n",
       "      <td>40008</td>\n",
       "      <td>3994</td>\n",
       "      <td>1</td>\n",
       "      <td>1.352246e+09</td>\n",
       "    </tr>\n",
       "    <tr>\n",
       "      <th>1765911</th>\n",
       "      <td>1352246396</td>\n",
       "      <td>43</td>\n",
       "      <td>0</td>\n",
       "      <td>00430001</td>\n",
       "      <td>2012-11-06</td>\n",
       "      <td>3924</td>\n",
       "      <td>CF</td>\n",
       "      <td>0</td>\n",
       "      <td>-6.213805</td>\n",
       "      <td>53.453159</td>\n",
       "      <td>-309</td>\n",
       "      <td>43002</td>\n",
       "      <td>38075</td>\n",
       "      <td>5084</td>\n",
       "      <td>0</td>\n",
       "      <td>1.352246e+09</td>\n",
       "    </tr>\n",
       "  </tbody>\n",
       "</table>\n",
       "</div>"
      ],
      "text/plain": [
       "          Timestamp Line_ID  Direction Journey_Pattern_ID        Date  \\\n",
       "1765907  1352246396      15          0           015A0001  2012-11-06   \n",
       "1765908  1352246396      33          0           00331005  2012-11-06   \n",
       "1765909  1352246396      56          0           056A0001  2012-11-06   \n",
       "1765910  1352246396      66          0           066A0001  2012-11-06   \n",
       "1765911  1352246396      43          0           00430001  2012-11-06   \n",
       "\n",
       "         Vehicle_Journey_ID Operator  Congestion  Lon_WGS84  Lat_WGS84  Delay  \\\n",
       "1765907                3130       RD           0  -6.322834  53.304768   -241   \n",
       "1765908                 269       SL           0  -6.125801  53.578407     18   \n",
       "1765909                2078       RD           0  -6.371067  53.306877   -764   \n",
       "1765910                2940       PO           0  -6.429667  53.355366   -121   \n",
       "1765911                3924       CF           0  -6.213805  53.453159   -309   \n",
       "\n",
       "         Block_ID  Vehicle_ID Stop_ID  At_Stop  Next_Timestamp  \n",
       "1765907     15009       33490    1104        1    1.352246e+09  \n",
       "1765908     33011       43052    3816        0    1.352246e+09  \n",
       "1765909     56002       33471    2739        0    1.352246e+09  \n",
       "1765910     66001       40008    3994        1    1.352246e+09  \n",
       "1765911     43002       38075    5084        0    1.352246e+09  "
      ]
     },
     "execution_count": 14,
     "metadata": {},
     "output_type": "execute_result"
    }
   ],
   "source": [
    "df.tail()"
   ]
  },
  {
   "cell_type": "code",
   "execution_count": 15,
   "metadata": {
    "collapsed": true
   },
   "outputs": [],
   "source": [
    "df['Next_Timestamp'] = df.Next_Timestamp.astype(int)"
   ]
  },
  {
   "cell_type": "code",
   "execution_count": 16,
   "metadata": {
    "collapsed": false
   },
   "outputs": [],
   "source": [
    "df['Between_Time']=df['Next_Timestamp']-df['Timestamp']"
   ]
  },
  {
   "cell_type": "code",
   "execution_count": 17,
   "metadata": {
    "collapsed": false
   },
   "outputs": [],
   "source": [
    "df_long=df.loc[(df['Between_Time']>120)]"
   ]
  },
  {
   "cell_type": "code",
   "execution_count": 18,
   "metadata": {
    "collapsed": false
   },
   "outputs": [
    {
     "data": {
      "text/html": [
       "<div>\n",
       "<table border=\"1\" class=\"dataframe\">\n",
       "  <thead>\n",
       "    <tr style=\"text-align: right;\">\n",
       "      <th></th>\n",
       "      <th>Timestamp</th>\n",
       "      <th>Line_ID</th>\n",
       "      <th>Direction</th>\n",
       "      <th>Journey_Pattern_ID</th>\n",
       "      <th>Date</th>\n",
       "      <th>Vehicle_Journey_ID</th>\n",
       "      <th>Operator</th>\n",
       "      <th>Congestion</th>\n",
       "      <th>Lon_WGS84</th>\n",
       "      <th>Lat_WGS84</th>\n",
       "      <th>Delay</th>\n",
       "      <th>Block_ID</th>\n",
       "      <th>Vehicle_ID</th>\n",
       "      <th>Stop_ID</th>\n",
       "      <th>At_Stop</th>\n",
       "      <th>Next_Timestamp</th>\n",
       "      <th>Between_Time</th>\n",
       "    </tr>\n",
       "  </thead>\n",
       "  <tbody>\n",
       "    <tr>\n",
       "      <th>2576</th>\n",
       "      <td>1352160349</td>\n",
       "      <td>56</td>\n",
       "      <td>0</td>\n",
       "      <td>056A1001</td>\n",
       "      <td>2012-11-05</td>\n",
       "      <td>2063</td>\n",
       "      <td>RD</td>\n",
       "      <td>0</td>\n",
       "      <td>-6.237294</td>\n",
       "      <td>53.342300</td>\n",
       "      <td>-616</td>\n",
       "      <td>56001</td>\n",
       "      <td>33230</td>\n",
       "      <td>353</td>\n",
       "      <td>0</td>\n",
       "      <td>1352161087</td>\n",
       "      <td>738</td>\n",
       "    </tr>\n",
       "    <tr>\n",
       "      <th>4562</th>\n",
       "      <td>1352160728</td>\n",
       "      <td>39</td>\n",
       "      <td>0</td>\n",
       "      <td>039A0001</td>\n",
       "      <td>2012-11-05</td>\n",
       "      <td>3705</td>\n",
       "      <td>PO</td>\n",
       "      <td>0</td>\n",
       "      <td>-6.273350</td>\n",
       "      <td>53.352333</td>\n",
       "      <td>-731</td>\n",
       "      <td>39008</td>\n",
       "      <td>33595</td>\n",
       "      <td>7011</td>\n",
       "      <td>0</td>\n",
       "      <td>1352161108</td>\n",
       "      <td>380</td>\n",
       "    </tr>\n",
       "    <tr>\n",
       "      <th>6057</th>\n",
       "      <td>1352161108</td>\n",
       "      <td>39</td>\n",
       "      <td>0</td>\n",
       "      <td>039A0001</td>\n",
       "      <td>2012-11-05</td>\n",
       "      <td>3705</td>\n",
       "      <td>PO</td>\n",
       "      <td>0</td>\n",
       "      <td>-6.274783</td>\n",
       "      <td>53.353317</td>\n",
       "      <td>-731</td>\n",
       "      <td>39008</td>\n",
       "      <td>33595</td>\n",
       "      <td>7011</td>\n",
       "      <td>0</td>\n",
       "      <td>1352161287</td>\n",
       "      <td>179</td>\n",
       "    </tr>\n",
       "    <tr>\n",
       "      <th>6872</th>\n",
       "      <td>1352161386</td>\n",
       "      <td>39</td>\n",
       "      <td>0</td>\n",
       "      <td>039A0001</td>\n",
       "      <td>2012-11-05</td>\n",
       "      <td>3705</td>\n",
       "      <td>PO</td>\n",
       "      <td>0</td>\n",
       "      <td>-6.274783</td>\n",
       "      <td>53.353333</td>\n",
       "      <td>-731</td>\n",
       "      <td>39008</td>\n",
       "      <td>33595</td>\n",
       "      <td>7011</td>\n",
       "      <td>0</td>\n",
       "      <td>1352161528</td>\n",
       "      <td>142</td>\n",
       "    </tr>\n",
       "    <tr>\n",
       "      <th>7439</th>\n",
       "      <td>1352161627</td>\n",
       "      <td>39</td>\n",
       "      <td>0</td>\n",
       "      <td>039A0001</td>\n",
       "      <td>2012-11-05</td>\n",
       "      <td>3705</td>\n",
       "      <td>PO</td>\n",
       "      <td>0</td>\n",
       "      <td>-6.274766</td>\n",
       "      <td>53.353317</td>\n",
       "      <td>-731</td>\n",
       "      <td>39008</td>\n",
       "      <td>33595</td>\n",
       "      <td>7011</td>\n",
       "      <td>0</td>\n",
       "      <td>1352161748</td>\n",
       "      <td>121</td>\n",
       "    </tr>\n",
       "    <tr>\n",
       "      <th>8801</th>\n",
       "      <td>1352162737</td>\n",
       "      <td>13</td>\n",
       "      <td>0</td>\n",
       "      <td>00130008</td>\n",
       "      <td>2012-11-05</td>\n",
       "      <td>4094</td>\n",
       "      <td>HN</td>\n",
       "      <td>0</td>\n",
       "      <td>-6.276967</td>\n",
       "      <td>53.416916</td>\n",
       "      <td>-531</td>\n",
       "      <td>13103</td>\n",
       "      <td>33338</td>\n",
       "      <td>2166</td>\n",
       "      <td>0</td>\n",
       "      <td>1352163167</td>\n",
       "      <td>430</td>\n",
       "    </tr>\n",
       "    <tr>\n",
       "      <th>8933</th>\n",
       "      <td>1352163087</td>\n",
       "      <td>39</td>\n",
       "      <td>0</td>\n",
       "      <td>039A0001</td>\n",
       "      <td>2012-11-05</td>\n",
       "      <td>3705</td>\n",
       "      <td>PO</td>\n",
       "      <td>0</td>\n",
       "      <td>-6.274800</td>\n",
       "      <td>53.353333</td>\n",
       "      <td>-731</td>\n",
       "      <td>39008</td>\n",
       "      <td>33595</td>\n",
       "      <td>7011</td>\n",
       "      <td>0</td>\n",
       "      <td>1352163368</td>\n",
       "      <td>281</td>\n",
       "    </tr>\n",
       "    <tr>\n",
       "      <th>8956</th>\n",
       "      <td>1352163167</td>\n",
       "      <td>13</td>\n",
       "      <td>0</td>\n",
       "      <td>00130008</td>\n",
       "      <td>2012-11-05</td>\n",
       "      <td>4094</td>\n",
       "      <td>HN</td>\n",
       "      <td>0</td>\n",
       "      <td>-6.276967</td>\n",
       "      <td>53.416916</td>\n",
       "      <td>-531</td>\n",
       "      <td>13103</td>\n",
       "      <td>33338</td>\n",
       "      <td>2166</td>\n",
       "      <td>0</td>\n",
       "      <td>1352163586</td>\n",
       "      <td>419</td>\n",
       "    </tr>\n",
       "    <tr>\n",
       "      <th>8984</th>\n",
       "      <td>1352163302</td>\n",
       "      <td>79</td>\n",
       "      <td>0</td>\n",
       "      <td>00790001</td>\n",
       "      <td>2012-11-05</td>\n",
       "      <td>3511</td>\n",
       "      <td>CD</td>\n",
       "      <td>0</td>\n",
       "      <td>-6.296617</td>\n",
       "      <td>53.347698</td>\n",
       "      <td>29</td>\n",
       "      <td>79003</td>\n",
       "      <td>33191</td>\n",
       "      <td>2907</td>\n",
       "      <td>0</td>\n",
       "      <td>1352163730</td>\n",
       "      <td>428</td>\n",
       "    </tr>\n",
       "    <tr>\n",
       "      <th>9036</th>\n",
       "      <td>1352163586</td>\n",
       "      <td>13</td>\n",
       "      <td>0</td>\n",
       "      <td>00130008</td>\n",
       "      <td>2012-11-05</td>\n",
       "      <td>4094</td>\n",
       "      <td>HN</td>\n",
       "      <td>0</td>\n",
       "      <td>-6.276967</td>\n",
       "      <td>53.416916</td>\n",
       "      <td>-531</td>\n",
       "      <td>13103</td>\n",
       "      <td>33338</td>\n",
       "      <td>2166</td>\n",
       "      <td>0</td>\n",
       "      <td>1352169353</td>\n",
       "      <td>5767</td>\n",
       "    </tr>\n",
       "    <tr>\n",
       "      <th>9066</th>\n",
       "      <td>1352163730</td>\n",
       "      <td>79</td>\n",
       "      <td>0</td>\n",
       "      <td>00790001</td>\n",
       "      <td>2012-11-05</td>\n",
       "      <td>3511</td>\n",
       "      <td>CD</td>\n",
       "      <td>0</td>\n",
       "      <td>-6.296617</td>\n",
       "      <td>53.347698</td>\n",
       "      <td>29</td>\n",
       "      <td>79003</td>\n",
       "      <td>33191</td>\n",
       "      <td>2907</td>\n",
       "      <td>0</td>\n",
       "      <td>1352164154</td>\n",
       "      <td>424</td>\n",
       "    </tr>\n",
       "    <tr>\n",
       "      <th>9343</th>\n",
       "      <td>1352165443</td>\n",
       "      <td>16</td>\n",
       "      <td>0</td>\n",
       "      <td>016C0001</td>\n",
       "      <td>2012-11-05</td>\n",
       "      <td>6175</td>\n",
       "      <td>SL</td>\n",
       "      <td>0</td>\n",
       "      <td>-6.254550</td>\n",
       "      <td>53.355766</td>\n",
       "      <td>-23</td>\n",
       "      <td>16017</td>\n",
       "      <td>33633</td>\n",
       "      <td>270</td>\n",
       "      <td>1</td>\n",
       "      <td>1352165875</td>\n",
       "      <td>432</td>\n",
       "    </tr>\n",
       "    <tr>\n",
       "      <th>9389</th>\n",
       "      <td>1352165875</td>\n",
       "      <td>16</td>\n",
       "      <td>0</td>\n",
       "      <td>016C0001</td>\n",
       "      <td>2012-11-05</td>\n",
       "      <td>6175</td>\n",
       "      <td>SL</td>\n",
       "      <td>0</td>\n",
       "      <td>-6.254550</td>\n",
       "      <td>53.355766</td>\n",
       "      <td>-23</td>\n",
       "      <td>16017</td>\n",
       "      <td>33633</td>\n",
       "      <td>270</td>\n",
       "      <td>1</td>\n",
       "      <td>1352166295</td>\n",
       "      <td>420</td>\n",
       "    </tr>\n",
       "    <tr>\n",
       "      <th>9431</th>\n",
       "      <td>1352166295</td>\n",
       "      <td>16</td>\n",
       "      <td>0</td>\n",
       "      <td>016C0001</td>\n",
       "      <td>2012-11-05</td>\n",
       "      <td>6175</td>\n",
       "      <td>SL</td>\n",
       "      <td>0</td>\n",
       "      <td>-6.254550</td>\n",
       "      <td>53.355766</td>\n",
       "      <td>-23</td>\n",
       "      <td>16017</td>\n",
       "      <td>33633</td>\n",
       "      <td>270</td>\n",
       "      <td>1</td>\n",
       "      <td>1352170344</td>\n",
       "      <td>4049</td>\n",
       "    </tr>\n",
       "    <tr>\n",
       "      <th>9542</th>\n",
       "      <td>1352167402</td>\n",
       "      <td>40</td>\n",
       "      <td>0</td>\n",
       "      <td>00401002</td>\n",
       "      <td>2012-11-05</td>\n",
       "      <td>6345</td>\n",
       "      <td>CD</td>\n",
       "      <td>0</td>\n",
       "      <td>-6.296800</td>\n",
       "      <td>53.347584</td>\n",
       "      <td>0</td>\n",
       "      <td>40003</td>\n",
       "      <td>33358</td>\n",
       "      <td>279</td>\n",
       "      <td>1</td>\n",
       "      <td>1352167832</td>\n",
       "      <td>430</td>\n",
       "    </tr>\n",
       "  </tbody>\n",
       "</table>\n",
       "</div>"
      ],
      "text/plain": [
       "       Timestamp Line_ID  Direction Journey_Pattern_ID        Date  \\\n",
       "2576  1352160349      56          0           056A1001  2012-11-05   \n",
       "4562  1352160728      39          0           039A0001  2012-11-05   \n",
       "6057  1352161108      39          0           039A0001  2012-11-05   \n",
       "6872  1352161386      39          0           039A0001  2012-11-05   \n",
       "7439  1352161627      39          0           039A0001  2012-11-05   \n",
       "8801  1352162737      13          0           00130008  2012-11-05   \n",
       "8933  1352163087      39          0           039A0001  2012-11-05   \n",
       "8956  1352163167      13          0           00130008  2012-11-05   \n",
       "8984  1352163302      79          0           00790001  2012-11-05   \n",
       "9036  1352163586      13          0           00130008  2012-11-05   \n",
       "9066  1352163730      79          0           00790001  2012-11-05   \n",
       "9343  1352165443      16          0           016C0001  2012-11-05   \n",
       "9389  1352165875      16          0           016C0001  2012-11-05   \n",
       "9431  1352166295      16          0           016C0001  2012-11-05   \n",
       "9542  1352167402      40          0           00401002  2012-11-05   \n",
       "\n",
       "      Vehicle_Journey_ID Operator  Congestion  Lon_WGS84  Lat_WGS84  Delay  \\\n",
       "2576                2063       RD           0  -6.237294  53.342300   -616   \n",
       "4562                3705       PO           0  -6.273350  53.352333   -731   \n",
       "6057                3705       PO           0  -6.274783  53.353317   -731   \n",
       "6872                3705       PO           0  -6.274783  53.353333   -731   \n",
       "7439                3705       PO           0  -6.274766  53.353317   -731   \n",
       "8801                4094       HN           0  -6.276967  53.416916   -531   \n",
       "8933                3705       PO           0  -6.274800  53.353333   -731   \n",
       "8956                4094       HN           0  -6.276967  53.416916   -531   \n",
       "8984                3511       CD           0  -6.296617  53.347698     29   \n",
       "9036                4094       HN           0  -6.276967  53.416916   -531   \n",
       "9066                3511       CD           0  -6.296617  53.347698     29   \n",
       "9343                6175       SL           0  -6.254550  53.355766    -23   \n",
       "9389                6175       SL           0  -6.254550  53.355766    -23   \n",
       "9431                6175       SL           0  -6.254550  53.355766    -23   \n",
       "9542                6345       CD           0  -6.296800  53.347584      0   \n",
       "\n",
       "      Block_ID  Vehicle_ID Stop_ID  At_Stop  Next_Timestamp  Between_Time  \n",
       "2576     56001       33230     353        0      1352161087           738  \n",
       "4562     39008       33595    7011        0      1352161108           380  \n",
       "6057     39008       33595    7011        0      1352161287           179  \n",
       "6872     39008       33595    7011        0      1352161528           142  \n",
       "7439     39008       33595    7011        0      1352161748           121  \n",
       "8801     13103       33338    2166        0      1352163167           430  \n",
       "8933     39008       33595    7011        0      1352163368           281  \n",
       "8956     13103       33338    2166        0      1352163586           419  \n",
       "8984     79003       33191    2907        0      1352163730           428  \n",
       "9036     13103       33338    2166        0      1352169353          5767  \n",
       "9066     79003       33191    2907        0      1352164154           424  \n",
       "9343     16017       33633     270        1      1352165875           432  \n",
       "9389     16017       33633     270        1      1352166295           420  \n",
       "9431     16017       33633     270        1      1352170344          4049  \n",
       "9542     40003       33358     279        1      1352167832           430  "
      ]
     },
     "execution_count": 18,
     "metadata": {},
     "output_type": "execute_result"
    }
   ],
   "source": [
    "df_long.head(15)"
   ]
  },
  {
   "cell_type": "code",
   "execution_count": 19,
   "metadata": {
    "collapsed": false
   },
   "outputs": [
    {
     "data": {
      "text/plain": [
       "(1633, 17)"
      ]
     },
     "execution_count": 19,
     "metadata": {},
     "output_type": "execute_result"
    }
   ],
   "source": [
    "df_long.shape"
   ]
  },
  {
   "cell_type": "code",
   "execution_count": 20,
   "metadata": {
    "collapsed": false
   },
   "outputs": [],
   "source": [
    "df=df.drop(df.index[df['Between_Time']>120])"
   ]
  },
  {
   "cell_type": "code",
   "execution_count": 21,
   "metadata": {
    "collapsed": true
   },
   "outputs": [],
   "source": [
    "# Drop the feature we don't need now \n",
    "df.drop(['Next_Timestamp','Between_Time'],axis=1,inplace=True)"
   ]
  },
  {
   "cell_type": "code",
   "execution_count": 22,
   "metadata": {
    "collapsed": false
   },
   "outputs": [
    {
     "data": {
      "text/plain": [
       "(1494131, 15)"
      ]
     },
     "execution_count": 22,
     "metadata": {},
     "output_type": "execute_result"
    }
   ],
   "source": [
    "#Check how many rows we deleted(Before it is (9211192, 15) )\n",
    "df.shape"
   ]
  },
  {
   "cell_type": "markdown",
   "metadata": {},
   "source": [
    "# Add Distance feature "
   ]
  },
  {
   "cell_type": "code",
   "execution_count": 41,
   "metadata": {
    "collapsed": true
   },
   "outputs": [],
   "source": [
    "#df_one=df.loc[df['Journey_Pattern_ID']=='041B0002']\n",
    "#df_one.reset_index(drop=True, inplace=True)"
   ]
  },
  {
   "cell_type": "code",
   "execution_count": 45,
   "metadata": {
    "collapsed": false
   },
   "outputs": [
    {
     "data": {
      "text/html": [
       "<div>\n",
       "<table border=\"1\" class=\"dataframe\">\n",
       "  <thead>\n",
       "    <tr style=\"text-align: right;\">\n",
       "      <th></th>\n",
       "      <th>Timestamp</th>\n",
       "      <th>Line_ID</th>\n",
       "      <th>Direction</th>\n",
       "      <th>Journey_Pattern_ID</th>\n",
       "      <th>Date</th>\n",
       "      <th>Vehicle_Journey_ID</th>\n",
       "      <th>Operator</th>\n",
       "      <th>Congestion</th>\n",
       "      <th>Lon_WGS84</th>\n",
       "      <th>Lat_WGS84</th>\n",
       "      <th>Delay</th>\n",
       "      <th>Block_ID</th>\n",
       "      <th>Vehicle_ID</th>\n",
       "      <th>Stop_ID</th>\n",
       "      <th>At_Stop</th>\n",
       "      <th>Distance</th>\n",
       "    </tr>\n",
       "  </thead>\n",
       "  <tbody>\n",
       "    <tr>\n",
       "      <th>0</th>\n",
       "      <td>1352201449000000</td>\n",
       "      <td>41</td>\n",
       "      <td>0</td>\n",
       "      <td>041B0002</td>\n",
       "      <td>2012-11-06</td>\n",
       "      <td>51</td>\n",
       "      <td>SL</td>\n",
       "      <td>0</td>\n",
       "      <td>-6.255460</td>\n",
       "      <td>53.349075</td>\n",
       "      <td>41</td>\n",
       "      <td>41008</td>\n",
       "      <td>33425</td>\n",
       "      <td>288</td>\n",
       "      <td>0</td>\n",
       "      <td>0</td>\n",
       "    </tr>\n",
       "    <tr>\n",
       "      <th>1</th>\n",
       "      <td>1352201469000000</td>\n",
       "      <td>41</td>\n",
       "      <td>0</td>\n",
       "      <td>041B0002</td>\n",
       "      <td>2012-11-06</td>\n",
       "      <td>51</td>\n",
       "      <td>SL</td>\n",
       "      <td>0</td>\n",
       "      <td>-6.254753</td>\n",
       "      <td>53.351208</td>\n",
       "      <td>-57</td>\n",
       "      <td>41008</td>\n",
       "      <td>33425</td>\n",
       "      <td>1171</td>\n",
       "      <td>0</td>\n",
       "      <td>242</td>\n",
       "    </tr>\n",
       "    <tr>\n",
       "      <th>2</th>\n",
       "      <td>1352201487000000</td>\n",
       "      <td>41</td>\n",
       "      <td>0</td>\n",
       "      <td>041B0002</td>\n",
       "      <td>2012-11-06</td>\n",
       "      <td>51</td>\n",
       "      <td>SL</td>\n",
       "      <td>0</td>\n",
       "      <td>-6.256154</td>\n",
       "      <td>53.353180</td>\n",
       "      <td>-126</td>\n",
       "      <td>41008</td>\n",
       "      <td>33425</td>\n",
       "      <td>1172</td>\n",
       "      <td>0</td>\n",
       "      <td>480</td>\n",
       "    </tr>\n",
       "  </tbody>\n",
       "</table>\n",
       "</div>"
      ],
      "text/plain": [
       "          Timestamp Line_ID  Direction Journey_Pattern_ID        Date  \\\n",
       "0  1352201449000000      41          0           041B0002  2012-11-06   \n",
       "1  1352201469000000      41          0           041B0002  2012-11-06   \n",
       "2  1352201487000000      41          0           041B0002  2012-11-06   \n",
       "\n",
       "   Vehicle_Journey_ID Operator  Congestion  Lon_WGS84  Lat_WGS84  Delay  \\\n",
       "0                  51       SL           0  -6.255460  53.349075     41   \n",
       "1                  51       SL           0  -6.254753  53.351208    -57   \n",
       "2                  51       SL           0  -6.256154  53.353180   -126   \n",
       "\n",
       "   Block_ID  Vehicle_ID Stop_ID  At_Stop  Distance  \n",
       "0     41008       33425     288        0         0  \n",
       "1     41008       33425    1171        0       242  \n",
       "2     41008       33425    1172        0       480  "
      ]
     },
     "execution_count": 45,
     "metadata": {},
     "output_type": "execute_result"
    }
   ],
   "source": [
    "#df_one.head(3)"
   ]
  },
  {
   "cell_type": "code",
   "execution_count": 47,
   "metadata": {
    "collapsed": false
   },
   "outputs": [
    {
     "name": "stdout",
     "output_type": "stream",
     "text": [
      "A new loop\n",
      "The running_dist is  242.01142419948468\n",
      "The running_dist is  480.48638121659064\n",
      "The running_dist is  659.9375178773328\n",
      "The running_dist is  737.8439421246511\n",
      "The running_dist is  813.8084389980299\n",
      "The running_dist is  929.7975772335211\n",
      "The running_dist is  1060.5209245068943\n",
      "The running_dist is  1174.0004659717006\n",
      "The running_dist is  1246.003244089239\n",
      "The running_dist is  1246.003244089239\n",
      "The running_dist is  1356.7385757758577\n",
      "The running_dist is  1395.4008087651032\n",
      "The running_dist is  1679.52139792173\n",
      "The running_dist is  1740.3474020531103\n",
      "The running_dist is  1740.3474020531103\n",
      "The running_dist is  1847.8709304989936\n",
      "The running_dist is  2090.580454323054\n",
      "The running_dist is  2103.727492652708\n",
      "The running_dist is  2198.6635667834826\n",
      "The running_dist is  2198.6635667834826\n",
      "The running_dist is  2265.056219272132\n",
      "The running_dist is  2432.3090746716766\n",
      "The running_dist is  2580.3458586388942\n",
      "The running_dist is  2600.7242411290886\n",
      "The running_dist is  2709.2231669630155\n",
      "The running_dist is  2896.537595068538\n",
      "The running_dist is  3035.7336341438354\n",
      "The running_dist is  3131.8853670895974\n",
      "The running_dist is  3201.4975096324397\n",
      "The running_dist is  3304.801651081331\n",
      "The running_dist is  3534.5599855596597\n",
      "The running_dist is  3709.9191420659313\n",
      "The running_dist is  3910.13807075922\n",
      "The running_dist is  4050.3946354620457\n",
      "The running_dist is  4050.3946354620457\n",
      "The running_dist is  4050.3946354620457\n",
      "The running_dist is  4163.978932414664\n",
      "The running_dist is  4208.202313097204\n",
      "The running_dist is  4444.931877064951\n",
      "The running_dist is  4658.750410276587\n",
      "The running_dist is  4695.9406471622415\n",
      "The running_dist is  4778.199415617456\n",
      "The running_dist is  4931.134051195908\n",
      "The running_dist is  4950.788709618842\n",
      "The running_dist is  4950.788709618842\n",
      "The running_dist is  5028.05320374406\n",
      "The running_dist is  5080.08696584767\n",
      "The running_dist is  5227.490717112023\n",
      "The running_dist is  5299.766445491681\n",
      "The running_dist is  5536.046533507801\n",
      "The running_dist is  5701.049954850513\n",
      "The running_dist is  5764.370735063784\n",
      "The running_dist is  5969.525132264822\n",
      "The running_dist is  6220.937463759446\n",
      "The running_dist is  6487.4221399610315\n",
      "The running_dist is  6569.443012267663\n",
      "The running_dist is  6653.274896420814\n",
      "The running_dist is  6732.5564491563455\n",
      "The running_dist is  6986.129800524113\n",
      "The running_dist is  7278.698434376838\n",
      "The running_dist is  7278.698434376838\n",
      "The running_dist is  7868.680156324659\n",
      "The running_dist is  8086.06498662151\n",
      "The running_dist is  8097.760615420993\n",
      "The running_dist is  8097.760615420993\n",
      "The running_dist is  8097.760615420993\n",
      "The running_dist is  8257.90749250472\n",
      "The running_dist is  8526.165772661174\n",
      "The running_dist is  8797.515205733913\n",
      "The running_dist is  8992.114623816045\n",
      "The running_dist is  9103.8092069173\n",
      "The running_dist is  9380.689373187255\n",
      "The running_dist is  9528.304302653387\n",
      "The running_dist is  9545.329427270817\n",
      "The running_dist is  9583.485319538846\n",
      "The running_dist is  9678.668796444705\n",
      "The running_dist is  9741.669281987504\n",
      "The running_dist is  9991.794772828389\n",
      "The running_dist is  10220.314209591545\n",
      "The running_dist is  10418.738596388901\n",
      "The running_dist is  10761.252587498078\n",
      "The running_dist is  11065.054865281169\n",
      "The running_dist is  11401.290720769763\n",
      "The running_dist is  11459.076508132752\n",
      "The running_dist is  11580.164735674201\n",
      "The running_dist is  11886.653558966838\n",
      "The running_dist is  12088.979475217713\n",
      "The running_dist is  12190.347870466545\n",
      "The running_dist is  12512.814672721463\n",
      "The running_dist is  12823.78753702272\n",
      "The running_dist is  12917.55731243327\n",
      "The running_dist is  12988.521135184132\n",
      "The running_dist is  13153.220603473954\n",
      "The running_dist is  13214.324112520979\n",
      "The running_dist is  13258.223202990323\n",
      "The running_dist is  13351.448457190234\n",
      "The running_dist is  13420.116808064236\n",
      "The running_dist is  13420.116808064236\n",
      "The running_dist is  13420.116808064236\n",
      "The running_dist is  13472.753698675075\n",
      "The running_dist is  13522.065306280898\n",
      "The running_dist is  13574.77616463879\n",
      "The running_dist is  13700.966424513937\n",
      "The running_dist is  13706.899927822946\n",
      "The running_dist is  13712.706048949265\n",
      "The running_dist is  13777.487866231713\n",
      "The running_dist is  13777.487866231713\n",
      "The running_dist is  13777.487866231713\n",
      "The running_dist is  13777.487866231713\n",
      "The running_dist is  13777.487866231713\n",
      "The running_dist is  13777.487866231713\n",
      "The running_dist is  13847.422667229004\n",
      "The running_dist is  14026.63020660499\n",
      "The running_dist is  14289.21203148742\n",
      "The running_dist is  14486.254584694785\n",
      "The running_dist is  14593.776560119526\n",
      "The running_dist is  14675.479814131157\n",
      "The running_dist is  14945.999069720918\n",
      "The running_dist is  15188.179397588183\n",
      "The running_dist is  15320.211365879033\n",
      "The running_dist is  15320.211365879033\n",
      "The running_dist is  15458.72892880359\n",
      "The running_dist is  15757.388092682839\n",
      "The running_dist is  16085.64552717899\n",
      "The running_dist is  16403.559639442457\n",
      "The running_dist is  16749.635868440706\n",
      "The running_dist is  17130.100023722865\n",
      "The running_dist is  17341.33858870818\n",
      "The running_dist is  17341.33858870818\n",
      "The running_dist is  17341.33858870818\n",
      "The running_dist is  17341.33858870818\n",
      "The running_dist is  17380.45970910203\n",
      "The running_dist is  17588.706260175222\n",
      "The running_dist is  17848.32310879856\n",
      "The running_dist is  18075.932777970054\n",
      "The running_dist is  18346.434979400805\n",
      "The running_dist is  18825.687044076207\n",
      "The running_dist is  19057.59213952139\n",
      "The running_dist is  19145.875703887184\n",
      "The running_dist is  19330.202067327922\n",
      "The running_dist is  19505.640213449504\n",
      "The running_dist is  19738.823725268296\n",
      "The running_dist is  19897.720308776898\n",
      "The running_dist is  20030.00074237823\n",
      "The running_dist is  20309.99262549293\n",
      "The running_dist is  20504.477889961556\n",
      "The running_dist is  20504.477889961556\n",
      "The running_dist is  20504.477889961556\n",
      "The running_dist is  20504.477889961556\n",
      "The running_dist is  20504.477889961556\n",
      "The running_dist is  20504.477889961556\n",
      "The running_dist is  20504.477889961556\n",
      "The running_dist is  20504.477889961556\n",
      "The running_dist is  20504.477889961556\n",
      "The running_dist is  20504.477889961556\n",
      "The running_dist is  20504.477889961556\n",
      "The running_dist is  20504.477889961556\n",
      "The running_dist is  20504.477889961556\n",
      "The running_dist is  20504.477889961556\n",
      "The running_dist is  20504.477889961556\n",
      "The running_dist is  20504.477889961556\n",
      "The running_dist is  20504.477889961556\n",
      "The running_dist is  20504.477889961556\n",
      "The running_dist is  20521.66638176985\n",
      "The running_dist is  20522.794782693025\n",
      "The running_dist is  20525.66952477215\n",
      "The running_dist is  20525.66952477215\n",
      "The running_dist is  20525.66952477215\n",
      "The running_dist is  20525.66952477215\n",
      "The running_dist is  20526.73154877081\n",
      "The running_dist is  20530.050373766517\n",
      "The running_dist is  20532.1585192855\n",
      "The running_dist is  20533.286920208673\n",
      "The running_dist is  20534.415321131848\n",
      "The running_dist is  20534.415321131848\n",
      "The running_dist is  20535.543722055023\n",
      "The running_dist is  20536.672122978198\n",
      "The running_dist is  20537.800523901373\n",
      "The running_dist is  20537.800523901373\n",
      "The running_dist is  20539.581251102372\n",
      "The running_dist is  20539.581251102372\n",
      "The running_dist is  20541.361978303372\n",
      "The running_dist is  20541.361978303372\n",
      "The running_dist is  20543.14270550437\n",
      "The running_dist is  20545.257319060973\n",
      "CPU times: user 87 ms, sys: 26.7 ms, total: 114 ms\n",
      "Wall time: 98.6 ms\n"
     ]
    }
   ],
   "source": [
    "from geopy.distance import distance\n",
    "\n",
    "\n",
    "        \n",
    "def group_df(groupby_params, df):\n",
    "    \"\"\"\n",
    "    :param groupby_params: list of feature names as strings by which to group by\n",
    "    :param df: dataframe that is to be grouped\n",
    "    :return: a pandas groupby object\n",
    "    \"\"\"\n",
    "    if len(groupby_params) == 0:\n",
    "        print(\"You did not provide any groupby parameters\")\n",
    "        return None\n",
    "    else:\n",
    "        df_grouped = df.groupby(groupby_params)\n",
    "        return df_grouped\n",
    "\n",
    "def coor():\n",
    "    prev = yield\n",
    "    running_dist = 0\n",
    "    \n",
    "    while True:\n",
    "        next_ = yield running_dist\n",
    "        one_dist=distance(prev, next_).meters\n",
    "        if one_dist>1000:\n",
    "            running_dist += 100\n",
    "        else:\n",
    "            running_dist += one_dist\n",
    "        #print(\"The running_dist is \",running_dist)\n",
    "        prev = next_\n",
    "        \n",
    "def add_distance_all_runs(df):\n",
    "    \"\"\"\n",
    "    :param df: dataframe before distance has been added\n",
    "    :return: dataframe with distances for each run\n",
    "    \"\"\"\n",
    "    df['Distance'] = -1\n",
    "    vj_groups = []\n",
    "    df_grouped = group_df(['Journey_Pattern_ID','Date'], df)\n",
    "    for journey_name, journey_group in df_grouped:\n",
    "        vehicle_groups = group_df(['Vehicle_Journey_ID'], journey_group)\n",
    "        for v_name, v_group in vehicle_groups:\n",
    "            c = coor()\n",
    "            next(c)\n",
    "            #print(\"A new loop\")\n",
    "            for index, row in v_group.iterrows():\n",
    "                dist = c.send((row['Lat_WGS84'], row['Lon_WGS84']))   \n",
    "                v_group.set_value(index, 'Distance', dist)\n",
    "            if v_group['Distance'].max() < 36000:\n",
    "                vj_groups.append(v_group)\n",
    "\n",
    "    return pd.concat(vj_groups)\n",
    "\n",
    "df=add_distance_all_runs(df)"
   ]
  },
  {
   "cell_type": "markdown",
   "metadata": {},
   "source": [
    "# For some run, the trip is too long, then we could remove all the row after three and half hours. As some bus didn't stop after finish one trip "
   ]
  },
  {
   "cell_type": "code",
   "execution_count": null,
   "metadata": {
    "collapsed": true
   },
   "outputs": [],
   "source": [
    "# Add new feature Trip_Time \n",
    "zscore=lambda x: (x - x.min())\n",
    "df['Trip_Time']= df.groupby(['Vehicle_Journey_ID','Journey_Pattern_ID','Date'])['Timestamp'].transform(zscore)"
   ]
  },
  {
   "cell_type": "code",
   "execution_count": null,
   "metadata": {
    "collapsed": true
   },
   "outputs": [],
   "source": [
    "# Drop all the rows' Trip_Time is longer than four hours \n",
    "df=df.drop(df.index[df['Trip_Time']>=14400])"
   ]
  },
  {
   "cell_type": "markdown",
   "metadata": {},
   "source": [
    "# Add some other features "
   ]
  },
  {
   "cell_type": "code",
   "execution_count": 6,
   "metadata": {
    "collapsed": false
   },
   "outputs": [
    {
     "data": {
      "text/html": [
       "<div>\n",
       "<table border=\"1\" class=\"dataframe\">\n",
       "  <thead>\n",
       "    <tr style=\"text-align: right;\">\n",
       "      <th></th>\n",
       "      <th>Timestamp</th>\n",
       "      <th>Line_ID</th>\n",
       "      <th>Direction</th>\n",
       "      <th>Journey_Pattern_ID</th>\n",
       "      <th>Date</th>\n",
       "      <th>Vehicle_Journey_ID</th>\n",
       "      <th>Operator</th>\n",
       "      <th>Congestion</th>\n",
       "      <th>Lon_WGS84</th>\n",
       "      <th>Lat_WGS84</th>\n",
       "      <th>Delay</th>\n",
       "      <th>Block_ID</th>\n",
       "      <th>Vehicle_ID</th>\n",
       "      <th>Stop_ID</th>\n",
       "      <th>At_Stop</th>\n",
       "      <th>datetime</th>\n",
       "    </tr>\n",
       "  </thead>\n",
       "  <tbody>\n",
       "    <tr>\n",
       "      <th>0</th>\n",
       "      <td>1352160000</td>\n",
       "      <td>15</td>\n",
       "      <td>0</td>\n",
       "      <td>00150001</td>\n",
       "      <td>2012-11-05</td>\n",
       "      <td>5826</td>\n",
       "      <td>RD</td>\n",
       "      <td>0</td>\n",
       "      <td>-6.258584</td>\n",
       "      <td>53.340099</td>\n",
       "      <td>-361</td>\n",
       "      <td>15013</td>\n",
       "      <td>33210</td>\n",
       "      <td>4870</td>\n",
       "      <td>0</td>\n",
       "      <td>2012-11-06 00:00:00</td>\n",
       "    </tr>\n",
       "    <tr>\n",
       "      <th>1</th>\n",
       "      <td>1352160000</td>\n",
       "      <td>46</td>\n",
       "      <td>0</td>\n",
       "      <td>046A1002</td>\n",
       "      <td>2012-11-05</td>\n",
       "      <td>7267</td>\n",
       "      <td>D2</td>\n",
       "      <td>0</td>\n",
       "      <td>-6.259093</td>\n",
       "      <td>53.345425</td>\n",
       "      <td>-1101</td>\n",
       "      <td>46004</td>\n",
       "      <td>36024</td>\n",
       "      <td>794</td>\n",
       "      <td>0</td>\n",
       "      <td>2012-11-06 00:00:00</td>\n",
       "    </tr>\n",
       "    <tr>\n",
       "      <th>2</th>\n",
       "      <td>1352160000</td>\n",
       "      <td>14</td>\n",
       "      <td>0</td>\n",
       "      <td>00140001</td>\n",
       "      <td>2012-11-05</td>\n",
       "      <td>6206</td>\n",
       "      <td>D2</td>\n",
       "      <td>0</td>\n",
       "      <td>-6.257329</td>\n",
       "      <td>53.287521</td>\n",
       "      <td>-126</td>\n",
       "      <td>14003</td>\n",
       "      <td>33325</td>\n",
       "      <td>1047</td>\n",
       "      <td>0</td>\n",
       "      <td>2012-11-06 00:00:00</td>\n",
       "    </tr>\n",
       "    <tr>\n",
       "      <th>3</th>\n",
       "      <td>1352160002</td>\n",
       "      <td>41</td>\n",
       "      <td>0</td>\n",
       "      <td>041B0002</td>\n",
       "      <td>2012-11-05</td>\n",
       "      <td>61</td>\n",
       "      <td>SL</td>\n",
       "      <td>0</td>\n",
       "      <td>-6.264167</td>\n",
       "      <td>53.453217</td>\n",
       "      <td>-623</td>\n",
       "      <td>41008</td>\n",
       "      <td>33631</td>\n",
       "      <td>3874</td>\n",
       "      <td>1</td>\n",
       "      <td>2012-11-06 00:00:02</td>\n",
       "    </tr>\n",
       "    <tr>\n",
       "      <th>4</th>\n",
       "      <td>1352160002</td>\n",
       "      <td>63</td>\n",
       "      <td>0</td>\n",
       "      <td>null</td>\n",
       "      <td>2012-11-05</td>\n",
       "      <td>1116</td>\n",
       "      <td>D2</td>\n",
       "      <td>0</td>\n",
       "      <td>-6.171050</td>\n",
       "      <td>53.259201</td>\n",
       "      <td>292</td>\n",
       "      <td>63003</td>\n",
       "      <td>33137</td>\n",
       "      <td>3283</td>\n",
       "      <td>0</td>\n",
       "      <td>2012-11-06 00:00:02</td>\n",
       "    </tr>\n",
       "  </tbody>\n",
       "</table>\n",
       "</div>"
      ],
      "text/plain": [
       "    Timestamp Line_ID  Direction Journey_Pattern_ID        Date  \\\n",
       "0  1352160000      15          0           00150001  2012-11-05   \n",
       "1  1352160000      46          0           046A1002  2012-11-05   \n",
       "2  1352160000      14          0           00140001  2012-11-05   \n",
       "3  1352160002      41          0           041B0002  2012-11-05   \n",
       "4  1352160002      63          0               null  2012-11-05   \n",
       "\n",
       "   Vehicle_Journey_ID Operator  Congestion  Lon_WGS84  Lat_WGS84  Delay  \\\n",
       "0                5826       RD           0  -6.258584  53.340099   -361   \n",
       "1                7267       D2           0  -6.259093  53.345425  -1101   \n",
       "2                6206       D2           0  -6.257329  53.287521   -126   \n",
       "3                  61       SL           0  -6.264167  53.453217   -623   \n",
       "4                1116       D2           0  -6.171050  53.259201    292   \n",
       "\n",
       "   Block_ID  Vehicle_ID Stop_ID  At_Stop            datetime  \n",
       "0     15013       33210    4870        0 2012-11-06 00:00:00  \n",
       "1     46004       36024     794        0 2012-11-06 00:00:00  \n",
       "2     14003       33325    1047        0 2012-11-06 00:00:00  \n",
       "3     41008       33631    3874        1 2012-11-06 00:00:02  \n",
       "4     63003       33137    3283        0 2012-11-06 00:00:02  "
      ]
     },
     "execution_count": 6,
     "metadata": {},
     "output_type": "execute_result"
    }
   ],
   "source": [
    "#Convert Timestamp to datetime and new column datetime to data frame \n",
    "df['datetime'] = pd.to_datetime(df['Timestamp'],unit='s')\n",
    "df.head(5)"
   ]
  },
  {
   "cell_type": "code",
   "execution_count": 7,
   "metadata": {
    "collapsed": false
   },
   "outputs": [],
   "source": [
    "# Add hourOfDay to dataframe\n",
    "df['datetime']=pd.to_datetime(df['datetime'])\n",
    "df['HourOfDay']=df['datetime'].dt.hour"
   ]
  },
  {
   "cell_type": "code",
   "execution_count": 8,
   "metadata": {
    "collapsed": false
   },
   "outputs": [
    {
     "data": {
      "text/html": [
       "<div>\n",
       "<table border=\"1\" class=\"dataframe\">\n",
       "  <thead>\n",
       "    <tr style=\"text-align: right;\">\n",
       "      <th></th>\n",
       "      <th>Timestamp</th>\n",
       "      <th>Line_ID</th>\n",
       "      <th>Direction</th>\n",
       "      <th>Journey_Pattern_ID</th>\n",
       "      <th>Date</th>\n",
       "      <th>Vehicle_Journey_ID</th>\n",
       "      <th>Operator</th>\n",
       "      <th>Congestion</th>\n",
       "      <th>Lon_WGS84</th>\n",
       "      <th>Lat_WGS84</th>\n",
       "      <th>Delay</th>\n",
       "      <th>Block_ID</th>\n",
       "      <th>Vehicle_ID</th>\n",
       "      <th>Stop_ID</th>\n",
       "      <th>At_Stop</th>\n",
       "      <th>datetime</th>\n",
       "      <th>HourOfDay</th>\n",
       "      <th>day_of_week</th>\n",
       "    </tr>\n",
       "  </thead>\n",
       "  <tbody>\n",
       "    <tr>\n",
       "      <th>0</th>\n",
       "      <td>1352160000</td>\n",
       "      <td>15</td>\n",
       "      <td>0</td>\n",
       "      <td>00150001</td>\n",
       "      <td>2012-11-05</td>\n",
       "      <td>5826</td>\n",
       "      <td>RD</td>\n",
       "      <td>0</td>\n",
       "      <td>-6.258584</td>\n",
       "      <td>53.340099</td>\n",
       "      <td>-361</td>\n",
       "      <td>15013</td>\n",
       "      <td>33210</td>\n",
       "      <td>4870</td>\n",
       "      <td>0</td>\n",
       "      <td>2012-11-06</td>\n",
       "      <td>0</td>\n",
       "      <td>Tuesday</td>\n",
       "    </tr>\n",
       "    <tr>\n",
       "      <th>1</th>\n",
       "      <td>1352160000</td>\n",
       "      <td>46</td>\n",
       "      <td>0</td>\n",
       "      <td>046A1002</td>\n",
       "      <td>2012-11-05</td>\n",
       "      <td>7267</td>\n",
       "      <td>D2</td>\n",
       "      <td>0</td>\n",
       "      <td>-6.259093</td>\n",
       "      <td>53.345425</td>\n",
       "      <td>-1101</td>\n",
       "      <td>46004</td>\n",
       "      <td>36024</td>\n",
       "      <td>794</td>\n",
       "      <td>0</td>\n",
       "      <td>2012-11-06</td>\n",
       "      <td>0</td>\n",
       "      <td>Tuesday</td>\n",
       "    </tr>\n",
       "    <tr>\n",
       "      <th>2</th>\n",
       "      <td>1352160000</td>\n",
       "      <td>14</td>\n",
       "      <td>0</td>\n",
       "      <td>00140001</td>\n",
       "      <td>2012-11-05</td>\n",
       "      <td>6206</td>\n",
       "      <td>D2</td>\n",
       "      <td>0</td>\n",
       "      <td>-6.257329</td>\n",
       "      <td>53.287521</td>\n",
       "      <td>-126</td>\n",
       "      <td>14003</td>\n",
       "      <td>33325</td>\n",
       "      <td>1047</td>\n",
       "      <td>0</td>\n",
       "      <td>2012-11-06</td>\n",
       "      <td>0</td>\n",
       "      <td>Tuesday</td>\n",
       "    </tr>\n",
       "  </tbody>\n",
       "</table>\n",
       "</div>"
      ],
      "text/plain": [
       "    Timestamp Line_ID  Direction Journey_Pattern_ID        Date  \\\n",
       "0  1352160000      15          0           00150001  2012-11-05   \n",
       "1  1352160000      46          0           046A1002  2012-11-05   \n",
       "2  1352160000      14          0           00140001  2012-11-05   \n",
       "\n",
       "   Vehicle_Journey_ID Operator  Congestion  Lon_WGS84  Lat_WGS84  Delay  \\\n",
       "0                5826       RD           0  -6.258584  53.340099   -361   \n",
       "1                7267       D2           0  -6.259093  53.345425  -1101   \n",
       "2                6206       D2           0  -6.257329  53.287521   -126   \n",
       "\n",
       "   Block_ID  Vehicle_ID Stop_ID  At_Stop   datetime  HourOfDay day_of_week  \n",
       "0     15013       33210    4870        0 2012-11-06          0     Tuesday  \n",
       "1     46004       36024     794        0 2012-11-06          0     Tuesday  \n",
       "2     14003       33325    1047        0 2012-11-06          0     Tuesday  "
      ]
     },
     "execution_count": 8,
     "metadata": {},
     "output_type": "execute_result"
    }
   ],
   "source": [
    "#ADD day of the week to the date frame \n",
    "df['day_of_week'] = df['datetime'].dt.weekday_name\n",
    "df.head(3)"
   ]
  },
  {
   "cell_type": "code",
   "execution_count": null,
   "metadata": {
    "collapsed": true
   },
   "outputs": [],
   "source": [
    "# Add midweek feature \n",
    "df['midweek'] = df['day_of_week'].map({'Monday': 1, 'Tuesday': 0,'Wednesday':0,'Thursday':0,'Friday': 0,'Saturday':1,'Sunday':1\n",
    "                                          })"
   ]
  },
  {
   "cell_type": "code",
   "execution_count": null,
   "metadata": {
    "collapsed": true
   },
   "outputs": [],
   "source": [
    "# Only keep the first row for every trip at the same Stop(keep both at or not_at stop)\n",
    "df = df.drop_duplicates(['Vehicle_Journey_ID','Journey_Pattern_ID','Date','Stop_ID','At_Stop'])"
   ]
  },
  {
   "cell_type": "markdown",
   "metadata": {},
   "source": [
    "# Add weather data "
   ]
  },
  {
   "cell_type": "code",
   "execution_count": 9,
   "metadata": {
    "collapsed": false
   },
   "outputs": [],
   "source": [
    "def add_time_bin_column(x):\n",
    "    if x <= 4:\n",
    "        return 'early_am'\n",
    "    elif x >= 5 and x <= 12:\n",
    "        return 'am'\n",
    "    elif x >= 12 and x <= 20:\n",
    "        return 'pm'\n",
    "    elif x >= 21:\n",
    "        return 'late_pm'\n",
    "\n",
    "df['time_bin']=df['HourOfDay'].map(lambda x:add_time_bin_column(x))\n",
    "# Add midweek feature \n",
    "\n",
    "#s.map(lambda x: 'this is a string {}'.format(x),na_action='ignore')\n"
   ]
  },
  {
   "cell_type": "code",
   "execution_count": 10,
   "metadata": {
    "collapsed": false
   },
   "outputs": [
    {
     "data": {
      "text/html": [
       "<div>\n",
       "<table border=\"1\" class=\"dataframe\">\n",
       "  <thead>\n",
       "    <tr style=\"text-align: right;\">\n",
       "      <th></th>\n",
       "      <th>Timestamp</th>\n",
       "      <th>Line_ID</th>\n",
       "      <th>Direction</th>\n",
       "      <th>Journey_Pattern_ID</th>\n",
       "      <th>Date</th>\n",
       "      <th>Vehicle_Journey_ID</th>\n",
       "      <th>Operator</th>\n",
       "      <th>Congestion</th>\n",
       "      <th>Lon_WGS84</th>\n",
       "      <th>Lat_WGS84</th>\n",
       "      <th>Delay</th>\n",
       "      <th>Block_ID</th>\n",
       "      <th>Vehicle_ID</th>\n",
       "      <th>Stop_ID</th>\n",
       "      <th>At_Stop</th>\n",
       "      <th>datetime</th>\n",
       "      <th>HourOfDay</th>\n",
       "      <th>day_of_week</th>\n",
       "      <th>time_bin</th>\n",
       "    </tr>\n",
       "  </thead>\n",
       "  <tbody>\n",
       "    <tr>\n",
       "      <th>0</th>\n",
       "      <td>1352160000</td>\n",
       "      <td>15</td>\n",
       "      <td>0</td>\n",
       "      <td>00150001</td>\n",
       "      <td>2012-11-05</td>\n",
       "      <td>5826</td>\n",
       "      <td>RD</td>\n",
       "      <td>0</td>\n",
       "      <td>-6.258584</td>\n",
       "      <td>53.340099</td>\n",
       "      <td>-361</td>\n",
       "      <td>15013</td>\n",
       "      <td>33210</td>\n",
       "      <td>4870</td>\n",
       "      <td>0</td>\n",
       "      <td>2012-11-06 00:00:00</td>\n",
       "      <td>0</td>\n",
       "      <td>Tuesday</td>\n",
       "      <td>early_am</td>\n",
       "    </tr>\n",
       "    <tr>\n",
       "      <th>1</th>\n",
       "      <td>1352160000</td>\n",
       "      <td>46</td>\n",
       "      <td>0</td>\n",
       "      <td>046A1002</td>\n",
       "      <td>2012-11-05</td>\n",
       "      <td>7267</td>\n",
       "      <td>D2</td>\n",
       "      <td>0</td>\n",
       "      <td>-6.259093</td>\n",
       "      <td>53.345425</td>\n",
       "      <td>-1101</td>\n",
       "      <td>46004</td>\n",
       "      <td>36024</td>\n",
       "      <td>794</td>\n",
       "      <td>0</td>\n",
       "      <td>2012-11-06 00:00:00</td>\n",
       "      <td>0</td>\n",
       "      <td>Tuesday</td>\n",
       "      <td>early_am</td>\n",
       "    </tr>\n",
       "    <tr>\n",
       "      <th>2</th>\n",
       "      <td>1352160000</td>\n",
       "      <td>14</td>\n",
       "      <td>0</td>\n",
       "      <td>00140001</td>\n",
       "      <td>2012-11-05</td>\n",
       "      <td>6206</td>\n",
       "      <td>D2</td>\n",
       "      <td>0</td>\n",
       "      <td>-6.257329</td>\n",
       "      <td>53.287521</td>\n",
       "      <td>-126</td>\n",
       "      <td>14003</td>\n",
       "      <td>33325</td>\n",
       "      <td>1047</td>\n",
       "      <td>0</td>\n",
       "      <td>2012-11-06 00:00:00</td>\n",
       "      <td>0</td>\n",
       "      <td>Tuesday</td>\n",
       "      <td>early_am</td>\n",
       "    </tr>\n",
       "    <tr>\n",
       "      <th>3</th>\n",
       "      <td>1352160002</td>\n",
       "      <td>41</td>\n",
       "      <td>0</td>\n",
       "      <td>041B0002</td>\n",
       "      <td>2012-11-05</td>\n",
       "      <td>61</td>\n",
       "      <td>SL</td>\n",
       "      <td>0</td>\n",
       "      <td>-6.264167</td>\n",
       "      <td>53.453217</td>\n",
       "      <td>-623</td>\n",
       "      <td>41008</td>\n",
       "      <td>33631</td>\n",
       "      <td>3874</td>\n",
       "      <td>1</td>\n",
       "      <td>2012-11-06 00:00:02</td>\n",
       "      <td>0</td>\n",
       "      <td>Tuesday</td>\n",
       "      <td>early_am</td>\n",
       "    </tr>\n",
       "    <tr>\n",
       "      <th>4</th>\n",
       "      <td>1352160002</td>\n",
       "      <td>63</td>\n",
       "      <td>0</td>\n",
       "      <td>null</td>\n",
       "      <td>2012-11-05</td>\n",
       "      <td>1116</td>\n",
       "      <td>D2</td>\n",
       "      <td>0</td>\n",
       "      <td>-6.171050</td>\n",
       "      <td>53.259201</td>\n",
       "      <td>292</td>\n",
       "      <td>63003</td>\n",
       "      <td>33137</td>\n",
       "      <td>3283</td>\n",
       "      <td>0</td>\n",
       "      <td>2012-11-06 00:00:02</td>\n",
       "      <td>0</td>\n",
       "      <td>Tuesday</td>\n",
       "      <td>early_am</td>\n",
       "    </tr>\n",
       "  </tbody>\n",
       "</table>\n",
       "</div>"
      ],
      "text/plain": [
       "    Timestamp Line_ID  Direction Journey_Pattern_ID        Date  \\\n",
       "0  1352160000      15          0           00150001  2012-11-05   \n",
       "1  1352160000      46          0           046A1002  2012-11-05   \n",
       "2  1352160000      14          0           00140001  2012-11-05   \n",
       "3  1352160002      41          0           041B0002  2012-11-05   \n",
       "4  1352160002      63          0               null  2012-11-05   \n",
       "\n",
       "   Vehicle_Journey_ID Operator  Congestion  Lon_WGS84  Lat_WGS84  Delay  \\\n",
       "0                5826       RD           0  -6.258584  53.340099   -361   \n",
       "1                7267       D2           0  -6.259093  53.345425  -1101   \n",
       "2                6206       D2           0  -6.257329  53.287521   -126   \n",
       "3                  61       SL           0  -6.264167  53.453217   -623   \n",
       "4                1116       D2           0  -6.171050  53.259201    292   \n",
       "\n",
       "   Block_ID  Vehicle_ID Stop_ID  At_Stop            datetime  HourOfDay  \\\n",
       "0     15013       33210    4870        0 2012-11-06 00:00:00          0   \n",
       "1     46004       36024     794        0 2012-11-06 00:00:00          0   \n",
       "2     14003       33325    1047        0 2012-11-06 00:00:00          0   \n",
       "3     41008       33631    3874        1 2012-11-06 00:00:02          0   \n",
       "4     63003       33137    3283        0 2012-11-06 00:00:02          0   \n",
       "\n",
       "  day_of_week  time_bin  \n",
       "0     Tuesday  early_am  \n",
       "1     Tuesday  early_am  \n",
       "2     Tuesday  early_am  \n",
       "3     Tuesday  early_am  \n",
       "4     Tuesday  early_am  "
      ]
     },
     "execution_count": 10,
     "metadata": {},
     "output_type": "execute_result"
    }
   ],
   "source": [
    "df.head()"
   ]
  },
  {
   "cell_type": "code",
   "execution_count": 15,
   "metadata": {
    "collapsed": true
   },
   "outputs": [],
   "source": [
    "df_weather=pd.read_csv('weather_output.csv')"
   ]
  },
  {
   "cell_type": "code",
   "execution_count": 16,
   "metadata": {
    "collapsed": false
   },
   "outputs": [
    {
     "data": {
      "text/html": [
       "<div>\n",
       "<table border=\"1\" class=\"dataframe\">\n",
       "  <thead>\n",
       "    <tr style=\"text-align: right;\">\n",
       "      <th></th>\n",
       "      <th>Date</th>\n",
       "      <th>time_bin</th>\n",
       "      <th>cloud</th>\n",
       "      <th>rain</th>\n",
       "      <th>temp</th>\n",
       "      <th>wind</th>\n",
       "    </tr>\n",
       "  </thead>\n",
       "  <tbody>\n",
       "    <tr>\n",
       "      <th>0</th>\n",
       "      <td>2012-11-01</td>\n",
       "      <td>early_am</td>\n",
       "      <td>3.60</td>\n",
       "      <td>0.00</td>\n",
       "      <td>1.30</td>\n",
       "      <td>7.00</td>\n",
       "    </tr>\n",
       "    <tr>\n",
       "      <th>1</th>\n",
       "      <td>2012-11-01</td>\n",
       "      <td>am</td>\n",
       "      <td>5.75</td>\n",
       "      <td>0.00</td>\n",
       "      <td>1.70</td>\n",
       "      <td>12.50</td>\n",
       "    </tr>\n",
       "    <tr>\n",
       "      <th>2</th>\n",
       "      <td>2012-11-01</td>\n",
       "      <td>pm</td>\n",
       "      <td>3.88</td>\n",
       "      <td>0.12</td>\n",
       "      <td>5.29</td>\n",
       "      <td>17.25</td>\n",
       "    </tr>\n",
       "    <tr>\n",
       "      <th>3</th>\n",
       "      <td>2012-11-01</td>\n",
       "      <td>late_pm</td>\n",
       "      <td>2.67</td>\n",
       "      <td>0.00</td>\n",
       "      <td>4.73</td>\n",
       "      <td>19.67</td>\n",
       "    </tr>\n",
       "    <tr>\n",
       "      <th>4</th>\n",
       "      <td>2012-11-02</td>\n",
       "      <td>early_am</td>\n",
       "      <td>6.00</td>\n",
       "      <td>0.00</td>\n",
       "      <td>4.66</td>\n",
       "      <td>16.80</td>\n",
       "    </tr>\n",
       "  </tbody>\n",
       "</table>\n",
       "</div>"
      ],
      "text/plain": [
       "         Date  time_bin  cloud  rain  temp   wind\n",
       "0  2012-11-01  early_am   3.60  0.00  1.30   7.00\n",
       "1  2012-11-01        am   5.75  0.00  1.70  12.50\n",
       "2  2012-11-01        pm   3.88  0.12  5.29  17.25\n",
       "3  2012-11-01   late_pm   2.67  0.00  4.73  19.67\n",
       "4  2012-11-02  early_am   6.00  0.00  4.66  16.80"
      ]
     },
     "execution_count": 16,
     "metadata": {},
     "output_type": "execute_result"
    }
   ],
   "source": [
    "df_weather.head()"
   ]
  },
  {
   "cell_type": "code",
   "execution_count": 17,
   "metadata": {
    "collapsed": false
   },
   "outputs": [
    {
     "data": {
      "text/plain": [
       "Date         object\n",
       "time_bin     object\n",
       "cloud       float64\n",
       "rain        float64\n",
       "temp        float64\n",
       "wind        float64\n",
       "dtype: object"
      ]
     },
     "execution_count": 17,
     "metadata": {},
     "output_type": "execute_result"
    }
   ],
   "source": [
    "df_weather.dtypes"
   ]
  },
  {
   "cell_type": "code",
   "execution_count": 18,
   "metadata": {
    "collapsed": false
   },
   "outputs": [
    {
     "data": {
      "text/plain": [
       "(1765912, 19)"
      ]
     },
     "execution_count": 18,
     "metadata": {},
     "output_type": "execute_result"
    }
   ],
   "source": [
    "df.shape"
   ]
  },
  {
   "cell_type": "code",
   "execution_count": 19,
   "metadata": {
    "collapsed": true
   },
   "outputs": [],
   "source": [
    "df = pd.merge(df, df_weather,  how='left', left_on=['Date','time_bin'], right_on = ['Date','time_bin'])"
   ]
  },
  {
   "cell_type": "code",
   "execution_count": 20,
   "metadata": {
    "collapsed": false
   },
   "outputs": [
    {
     "data": {
      "text/plain": [
       "(1765912, 23)"
      ]
     },
     "execution_count": 20,
     "metadata": {},
     "output_type": "execute_result"
    }
   ],
   "source": [
    "df.shape"
   ]
  },
  {
   "cell_type": "markdown",
   "metadata": {},
   "source": [
    "for index, row in df.iterrows():\n",
    "    date = row['Date'][8:]"
   ]
  },
  {
   "cell_type": "markdown",
   "metadata": {
    "collapsed": false
   },
   "source": [
    "def add_weather_columns(df, weather_data):\n",
    "    \"\"\"\n",
    "    :param df: a dataframe\n",
    "    :param weather_data: a json file with weather data in the appropriate format\n",
    "    :return: a dataframe with weather data added\n",
    "    \"\"\"\n",
    "    df['wind'] = 0\n",
    "    df['rain'] = 0\n",
    "    df['cloud'] = 0\n",
    "    df['temp'] = 0\n",
    "    weather_options = ['wind', 'rain', 'cloud', 'temp']\n",
    "    for index, row in df.iterrows():\n",
    "        date = row['Date']\n",
    "        timebin=row['time_bin']\n",
    "        df_select=weather_data.loc[(weather_data['time_bin']==timebin)&(weather_data['date']==date)]\n",
    "        row=df_weather.head(1)\n",
    "        for opt in weather_options:\n",
    "            value = row[opt]\n",
    "            df.set_value(index, opt, value)\n",
    "\n",
    "    return df\n",
    "add_weather_columns(df, df_weather)"
   ]
  },
  {
   "cell_type": "markdown",
   "metadata": {},
   "source": [
    "# Save the file for modeling "
   ]
  },
  {
   "cell_type": "code",
   "execution_count": 27,
   "metadata": {
    "collapsed": true
   },
   "outputs": [],
   "source": [
    "#Save the data for next step\n",
    "df.to_csv('dublin_2012_week1.csv',index=False)"
   ]
  },
  {
   "cell_type": "code",
   "execution_count": null,
   "metadata": {
    "collapsed": true
   },
   "outputs": [],
   "source": [
    "End_time=time.time()\n",
    "Duringtime=End_time-begin_time\n",
    "print(\"The time used is \",Duringtime//60)"
   ]
  }
 ],
 "metadata": {
  "kernelspec": {
   "display_name": "Python 3",
   "language": "python",
   "name": "python3"
  },
  "language_info": {
   "codemirror_mode": {
    "name": "ipython",
    "version": 3
   },
   "file_extension": ".py",
   "mimetype": "text/x-python",
   "name": "python",
   "nbconvert_exporter": "python",
   "pygments_lexer": "ipython3",
   "version": "3.6.0"
  }
 },
 "nbformat": 4,
 "nbformat_minor": 0
}
