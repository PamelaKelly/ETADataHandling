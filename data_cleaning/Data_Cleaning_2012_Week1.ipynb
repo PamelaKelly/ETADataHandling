{
 "cells": [
  {
   "cell_type": "markdown",
   "metadata": {},
   "source": [
    "## Project Dublin Bus \n",
    "\n",
    "\n",
    "## Change the data format, remove duplication and  save it "
   ]
  },
  {
   "cell_type": "markdown",
   "metadata": {},
   "source": [
    "## Import package and data "
   ]
  },
  {
   "cell_type": "code",
   "execution_count": 72,
   "metadata": {
    "collapsed": false
   },
   "outputs": [],
   "source": [
    "#Import the required packages\n",
    "#Import package pandas for data analysis\n",
    "import pandas as pd\n",
    "\n",
    "# Import package numpy for numeric computing\n",
    "import numpy as np\n",
    "\n",
    "# Import package matplotlib  for visualisation/plotting\n",
    "import matplotlib.pyplot as plt\n",
    "\n",
    "#import matplotlib.patches as mpatches\n",
    "import seaborn as sns\n",
    "\n",
    "#import package matplotlib for import plots to PDF\n",
    "from matplotlib.backends.backend_pdf import PdfPages\n",
    "\n",
    "#For showing plots directly in the notebook\n",
    "#%matplotlib inline\n",
    "\n",
    "# Reading from a csv file, into a data frame\n",
    "import numba\n",
    "\n",
    "import time \n",
    "begin_time=time.time()"
   ]
  },
  {
   "cell_type": "code",
   "execution_count": 73,
   "metadata": {
    "collapsed": true
   },
   "outputs": [],
   "source": [
    "#Change the columns's names \n",
    "Columns_name = ['Timestamp','Line_ID','Direction','Journey_Pattern_ID','Date','Vehicle_Journey_ID','Operator',\n",
    "              'Congestion','Lon_WGS84','Lat_WGS84','Delay','Block_ID','Vehicle_ID','Stop_ID','At_Stop']"
   ]
  },
  {
   "cell_type": "code",
   "execution_count": 74,
   "metadata": {
    "collapsed": false
   },
   "outputs": [
    {
     "name": "stderr",
     "output_type": "stream",
     "text": [
      "/Users/April/anaconda/envs/comp47350/lib/python3.6/site-packages/IPython/core/interactiveshell.py:2698: DtypeWarning: Columns (1) have mixed types. Specify dtype option on import or set low_memory=False.\n",
      "  interactivity=interactivity, compiler=compiler, result=result)\n"
     ]
    },
    {
     "data": {
      "text/html": [
       "<div>\n",
       "<table border=\"1\" class=\"dataframe\">\n",
       "  <thead>\n",
       "    <tr style=\"text-align: right;\">\n",
       "      <th></th>\n",
       "      <th>Timestamp</th>\n",
       "      <th>Line_ID</th>\n",
       "      <th>Direction</th>\n",
       "      <th>Journey_Pattern_ID</th>\n",
       "      <th>Date</th>\n",
       "      <th>Vehicle_Journey_ID</th>\n",
       "      <th>Operator</th>\n",
       "      <th>Congestion</th>\n",
       "      <th>Lon_WGS84</th>\n",
       "      <th>Lat_WGS84</th>\n",
       "      <th>Delay</th>\n",
       "      <th>Block_ID</th>\n",
       "      <th>Vehicle_ID</th>\n",
       "      <th>Stop_ID</th>\n",
       "      <th>At_Stop</th>\n",
       "    </tr>\n",
       "  </thead>\n",
       "  <tbody>\n",
       "    <tr>\n",
       "      <th>0</th>\n",
       "      <td>1352160000000000</td>\n",
       "      <td>15</td>\n",
       "      <td>0</td>\n",
       "      <td>00150001</td>\n",
       "      <td>2012-11-05</td>\n",
       "      <td>5826</td>\n",
       "      <td>RD</td>\n",
       "      <td>0</td>\n",
       "      <td>-6.258584</td>\n",
       "      <td>53.340099</td>\n",
       "      <td>-361</td>\n",
       "      <td>15013</td>\n",
       "      <td>33210</td>\n",
       "      <td>4870</td>\n",
       "      <td>0</td>\n",
       "    </tr>\n",
       "    <tr>\n",
       "      <th>1</th>\n",
       "      <td>1352160000000000</td>\n",
       "      <td>46</td>\n",
       "      <td>0</td>\n",
       "      <td>046A1002</td>\n",
       "      <td>2012-11-05</td>\n",
       "      <td>7267</td>\n",
       "      <td>D2</td>\n",
       "      <td>0</td>\n",
       "      <td>-6.259093</td>\n",
       "      <td>53.345425</td>\n",
       "      <td>-1101</td>\n",
       "      <td>46004</td>\n",
       "      <td>36024</td>\n",
       "      <td>794</td>\n",
       "      <td>0</td>\n",
       "    </tr>\n",
       "    <tr>\n",
       "      <th>2</th>\n",
       "      <td>1352160000000000</td>\n",
       "      <td>14</td>\n",
       "      <td>0</td>\n",
       "      <td>00140001</td>\n",
       "      <td>2012-11-05</td>\n",
       "      <td>6206</td>\n",
       "      <td>D2</td>\n",
       "      <td>0</td>\n",
       "      <td>-6.257329</td>\n",
       "      <td>53.287521</td>\n",
       "      <td>-126</td>\n",
       "      <td>14003</td>\n",
       "      <td>33325</td>\n",
       "      <td>1047</td>\n",
       "      <td>0</td>\n",
       "    </tr>\n",
       "  </tbody>\n",
       "</table>\n",
       "</div>"
      ],
      "text/plain": [
       "          Timestamp Line_ID  Direction Journey_Pattern_ID        Date  \\\n",
       "0  1352160000000000      15          0           00150001  2012-11-05   \n",
       "1  1352160000000000      46          0           046A1002  2012-11-05   \n",
       "2  1352160000000000      14          0           00140001  2012-11-05   \n",
       "\n",
       "   Vehicle_Journey_ID Operator  Congestion  Lon_WGS84  Lat_WGS84  Delay  \\\n",
       "0                5826       RD           0  -6.258584  53.340099   -361   \n",
       "1                7267       D2           0  -6.259093  53.345425  -1101   \n",
       "2                6206       D2           0  -6.257329  53.287521   -126   \n",
       "\n",
       "   Block_ID  Vehicle_ID Stop_ID  At_Stop  \n",
       "0     15013       33210    4870        0  \n",
       "1     46004       36024     794        0  \n",
       "2     14003       33325    1047        0  "
      ]
     },
     "execution_count": 74,
     "metadata": {},
     "output_type": "execute_result"
    }
   ],
   "source": [
    "#This is the data of January 2013\n",
    "df = pd.read_csv('dublin_2012_week1_before.csv',names=Columns_name, dtype={ 'Journey_Pattern_ID': object} )\n",
    "df.head(3)"
   ]
  },
  {
   "cell_type": "code",
   "execution_count": 75,
   "metadata": {
    "collapsed": false
   },
   "outputs": [
    {
     "data": {
      "text/plain": [
       "(10856935, 15)"
      ]
     },
     "execution_count": 75,
     "metadata": {},
     "output_type": "execute_result"
    }
   ],
   "source": [
    "# Check how many rows we have after loaded the csv file \n",
    "df.shape"
   ]
  },
  {
   "cell_type": "markdown",
   "metadata": {},
   "source": [
    "#  Data Cleaning \n"
   ]
  },
  {
   "cell_type": "code",
   "execution_count": 76,
   "metadata": {
    "collapsed": false
   },
   "outputs": [],
   "source": [
    "#Drop duplicate rows \n",
    "df=df.drop_duplicates()\n",
    "#Drop constant column\n",
    "#df.drop(['Direction','Operator'],axis=1,inplace=True)\n",
    "#Drop Unused column\n",
    "df.drop(['Line_ID','Direction','Operator','Congestion','Delay','Block_ID','Vehicle_ID',],axis=1,inplace=True)"
   ]
  },
  {
   "cell_type": "code",
   "execution_count": 77,
   "metadata": {
    "collapsed": false
   },
   "outputs": [
    {
     "data": {
      "text/plain": [
       "(10856935, 8)"
      ]
     },
     "execution_count": 77,
     "metadata": {},
     "output_type": "execute_result"
    }
   ],
   "source": [
    "# Check how many rows we have after remove duplication\n",
    "df.shape"
   ]
  },
  {
   "cell_type": "markdown",
   "metadata": {},
   "source": [
    "## Remove all Journey_Pattern_ID is null"
   ]
  },
  {
   "cell_type": "code",
   "execution_count": 78,
   "metadata": {
    "collapsed": false
   },
   "outputs": [],
   "source": [
    "# Drop all Journey_Pattern_ID is null \n",
    "df=df.drop(df.index[df['Journey_Pattern_ID'].isnull()])"
   ]
  },
  {
   "cell_type": "code",
   "execution_count": 79,
   "metadata": {
    "collapsed": false
   },
   "outputs": [
    {
     "data": {
      "text/plain": [
       "(10856077, 8)"
      ]
     },
     "execution_count": 79,
     "metadata": {},
     "output_type": "execute_result"
    }
   ],
   "source": [
    "#Check how many rows we deleted(Before it is (10856935, 15) )\n",
    "df.shape"
   ]
  },
  {
   "cell_type": "code",
   "execution_count": 80,
   "metadata": {
    "collapsed": false
   },
   "outputs": [],
   "source": [
    "# Drop all Journey_Pattern_ID is null \n",
    "df=df.drop(df.index[df['Journey_Pattern_ID'] == 'null'])"
   ]
  },
  {
   "cell_type": "code",
   "execution_count": 81,
   "metadata": {
    "collapsed": false
   },
   "outputs": [
    {
     "data": {
      "text/plain": [
       "(9211192, 8)"
      ]
     },
     "execution_count": 81,
     "metadata": {},
     "output_type": "execute_result"
    }
   ],
   "source": [
    "#Check how many rows we deleted(Before it is (10856935, 15) )\n",
    "df.shape"
   ]
  },
  {
   "cell_type": "code",
   "execution_count": 82,
   "metadata": {
    "collapsed": false
   },
   "outputs": [],
   "source": [
    "#Print all the unique Journey_Pattern_ID\n",
    "#print(\"Unique Journey_Pattern_ID \", pd.unique(df.Journey_Pattern_ID.ravel()))"
   ]
  },
  {
   "cell_type": "markdown",
   "metadata": {},
   "source": [
    "## Remove some noise data ( Like only have less than 13 rows in one trip  )\n",
    "## Those data are not actually a full run "
   ]
  },
  {
   "cell_type": "code",
   "execution_count": 83,
   "metadata": {
    "collapsed": false
   },
   "outputs": [],
   "source": [
    "df_groupby=df.groupby(['Vehicle_Journey_ID','Date','Journey_Pattern_ID'])\n",
    "\n",
    "#size = df_groupby.size()\n",
    "#size=size[size<13]\n",
    "\n",
    "#keys=df_groupby.groups\n",
    "\n",
    "# Filter all the data only have less than 13 rows data \n",
    "df_short_Journ=df_groupby.filter(lambda x: len(x) < 13 )"
   ]
  },
  {
   "cell_type": "code",
   "execution_count": 84,
   "metadata": {
    "collapsed": true
   },
   "outputs": [],
   "source": [
    "# Drop all the Journery that are less than a number \n",
    "\n",
    "df=pd.concat([df, df_short_Journ]).drop_duplicates(keep=False)"
   ]
  },
  {
   "cell_type": "code",
   "execution_count": 85,
   "metadata": {
    "collapsed": false
   },
   "outputs": [
    {
     "data": {
      "text/plain": [
       "(9172588, 8)"
      ]
     },
     "execution_count": 85,
     "metadata": {},
     "output_type": "execute_result"
    }
   ],
   "source": [
    "#Check how many rows we deleted\n",
    "df.shape\n"
   ]
  },
  {
   "cell_type": "markdown",
   "metadata": {},
   "source": [
    "# Find the first stop, and remove all the error data before it "
   ]
  },
  {
   "cell_type": "code",
   "execution_count": 86,
   "metadata": {
    "collapsed": true
   },
   "outputs": [],
   "source": [
    "# Groupby and get the first stop for every trip \n",
    "df_groupby=df.groupby(['Journey_Pattern_ID','Vehicle_Journey_ID','Date'])\n",
    "df_first_stop=df_groupby.first()\n",
    "df_last_stop=df_groupby.last()"
   ]
  },
  {
   "cell_type": "code",
   "execution_count": 87,
   "metadata": {
    "collapsed": false
   },
   "outputs": [],
   "source": [
    "# Groupby and get the first stop for every trip \n",
    "#df_groupby=df_all_jer.groupby(['Journey_Pattern_ID','Vehicle_Journey_ID','Date'])\n",
    "#df_groupby.last()"
   ]
  },
  {
   "cell_type": "code",
   "execution_count": 88,
   "metadata": {
    "collapsed": true
   },
   "outputs": [],
   "source": [
    "# df_first_stop.index.levels[0] \n",
    "#df_first_stop.to_csv('Fist_stop.csv')\n",
    "\n",
    "# Find the most frequent first stop \n",
    "df_first_stopid=df_first_stop.groupby(level=0)['Stop_ID'].agg(lambda x: x.value_counts().index[0])\n",
    "df_last_stopid=df_last_stop.groupby(level=0)['Stop_ID'].agg(lambda x: x.value_counts().index[0])"
   ]
  },
  {
   "cell_type": "code",
   "execution_count": 89,
   "metadata": {
    "collapsed": true
   },
   "outputs": [],
   "source": [
    "df_new_first=df_first_stopid.to_frame()\n",
    "df_new_last=df_last_stopid.to_frame()"
   ]
  },
  {
   "cell_type": "code",
   "execution_count": 90,
   "metadata": {
    "collapsed": false
   },
   "outputs": [
    {
     "data": {
      "text/html": [
       "<div>\n",
       "<table border=\"1\" class=\"dataframe\">\n",
       "  <thead>\n",
       "    <tr style=\"text-align: right;\">\n",
       "      <th></th>\n",
       "      <th>Stop_ID</th>\n",
       "    </tr>\n",
       "    <tr>\n",
       "      <th>Journey_Pattern_ID</th>\n",
       "      <th></th>\n",
       "    </tr>\n",
       "  </thead>\n",
       "  <tbody>\n",
       "    <tr>\n",
       "      <th>00010001</th>\n",
       "      <td>226</td>\n",
       "    </tr>\n",
       "    <tr>\n",
       "      <th>00010002</th>\n",
       "      <td>265</td>\n",
       "    </tr>\n",
       "    <tr>\n",
       "      <th>00010003</th>\n",
       "      <td>226</td>\n",
       "    </tr>\n",
       "    <tr>\n",
       "      <th>00011001</th>\n",
       "      <td>381</td>\n",
       "    </tr>\n",
       "    <tr>\n",
       "      <th>00011002</th>\n",
       "      <td>381</td>\n",
       "    </tr>\n",
       "  </tbody>\n",
       "</table>\n",
       "</div>"
      ],
      "text/plain": [
       "                   Stop_ID\n",
       "Journey_Pattern_ID        \n",
       "00010001               226\n",
       "00010002               265\n",
       "00010003               226\n",
       "00011001               381\n",
       "00011002               381"
      ]
     },
     "execution_count": 90,
     "metadata": {},
     "output_type": "execute_result"
    }
   ],
   "source": [
    "df_new_first.head()"
   ]
  },
  {
   "cell_type": "code",
   "execution_count": 91,
   "metadata": {
    "collapsed": false
   },
   "outputs": [
    {
     "data": {
      "text/html": [
       "<div>\n",
       "<table border=\"1\" class=\"dataframe\">\n",
       "  <thead>\n",
       "    <tr style=\"text-align: right;\">\n",
       "      <th></th>\n",
       "      <th>Stop_ID</th>\n",
       "    </tr>\n",
       "    <tr>\n",
       "      <th>Journey_Pattern_ID</th>\n",
       "      <th></th>\n",
       "    </tr>\n",
       "  </thead>\n",
       "  <tbody>\n",
       "    <tr>\n",
       "      <th>00010001</th>\n",
       "      <td>380</td>\n",
       "    </tr>\n",
       "    <tr>\n",
       "      <th>00010002</th>\n",
       "      <td>380</td>\n",
       "    </tr>\n",
       "    <tr>\n",
       "      <th>00010003</th>\n",
       "      <td>271</td>\n",
       "    </tr>\n",
       "    <tr>\n",
       "      <th>00011001</th>\n",
       "      <td>226</td>\n",
       "    </tr>\n",
       "    <tr>\n",
       "      <th>00011002</th>\n",
       "      <td>10</td>\n",
       "    </tr>\n",
       "  </tbody>\n",
       "</table>\n",
       "</div>"
      ],
      "text/plain": [
       "                   Stop_ID\n",
       "Journey_Pattern_ID        \n",
       "00010001               380\n",
       "00010002               380\n",
       "00010003               271\n",
       "00011001               226\n",
       "00011002                10"
      ]
     },
     "execution_count": 91,
     "metadata": {},
     "output_type": "execute_result"
    }
   ],
   "source": [
    "df_new_last.head()"
   ]
  },
  {
   "cell_type": "code",
   "execution_count": 92,
   "metadata": {
    "collapsed": true
   },
   "outputs": [],
   "source": [
    "#Add new index and Journey_Pattern_ID column\n",
    "df_new_first.reset_index(inplace=True)\n",
    "df_new_last.reset_index(inplace=True)"
   ]
  },
  {
   "cell_type": "code",
   "execution_count": 93,
   "metadata": {
    "collapsed": true
   },
   "outputs": [],
   "source": [
    "df_new_first = df_new_first.rename(columns={'Stop_ID': 'First_Stop'})\n",
    "df_new_last = df_new_last.rename(columns={'Stop_ID': 'Last_Stop'})"
   ]
  },
  {
   "cell_type": "code",
   "execution_count": 94,
   "metadata": {
    "collapsed": true
   },
   "outputs": [],
   "source": [
    "# Add the new feature First_Stop to dataframe \n",
    "df = pd.merge(df, df_new_first,  how='left', left_on=['Journey_Pattern_ID'], right_on = ['Journey_Pattern_ID'])\n",
    "df = pd.merge(df, df_new_last,  how='left', left_on=['Journey_Pattern_ID'], right_on = ['Journey_Pattern_ID'])"
   ]
  },
  {
   "cell_type": "code",
   "execution_count": 95,
   "metadata": {
    "collapsed": false
   },
   "outputs": [
    {
     "data": {
      "text/plain": [
       "(9172588, 10)"
      ]
     },
     "execution_count": 95,
     "metadata": {},
     "output_type": "execute_result"
    }
   ],
   "source": [
    "df.shape"
   ]
  },
  {
   "cell_type": "code",
   "execution_count": 96,
   "metadata": {
    "collapsed": false
   },
   "outputs": [
    {
     "name": "stdout",
     "output_type": "stream",
     "text": [
      "CPU times: user 18min 11s, sys: 25.6 s, total: 18min 37s\n",
      "Wall time: 50min 41s\n"
     ]
    }
   ],
   "source": [
    "@numba.jit\n",
    "def clean_first_last(df):\n",
    "# Write the function to check the first stop and last stop\n",
    "\n",
    "    df_grouped = df.groupby(['Journey_Pattern_ID','Date','Vehicle_Journey_ID'])\n",
    "    vj_groups = []\n",
    "    for jer_name, jer_group in df_grouped:\n",
    "    #print(jer_group)\n",
    "        first_stop=False\n",
    "        last_stop=False\n",
    "        for index, row in jer_group.iterrows():\n",
    "            #print(row['Stop_ID'],row['First_Stop'])\n",
    "            if not first_stop and row['Stop_ID']!=row['First_Stop']:\n",
    "                jer_group.set_value(index, 'Stop_ID',  np.nan)\n",
    "                row['Stop_ID']= np.nan\n",
    "                #print('after change ',row['Stop_ID'],row['First_Stop'])\n",
    "            elif not first_stop and row['Stop_ID']==row['First_Stop']:\n",
    "                first_stop=True\n",
    "            elif not last_stop and row['Stop_ID']!=row['Last_Stop']:\n",
    "                continue\n",
    "            elif not last_stop and row['Stop_ID']==row['Last_Stop']:\n",
    "                last_stop=True\n",
    "            else: \n",
    "                jer_group.set_value(index, 'Stop_ID',  np.nan)\n",
    "                row['Stop_ID']= np.nan\n",
    "                #jer_group.shape\n",
    "        if first_stop and last_stop:       \n",
    "            vj_groups.append(jer_group )\n",
    "    return pd.concat(vj_groups)\n",
    "df=clean_first_last(df)"
   ]
  },
  {
   "cell_type": "code",
   "execution_count": 97,
   "metadata": {
    "collapsed": false
   },
   "outputs": [
    {
     "data": {
      "text/plain": [
       "(6512909, 10)"
      ]
     },
     "execution_count": 97,
     "metadata": {},
     "output_type": "execute_result"
    }
   ],
   "source": [
    "df.shape # (1058747, 10)"
   ]
  },
  {
   "cell_type": "code",
   "execution_count": 98,
   "metadata": {
    "collapsed": false
   },
   "outputs": [],
   "source": [
    "# Drop all stop_id is null\n",
    "df.drop(df.index[df['Stop_ID'].isnull()],inplace=True)\n",
    "\n",
    "# Drop all Journey_Pattern_ID is null \n",
    "#df=df.drop(df.index[df['Journey_Pattern_ID'].isnull()])"
   ]
  },
  {
   "cell_type": "code",
   "execution_count": 67,
   "metadata": {
    "collapsed": false
   },
   "outputs": [
    {
     "data": {
      "text/plain": [
       "(5705865, 10)"
      ]
     },
     "execution_count": 67,
     "metadata": {},
     "output_type": "execute_result"
    }
   ],
   "source": [
    "df.shape"
   ]
  },
  {
   "cell_type": "code",
   "execution_count": 29,
   "metadata": {
    "collapsed": false
   },
   "outputs": [
    {
     "data": {
      "text/html": [
       "<div>\n",
       "<table border=\"1\" class=\"dataframe\">\n",
       "  <thead>\n",
       "    <tr style=\"text-align: right;\">\n",
       "      <th></th>\n",
       "      <th>Timestamp</th>\n",
       "      <th>Journey_Pattern_ID</th>\n",
       "      <th>Date</th>\n",
       "      <th>Vehicle_Journey_ID</th>\n",
       "      <th>Lon_WGS84</th>\n",
       "      <th>Lat_WGS84</th>\n",
       "      <th>Stop_ID</th>\n",
       "      <th>At_Stop</th>\n",
       "      <th>First_Stop</th>\n",
       "    </tr>\n",
       "  </thead>\n",
       "  <tbody>\n",
       "    <tr>\n",
       "      <th>382152</th>\n",
       "      <td>1352</td>\n",
       "      <td>00010001</td>\n",
       "      <td>2012-11-06</td>\n",
       "      <td>5425</td>\n",
       "      <td>-6.26195</td>\n",
       "      <td>53.391151</td>\n",
       "      <td>226</td>\n",
       "      <td>1</td>\n",
       "      <td>226</td>\n",
       "    </tr>\n",
       "    <tr>\n",
       "      <th>382746</th>\n",
       "      <td>1352</td>\n",
       "      <td>00010001</td>\n",
       "      <td>2012-11-06</td>\n",
       "      <td>5425</td>\n",
       "      <td>-6.26195</td>\n",
       "      <td>53.391151</td>\n",
       "      <td>226</td>\n",
       "      <td>1</td>\n",
       "      <td>226</td>\n",
       "    </tr>\n",
       "    <tr>\n",
       "      <th>383251</th>\n",
       "      <td>1352</td>\n",
       "      <td>00010001</td>\n",
       "      <td>2012-11-06</td>\n",
       "      <td>5425</td>\n",
       "      <td>-6.26195</td>\n",
       "      <td>53.391151</td>\n",
       "      <td>226</td>\n",
       "      <td>1</td>\n",
       "      <td>226</td>\n",
       "    </tr>\n",
       "  </tbody>\n",
       "</table>\n",
       "</div>"
      ],
      "text/plain": [
       "        Timestamp Journey_Pattern_ID        Date  Vehicle_Journey_ID  \\\n",
       "382152       1352           00010001  2012-11-06                5425   \n",
       "382746       1352           00010001  2012-11-06                5425   \n",
       "383251       1352           00010001  2012-11-06                5425   \n",
       "\n",
       "        Lon_WGS84  Lat_WGS84 Stop_ID  At_Stop First_Stop  \n",
       "382152   -6.26195  53.391151     226        1        226  \n",
       "382746   -6.26195  53.391151     226        1        226  \n",
       "383251   -6.26195  53.391151     226        1        226  "
      ]
     },
     "execution_count": 29,
     "metadata": {},
     "output_type": "execute_result"
    }
   ],
   "source": [
    "# Change Timestamp to a better way \n",
    "df['Timestamp'] = df['Timestamp'] //1000000\n",
    "df.head(3)"
   ]
  },
  {
   "cell_type": "markdown",
   "metadata": {},
   "source": [
    "# Add Distance feature "
   ]
  },
  {
   "cell_type": "code",
   "execution_count": null,
   "metadata": {
    "collapsed": true
   },
   "outputs": [],
   "source": [
    "# Only keep the first row for every trip at the same Stop(keep both at or not_at stop)\n",
    "df = df.drop_duplicates(['Vehicle_Journey_ID','Journey_Pattern_ID','Date','Lon_WGS84','Lat_WGS84'],keep='last')"
   ]
  },
  {
   "cell_type": "code",
   "execution_count": null,
   "metadata": {
    "collapsed": true
   },
   "outputs": [],
   "source": [
    "from geopy.distance import distance\n",
    "\n",
    "def coor():\n",
    "    prev = yield\n",
    "    running_dist = 0\n",
    "    \n",
    "    while True:\n",
    "        next_ = yield running_dist\n",
    "        one_dist=distance(prev, next_).meters\n",
    "        if one_dist>1000:\n",
    "            running_dist += 100\n",
    "        else:\n",
    "            running_dist += one_dist\n",
    "        #print(\"The running_dist is \",running_dist)\n",
    "        prev = next_\n",
    "\n",
    "        \n",
    "def add_distance_all_runs(df):\n",
    "    \"\"\"\n",
    "    :param df: dataframe before distance has been added\n",
    "    :return: dataframe with distances for each run\n",
    "    \"\"\"\n",
    "    df['Distance'] = -1\n",
    "    vj_groups = []\n",
    "    df_grouped = df.groupby(['Journey_Pattern_ID','Date','Vehicle_Journey_ID'])\n",
    "    for v_name, v_group in df_grouped:\n",
    "        c = coor()\n",
    "        next(c)\n",
    "            #print(\"A new loop\")\n",
    "        for index, row in v_group.iterrows():\n",
    "            dist = c.send((row['Lat_WGS84'], row['Lon_WGS84']))   \n",
    "            v_group.set_value(index, 'Distance', dist)\n",
    "        if v_group['Distance'].max() < 36000:\n",
    "            vj_groups.append(v_group)\n",
    "    \n",
    "    return pd.concat(vj_groups)\n",
    "\n",
    "\n",
    "df=add_distance_all_runs(df)"
   ]
  },
  {
   "cell_type": "markdown",
   "metadata": {},
   "source": [
    "# For some run, the trip is too long, then we could remove all the row after three and half hours. As some bus didn't stop after finish one trip "
   ]
  },
  {
   "cell_type": "code",
   "execution_count": null,
   "metadata": {
    "collapsed": true
   },
   "outputs": [],
   "source": [
    "# Only keep the first row for every trip at the same Stop(keep both at or not_at stop)\n",
    "df = df.drop_duplicates(['Vehicle_Journey_ID','Journey_Pattern_ID','Date','Stop_ID','At_Stop'],keep='last')"
   ]
  },
  {
   "cell_type": "code",
   "execution_count": null,
   "metadata": {
    "collapsed": true
   },
   "outputs": [],
   "source": [
    "# Add new feature Trip_Time \n",
    "zscore=lambda x: x - x.min()\n",
    "df['Trip_Time']= df.groupby(['Vehicle_Journey_ID','Journey_Pattern_ID','Date'])['Timestamp'].transform(zscore)"
   ]
  },
  {
   "cell_type": "code",
   "execution_count": null,
   "metadata": {
    "collapsed": true
   },
   "outputs": [],
   "source": [
    "# Drop all the rows' Trip_Time is longer than four hours \n",
    "df=df.drop(df.index[df['Trip_Time']>=14400])"
   ]
  },
  {
   "cell_type": "markdown",
   "metadata": {},
   "source": [
    "# Add some other features "
   ]
  },
  {
   "cell_type": "code",
   "execution_count": 6,
   "metadata": {
    "collapsed": false
   },
   "outputs": [
    {
     "data": {
      "text/html": [
       "<div>\n",
       "<table border=\"1\" class=\"dataframe\">\n",
       "  <thead>\n",
       "    <tr style=\"text-align: right;\">\n",
       "      <th></th>\n",
       "      <th>Timestamp</th>\n",
       "      <th>Line_ID</th>\n",
       "      <th>Direction</th>\n",
       "      <th>Journey_Pattern_ID</th>\n",
       "      <th>Date</th>\n",
       "      <th>Vehicle_Journey_ID</th>\n",
       "      <th>Operator</th>\n",
       "      <th>Congestion</th>\n",
       "      <th>Lon_WGS84</th>\n",
       "      <th>Lat_WGS84</th>\n",
       "      <th>Delay</th>\n",
       "      <th>Block_ID</th>\n",
       "      <th>Vehicle_ID</th>\n",
       "      <th>Stop_ID</th>\n",
       "      <th>At_Stop</th>\n",
       "      <th>datetime</th>\n",
       "    </tr>\n",
       "  </thead>\n",
       "  <tbody>\n",
       "    <tr>\n",
       "      <th>0</th>\n",
       "      <td>1352160000</td>\n",
       "      <td>15</td>\n",
       "      <td>0</td>\n",
       "      <td>00150001</td>\n",
       "      <td>2012-11-05</td>\n",
       "      <td>5826</td>\n",
       "      <td>RD</td>\n",
       "      <td>0</td>\n",
       "      <td>-6.258584</td>\n",
       "      <td>53.340099</td>\n",
       "      <td>-361</td>\n",
       "      <td>15013</td>\n",
       "      <td>33210</td>\n",
       "      <td>4870</td>\n",
       "      <td>0</td>\n",
       "      <td>2012-11-06 00:00:00</td>\n",
       "    </tr>\n",
       "    <tr>\n",
       "      <th>1</th>\n",
       "      <td>1352160000</td>\n",
       "      <td>46</td>\n",
       "      <td>0</td>\n",
       "      <td>046A1002</td>\n",
       "      <td>2012-11-05</td>\n",
       "      <td>7267</td>\n",
       "      <td>D2</td>\n",
       "      <td>0</td>\n",
       "      <td>-6.259093</td>\n",
       "      <td>53.345425</td>\n",
       "      <td>-1101</td>\n",
       "      <td>46004</td>\n",
       "      <td>36024</td>\n",
       "      <td>794</td>\n",
       "      <td>0</td>\n",
       "      <td>2012-11-06 00:00:00</td>\n",
       "    </tr>\n",
       "    <tr>\n",
       "      <th>2</th>\n",
       "      <td>1352160000</td>\n",
       "      <td>14</td>\n",
       "      <td>0</td>\n",
       "      <td>00140001</td>\n",
       "      <td>2012-11-05</td>\n",
       "      <td>6206</td>\n",
       "      <td>D2</td>\n",
       "      <td>0</td>\n",
       "      <td>-6.257329</td>\n",
       "      <td>53.287521</td>\n",
       "      <td>-126</td>\n",
       "      <td>14003</td>\n",
       "      <td>33325</td>\n",
       "      <td>1047</td>\n",
       "      <td>0</td>\n",
       "      <td>2012-11-06 00:00:00</td>\n",
       "    </tr>\n",
       "    <tr>\n",
       "      <th>3</th>\n",
       "      <td>1352160002</td>\n",
       "      <td>41</td>\n",
       "      <td>0</td>\n",
       "      <td>041B0002</td>\n",
       "      <td>2012-11-05</td>\n",
       "      <td>61</td>\n",
       "      <td>SL</td>\n",
       "      <td>0</td>\n",
       "      <td>-6.264167</td>\n",
       "      <td>53.453217</td>\n",
       "      <td>-623</td>\n",
       "      <td>41008</td>\n",
       "      <td>33631</td>\n",
       "      <td>3874</td>\n",
       "      <td>1</td>\n",
       "      <td>2012-11-06 00:00:02</td>\n",
       "    </tr>\n",
       "    <tr>\n",
       "      <th>4</th>\n",
       "      <td>1352160002</td>\n",
       "      <td>63</td>\n",
       "      <td>0</td>\n",
       "      <td>null</td>\n",
       "      <td>2012-11-05</td>\n",
       "      <td>1116</td>\n",
       "      <td>D2</td>\n",
       "      <td>0</td>\n",
       "      <td>-6.171050</td>\n",
       "      <td>53.259201</td>\n",
       "      <td>292</td>\n",
       "      <td>63003</td>\n",
       "      <td>33137</td>\n",
       "      <td>3283</td>\n",
       "      <td>0</td>\n",
       "      <td>2012-11-06 00:00:02</td>\n",
       "    </tr>\n",
       "  </tbody>\n",
       "</table>\n",
       "</div>"
      ],
      "text/plain": [
       "    Timestamp Line_ID  Direction Journey_Pattern_ID        Date  \\\n",
       "0  1352160000      15          0           00150001  2012-11-05   \n",
       "1  1352160000      46          0           046A1002  2012-11-05   \n",
       "2  1352160000      14          0           00140001  2012-11-05   \n",
       "3  1352160002      41          0           041B0002  2012-11-05   \n",
       "4  1352160002      63          0               null  2012-11-05   \n",
       "\n",
       "   Vehicle_Journey_ID Operator  Congestion  Lon_WGS84  Lat_WGS84  Delay  \\\n",
       "0                5826       RD           0  -6.258584  53.340099   -361   \n",
       "1                7267       D2           0  -6.259093  53.345425  -1101   \n",
       "2                6206       D2           0  -6.257329  53.287521   -126   \n",
       "3                  61       SL           0  -6.264167  53.453217   -623   \n",
       "4                1116       D2           0  -6.171050  53.259201    292   \n",
       "\n",
       "   Block_ID  Vehicle_ID Stop_ID  At_Stop            datetime  \n",
       "0     15013       33210    4870        0 2012-11-06 00:00:00  \n",
       "1     46004       36024     794        0 2012-11-06 00:00:00  \n",
       "2     14003       33325    1047        0 2012-11-06 00:00:00  \n",
       "3     41008       33631    3874        1 2012-11-06 00:00:02  \n",
       "4     63003       33137    3283        0 2012-11-06 00:00:02  "
      ]
     },
     "execution_count": 6,
     "metadata": {},
     "output_type": "execute_result"
    }
   ],
   "source": [
    "#Convert Timestamp to datetime and new column datetime to data frame \n",
    "df['datetime'] = pd.to_datetime(df['Timestamp'],unit='s')\n",
    "df.head(5)"
   ]
  },
  {
   "cell_type": "code",
   "execution_count": 7,
   "metadata": {
    "collapsed": false
   },
   "outputs": [],
   "source": [
    "# Add hourOfDay to dataframe\n",
    "df['datetime']=pd.to_datetime(df['datetime'])\n",
    "df['HourOfDay']=df['datetime'].dt.hour"
   ]
  },
  {
   "cell_type": "code",
   "execution_count": 8,
   "metadata": {
    "collapsed": false
   },
   "outputs": [
    {
     "data": {
      "text/html": [
       "<div>\n",
       "<table border=\"1\" class=\"dataframe\">\n",
       "  <thead>\n",
       "    <tr style=\"text-align: right;\">\n",
       "      <th></th>\n",
       "      <th>Timestamp</th>\n",
       "      <th>Line_ID</th>\n",
       "      <th>Direction</th>\n",
       "      <th>Journey_Pattern_ID</th>\n",
       "      <th>Date</th>\n",
       "      <th>Vehicle_Journey_ID</th>\n",
       "      <th>Operator</th>\n",
       "      <th>Congestion</th>\n",
       "      <th>Lon_WGS84</th>\n",
       "      <th>Lat_WGS84</th>\n",
       "      <th>Delay</th>\n",
       "      <th>Block_ID</th>\n",
       "      <th>Vehicle_ID</th>\n",
       "      <th>Stop_ID</th>\n",
       "      <th>At_Stop</th>\n",
       "      <th>datetime</th>\n",
       "      <th>HourOfDay</th>\n",
       "      <th>day_of_week</th>\n",
       "    </tr>\n",
       "  </thead>\n",
       "  <tbody>\n",
       "    <tr>\n",
       "      <th>0</th>\n",
       "      <td>1352160000</td>\n",
       "      <td>15</td>\n",
       "      <td>0</td>\n",
       "      <td>00150001</td>\n",
       "      <td>2012-11-05</td>\n",
       "      <td>5826</td>\n",
       "      <td>RD</td>\n",
       "      <td>0</td>\n",
       "      <td>-6.258584</td>\n",
       "      <td>53.340099</td>\n",
       "      <td>-361</td>\n",
       "      <td>15013</td>\n",
       "      <td>33210</td>\n",
       "      <td>4870</td>\n",
       "      <td>0</td>\n",
       "      <td>2012-11-06</td>\n",
       "      <td>0</td>\n",
       "      <td>Tuesday</td>\n",
       "    </tr>\n",
       "    <tr>\n",
       "      <th>1</th>\n",
       "      <td>1352160000</td>\n",
       "      <td>46</td>\n",
       "      <td>0</td>\n",
       "      <td>046A1002</td>\n",
       "      <td>2012-11-05</td>\n",
       "      <td>7267</td>\n",
       "      <td>D2</td>\n",
       "      <td>0</td>\n",
       "      <td>-6.259093</td>\n",
       "      <td>53.345425</td>\n",
       "      <td>-1101</td>\n",
       "      <td>46004</td>\n",
       "      <td>36024</td>\n",
       "      <td>794</td>\n",
       "      <td>0</td>\n",
       "      <td>2012-11-06</td>\n",
       "      <td>0</td>\n",
       "      <td>Tuesday</td>\n",
       "    </tr>\n",
       "    <tr>\n",
       "      <th>2</th>\n",
       "      <td>1352160000</td>\n",
       "      <td>14</td>\n",
       "      <td>0</td>\n",
       "      <td>00140001</td>\n",
       "      <td>2012-11-05</td>\n",
       "      <td>6206</td>\n",
       "      <td>D2</td>\n",
       "      <td>0</td>\n",
       "      <td>-6.257329</td>\n",
       "      <td>53.287521</td>\n",
       "      <td>-126</td>\n",
       "      <td>14003</td>\n",
       "      <td>33325</td>\n",
       "      <td>1047</td>\n",
       "      <td>0</td>\n",
       "      <td>2012-11-06</td>\n",
       "      <td>0</td>\n",
       "      <td>Tuesday</td>\n",
       "    </tr>\n",
       "  </tbody>\n",
       "</table>\n",
       "</div>"
      ],
      "text/plain": [
       "    Timestamp Line_ID  Direction Journey_Pattern_ID        Date  \\\n",
       "0  1352160000      15          0           00150001  2012-11-05   \n",
       "1  1352160000      46          0           046A1002  2012-11-05   \n",
       "2  1352160000      14          0           00140001  2012-11-05   \n",
       "\n",
       "   Vehicle_Journey_ID Operator  Congestion  Lon_WGS84  Lat_WGS84  Delay  \\\n",
       "0                5826       RD           0  -6.258584  53.340099   -361   \n",
       "1                7267       D2           0  -6.259093  53.345425  -1101   \n",
       "2                6206       D2           0  -6.257329  53.287521   -126   \n",
       "\n",
       "   Block_ID  Vehicle_ID Stop_ID  At_Stop   datetime  HourOfDay day_of_week  \n",
       "0     15013       33210    4870        0 2012-11-06          0     Tuesday  \n",
       "1     46004       36024     794        0 2012-11-06          0     Tuesday  \n",
       "2     14003       33325    1047        0 2012-11-06          0     Tuesday  "
      ]
     },
     "execution_count": 8,
     "metadata": {},
     "output_type": "execute_result"
    }
   ],
   "source": [
    "#ADD day of the week to the date frame \n",
    "df['day_of_week'] = df['datetime'].dt.weekday_name\n",
    "df.head(3)"
   ]
  },
  {
   "cell_type": "code",
   "execution_count": null,
   "metadata": {
    "collapsed": true
   },
   "outputs": [],
   "source": [
    "# Add midweek feature \n",
    "df['midweek'] = df['day_of_week'].map({'Monday': 0, 'Tuesday': 0,'Wednesday':0,'Thursday':0,'Friday': 0,'Saturday':1,'Sunday':1\n",
    "                                          })"
   ]
  },
  {
   "cell_type": "code",
   "execution_count": null,
   "metadata": {
    "collapsed": true
   },
   "outputs": [],
   "source": []
  },
  {
   "cell_type": "code",
   "execution_count": null,
   "metadata": {
    "collapsed": true
   },
   "outputs": [],
   "source": []
  },
  {
   "cell_type": "markdown",
   "metadata": {},
   "source": [
    "# Add weather data "
   ]
  },
  {
   "cell_type": "code",
   "execution_count": 9,
   "metadata": {
    "collapsed": false
   },
   "outputs": [],
   "source": [
    "def add_time_bin_column(x):\n",
    "    if x <= 4:\n",
    "        return 'early_am'\n",
    "    elif x >= 5 and x <= 12:\n",
    "        return 'am'\n",
    "    elif x >= 12 and x <= 20:\n",
    "        return 'pm'\n",
    "    elif x >= 21:\n",
    "        return 'late_pm'\n",
    "\n",
    "df['time_bin']=df['HourOfDay'].map(lambda x:add_time_bin_column(x))\n",
    "# Add midweek feature \n",
    "\n",
    "#s.map(lambda x: 'this is a string {}'.format(x),na_action='ignore')\n"
   ]
  },
  {
   "cell_type": "code",
   "execution_count": 10,
   "metadata": {
    "collapsed": false
   },
   "outputs": [
    {
     "data": {
      "text/html": [
       "<div>\n",
       "<table border=\"1\" class=\"dataframe\">\n",
       "  <thead>\n",
       "    <tr style=\"text-align: right;\">\n",
       "      <th></th>\n",
       "      <th>Timestamp</th>\n",
       "      <th>Line_ID</th>\n",
       "      <th>Direction</th>\n",
       "      <th>Journey_Pattern_ID</th>\n",
       "      <th>Date</th>\n",
       "      <th>Vehicle_Journey_ID</th>\n",
       "      <th>Operator</th>\n",
       "      <th>Congestion</th>\n",
       "      <th>Lon_WGS84</th>\n",
       "      <th>Lat_WGS84</th>\n",
       "      <th>Delay</th>\n",
       "      <th>Block_ID</th>\n",
       "      <th>Vehicle_ID</th>\n",
       "      <th>Stop_ID</th>\n",
       "      <th>At_Stop</th>\n",
       "      <th>datetime</th>\n",
       "      <th>HourOfDay</th>\n",
       "      <th>day_of_week</th>\n",
       "      <th>time_bin</th>\n",
       "    </tr>\n",
       "  </thead>\n",
       "  <tbody>\n",
       "    <tr>\n",
       "      <th>0</th>\n",
       "      <td>1352160000</td>\n",
       "      <td>15</td>\n",
       "      <td>0</td>\n",
       "      <td>00150001</td>\n",
       "      <td>2012-11-05</td>\n",
       "      <td>5826</td>\n",
       "      <td>RD</td>\n",
       "      <td>0</td>\n",
       "      <td>-6.258584</td>\n",
       "      <td>53.340099</td>\n",
       "      <td>-361</td>\n",
       "      <td>15013</td>\n",
       "      <td>33210</td>\n",
       "      <td>4870</td>\n",
       "      <td>0</td>\n",
       "      <td>2012-11-06 00:00:00</td>\n",
       "      <td>0</td>\n",
       "      <td>Tuesday</td>\n",
       "      <td>early_am</td>\n",
       "    </tr>\n",
       "    <tr>\n",
       "      <th>1</th>\n",
       "      <td>1352160000</td>\n",
       "      <td>46</td>\n",
       "      <td>0</td>\n",
       "      <td>046A1002</td>\n",
       "      <td>2012-11-05</td>\n",
       "      <td>7267</td>\n",
       "      <td>D2</td>\n",
       "      <td>0</td>\n",
       "      <td>-6.259093</td>\n",
       "      <td>53.345425</td>\n",
       "      <td>-1101</td>\n",
       "      <td>46004</td>\n",
       "      <td>36024</td>\n",
       "      <td>794</td>\n",
       "      <td>0</td>\n",
       "      <td>2012-11-06 00:00:00</td>\n",
       "      <td>0</td>\n",
       "      <td>Tuesday</td>\n",
       "      <td>early_am</td>\n",
       "    </tr>\n",
       "    <tr>\n",
       "      <th>2</th>\n",
       "      <td>1352160000</td>\n",
       "      <td>14</td>\n",
       "      <td>0</td>\n",
       "      <td>00140001</td>\n",
       "      <td>2012-11-05</td>\n",
       "      <td>6206</td>\n",
       "      <td>D2</td>\n",
       "      <td>0</td>\n",
       "      <td>-6.257329</td>\n",
       "      <td>53.287521</td>\n",
       "      <td>-126</td>\n",
       "      <td>14003</td>\n",
       "      <td>33325</td>\n",
       "      <td>1047</td>\n",
       "      <td>0</td>\n",
       "      <td>2012-11-06 00:00:00</td>\n",
       "      <td>0</td>\n",
       "      <td>Tuesday</td>\n",
       "      <td>early_am</td>\n",
       "    </tr>\n",
       "    <tr>\n",
       "      <th>3</th>\n",
       "      <td>1352160002</td>\n",
       "      <td>41</td>\n",
       "      <td>0</td>\n",
       "      <td>041B0002</td>\n",
       "      <td>2012-11-05</td>\n",
       "      <td>61</td>\n",
       "      <td>SL</td>\n",
       "      <td>0</td>\n",
       "      <td>-6.264167</td>\n",
       "      <td>53.453217</td>\n",
       "      <td>-623</td>\n",
       "      <td>41008</td>\n",
       "      <td>33631</td>\n",
       "      <td>3874</td>\n",
       "      <td>1</td>\n",
       "      <td>2012-11-06 00:00:02</td>\n",
       "      <td>0</td>\n",
       "      <td>Tuesday</td>\n",
       "      <td>early_am</td>\n",
       "    </tr>\n",
       "    <tr>\n",
       "      <th>4</th>\n",
       "      <td>1352160002</td>\n",
       "      <td>63</td>\n",
       "      <td>0</td>\n",
       "      <td>null</td>\n",
       "      <td>2012-11-05</td>\n",
       "      <td>1116</td>\n",
       "      <td>D2</td>\n",
       "      <td>0</td>\n",
       "      <td>-6.171050</td>\n",
       "      <td>53.259201</td>\n",
       "      <td>292</td>\n",
       "      <td>63003</td>\n",
       "      <td>33137</td>\n",
       "      <td>3283</td>\n",
       "      <td>0</td>\n",
       "      <td>2012-11-06 00:00:02</td>\n",
       "      <td>0</td>\n",
       "      <td>Tuesday</td>\n",
       "      <td>early_am</td>\n",
       "    </tr>\n",
       "  </tbody>\n",
       "</table>\n",
       "</div>"
      ],
      "text/plain": [
       "    Timestamp Line_ID  Direction Journey_Pattern_ID        Date  \\\n",
       "0  1352160000      15          0           00150001  2012-11-05   \n",
       "1  1352160000      46          0           046A1002  2012-11-05   \n",
       "2  1352160000      14          0           00140001  2012-11-05   \n",
       "3  1352160002      41          0           041B0002  2012-11-05   \n",
       "4  1352160002      63          0               null  2012-11-05   \n",
       "\n",
       "   Vehicle_Journey_ID Operator  Congestion  Lon_WGS84  Lat_WGS84  Delay  \\\n",
       "0                5826       RD           0  -6.258584  53.340099   -361   \n",
       "1                7267       D2           0  -6.259093  53.345425  -1101   \n",
       "2                6206       D2           0  -6.257329  53.287521   -126   \n",
       "3                  61       SL           0  -6.264167  53.453217   -623   \n",
       "4                1116       D2           0  -6.171050  53.259201    292   \n",
       "\n",
       "   Block_ID  Vehicle_ID Stop_ID  At_Stop            datetime  HourOfDay  \\\n",
       "0     15013       33210    4870        0 2012-11-06 00:00:00          0   \n",
       "1     46004       36024     794        0 2012-11-06 00:00:00          0   \n",
       "2     14003       33325    1047        0 2012-11-06 00:00:00          0   \n",
       "3     41008       33631    3874        1 2012-11-06 00:00:02          0   \n",
       "4     63003       33137    3283        0 2012-11-06 00:00:02          0   \n",
       "\n",
       "  day_of_week  time_bin  \n",
       "0     Tuesday  early_am  \n",
       "1     Tuesday  early_am  \n",
       "2     Tuesday  early_am  \n",
       "3     Tuesday  early_am  \n",
       "4     Tuesday  early_am  "
      ]
     },
     "execution_count": 10,
     "metadata": {},
     "output_type": "execute_result"
    }
   ],
   "source": [
    "df.head()"
   ]
  },
  {
   "cell_type": "code",
   "execution_count": 15,
   "metadata": {
    "collapsed": true
   },
   "outputs": [],
   "source": [
    "df_weather=pd.read_csv('weather_output.csv')"
   ]
  },
  {
   "cell_type": "code",
   "execution_count": 16,
   "metadata": {
    "collapsed": false
   },
   "outputs": [
    {
     "data": {
      "text/html": [
       "<div>\n",
       "<table border=\"1\" class=\"dataframe\">\n",
       "  <thead>\n",
       "    <tr style=\"text-align: right;\">\n",
       "      <th></th>\n",
       "      <th>Date</th>\n",
       "      <th>time_bin</th>\n",
       "      <th>cloud</th>\n",
       "      <th>rain</th>\n",
       "      <th>temp</th>\n",
       "      <th>wind</th>\n",
       "    </tr>\n",
       "  </thead>\n",
       "  <tbody>\n",
       "    <tr>\n",
       "      <th>0</th>\n",
       "      <td>2012-11-01</td>\n",
       "      <td>early_am</td>\n",
       "      <td>3.60</td>\n",
       "      <td>0.00</td>\n",
       "      <td>1.30</td>\n",
       "      <td>7.00</td>\n",
       "    </tr>\n",
       "    <tr>\n",
       "      <th>1</th>\n",
       "      <td>2012-11-01</td>\n",
       "      <td>am</td>\n",
       "      <td>5.75</td>\n",
       "      <td>0.00</td>\n",
       "      <td>1.70</td>\n",
       "      <td>12.50</td>\n",
       "    </tr>\n",
       "    <tr>\n",
       "      <th>2</th>\n",
       "      <td>2012-11-01</td>\n",
       "      <td>pm</td>\n",
       "      <td>3.88</td>\n",
       "      <td>0.12</td>\n",
       "      <td>5.29</td>\n",
       "      <td>17.25</td>\n",
       "    </tr>\n",
       "    <tr>\n",
       "      <th>3</th>\n",
       "      <td>2012-11-01</td>\n",
       "      <td>late_pm</td>\n",
       "      <td>2.67</td>\n",
       "      <td>0.00</td>\n",
       "      <td>4.73</td>\n",
       "      <td>19.67</td>\n",
       "    </tr>\n",
       "    <tr>\n",
       "      <th>4</th>\n",
       "      <td>2012-11-02</td>\n",
       "      <td>early_am</td>\n",
       "      <td>6.00</td>\n",
       "      <td>0.00</td>\n",
       "      <td>4.66</td>\n",
       "      <td>16.80</td>\n",
       "    </tr>\n",
       "  </tbody>\n",
       "</table>\n",
       "</div>"
      ],
      "text/plain": [
       "         Date  time_bin  cloud  rain  temp   wind\n",
       "0  2012-11-01  early_am   3.60  0.00  1.30   7.00\n",
       "1  2012-11-01        am   5.75  0.00  1.70  12.50\n",
       "2  2012-11-01        pm   3.88  0.12  5.29  17.25\n",
       "3  2012-11-01   late_pm   2.67  0.00  4.73  19.67\n",
       "4  2012-11-02  early_am   6.00  0.00  4.66  16.80"
      ]
     },
     "execution_count": 16,
     "metadata": {},
     "output_type": "execute_result"
    }
   ],
   "source": [
    "df_weather.head()"
   ]
  },
  {
   "cell_type": "code",
   "execution_count": 17,
   "metadata": {
    "collapsed": false
   },
   "outputs": [
    {
     "data": {
      "text/plain": [
       "Date         object\n",
       "time_bin     object\n",
       "cloud       float64\n",
       "rain        float64\n",
       "temp        float64\n",
       "wind        float64\n",
       "dtype: object"
      ]
     },
     "execution_count": 17,
     "metadata": {},
     "output_type": "execute_result"
    }
   ],
   "source": [
    "df_weather.dtypes"
   ]
  },
  {
   "cell_type": "code",
   "execution_count": 18,
   "metadata": {
    "collapsed": false
   },
   "outputs": [
    {
     "data": {
      "text/plain": [
       "(1765912, 19)"
      ]
     },
     "execution_count": 18,
     "metadata": {},
     "output_type": "execute_result"
    }
   ],
   "source": [
    "df.shape"
   ]
  },
  {
   "cell_type": "code",
   "execution_count": 19,
   "metadata": {
    "collapsed": true
   },
   "outputs": [],
   "source": [
    "df = pd.merge(df, df_weather,  how='left', left_on=['Date','time_bin'], right_on = ['Date','time_bin'])"
   ]
  },
  {
   "cell_type": "code",
   "execution_count": 20,
   "metadata": {
    "collapsed": false
   },
   "outputs": [
    {
     "data": {
      "text/plain": [
       "(1765912, 23)"
      ]
     },
     "execution_count": 20,
     "metadata": {},
     "output_type": "execute_result"
    }
   ],
   "source": [
    "df.shape"
   ]
  },
  {
   "cell_type": "markdown",
   "metadata": {},
   "source": [
    "# Save the file for modeling "
   ]
  },
  {
   "cell_type": "code",
   "execution_count": 27,
   "metadata": {
    "collapsed": true
   },
   "outputs": [],
   "source": [
    "#Save the data for next step\n",
    "df.to_csv('dublin_2012_week1_distance.csv',index=False)"
   ]
  },
  {
   "cell_type": "code",
   "execution_count": null,
   "metadata": {
    "collapsed": true
   },
   "outputs": [],
   "source": [
    "End_time=time.time()\n",
    "Duringtime=End_time-begin_time\n",
    "print(\"The time used is \",Duringtime//60)"
   ]
  }
 ],
 "metadata": {
  "kernelspec": {
   "display_name": "Python 3",
   "language": "python",
   "name": "python3"
  },
  "language_info": {
   "codemirror_mode": {
    "name": "ipython",
    "version": 3
   },
   "file_extension": ".py",
   "mimetype": "text/x-python",
   "name": "python",
   "nbconvert_exporter": "python",
   "pygments_lexer": "ipython3",
   "version": "3.6.0"
  }
 },
 "nbformat": 4,
 "nbformat_minor": 0
}
