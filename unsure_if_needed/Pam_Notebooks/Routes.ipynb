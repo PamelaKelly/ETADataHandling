{
 "cells": [
  {
   "cell_type": "code",
   "execution_count": 1,
   "metadata": {
    "collapsed": true
   },
   "outputs": [],
   "source": [
    "import pandas as pd\n",
    "import datetime\n",
    "import json"
   ]
  },
  {
   "cell_type": "code",
   "execution_count": 2,
   "metadata": {
    "collapsed": false
   },
   "outputs": [
    {
     "name": "stderr",
     "output_type": "stream",
     "text": [
      "C:\\Users\\pamel\\Anaconda3\\lib\\site-packages\\IPython\\core\\interactiveshell.py:2717: DtypeWarning: Columns (1) have mixed types. Specify dtype option on import or set low_memory=False.\n",
      "  interactivity=interactivity, compiler=compiler, result=result)\n",
      "C:\\Users\\pamel\\Anaconda3\\lib\\site-packages\\IPython\\core\\interactiveshell.py:2717: DtypeWarning: Columns (1,13) have mixed types. Specify dtype option on import or set low_memory=False.\n",
      "  interactivity=interactivity, compiler=compiler, result=result)\n"
     ]
    }
   ],
   "source": [
    "df_day1 = pd.read_csv('siri.20121106.csv', names=[\"Timestamp\", \"Line_ID\", \"Direction\", \"JourneyPattern_ID\", \"Time_Frame\", \"VehicleJourney_ID\", \"Operator\", \"Congestion\", \"Longitude\", \"Latitude\", \"Delay\", \"Block_ID\", \"Vehicle_ID\", \"Stop_ID\", \"At_Stop\"])\n",
    "df_day2 = pd.read_csv('siri.20121107.csv', names=[\"Timestamp\", \"Line_ID\", \"Direction\", \"JourneyPattern_ID\", \"Time_Frame\", \"VehicleJourney_ID\", \"Operator\", \"Congestion\", \"Longitude\", \"Latitude\", \"Delay\", \"Block_ID\", \"Vehicle_ID\", \"Stop_ID\", \"At_Stop\"])\n",
    "df_day3 = pd.read_csv('siri.20121108.csv', names=[\"Timestamp\", \"Line_ID\", \"Direction\", \"JourneyPattern_ID\", \"Time_Frame\", \"VehicleJourney_ID\", \"Operator\", \"Congestion\", \"Longitude\", \"Latitude\", \"Delay\", \"Block_ID\", \"Vehicle_ID\", \"Stop_ID\", \"At_Stop\"])\n",
    "df_day4 = pd.read_csv('siri.20121109.csv', names=[\"Timestamp\", \"Line_ID\", \"Direction\", \"JourneyPattern_ID\", \"Time_Frame\", \"VehicleJourney_ID\", \"Operator\", \"Congestion\", \"Longitude\", \"Latitude\", \"Delay\", \"Block_ID\", \"Vehicle_ID\", \"Stop_ID\", \"At_Stop\"])\n",
    "df_day5 = pd.read_csv('siri.20121110.csv', names=[\"Timestamp\", \"Line_ID\", \"Direction\", \"JourneyPattern_ID\", \"Time_Frame\", \"VehicleJourney_ID\", \"Operator\", \"Congestion\", \"Longitude\", \"Latitude\", \"Delay\", \"Block_ID\", \"Vehicle_ID\", \"Stop_ID\", \"At_Stop\"])\n",
    "df_day6 = pd.read_csv('siri.20121111.csv', names=[\"Timestamp\", \"Line_ID\", \"Direction\", \"JourneyPattern_ID\", \"Time_Frame\", \"VehicleJourney_ID\", \"Operator\", \"Congestion\", \"Longitude\", \"Latitude\", \"Delay\", \"Block_ID\", \"Vehicle_ID\", \"Stop_ID\", \"At_Stop\"])\n",
    "df_day7 = pd.read_csv('siri.20121112.csv', names=[\"Timestamp\", \"Line_ID\", \"Direction\", \"JourneyPattern_ID\", \"Time_Frame\", \"VehicleJourney_ID\", \"Operator\", \"Congestion\", \"Longitude\", \"Latitude\", \"Delay\", \"Block_ID\", \"Vehicle_ID\", \"Stop_ID\", \"At_Stop\"])"
   ]
  },
  {
   "cell_type": "code",
   "execution_count": 3,
   "metadata": {
    "collapsed": true
   },
   "outputs": [],
   "source": [
    "df_day1 = df_day1.loc[(df_day1['At_Stop'] == 1) & (df_day1['JourneyPattern_ID'] != 'null')]\n",
    "df_day2 = df_day2.loc[(df_day2['At_Stop'] == 1) & (df_day1['JourneyPattern_ID'] != 'null')]\n",
    "df_day3 = df_day3.loc[(df_day3['At_Stop'] == 1) & (df_day1['JourneyPattern_ID'] != 'null')]\n",
    "df_day4 = df_day4.loc[(df_day4['At_Stop'] == 1) & (df_day1['JourneyPattern_ID'] != 'null')]\n",
    "df_day5 = df_day5.loc[(df_day5['At_Stop'] == 1) & (df_day1['JourneyPattern_ID'] != 'null')]\n",
    "df_day6 = df_day6.loc[(df_day6['At_Stop'] == 1) & (df_day1['JourneyPattern_ID'] != 'null')]\n",
    "df_day7 = df_day7.loc[(df_day7['At_Stop'] == 1) & (df_day1['JourneyPattern_ID'] != 'null')]"
   ]
  },
  {
   "cell_type": "code",
   "execution_count": 4,
   "metadata": {
    "collapsed": false,
    "scrolled": true
   },
   "outputs": [
    {
     "data": {
      "text/plain": [
       "(377261, 15)"
      ]
     },
     "execution_count": 4,
     "metadata": {},
     "output_type": "execute_result"
    }
   ],
   "source": [
    "df_day1.shape"
   ]
  },
  {
   "cell_type": "code",
   "execution_count": 5,
   "metadata": {
    "collapsed": false
   },
   "outputs": [],
   "source": [
    "frames = [df_day1, df_day2, df_day3, df_day4, df_day5, df_day6, df_day7]\n",
    "df_week = pd.concat(frames)"
   ]
  },
  {
   "cell_type": "code",
   "execution_count": 6,
   "metadata": {
    "collapsed": false
   },
   "outputs": [
    {
     "data": {
      "text/plain": [
       "Timestamp             0\n",
       "Line_ID               0\n",
       "Direction             0\n",
       "JourneyPattern_ID    11\n",
       "Time_Frame            0\n",
       "VehicleJourney_ID     0\n",
       "Operator              0\n",
       "Congestion            0\n",
       "Longitude             0\n",
       "Latitude              0\n",
       "Delay                 0\n",
       "Block_ID              0\n",
       "Vehicle_ID            0\n",
       "Stop_ID               0\n",
       "At_Stop               0\n",
       "dtype: int64"
      ]
     },
     "execution_count": 6,
     "metadata": {},
     "output_type": "execute_result"
    }
   ],
   "source": [
    "# journey pattern ids that are equal to null indicate idling bus at depot/terminus\n",
    "df_week.isnull().sum()"
   ]
  },
  {
   "cell_type": "code",
   "execution_count": 7,
   "metadata": {
    "collapsed": false
   },
   "outputs": [
    {
     "data": {
      "text/plain": [
       "(800861, 15)"
      ]
     },
     "execution_count": 7,
     "metadata": {},
     "output_type": "execute_result"
    }
   ],
   "source": [
    "df_week.shape"
   ]
  },
  {
   "cell_type": "code",
   "execution_count": 8,
   "metadata": {
    "collapsed": false
   },
   "outputs": [
    {
     "data": {
      "text/plain": [
       "Index(['Timestamp', 'Line_ID', 'Direction', 'JourneyPattern_ID', 'Time_Frame',\n",
       "       'VehicleJourney_ID', 'Operator', 'Congestion', 'Longitude', 'Latitude',\n",
       "       'Delay', 'Block_ID', 'Vehicle_ID', 'Stop_ID', 'At_Stop'],\n",
       "      dtype='object')"
      ]
     },
     "execution_count": 8,
     "metadata": {},
     "output_type": "execute_result"
    }
   ],
   "source": [
    "df_week.columns"
   ]
  },
  {
   "cell_type": "code",
   "execution_count": 9,
   "metadata": {
    "collapsed": false
   },
   "outputs": [],
   "source": [
    "# add time and day columns before grouping\n",
    "day, tm = 'null', 'null'\n",
    "df_week['Day'], df_week['Time'] = day, tm"
   ]
  },
  {
   "cell_type": "code",
   "execution_count": 10,
   "metadata": {
    "collapsed": false
   },
   "outputs": [],
   "source": [
    "df_week = df_week.groupby(['JourneyPattern_ID'])"
   ]
  },
  {
   "cell_type": "code",
   "execution_count": 11,
   "metadata": {
    "collapsed": false
   },
   "outputs": [
    {
     "data": {
      "text/plain": [
       "471"
      ]
     },
     "execution_count": 11,
     "metadata": {},
     "output_type": "execute_result"
    }
   ],
   "source": [
    "len(df_week)"
   ]
  },
  {
   "cell_type": "code",
   "execution_count": 12,
   "metadata": {
    "collapsed": true
   },
   "outputs": [],
   "source": [
    "def convert_timestamp(stamp):\n",
    "    stamp = (stamp/1000)/1000\n",
    "    full_dt = datetime.datetime.fromtimestamp(stamp).strftime('%Y-%m-%d %H:%M:%S')\n",
    "    tm = full_dt[11:]\n",
    "    dt = full_dt[:10]\n",
    "    day = datetime.datetime.strptime(dt, '%Y-%m-%d').strftime('%A')\n",
    "    return tm, day"
   ]
  },
  {
   "cell_type": "code",
   "execution_count": 13,
   "metadata": {
    "collapsed": false
   },
   "outputs": [
    {
     "name": "stdout",
     "output_type": "stream",
     "text": [
      "471\n"
     ]
    }
   ],
   "source": [
    "# Need to loop through the journey groups and group those by vehicle journey id \n",
    "# because we don't need all the runs for the whole week \n",
    "# then choose a vehicle journey id (at a busy time of day to increase chance it will have stopped at all stops)\n",
    "\n",
    "# doesn't actually matter for this purpose if we take in more than one run (if a vehicle journey id was reused in \n",
    "# the same day)\n",
    "routes = {}\n",
    "vehicle_journey_groups = {}\n",
    "\n",
    "for journey_name, journey_group in df_week:\n",
    "    vehicle_groups = df_week.get_group(journey_name).groupby(['VehicleJourney_ID'])\n",
    "    count = 0\n",
    "    for v_name, v_group in vehicle_groups:\n",
    "        count += 1\n",
    "        if count == 10 or count == (len(vehicle_groups)):\n",
    "            gp = vehicle_groups.get_group(v_name)\n",
    "            for index, row in gp.iterrows():\n",
    "                converted_timestamp = convert_timestamp(row['Timestamp'])\n",
    "                tm, day = converted_timestamp[0], converted_timestamp[1]\n",
    "                gp.set_value(index, 'Time', tm)\n",
    "                gp.set_value(index, 'Day', day)\n",
    "            routes[str(journey_name)] = {\"vehicleJourney_ID\": str(v_name), \"stops\": []}\n",
    "            vehicle_journey_groups[str(journey_name)] = {\"vehicleJourneyGroup\": gp}\n",
    "            break\n",
    "            \n",
    "#print(journeys_vehicles)\n",
    "print(len(routes))\n",
    "# null not removed for some reason - will pop it from the list of journey ids"
   ]
  },
  {
   "cell_type": "code",
   "execution_count": 14,
   "metadata": {
    "collapsed": false
   },
   "outputs": [
    {
     "name": "stdout",
     "output_type": "stream",
     "text": [
      "471\n"
     ]
    }
   ],
   "source": [
    "# Now what I have is a dictionary where the key is the journey id and the value is the vehicle journey id and the group for that \n",
    "# vehicle journey id\n",
    "print(len(routes))"
   ]
  },
  {
   "cell_type": "markdown",
   "metadata": {},
   "source": [
    "### Now for the above list of journey & vehicleJourney combos we want to assign a time and day to each row in each group and then order by time and get a list of unique stops visited by each journeyPattern_ID over the week"
   ]
  },
  {
   "cell_type": "code",
   "execution_count": 15,
   "metadata": {
    "collapsed": false
   },
   "outputs": [],
   "source": [
    "\n",
    "for journeyPattern in routes:\n",
    "    vehicle_gp = vehicle_journey_groups[journeyPattern][\"vehicleJourneyGroup\"]\n",
    "    vehicle_gp = vehicle_gp.sort_values(by='Time', axis=0, ascending=True, inplace=False, kind='quicksort', na_position='last')\n",
    "    stops = vehicle_gp['Stop_ID'].unique().tolist()\n",
    "    routes[journeyPattern][\"stops\"] = stops\n",
    "        \n"
   ]
  },
  {
   "cell_type": "code",
   "execution_count": 16,
   "metadata": {
    "collapsed": false
   },
   "outputs": [
    {
     "name": "stdout",
     "output_type": "stream",
     "text": [
      "<class 'dict'>\n"
     ]
    }
   ],
   "source": [
    "print(type(routes))"
   ]
  },
  {
   "cell_type": "code",
   "execution_count": 17,
   "metadata": {
    "collapsed": false
   },
   "outputs": [],
   "source": [
    "with open('routes.txt', 'w') as f:\n",
    "    json.dump(routes, f)"
   ]
  },
  {
   "cell_type": "code",
   "execution_count": 18,
   "metadata": {
    "collapsed": false
   },
   "outputs": [
    {
     "data": {
      "text/html": [
       "<div>\n",
       "<table border=\"1\" class=\"dataframe\">\n",
       "  <thead>\n",
       "    <tr style=\"text-align: right;\">\n",
       "      <th></th>\n",
       "      <th>Timestamp</th>\n",
       "      <th>Line_ID</th>\n",
       "      <th>Direction</th>\n",
       "      <th>JourneyPattern_ID</th>\n",
       "      <th>Time_Frame</th>\n",
       "      <th>VehicleJourney_ID</th>\n",
       "      <th>Operator</th>\n",
       "      <th>Congestion</th>\n",
       "      <th>Longitude</th>\n",
       "      <th>Latitude</th>\n",
       "      <th>Delay</th>\n",
       "      <th>Block_ID</th>\n",
       "      <th>Vehicle_ID</th>\n",
       "      <th>Stop_ID</th>\n",
       "      <th>At_Stop</th>\n",
       "      <th>Day</th>\n",
       "      <th>Time</th>\n",
       "    </tr>\n",
       "  </thead>\n",
       "  <tbody>\n",
       "    <tr>\n",
       "      <th>604545</th>\n",
       "      <td>1352373895000000</td>\n",
       "      <td>41</td>\n",
       "      <td>0</td>\n",
       "      <td>null</td>\n",
       "      <td>2012-11-08</td>\n",
       "      <td>40</td>\n",
       "      <td>SL</td>\n",
       "      <td>0</td>\n",
       "      <td>-6.250983</td>\n",
       "      <td>53.459633</td>\n",
       "      <td>0</td>\n",
       "      <td>41007</td>\n",
       "      <td>33110</td>\n",
       "      <td>4843</td>\n",
       "      <td>1</td>\n",
       "      <td>Thursday</td>\n",
       "      <td>11:24:55</td>\n",
       "    </tr>\n",
       "    <tr>\n",
       "      <th>601980</th>\n",
       "      <td>1352719478000000</td>\n",
       "      <td>41</td>\n",
       "      <td>0</td>\n",
       "      <td>null</td>\n",
       "      <td>2012-11-12</td>\n",
       "      <td>40</td>\n",
       "      <td>SL</td>\n",
       "      <td>0</td>\n",
       "      <td>-6.251000</td>\n",
       "      <td>53.459599</td>\n",
       "      <td>0</td>\n",
       "      <td>41007</td>\n",
       "      <td>33115</td>\n",
       "      <td>4843</td>\n",
       "      <td>1</td>\n",
       "      <td>Monday</td>\n",
       "      <td>11:24:38</td>\n",
       "    </tr>\n",
       "  </tbody>\n",
       "</table>\n",
       "</div>"
      ],
      "text/plain": [
       "               Timestamp Line_ID  Direction JourneyPattern_ID  Time_Frame  \\\n",
       "604545  1352373895000000      41          0              null  2012-11-08   \n",
       "601980  1352719478000000      41          0              null  2012-11-12   \n",
       "\n",
       "        VehicleJourney_ID Operator  Congestion  Longitude   Latitude  Delay  \\\n",
       "604545                 40       SL           0  -6.250983  53.459633      0   \n",
       "601980                 40       SL           0  -6.251000  53.459599      0   \n",
       "\n",
       "        Block_ID  Vehicle_ID Stop_ID  At_Stop       Day      Time  \n",
       "604545     41007       33110    4843        1  Thursday  11:24:55  \n",
       "601980     41007       33115    4843        1    Monday  11:24:38  "
      ]
     },
     "execution_count": 18,
     "metadata": {},
     "output_type": "execute_result"
    }
   ],
   "source": [
    "gp.head()"
   ]
  },
  {
   "cell_type": "code",
   "execution_count": 19,
   "metadata": {
    "collapsed": false
   },
   "outputs": [
    {
     "data": {
      "text/plain": [
       "(2, 17)"
      ]
     },
     "execution_count": 19,
     "metadata": {},
     "output_type": "execute_result"
    }
   ],
   "source": [
    "gp.shape"
   ]
  },
  {
   "cell_type": "code",
   "execution_count": null,
   "metadata": {
    "collapsed": true
   },
   "outputs": [],
   "source": []
  }
 ],
 "metadata": {
  "kernelspec": {
   "display_name": "Python 3",
   "language": "python",
   "name": "python3"
  },
  "language_info": {
   "codemirror_mode": {
    "name": "ipython",
    "version": 3
   },
   "file_extension": ".py",
   "mimetype": "text/x-python",
   "name": "python",
   "nbconvert_exporter": "python",
   "pygments_lexer": "ipython3",
   "version": "3.6.0"
  }
 },
 "nbformat": 4,
 "nbformat_minor": 2
}
